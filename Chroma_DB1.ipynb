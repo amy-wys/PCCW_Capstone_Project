{
 "cells": [
  {
   "cell_type": "code",
   "execution_count": 7,
   "metadata": {},
   "outputs": [
    {
     "name": "stdout",
     "output_type": "stream",
     "text": [
      "Requirement already satisfied: aiohttp==3.9.0 in ./FirstVenv/lib/python3.11/site-packages (from -r requirements.txt (line 1)) (3.9.0)\n",
      "Requirement already satisfied: aiosignal==1.3.1 in ./FirstVenv/lib/python3.11/site-packages (from -r requirements.txt (line 2)) (1.3.1)\n",
      "Requirement already satisfied: annotated-types==0.6.0 in ./FirstVenv/lib/python3.11/site-packages (from -r requirements.txt (line 3)) (0.6.0)\n",
      "Requirement already satisfied: anyio==3.7.1 in ./FirstVenv/lib/python3.11/site-packages (from -r requirements.txt (line 4)) (3.7.1)\n",
      "Requirement already satisfied: asgiref==3.7.2 in ./FirstVenv/lib/python3.11/site-packages (from -r requirements.txt (line 5)) (3.7.2)\n",
      "Requirement already satisfied: attrs==23.1.0 in ./FirstVenv/lib/python3.11/site-packages (from -r requirements.txt (line 6)) (23.1.0)\n",
      "Requirement already satisfied: backoff==2.2.1 in ./FirstVenv/lib/python3.11/site-packages (from -r requirements.txt (line 7)) (2.2.1)\n",
      "Requirement already satisfied: bcrypt==4.0.1 in ./FirstVenv/lib/python3.11/site-packages (from -r requirements.txt (line 8)) (4.0.1)\n",
      "Requirement already satisfied: cachetools==5.3.2 in ./FirstVenv/lib/python3.11/site-packages (from -r requirements.txt (line 9)) (5.3.2)\n",
      "Requirement already satisfied: certifi==2023.11.17 in ./FirstVenv/lib/python3.11/site-packages (from -r requirements.txt (line 10)) (2023.11.17)\n",
      "Requirement already satisfied: charset-normalizer==3.3.2 in ./FirstVenv/lib/python3.11/site-packages (from -r requirements.txt (line 11)) (3.3.2)\n",
      "Requirement already satisfied: chroma-hnswlib==0.7.3 in ./FirstVenv/lib/python3.11/site-packages (from -r requirements.txt (line 12)) (0.7.3)\n",
      "Requirement already satisfied: chromadb==0.4.18 in ./FirstVenv/lib/python3.11/site-packages (from -r requirements.txt (line 13)) (0.4.18)\n",
      "Requirement already satisfied: click==8.1.7 in ./FirstVenv/lib/python3.11/site-packages (from -r requirements.txt (line 14)) (8.1.7)\n",
      "Requirement already satisfied: coloredlogs==15.0.1 in ./FirstVenv/lib/python3.11/site-packages (from -r requirements.txt (line 15)) (15.0.1)\n",
      "Requirement already satisfied: config==0.5.1 in ./FirstVenv/lib/python3.11/site-packages (from -r requirements.txt (line 16)) (0.5.1)\n",
      "Requirement already satisfied: dataclasses-json==0.6.2 in ./FirstVenv/lib/python3.11/site-packages (from -r requirements.txt (line 17)) (0.6.2)\n",
      "Requirement already satisfied: Deprecated==1.2.14 in ./FirstVenv/lib/python3.11/site-packages (from -r requirements.txt (line 18)) (1.2.14)\n",
      "Requirement already satisfied: distro==1.8.0 in ./FirstVenv/lib/python3.11/site-packages (from -r requirements.txt (line 19)) (1.8.0)\n",
      "Requirement already satisfied: fastapi==0.104.1 in ./FirstVenv/lib/python3.11/site-packages (from -r requirements.txt (line 20)) (0.104.1)\n",
      "Requirement already satisfied: filelock==3.13.1 in ./FirstVenv/lib/python3.11/site-packages (from -r requirements.txt (line 21)) (3.13.1)\n",
      "Requirement already satisfied: flatbuffers==23.5.26 in ./FirstVenv/lib/python3.11/site-packages (from -r requirements.txt (line 22)) (23.5.26)\n",
      "Requirement already satisfied: frozenlist==1.4.0 in ./FirstVenv/lib/python3.11/site-packages (from -r requirements.txt (line 23)) (1.4.0)\n",
      "Requirement already satisfied: fsspec==2023.10.0 in ./FirstVenv/lib/python3.11/site-packages (from -r requirements.txt (line 24)) (2023.10.0)\n",
      "Requirement already satisfied: google-auth==2.23.4 in ./FirstVenv/lib/python3.11/site-packages (from -r requirements.txt (line 25)) (2.23.4)\n",
      "Requirement already satisfied: googleapis-common-protos==1.61.0 in ./FirstVenv/lib/python3.11/site-packages (from -r requirements.txt (line 26)) (1.61.0)\n",
      "Requirement already satisfied: greenlet==3.0.1 in ./FirstVenv/lib/python3.11/site-packages (from -r requirements.txt (line 27)) (3.0.1)\n",
      "Requirement already satisfied: grpcio==1.59.3 in ./FirstVenv/lib/python3.11/site-packages (from -r requirements.txt (line 28)) (1.59.3)\n",
      "Requirement already satisfied: h11==0.14.0 in ./FirstVenv/lib/python3.11/site-packages (from -r requirements.txt (line 29)) (0.14.0)\n",
      "Requirement already satisfied: httpcore==1.0.2 in ./FirstVenv/lib/python3.11/site-packages (from -r requirements.txt (line 30)) (1.0.2)\n",
      "Requirement already satisfied: httptools==0.6.1 in ./FirstVenv/lib/python3.11/site-packages (from -r requirements.txt (line 31)) (0.6.1)\n",
      "Requirement already satisfied: httpx==0.25.2 in ./FirstVenv/lib/python3.11/site-packages (from -r requirements.txt (line 32)) (0.25.2)\n",
      "Requirement already satisfied: huggingface-hub==0.19.4 in ./FirstVenv/lib/python3.11/site-packages (from -r requirements.txt (line 33)) (0.19.4)\n",
      "Requirement already satisfied: humanfriendly==10.0 in ./FirstVenv/lib/python3.11/site-packages (from -r requirements.txt (line 34)) (10.0)\n",
      "Requirement already satisfied: idna==3.5 in ./FirstVenv/lib/python3.11/site-packages (from -r requirements.txt (line 35)) (3.5)\n",
      "Requirement already satisfied: importlib-metadata==6.8.0 in ./FirstVenv/lib/python3.11/site-packages (from -r requirements.txt (line 36)) (6.8.0)\n",
      "Requirement already satisfied: importlib-resources==6.1.1 in ./FirstVenv/lib/python3.11/site-packages (from -r requirements.txt (line 37)) (6.1.1)\n",
      "Requirement already satisfied: InstructorEmbedding==1.0.1 in ./FirstVenv/lib/python3.11/site-packages (from -r requirements.txt (line 38)) (1.0.1)\n",
      "Requirement already satisfied: Jinja2==3.1.2 in ./FirstVenv/lib/python3.11/site-packages (from -r requirements.txt (line 39)) (3.1.2)\n",
      "Requirement already satisfied: joblib==1.3.2 in ./FirstVenv/lib/python3.11/site-packages (from -r requirements.txt (line 40)) (1.3.2)\n",
      "Requirement already satisfied: jsonpatch==1.33 in ./FirstVenv/lib/python3.11/site-packages (from -r requirements.txt (line 41)) (1.33)\n",
      "Requirement already satisfied: jsonpointer==2.4 in ./FirstVenv/lib/python3.11/site-packages (from -r requirements.txt (line 42)) (2.4)\n",
      "Requirement already satisfied: kubernetes==28.1.0 in ./FirstVenv/lib/python3.11/site-packages (from -r requirements.txt (line 43)) (28.1.0)\n",
      "Collecting langchain==0.0.340 (from -r requirements.txt (line 44))\n",
      "  Using cached langchain-0.0.340-py3-none-any.whl.metadata (16 kB)\n",
      "Requirement already satisfied: langsmith==0.0.66 in ./FirstVenv/lib/python3.11/site-packages (from -r requirements.txt (line 45)) (0.0.66)\n",
      "Requirement already satisfied: MarkupSafe==2.1.3 in ./FirstVenv/lib/python3.11/site-packages (from -r requirements.txt (line 46)) (2.1.3)\n",
      "Requirement already satisfied: marshmallow==3.20.1 in ./FirstVenv/lib/python3.11/site-packages (from -r requirements.txt (line 47)) (3.20.1)\n",
      "Requirement already satisfied: mmh3==4.0.1 in ./FirstVenv/lib/python3.11/site-packages (from -r requirements.txt (line 48)) (4.0.1)\n",
      "Requirement already satisfied: monotonic==1.6 in ./FirstVenv/lib/python3.11/site-packages (from -r requirements.txt (line 49)) (1.6)\n",
      "Requirement already satisfied: mpmath==1.3.0 in ./FirstVenv/lib/python3.11/site-packages (from -r requirements.txt (line 50)) (1.3.0)\n",
      "Requirement already satisfied: multidict==6.0.4 in ./FirstVenv/lib/python3.11/site-packages (from -r requirements.txt (line 51)) (6.0.4)\n",
      "Requirement already satisfied: mypy-extensions==1.0.0 in ./FirstVenv/lib/python3.11/site-packages (from -r requirements.txt (line 52)) (1.0.0)\n",
      "Requirement already satisfied: networkx==3.2.1 in ./FirstVenv/lib/python3.11/site-packages (from -r requirements.txt (line 53)) (3.2.1)\n",
      "Requirement already satisfied: nltk==3.8.1 in ./FirstVenv/lib/python3.11/site-packages (from -r requirements.txt (line 54)) (3.8.1)\n",
      "Requirement already satisfied: numpy==1.26.2 in ./FirstVenv/lib/python3.11/site-packages (from -r requirements.txt (line 55)) (1.26.2)\n",
      "Requirement already satisfied: oauthlib==3.2.2 in ./FirstVenv/lib/python3.11/site-packages (from -r requirements.txt (line 56)) (3.2.2)\n",
      "Requirement already satisfied: onnxruntime==1.16.3 in ./FirstVenv/lib/python3.11/site-packages (from -r requirements.txt (line 57)) (1.16.3)\n",
      "Requirement already satisfied: openai==1.3.5 in ./FirstVenv/lib/python3.11/site-packages (from -r requirements.txt (line 58)) (1.3.5)\n",
      "Requirement already satisfied: opentelemetry-api==1.21.0 in ./FirstVenv/lib/python3.11/site-packages (from -r requirements.txt (line 59)) (1.21.0)\n",
      "Requirement already satisfied: opentelemetry-exporter-otlp-proto-common==1.21.0 in ./FirstVenv/lib/python3.11/site-packages (from -r requirements.txt (line 60)) (1.21.0)\n",
      "Requirement already satisfied: opentelemetry-exporter-otlp-proto-grpc==1.21.0 in ./FirstVenv/lib/python3.11/site-packages (from -r requirements.txt (line 61)) (1.21.0)\n",
      "Requirement already satisfied: opentelemetry-instrumentation==0.42b0 in ./FirstVenv/lib/python3.11/site-packages (from -r requirements.txt (line 62)) (0.42b0)\n",
      "Requirement already satisfied: opentelemetry-instrumentation-asgi==0.42b0 in ./FirstVenv/lib/python3.11/site-packages (from -r requirements.txt (line 63)) (0.42b0)\n",
      "Requirement already satisfied: opentelemetry-instrumentation-fastapi==0.42b0 in ./FirstVenv/lib/python3.11/site-packages (from -r requirements.txt (line 64)) (0.42b0)\n",
      "Requirement already satisfied: opentelemetry-proto==1.21.0 in ./FirstVenv/lib/python3.11/site-packages (from -r requirements.txt (line 65)) (1.21.0)\n",
      "Requirement already satisfied: opentelemetry-sdk==1.21.0 in ./FirstVenv/lib/python3.11/site-packages (from -r requirements.txt (line 66)) (1.21.0)\n",
      "Requirement already satisfied: opentelemetry-semantic-conventions==0.42b0 in ./FirstVenv/lib/python3.11/site-packages (from -r requirements.txt (line 67)) (0.42b0)\n",
      "Requirement already satisfied: opentelemetry-util-http==0.42b0 in ./FirstVenv/lib/python3.11/site-packages (from -r requirements.txt (line 68)) (0.42b0)\n",
      "Requirement already satisfied: overrides==7.4.0 in ./FirstVenv/lib/python3.11/site-packages (from -r requirements.txt (line 69)) (7.4.0)\n",
      "Requirement already satisfied: packaging==23.2 in ./FirstVenv/lib/python3.11/site-packages (from -r requirements.txt (line 70)) (23.2)\n",
      "Requirement already satisfied: Pillow==10.1.0 in ./FirstVenv/lib/python3.11/site-packages (from -r requirements.txt (line 71)) (10.1.0)\n",
      "Requirement already satisfied: posthog==3.0.2 in ./FirstVenv/lib/python3.11/site-packages (from -r requirements.txt (line 72)) (3.0.2)\n",
      "Requirement already satisfied: protobuf==4.25.1 in ./FirstVenv/lib/python3.11/site-packages (from -r requirements.txt (line 73)) (4.25.1)\n",
      "Requirement already satisfied: pulsar-client==3.3.0 in ./FirstVenv/lib/python3.11/site-packages (from -r requirements.txt (line 74)) (3.3.0)\n",
      "Requirement already satisfied: pyasn1==0.5.1 in ./FirstVenv/lib/python3.11/site-packages (from -r requirements.txt (line 75)) (0.5.1)\n",
      "Requirement already satisfied: pyasn1-modules==0.3.0 in ./FirstVenv/lib/python3.11/site-packages (from -r requirements.txt (line 76)) (0.3.0)\n",
      "Requirement already satisfied: pydantic==2.5.2 in ./FirstVenv/lib/python3.11/site-packages (from -r requirements.txt (line 77)) (2.5.2)\n",
      "Requirement already satisfied: pydantic_core==2.14.5 in ./FirstVenv/lib/python3.11/site-packages (from -r requirements.txt (line 78)) (2.14.5)\n",
      "Requirement already satisfied: pypdf==3.17.1 in ./FirstVenv/lib/python3.11/site-packages (from -r requirements.txt (line 79)) (3.17.1)\n",
      "Requirement already satisfied: PyPika==0.48.9 in ./FirstVenv/lib/python3.11/site-packages (from -r requirements.txt (line 80)) (0.48.9)\n",
      "Requirement already satisfied: python-dateutil==2.8.2 in ./FirstVenv/lib/python3.11/site-packages (from -r requirements.txt (line 81)) (2.8.2)\n",
      "Requirement already satisfied: python-dotenv==1.0.0 in ./FirstVenv/lib/python3.11/site-packages (from -r requirements.txt (line 82)) (1.0.0)\n",
      "Requirement already satisfied: PyYAML==6.0.1 in ./FirstVenv/lib/python3.11/site-packages (from -r requirements.txt (line 83)) (6.0.1)\n",
      "Requirement already satisfied: regex==2023.10.3 in ./FirstVenv/lib/python3.11/site-packages (from -r requirements.txt (line 84)) (2023.10.3)\n",
      "Requirement already satisfied: requests==2.31.0 in ./FirstVenv/lib/python3.11/site-packages (from -r requirements.txt (line 85)) (2.31.0)\n",
      "Requirement already satisfied: requests-oauthlib==1.3.1 in ./FirstVenv/lib/python3.11/site-packages (from -r requirements.txt (line 86)) (1.3.1)\n",
      "Requirement already satisfied: rsa==4.9 in ./FirstVenv/lib/python3.11/site-packages (from -r requirements.txt (line 87)) (4.9)\n",
      "Requirement already satisfied: safetensors==0.4.0 in ./FirstVenv/lib/python3.11/site-packages (from -r requirements.txt (line 88)) (0.4.0)\n",
      "Requirement already satisfied: scikit-learn==1.3.2 in ./FirstVenv/lib/python3.11/site-packages (from -r requirements.txt (line 89)) (1.3.2)\n",
      "Requirement already satisfied: scipy==1.11.4 in ./FirstVenv/lib/python3.11/site-packages (from -r requirements.txt (line 90)) (1.11.4)\n",
      "Requirement already satisfied: sentence-transformers==2.2.2 in ./FirstVenv/lib/python3.11/site-packages (from -r requirements.txt (line 91)) (2.2.2)\n",
      "Requirement already satisfied: sentencepiece==0.1.99 in ./FirstVenv/lib/python3.11/site-packages (from -r requirements.txt (line 92)) (0.1.99)\n",
      "Requirement already satisfied: six==1.16.0 in ./FirstVenv/lib/python3.11/site-packages (from -r requirements.txt (line 93)) (1.16.0)\n",
      "Requirement already satisfied: sniffio==1.3.0 in ./FirstVenv/lib/python3.11/site-packages (from -r requirements.txt (line 94)) (1.3.0)\n",
      "Requirement already satisfied: SQLAlchemy==2.0.23 in ./FirstVenv/lib/python3.11/site-packages (from -r requirements.txt (line 95)) (2.0.23)\n",
      "Requirement already satisfied: starlette==0.27.0 in ./FirstVenv/lib/python3.11/site-packages (from -r requirements.txt (line 96)) (0.27.0)\n",
      "Requirement already satisfied: sympy==1.12 in ./FirstVenv/lib/python3.11/site-packages (from -r requirements.txt (line 97)) (1.12)\n",
      "Requirement already satisfied: tenacity==8.2.3 in ./FirstVenv/lib/python3.11/site-packages (from -r requirements.txt (line 98)) (8.2.3)\n",
      "Requirement already satisfied: threadpoolctl==3.2.0 in ./FirstVenv/lib/python3.11/site-packages (from -r requirements.txt (line 99)) (3.2.0)\n",
      "Requirement already satisfied: tiktoken==0.5.1 in ./FirstVenv/lib/python3.11/site-packages (from -r requirements.txt (line 100)) (0.5.1)\n",
      "Requirement already satisfied: tokenizers==0.15.0 in ./FirstVenv/lib/python3.11/site-packages (from -r requirements.txt (line 101)) (0.15.0)\n",
      "Requirement already satisfied: torch==2.1.1 in ./FirstVenv/lib/python3.11/site-packages (from -r requirements.txt (line 102)) (2.1.1)\n",
      "Requirement already satisfied: torchvision==0.16.1 in ./FirstVenv/lib/python3.11/site-packages (from -r requirements.txt (line 103)) (0.16.1)\n",
      "Requirement already satisfied: tqdm==4.66.1 in ./FirstVenv/lib/python3.11/site-packages (from -r requirements.txt (line 104)) (4.66.1)\n",
      "Requirement already satisfied: transformers==4.35.2 in ./FirstVenv/lib/python3.11/site-packages (from -r requirements.txt (line 105)) (4.35.2)\n",
      "Requirement already satisfied: typer==0.9.0 in ./FirstVenv/lib/python3.11/site-packages (from -r requirements.txt (line 106)) (0.9.0)\n",
      "Requirement already satisfied: typing-inspect==0.9.0 in ./FirstVenv/lib/python3.11/site-packages (from -r requirements.txt (line 107)) (0.9.0)\n",
      "Requirement already satisfied: typing_extensions==4.8.0 in ./FirstVenv/lib/python3.11/site-packages (from -r requirements.txt (line 108)) (4.8.0)\n",
      "Requirement already satisfied: urllib3==1.26.18 in ./FirstVenv/lib/python3.11/site-packages (from -r requirements.txt (line 109)) (1.26.18)\n",
      "Requirement already satisfied: uvicorn==0.24.0.post1 in ./FirstVenv/lib/python3.11/site-packages (from -r requirements.txt (line 110)) (0.24.0.post1)\n",
      "Requirement already satisfied: uvloop==0.19.0 in ./FirstVenv/lib/python3.11/site-packages (from -r requirements.txt (line 111)) (0.19.0)\n",
      "Requirement already satisfied: watchfiles==0.21.0 in ./FirstVenv/lib/python3.11/site-packages (from -r requirements.txt (line 112)) (0.21.0)\n",
      "Requirement already satisfied: websocket-client==1.6.4 in ./FirstVenv/lib/python3.11/site-packages (from -r requirements.txt (line 113)) (1.6.4)\n",
      "Requirement already satisfied: websockets==12.0 in ./FirstVenv/lib/python3.11/site-packages (from -r requirements.txt (line 114)) (12.0)\n",
      "Requirement already satisfied: wrapt==1.16.0 in ./FirstVenv/lib/python3.11/site-packages (from -r requirements.txt (line 115)) (1.16.0)\n",
      "Requirement already satisfied: yarl==1.9.3 in ./FirstVenv/lib/python3.11/site-packages (from -r requirements.txt (line 116)) (1.9.3)\n",
      "Requirement already satisfied: zipp==3.17.0 in ./FirstVenv/lib/python3.11/site-packages (from -r requirements.txt (line 117)) (3.17.0)\n",
      "Requirement already satisfied: setuptools>=16.0 in ./FirstVenv/lib/python3.11/site-packages (from opentelemetry-instrumentation==0.42b0->-r requirements.txt (line 62)) (65.5.1)\n",
      "Using cached langchain-0.0.340-py3-none-any.whl (2.0 MB)\n",
      "Installing collected packages: langchain\n",
      "  Attempting uninstall: langchain\n",
      "    Found existing installation: langchain 0.0.341\n",
      "    Uninstalling langchain-0.0.341:\n",
      "      Successfully uninstalled langchain-0.0.341\n",
      "Successfully installed langchain-0.0.340\n"
     ]
    }
   ],
   "source": [
    "!pip3.11 install -r \"requirements.txt\""
   ]
  },
  {
   "cell_type": "code",
   "execution_count": 7,
   "metadata": {
    "colab": {
     "base_uri": "https://localhost:8080/"
    },
    "id": "RRYSu48huSUW",
    "outputId": "64e4984b-4b62-4709-847a-a021d4730a8f"
   },
   "outputs": [],
   "source": [
    "!pip -q install langchain openai tiktoken chromadb"
   ]
  },
  {
   "cell_type": "code",
   "execution_count": 15,
   "metadata": {},
   "outputs": [
    {
     "name": "stdout",
     "output_type": "stream",
     "text": [
      "['/Users/parkjungwoo/Documents/GitHub/PCCW_Capstone_Project', '/Library/Frameworks/Python.framework/Versions/3.11/lib/python311.zip', '/Library/Frameworks/Python.framework/Versions/3.11/lib/python3.11', '/Library/Frameworks/Python.framework/Versions/3.11/lib/python3.11/lib-dynload', '', '/Library/Frameworks/Python.framework/Versions/3.11/lib/python3.11/site-packages']\n"
     ]
    }
   ],
   "source": [
    "import sys\n",
    "print(sys.path)"
   ]
  },
  {
   "cell_type": "code",
   "execution_count": 14,
   "metadata": {},
   "outputs": [
    {
     "name": "stdout",
     "output_type": "stream",
     "text": [
      "Python 3.11.4\n"
     ]
    }
   ],
   "source": [
    "!python --version"
   ]
  },
  {
   "cell_type": "code",
   "execution_count": 13,
   "metadata": {
    "colab": {
     "base_uri": "https://localhost:8080/"
    },
    "editable": true,
    "id": "J-KFB7J_u_3L",
    "outputId": "a29ed872-d0bc-41ef-bb72-b6a0fe426a08",
    "slideshow": {
     "slide_type": ""
    },
    "tags": []
   },
   "outputs": [
    {
     "name": "stdout",
     "output_type": "stream",
     "text": [
      "Name: langchain\n",
      "Version: 0.0.340\n",
      "Summary: Building applications with LLMs through composability\n",
      "Home-page: https://github.com/langchain-ai/langchain\n",
      "Author: \n",
      "Author-email: \n",
      "License: MIT\n",
      "Location: /Users/parkjungwoo/Documents/GitHub/PCCW_Capstone_Project/FirstVenv/lib/python3.11/site-packages\n",
      "Requires: aiohttp, anyio, dataclasses-json, jsonpatch, langsmith, numpy, pydantic, PyYAML, requests, SQLAlchemy, tenacity\n",
      "Required-by: \n"
     ]
    }
   ],
   "source": [
    "!pip show langchain"
   ]
  },
  {
   "cell_type": "code",
   "execution_count": 12,
   "metadata": {
    "id": "l6XPLPVrqEaV"
   },
   "outputs": [
    {
     "name": "stdout",
     "output_type": "stream",
     "text": [
      "/bin/bash: wget: command not found\n",
      "unzip:  cannot find or open new_articles.zip, new_articles.zip.zip or new_articles.zip.ZIP.\n"
     ]
    }
   ],
   "source": [
    "!wget -q https://www.dropbox.com/s/vs6ocyvpzzncvwh/new_articles.zip\n",
    "!unzip -q new_articles.zip -d new_articles"
   ]
  },
  {
   "cell_type": "markdown",
   "metadata": {
    "id": "7AnZQpL_IZZZ"
   },
   "source": [
    "# LangChain multi-doc retriever with ChromaDB\n",
    "\n",
    "***New Points***\n",
    "- Multiple Files\n",
    "- ChromaDB\n",
    "- Source info\n",
    "- gpt-3.5-turbo API"
   ]
  },
  {
   "cell_type": "markdown",
   "metadata": {
    "id": "HqwsGJDhvAQ5"
   },
   "source": [
    "## Setting up LangChain\n"
   ]
  },
  {
   "cell_type": "code",
   "execution_count": 18,
   "metadata": {
    "id": "dNA4TsHpu6OM"
   },
   "outputs": [],
   "source": [
    "import os\n",
    "\n",
    "OPEN_API_KEY = os.getenv(\"OPENAI_API_KEY\", None)"
   ]
  },
  {
   "cell_type": "code",
   "execution_count": 19,
   "metadata": {},
   "outputs": [
    {
     "name": "stdout",
     "output_type": "stream",
     "text": [
      "None\n"
     ]
    }
   ],
   "source": [
    "print(OPEN_API_KEY)"
   ]
  },
  {
   "cell_type": "code",
   "execution_count": 11,
   "metadata": {
    "id": "XHVE9uFb3Ajj"
   },
   "outputs": [
    {
     "ename": "ModuleNotFoundError",
     "evalue": "No module named 'langchain'",
     "output_type": "error",
     "traceback": [
      "\u001b[0;31m---------------------------------------------------------------------------\u001b[0m",
      "\u001b[0;31mModuleNotFoundError\u001b[0m                       Traceback (most recent call last)",
      "Cell \u001b[0;32mIn[11], line 1\u001b[0m\n\u001b[0;32m----> 1\u001b[0m \u001b[38;5;28;01mfrom\u001b[39;00m \u001b[38;5;21;01mlangchain\u001b[39;00m\u001b[38;5;21;01m.\u001b[39;00m\u001b[38;5;21;01mvectorstores\u001b[39;00m \u001b[38;5;28;01mimport\u001b[39;00m Chroma\n\u001b[1;32m      2\u001b[0m \u001b[38;5;28;01mfrom\u001b[39;00m \u001b[38;5;21;01mlangchain\u001b[39;00m\u001b[38;5;21;01m.\u001b[39;00m\u001b[38;5;21;01membeddings\u001b[39;00m \u001b[38;5;28;01mimport\u001b[39;00m OpenAIEmbeddings\n\u001b[1;32m      3\u001b[0m \u001b[38;5;28;01mfrom\u001b[39;00m \u001b[38;5;21;01mlangchain\u001b[39;00m\u001b[38;5;21;01m.\u001b[39;00m\u001b[38;5;21;01mtext_splitter\u001b[39;00m \u001b[38;5;28;01mimport\u001b[39;00m RecursiveCharacterTextSplitter\n",
      "\u001b[0;31mModuleNotFoundError\u001b[0m: No module named 'langchain'"
     ]
    }
   ],
   "source": [
    "from langchain.vectorstores import Chroma\n",
    "from langchain.embeddings import OpenAIEmbeddings\n",
    "from langchain.text_splitter import RecursiveCharacterTextSplitter\n",
    "from langchain.llms import OpenAI\n",
    "from langchain.chains import RetrievalQA\n",
    "from langchain.document_loaders import TextLoader\n",
    "from langchain.document_loaders import PyPDFLoader\n",
    "from langchain.document_loaders import DirectoryLoader\n"
   ]
  },
  {
   "cell_type": "markdown",
   "metadata": {
    "id": "9UcQKUId3X2M"
   },
   "source": [
    "## Load multiple and process documents"
   ]
  },
  {
   "cell_type": "code",
   "execution_count": 3,
   "metadata": {
    "id": "PRSeXXc_3Ypj"
   },
   "outputs": [],
   "source": [
    "# Load and process the text files\n",
    "# loader = TextLoader('single_text_file.txt')\n",
    "loader = DirectoryLoader('./data/', glob=\"./*.pdf\", loader_cls=PyPDFLoader)\n",
    "\n",
    "documents = loader.load()"
   ]
  },
  {
   "cell_type": "code",
   "execution_count": 4,
   "metadata": {
    "id": "3__nT0D4Fkmg"
   },
   "outputs": [],
   "source": [
    "#splitting the text into\n",
    "text_splitter = RecursiveCharacterTextSplitter(chunk_size=1000, chunk_overlap=200)\n",
    "texts = text_splitter.split_documents(documents)"
   ]
  },
  {
   "cell_type": "code",
   "execution_count": 5,
   "metadata": {
    "colab": {
     "base_uri": "https://localhost:8080/"
    },
    "id": "TlU5AlqY4gwj",
    "outputId": "d78fb098-3161-42cd-8ce9-5f98f4ef91d2"
   },
   "outputs": [
    {
     "data": {
      "text/plain": [
       "69"
      ]
     },
     "execution_count": 5,
     "metadata": {},
     "output_type": "execute_result"
    }
   ],
   "source": [
    "len(texts)"
   ]
  },
  {
   "cell_type": "code",
   "execution_count": 6,
   "metadata": {
    "colab": {
     "base_uri": "https://localhost:8080/"
    },
    "id": "Bg6-9jwU4ja_",
    "outputId": "02f45055-0e09-42ba-9ff3-0e7850f06cae"
   },
   "outputs": [
    {
     "data": {
      "text/plain": [
       "Document(page_content='both concurrently and  longitudinally6. This suggests that social anxiety may contribute to poorer outcomes in \\nindividuals with psychosis, even when present at subclinical levels.\\nParanoia, the exaggerated belief that intentional harm is done or will be done by  others7, is a common symp-\\ntom of psychosis. Paranoia can manifest in milder forms as ideas of social reference or more severe forms as \\npersecutory delusions 8. Albeit being distinct phenomena, paranoia and social anxiety are both characterized by \\nappraisals of social threat: paranoia concerns imminent and ongoing physical, psychological or social harms by \\n others7, whereas social anxiety reflects worry about rejection, embarrassment and  scrutiny9. Among individuals \\nwith first-episode psychosis, those with comorbid social anxiety disorder reported more persecutory threats than \\nthose without  comorbidity3. Across non-patient and community samples, correlations between subclinical levels', metadata={'source': 'data/s41598-023-47912-0.pdf', 'page': 0})"
      ]
     },
     "execution_count": 6,
     "metadata": {},
     "output_type": "execute_result"
    }
   ],
   "source": [
    "texts[3]"
   ]
  },
  {
   "cell_type": "markdown",
   "metadata": {
    "id": "YsYsIy8F4cdm"
   },
   "source": [
    "## create the DB"
   ]
  },
  {
   "cell_type": "code",
   "execution_count": 7,
   "metadata": {
    "colab": {
     "base_uri": "https://localhost:8080/"
    },
    "id": "Q_eTIZwf4Dk2",
    "outputId": "1cd293c4-716c-402d-d41b-045b6a264041"
   },
   "outputs": [],
   "source": [
    "# Embed and store the texts\n",
    "# Supplying a persist_directory will store the embeddings on disk\n",
    "persist_directory = 'db'\n",
    "\n",
    "## here we are using OpenAI embeddings but in future we will swap out to local embeddings\n",
    "embedding = OpenAIEmbeddings()\n",
    "\n",
    "vectordb = Chroma.from_documents(documents=texts,\n",
    "                                 embedding=embedding,\n",
    "                                 persist_directory=persist_directory)"
   ]
  },
  {
   "cell_type": "code",
   "execution_count": 8,
   "metadata": {
    "id": "uRfD_Te-47lb"
   },
   "outputs": [],
   "source": [
    "# persiste the db to disk\n",
    "vectordb.persist()\n",
    "vectordb = None"
   ]
  },
  {
   "cell_type": "code",
   "execution_count": 9,
   "metadata": {
    "colab": {
     "base_uri": "https://localhost:8080/"
    },
    "id": "A-h1y_eAHmD-",
    "outputId": "4a6097fb-e30e-4fa2-ff4d-b972ce7f6154"
   },
   "outputs": [],
   "source": [
    "# Now we can load the persisted database from disk, and use it as normal.\n",
    "vectordb = Chroma(persist_directory=persist_directory,\n",
    "                  embedding_function=embedding)"
   ]
  },
  {
   "cell_type": "markdown",
   "metadata": {
    "id": "siLXR-XT0JoI"
   },
   "source": [
    "## Make a retriever"
   ]
  },
  {
   "cell_type": "code",
   "execution_count": 10,
   "metadata": {
    "id": "6ObunFU30Lxh"
   },
   "outputs": [],
   "source": [
    "retriever = vectordb.as_retriever()"
   ]
  },
  {
   "cell_type": "code",
   "execution_count": 11,
   "metadata": {
    "id": "cYA-H59u0Skn"
   },
   "outputs": [],
   "source": [
    "docs = retriever.get_relevant_documents(\"What is paranoia?\")"
   ]
  },
  {
   "cell_type": "code",
   "execution_count": 12,
   "metadata": {
    "colab": {
     "base_uri": "https://localhost:8080/"
    },
    "id": "h0iAuh_B0ZjE",
    "outputId": "2ffd1da1-ff6c-4ea9-c361-7230dbd5bdc0"
   },
   "outputs": [
    {
     "data": {
      "text/plain": [
       "4"
      ]
     },
     "execution_count": 12,
     "metadata": {},
     "output_type": "execute_result"
    }
   ],
   "source": [
    "len(docs)"
   ]
  },
  {
   "cell_type": "code",
   "execution_count": 13,
   "metadata": {
    "id": "jVWgPJXs1yRq"
   },
   "outputs": [],
   "source": [
    "retriever = vectordb.as_retriever(search_kwargs={\"k\": 2})"
   ]
  },
  {
   "cell_type": "code",
   "execution_count": 14,
   "metadata": {
    "colab": {
     "base_uri": "https://localhost:8080/",
     "height": 35
    },
    "id": "H4N0IhRM0hHL",
    "outputId": "f8058122-1c8a-4c5b-f046-14a90eed5a3b"
   },
   "outputs": [
    {
     "data": {
      "text/plain": [
       "'similarity'"
      ]
     },
     "execution_count": 14,
     "metadata": {},
     "output_type": "execute_result"
    }
   ],
   "source": [
    "retriever.search_type"
   ]
  },
  {
   "cell_type": "code",
   "execution_count": 15,
   "metadata": {
    "colab": {
     "base_uri": "https://localhost:8080/"
    },
    "id": "4jXL9u-u0prF",
    "outputId": "2e6dd94e-bede-4e05-c841-9c755ecfef2a"
   },
   "outputs": [
    {
     "data": {
      "text/plain": [
       "{'k': 2}"
      ]
     },
     "execution_count": 15,
     "metadata": {},
     "output_type": "execute_result"
    }
   ],
   "source": [
    "retriever.search_kwargs"
   ]
  },
  {
   "cell_type": "markdown",
   "metadata": {
    "id": "4Ia-4OXa5IeP"
   },
   "source": [
    "## Make a chain"
   ]
  },
  {
   "cell_type": "code",
   "execution_count": 16,
   "metadata": {
    "id": "MGx8XblM4shW"
   },
   "outputs": [],
   "source": [
    "# create the chain to answer questions\n",
    "qa_chain = RetrievalQA.from_chain_type(llm=OpenAI(),\n",
    "                                  chain_type=\"stuff\",\n",
    "                                  retriever=retriever,\n",
    "                                  return_source_documents=True)"
   ]
  },
  {
   "cell_type": "code",
   "execution_count": 17,
   "metadata": {
    "id": "LZEo26mw8e5k"
   },
   "outputs": [],
   "source": [
    "## Cite sources\n",
    "def process_llm_response(llm_response):\n",
    "    print(llm_response['result'])\n",
    "    print('\\n\\nSources:')\n",
    "    for source in llm_response[\"source_documents\"]:\n",
    "        print(source.metadata['source'])"
   ]
  },
  {
   "cell_type": "code",
   "execution_count": 18,
   "metadata": {
    "colab": {
     "base_uri": "https://localhost:8080/"
    },
    "id": "wKfX4vX-5RFT",
    "outputId": "b3902fd2-86cc-4020-86a9-99883a996d20"
   },
   "outputs": [
    {
     "name": "stdout",
     "output_type": "stream",
     "text": [
      " Paranoia is a type of thinking characterized by irrational suspicion and mistrust of others.\n",
      "\n",
      "\n",
      "Sources:\n",
      "data/s41598-023-47912-0.pdf\n",
      "data/s41598-023-47912-0.pdf\n"
     ]
    }
   ],
   "source": [
    "# full example\n",
    "query = \"What is paranoia?\"\n",
    "llm_response = qa_chain(query)\n",
    "process_llm_response(llm_response)"
   ]
  },
  {
   "cell_type": "code",
   "execution_count": 19,
   "metadata": {
    "colab": {
     "base_uri": "https://localhost:8080/"
    },
    "id": "olRm73t3rNt2",
    "outputId": "20fb1b17-6562-421d-a60e-c67b97ca67d7"
   },
   "outputs": [
    {
     "data": {
      "text/plain": [
       "{'query': 'How many young adults (or people) took part in this?',\n",
       " 'result': ' 134 young adults took part in the study.',\n",
       " 'source_documents': [Document(page_content='replications in the clinical populations.\\nMethods\\nEthics approval for the study was granted by the Survey and Behavioral Research Ethics Committee of The Chi-\\nnese University of Hong Kong (Reference no.: SBRE-19–788). All methods were carried out in accordance with \\nrelevant guidelines and regulations. Informed consent was obtained from all participants.\\nParticipants\\nEligible participants aged 18–30 were recruited either from the subject pool of the Introductory Psychology \\ncourse or via campus recruitment. Participants with any past or current psychiatric diagnosis (self-reported \\nand then confirmed with a diagnostic clinical interview, see Measures) and who could not read Chinese were \\nexcluded. We targeted a sample size of 130, which is comparable to previous ESM studies with non-clinical \\nsamples analyzed using the dynamics structural equational modelling (DSEM) (see Statistical Analysis)55–57.', metadata={'page': 4, 'source': 'data/s41598-023-47912-0.pdf'}),\n",
       "  Document(page_content='Results\\nSample characteristics\\nOne hundred and fifty-four participants consented and took part in the study. Twenty participants were excluded \\ndue to a past or current psychiatric diagnosis (n = 18), or a subthreshold completion rate of the ESM assessment \\n(see ‘Methods’ section, n  = 2). Therefore, the final sample consisted of ESM data from 134 participants. The \\nmajority of our sample consisted of undergraduate students (n = 116, 86.6%), while the remaining (n = 18, 13.4%) \\nwere adults from the general population. A total of 5,800 ESM entries were entered into the Dynamic Structural \\nEquation Modelling (DSEM) analyses (mean completion rate: 72.1%, SD  = 0.16, range  = 36.7% – 100%). The \\nmean duration between two consecutive ESM entries within a day was 80.18\\xa0min (SD = 19.31, range  = 15–147). \\nThe descriptive statistics of participants’ demographic information and baseline survey can be found in Table\\xa0 1.\\nDynamic structural equation modelling (DSEM) analyses', metadata={'page': 1, 'source': 'data/s41598-023-47912-0.pdf'})]}"
      ]
     },
     "execution_count": 19,
     "metadata": {},
     "output_type": "execute_result"
    }
   ],
   "source": [
    "# break it down\n",
    "query = \"How many young adults (or people) took part in this?\"\n",
    "llm_response = qa_chain(query)\n",
    "# process_llm_response(llm_response)\n",
    "llm_response"
   ]
  },
  {
   "cell_type": "code",
   "execution_count": 20,
   "metadata": {
    "colab": {
     "base_uri": "https://localhost:8080/"
    },
    "id": "wg-e6fh6rNwz",
    "outputId": "4b8d1e0e-b039-4e21-c233-a6c308cc5e25"
   },
   "outputs": [
    {
     "name": "stdout",
     "output_type": "stream",
     "text": [
      " The 3 items suggested in Kashdan and Steger67 (e.g., ‘I worried that I would say or do something wrong right now’) are used to measure Momentary social anxiety. They are rated on a 7-point Likert scale (1 “not at all”–7 “very”).\n",
      "\n",
      "\n",
      "Sources:\n",
      "data/s41598-023-47912-0.pdf\n",
      "data/s41598-023-47912-0.pdf\n"
     ]
    }
   ],
   "source": [
    "query = \"How do they measure Momentary social anxiety?\"\n",
    "llm_response = qa_chain(query)\n",
    "process_llm_response(llm_response)"
   ]
  },
  {
   "cell_type": "code",
   "execution_count": 21,
   "metadata": {
    "colab": {
     "base_uri": "https://localhost:8080/"
    },
    "id": "cuFf8D-rrN0I",
    "outputId": "19c63b88-33e2-4400-eede-f2678231eccb"
   },
   "outputs": [
    {
     "name": "stdout",
     "output_type": "stream",
     "text": [
      " Face-to-face data collection with social distancing and mask-wearing mandate.\n",
      "\n",
      "\n",
      "Sources:\n",
      "data/s41598-023-47912-0.pdf\n",
      "data/s41598-023-47912-0.pdf\n"
     ]
    }
   ],
   "source": [
    "query = \"What is their data collection method?\"\n",
    "llm_response = qa_chain(query)\n",
    "process_llm_response(llm_response)"
   ]
  },
  {
   "cell_type": "code",
   "execution_count": 22,
   "metadata": {
    "colab": {
     "base_uri": "https://localhost:8080/"
    },
    "id": "t5KETxphrN3d",
    "outputId": "4f4a7dfb-0f5b-4b72-b678-6def5d056d20"
   },
   "outputs": [
    {
     "name": "stdout",
     "output_type": "stream",
     "text": [
      " ESM stands for Experience Sampling Method, which is a method used in psychology research to collect data on people's thoughts, feelings, and behaviors as they occur in everyday life.\n",
      "\n",
      "\n",
      "Sources:\n",
      "data/s41598-023-47912-0.pdf\n",
      "data/s41598-023-47912-0.pdf\n"
     ]
    }
   ],
   "source": [
    "query = \"What is ESM?\"\n",
    "llm_response = qa_chain(query)\n",
    "process_llm_response(llm_response)"
   ]
  },
  {
   "cell_type": "code",
   "execution_count": 23,
   "metadata": {
    "colab": {
     "base_uri": "https://localhost:8080/"
    },
    "id": "692pHNkFrN5z",
    "outputId": "85124452-c208-4ec4-a35d-be28503ddc42"
   },
   "outputs": [
    {
     "name": "stdout",
     "output_type": "stream",
     "text": [
      " This study did not produce a result. It was designed to investigate the dynamics between social anxiety and paranoia in daily life, but the authors acknowledge that the results may not be replicated in demographically diverse samples and that the confounding impact of the pandemic cannot be ascertained.\n",
      "\n",
      "\n",
      "Sources:\n",
      "data/s41598-023-47912-0.pdf\n",
      "data/s41598-023-47912-0.pdf\n"
     ]
    }
   ],
   "source": [
    "query = \"What is the result of this study?\"\n",
    "llm_response = qa_chain(query)\n",
    "process_llm_response(llm_response)"
   ]
  },
  {
   "cell_type": "code",
   "execution_count": 24,
   "metadata": {},
   "outputs": [
    {
     "name": "stdout",
     "output_type": "stream",
     "text": [
      " The current study has several limitations. First, the sample size was relatively small, and the assessment frequency was limited to one-hour windows. Second, the data collection occurred during the COVID-19 pandemic, which may have confounded the expression of social anxiety and paranoia in daily life. Third, the sample was mostly comprised of undergraduate students, making it unclear if the results would be replicated in demographically diverse samples. Finally, there may be other unmeasured mechanisms influencing the dynamics between social anxiety and paranoia.\n",
      "\n",
      "\n",
      "Sources:\n",
      "data/s41598-023-47912-0.pdf\n",
      "data/s41598-023-47912-0.pdf\n"
     ]
    }
   ],
   "source": [
    "query = \"What is the limitations of the current study?\"\n",
    "llm_response = qa_chain(query)\n",
    "process_llm_response(llm_response)"
   ]
  },
  {
   "cell_type": "code",
   "execution_count": 25,
   "metadata": {},
   "outputs": [
    {
     "name": "stdout",
     "output_type": "stream",
     "text": [
      " The hypothesis of the study is to examine the within-person cross-lagged effects between loneliness, social anxiety and paranoia, while controlling for their autoregressive effects.\n",
      "\n",
      "\n",
      "Sources:\n",
      "data/s41598-023-47912-0.pdf\n",
      "data/s41598-023-47912-0.pdf\n"
     ]
    }
   ],
   "source": [
    "query = \"What is the hypothesis of the study?\"\n",
    "llm_response = qa_chain(query)\n",
    "process_llm_response(llm_response)"
   ]
  },
  {
   "cell_type": "code",
   "execution_count": 26,
   "metadata": {},
   "outputs": [
    {
     "name": "stdout",
     "output_type": "stream",
     "text": [
      " The final sample size of the study was 134 participants.\n",
      "\n",
      "\n",
      "Sources:\n",
      "data/s41598-023-47912-0.pdf\n",
      "data/s41598-023-47912-0.pdf\n"
     ]
    }
   ],
   "source": [
    "query = \"What is the final sample size of the study?\"\n",
    "llm_response = qa_chain(query)\n",
    "process_llm_response(llm_response)"
   ]
  },
  {
   "cell_type": "code",
   "execution_count": 27,
   "metadata": {},
   "outputs": [
    {
     "name": "stdout",
     "output_type": "stream",
     "text": [
      " The study took place at The Chinese University of Hong Kong.\n",
      "\n",
      "\n",
      "Sources:\n",
      "data/s41598-023-47912-0.pdf\n",
      "data/s41598-023-47912-0.pdf\n"
     ]
    }
   ],
   "source": [
    "query = \"Where did the study take place?\"\n",
    "llm_response = qa_chain(query)\n",
    "process_llm_response(llm_response)"
   ]
  },
  {
   "cell_type": "code",
   "execution_count": 28,
   "metadata": {
    "colab": {
     "base_uri": "https://localhost:8080/"
    },
    "id": "IPIhZWAR5n3X",
    "outputId": "68914c62-f8ed-4e22-d889-7991df441d53"
   },
   "outputs": [
    {
     "data": {
      "text/plain": [
       "('similarity', <langchain.vectorstores.chroma.Chroma at 0x1327da7c0>)"
      ]
     },
     "execution_count": 28,
     "metadata": {},
     "output_type": "execute_result"
    }
   ],
   "source": [
    "qa_chain.retriever.search_type , qa_chain.retriever.vectorstore"
   ]
  },
  {
   "cell_type": "code",
   "execution_count": 29,
   "metadata": {
    "colab": {
     "base_uri": "https://localhost:8080/"
    },
    "id": "3_lp0_796P_-",
    "outputId": "64c01726-6e78-4c12-e409-2fdc839f6611"
   },
   "outputs": [
    {
     "name": "stdout",
     "output_type": "stream",
     "text": [
      "Use the following pieces of context to answer the question at the end. If you don't know the answer, just say that you don't know, don't try to make up an answer.\n",
      "\n",
      "{context}\n",
      "\n",
      "Question: {question}\n",
      "Helpful Answer:\n"
     ]
    }
   ],
   "source": [
    "print(qa_chain.combine_documents_chain.llm_chain.prompt.template)"
   ]
  },
  {
   "cell_type": "markdown",
   "metadata": {
    "id": "7fPl26c-TbWw"
   },
   "source": [
    "### Chat prompts"
   ]
  },
  {
   "cell_type": "code",
   "execution_count": 47,
   "metadata": {
    "colab": {
     "base_uri": "https://localhost:8080/"
    },
    "id": "wwyuhrpu5XqM",
    "outputId": "0f2c8060-4002-49ba-8869-6a9990c2c6d6"
   },
   "outputs": [
    {
     "name": "stdout",
     "output_type": "stream",
     "text": [
      "Use the following pieces of context to answer the user's question. \n",
      "If you don't know the answer, just say that you don't know, don't try to make up an answer.\n",
      "----------------\n",
      "{context}\n"
     ]
    }
   ],
   "source": [
    "print(qa_chain.combine_documents_chain.llm_chain.prompt.messages[0].prompt.template)"
   ]
  },
  {
   "cell_type": "code",
   "execution_count": 48,
   "metadata": {
    "colab": {
     "base_uri": "https://localhost:8080/"
    },
    "id": "LcWXvSCHRvHO",
    "outputId": "d7a3acee-9ef1-4c08-b2a0-187f2cd90c8f"
   },
   "outputs": [
    {
     "name": "stdout",
     "output_type": "stream",
     "text": [
      "{question}\n"
     ]
    }
   ],
   "source": [
    "print(qa_chain.combine_documents_chain.llm_chain.prompt.messages[1].prompt.template)"
   ]
  },
  {
   "cell_type": "code",
   "execution_count": null,
   "metadata": {
    "id": "978QWCeJSRdu"
   },
   "outputs": [],
   "source": []
  }
 ],
 "metadata": {
  "colab": {
   "provenance": []
  },
  "kernelspec": {
   "display_name": "Python 3 (ipykernel)",
   "language": "python",
   "name": "python3"
  },
  "language_info": {
   "codemirror_mode": {
    "name": "ipython",
    "version": 3
   },
   "file_extension": ".py",
   "mimetype": "text/x-python",
   "name": "python",
   "nbconvert_exporter": "python",
   "pygments_lexer": "ipython3",
   "version": "3.11.4"
  }
 },
 "nbformat": 4,
 "nbformat_minor": 4
}
