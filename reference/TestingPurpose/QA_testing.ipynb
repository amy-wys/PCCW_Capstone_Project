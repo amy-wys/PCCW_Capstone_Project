{
 "cells": [
  {
   "cell_type": "markdown",
   "id": "0e199bad-1283-4579-a9c0-41523c8d93c2",
   "metadata": {},
   "source": [
    "#Prompt Engineering \n",
    "1. Summarize with a word / sentence / character limit\n",
    "2. Summarize with a focus\n",
    "3. Extract instead of Summarize\n",
    "4. Summarize as a bullet point \n",
    "\n",
    "#Reasoning\n",
    "1. Sentiment(positive/negative)\n",
    "2. Identify types of emotions\n",
    "3. Inferring topics"
   ]
  },
  {
   "cell_type": "markdown",
   "id": "3fefbb62-3b36-45ae-81dd-2e9deebf5d75",
   "metadata": {},
   "source": [
    " # loneliness and negative schema "
   ]
  },
  {
   "cell_type": "code",
   "execution_count": null,
   "id": "d7cc3476-6879-4d1c-a148-63ca5889e95e",
   "metadata": {},
   "outputs": [],
   "source": [
    "paragraph = \"\"\"\n",
    "Social anxiety and paranoia often co-occur and exacerbate each other. While loneliness and negative\n",
    "schemas contribute to the development of social anxiety and paranoia separately, their role in\n",
    "the development of the two symptoms co-occurring is rarely considered longitudinally. This study\n",
    "examined the moment-to-moment relationship between social anxiety and paranoia, as well as the\n",
    "effects of loneliness and negative schemas on both experiences individually and coincidingly. A total\n",
    "of 134 non-clinical young adults completed experience sampling assessments of momentary social\n",
    "anxiety, paranoia, and loneliness ten times per day for six consecutive days. Participants’ negativeself\n",
    "and -other schemas were assessed with the Brief Core Schema Scale. Dynamic structural equation\n",
    "modelling revealed a bidirectional relationship between social anxiety and paranoia across moments.\n",
    "Loneliness preceded increases in both symptoms in the next moment. Higher negative-self schema\n",
    "was associated with a stronger link from paranoia to social anxiety; whereas higher negative-other\n",
    "schema was associated with a stronger link from social anxiety to paranoia. Our findings support\n",
    "the reciprocal relationship between social anxiety and paranoia. While loneliness contributes to the\n",
    "development of social anxiety and paranoia, negative self and other schemas appear to modify the\n",
    "relationships between the two symptoms.\n",
    "\"\"\""
   ]
  },
  {
   "cell_type": "code",
   "execution_count": null,
   "id": "696589c8-1682-48d6-a1f8-5d4bee3e1849",
   "metadata": {},
   "outputs": [],
   "source": [
    "query = f\"\"\"\n",
    "Summarize the paragraph below, delimited by triple backticks, in at most 50 words.\n",
    "\n",
    "Paragraph: ```{paragraph}```\n",
    "\"\"\"\n",
    "\n",
    "process_llm_response(qa_chain, query)"
   ]
  },
  {
   "cell_type": "code",
   "execution_count": null,
   "id": "8c151c4c-5060-479c-89c9-a4bbb96307e1",
   "metadata": {},
   "outputs": [],
   "source": [
    "query = f\"\"\"\n",
    "What is the main idea of this paragraph? Describe it in at most 50 words.\n",
    "\n",
    "Paragraph: ```{paragraph}```\n",
    "\"\"\"\n",
    "\n",
    "process_llm_response(qa_chain, query)"
   ]
  },
  {
   "cell_type": "code",
   "execution_count": null,
   "id": "859bc622-dce2-4bbd-84fd-3a1939baa515",
   "metadata": {},
   "outputs": [],
   "source": [
    "paragraph =  \"\"\"\n",
    "While previous studies mainly recruited samples across a large age span, the current study focused on\n",
    "young adulthood (i.e. age 18–30), a life stage where people are most vulnerable to loneliness, social anxiety and\n",
    "paranoia. The aim of the present study was threefold: First, we tested the moment-to-moment dynamics\n",
    "between social anxiety and paranoia. We hypothesized significant cross-lagged effects from social anxiety to\n",
    "paranoia and vice versa. Second, we examined the moment-to-moment dynamics between loneliness and the two\n",
    "symptoms. We hypothesized significant cross-lagged effects from loneliness to both social anxiety and paranoia.\n",
    "Third, we tested the associations of core schemas with the strength of the cross-lagged effects. We hypothesized\n",
    "that negative-self schema would increase the strength of the cross-lagged bi-directional effects between social\n",
    "anxiety and paranoia. We also hypothesized a positive association between negative-other schema and the\n",
    "strength of the cross-lagged effect from social anxiety to paranoia.\n",
    "\"\"\""
   ]
  },
  {
   "cell_type": "code",
   "execution_count": null,
   "id": "fb8130b0-6606-4c09-9e0b-e4981028dcdf",
   "metadata": {},
   "outputs": [],
   "source": [
    "query = f\"\"\"\n",
    "Extract all the hypothesis mentioned in the paragraph below\n",
    "\n",
    "Desired format: \n",
    "Hypothesis1: -||-\n",
    "Hypothesis2: -||-\n",
    "Hypothesis3: -||-\n",
    "Hypothesis4: -||-\n",
    "\n",
    "Paragraph: ```{paragraph}```\n",
    "\"\"\"\n",
    "\n",
    "process_llm_response(qa_chain, query)"
   ]
  },
  {
   "cell_type": "code",
   "execution_count": null,
   "id": "c6a54212-ce80-45c6-b594-b88dbd41d513",
   "metadata": {},
   "outputs": [],
   "source": [
    "query = f\"\"\"\n",
    "List out all the hypothesis mentioned in the paragraph below\n",
    "\n",
    "Paragraph: ```{paragraph}```\n",
    "\"\"\"\n",
    "\n",
    "process_llm_response(qa_chain, query)"
   ]
  },
  {
   "cell_type": "code",
   "execution_count": null,
   "id": "3e1ac49a-488e-4e52-b70c-40f65a1731c8",
   "metadata": {},
   "outputs": [],
   "source": [
    "query = f\"\"\"\n",
    "What are the hypothesis mentioned in the paragraph below?\n",
    "\n",
    "Paragraph: ```{paragraph}```\n",
    "\"\"\"\n",
    "\n",
    "process_llm_response(qa_chain, query)"
   ]
  },
  {
   "cell_type": "code",
   "execution_count": null,
   "id": "ab75b0f7-aa94-4e02-9e8c-6af04748d18d",
   "metadata": {},
   "outputs": [],
   "source": [
    "#Ans: 134"
   ]
  },
  {
   "cell_type": "code",
   "execution_count": null,
   "id": "364c897a-9e01-4af4-a2e2-73851ddd18f1",
   "metadata": {},
   "outputs": [],
   "source": [
    "query = \"What is the final sample size consisted of ESM data in the study of examined the moment-to-moment relationship between social anxiety and paranoia?\"\n",
    "\n",
    "process_llm_response(qa_chain, query)"
   ]
  },
  {
   "cell_type": "code",
   "execution_count": null,
   "id": "a19167a4-ec05-41ac-aafe-edef628a05e7",
   "metadata": {},
   "outputs": [],
   "source": [
    "query = \"In the study of examined the moment-to-moment relationship between social anxiety and paranoia, How many participants are included in the final sample size?\"\n",
    "\n",
    "process_llm_response(qa_chain, query)"
   ]
  },
  {
   "cell_type": "code",
   "execution_count": null,
   "id": "e611d6e6-eb62-4775-92aa-0694e5880bff",
   "metadata": {},
   "outputs": [],
   "source": [
    "query = \"What is the final sample size consisted of ESM data in the study of examined the moment-to-moment relationship between social anxiety and paranoia?\"\n",
    "\n",
    "process_llm_response(qa_chain, query)"
   ]
  },
  {
   "cell_type": "code",
   "execution_count": null,
   "id": "4b56c48c-49dc-4f67-94a4-3a2b04373baa",
   "metadata": {},
   "outputs": [],
   "source": [
    "# Ans:experience sampling method (ESM). ESM refers to repeated self-report questionnaires that record subjective experiences across moments in the flow of daily\n",
    "# life. Compared to traditional retrospective questionnaires, ESM represents these experiences with less recall\n",
    "# bias, which is particularly important when investigating momentary beliefs and appraisals. \n",
    "# Importantly, ESM data provides valuable insights into the temporal dynamics between variables \n",
    "#(i.e. cross-lagged effects) while taking into account their tendency to carry over across time (i.e. autoregressive effects)."
   ]
  },
  {
   "cell_type": "code",
   "execution_count": null,
   "id": "dfdc8eb1-66b0-4e16-8ee4-6d987168ad2d",
   "metadata": {},
   "outputs": [],
   "source": [
    "query = \"What does ESM stand for in the scientific report of The role of loneliness and negative schemas? and How does it work?\"\n",
    "\n",
    "process_llm_response(qa_chain, query)"
   ]
  },
  {
   "cell_type": "code",
   "execution_count": null,
   "id": "03a05c95-17d5-47c4-8647-5b308d85aa7c",
   "metadata": {},
   "outputs": [],
   "source": [
    "query = \"Explain what does ESM stand for and how does it measure paranoia and loneliness according to the scientific report of The role of loneliness and negative schemas\"\n",
    "\n",
    "process_llm_response(qa_chain, query)"
   ]
  },
  {
   "cell_type": "markdown",
   "id": "665d7c85-a07f-4e94-b45e-5ef112765fd7",
   "metadata": {},
   "source": [
    " # FLIGHT OPERATIONS MANUAL (FOM)"
   ]
  },
  {
   "cell_type": "code",
   "execution_count": null,
   "id": "ca7534af-f170-479e-a37f-064c7fd26e7b",
   "metadata": {},
   "outputs": [],
   "source": [
    "# Ans: \n",
    "# • Excessive ballooning during round out or flare.\n",
    "# • Excessive bouncing or pilot-induced oscillations.\n",
    "# • Landing beyond distance required to come to complete stop.\n",
    "# • Any condition when a safe landing is in question.\n",
    "# • If in IFR conditions and runway not in sight as outlined by FAR 91.175 at minimums execute missed approached. "
   ]
  },
  {
   "cell_type": "code",
   "execution_count": null,
   "id": "750b77c6-6556-42df-a961-563ef47bc324",
   "metadata": {},
   "outputs": [],
   "source": [
    "query = \"Based on the FLIGHT OPERATIONS MANUAL (FOM), under what condition, a go around or missed approach has to be executed? \"\n",
    "\n",
    "process_llm_response(qa_chain, query)"
   ]
  },
  {
   "cell_type": "code",
   "execution_count": null,
   "id": "ad95d3de-9c54-4366-b49c-588d3a458338",
   "metadata": {},
   "outputs": [],
   "source": [
    "query = \"According to the FLIGHT OPERATIONS MANUAL (FOM), list out 3 conditions that a go around or missed approach has to be executed\"\n",
    "\n",
    "process_llm_response(qa_chain, query)"
   ]
  },
  {
   "cell_type": "code",
   "execution_count": null,
   "id": "6e7fa79c-2701-436b-bafe-d00ac66e2f93",
   "metadata": {},
   "outputs": [],
   "source": [
    "query = \"According to the FLIGHT OPERATIONS MANUAL (FOM), a go around should be executed under what situations?\"\n",
    "\n",
    "process_llm_response(qa_chain, query)"
   ]
  },
  {
   "cell_type": "code",
   "execution_count": null,
   "id": "a3ef8d3d-7543-41d0-b93d-73a17ac2c67a",
   "metadata": {},
   "outputs": [],
   "source": [
    "query = \"Apart from Excessive bouncing or pilot-induced oscillations, and Excessive ballooning during round out or flare, what other situation that a pilot must execute a go around approach?\"\n",
    "\n",
    "process_llm_response(qa_chain, query)"
   ]
  },
  {
   "cell_type": "code",
   "execution_count": null,
   "id": "14613f91-1852-4d54-b0b4-2cdce27761b2",
   "metadata": {},
   "outputs": [],
   "source": [
    "# Do not attempt to fly under a thunderstorm even if you can see through to the other side. Turbulence and wind shear under the storm could be disastrous.\n",
    "query = \"According to the FLIGHT OPERATIONS MANUAL (FOM), what is the reason of do not attempt to fly under a thunderstorm even if we can see through to the other side?\"\n",
    "\n",
    "process_llm_response(qa_chain, query)"
   ]
  },
  {
   "cell_type": "code",
   "execution_count": null,
   "id": "cc343b5c-ecca-4cb2-97af-e3dbb7b40537",
   "metadata": {},
   "outputs": [],
   "source": [
    "query = \"When we still can see through to the other side under a thunderstorm, should we attempt to fly? State the reason of why should or why should not?\"\n",
    "\n",
    "process_llm_response(qa_chain, query)"
   ]
  },
  {
   "cell_type": "code",
   "execution_count": null,
   "id": "e1247940-b2f2-4cd5-aa48-0258d280a4cf",
   "metadata": {},
   "outputs": [],
   "source": [
    "# Ans: 6.5 Taxi Out\n",
    "# In congested areas (such as the ramp), use the appropriate taxi speed that approximates a normal walking speed with as little power as necessary in order to promptly stop if the need arises.\n",
    "# • All pilots will maintain a taxi speed of 10 knots groundspeed or less at all times. This speed will be displayed as Ground Speed (GS) on a GPS device during taxi.\n",
    "# • Maintain a sterile cockpit while taxiing on the ramp.\n",
    "# • As the aircraft moves out of the parking position, test the brakes on the pilot’s side and instructor’s side (on dual flights) to ensure proper operation.\n",
    "# • DO NOT test brakes while transitioning on an active taxiway (as there may be aircraft in trail).\n",
    "# • Ensure the nose wheel track is along the marked centerline and the aircraft maneuvered in the direction indicated when taxiing on ramp areas. It should be noted however that tracking the centerline does not guarantee clearance from all obstructions such as other aircraft, hangars, signs, etc."
   ]
  },
  {
   "cell_type": "code",
   "execution_count": null,
   "id": "bd695009-ac30-4d38-98ad-60c8c2e64d29",
   "metadata": {},
   "outputs": [],
   "source": [
    "query = f\"\"\"\n",
    "When Taxi out, when the pilot need to test brakes and when do not test brakes?\n",
    "Desired format: \n",
    "DO: -||-\n",
    "DO NOT: -||-\n",
    "\"\"\"\n",
    "process_llm_response(qa_chain, query)"
   ]
  },
  {
   "cell_type": "code",
   "execution_count": null,
   "id": "8f1d72d6-e413-44f0-9d26-71e76ea49527",
   "metadata": {},
   "outputs": [],
   "source": [
    "#Ans: NO\n",
    "query = \"Does the pilot need to test brakes while transitioning on an active taxiway?\"\n",
    "\n",
    "process_llm_response(qa_chain, query)"
   ]
  },
  {
   "cell_type": "code",
   "execution_count": null,
   "id": "4312eda7-b4e3-47c0-927d-03203de6bdb9",
   "metadata": {},
   "outputs": [],
   "source": [
    "query = \"Under what condition, a pilot is prohibited to test brakes?\"\n",
    "\n",
    "process_llm_response(qa_chain, query)"
   ]
  },
  {
   "cell_type": "markdown",
   "id": "6f651035-dc37-4c91-a6d1-fdf90eef8c8d",
   "metadata": {},
   "source": [
    " # How AI is expanding art history"
   ]
  },
  {
   "cell_type": "code",
   "execution_count": null,
   "id": "0fd87a91-2f73-4e23-a637-2843c888976b",
   "metadata": {},
   "outputs": [],
   "source": [
    "text = \"\"\"\n",
    "Artificial intelligence (AI), machine learning and computer vision are revolutionizing research — from medicine and biology to Earth and space\n",
    "sciences. Now, it’s art history’s turn. For decades, conventionally trained art scholars have been slow to take up computational\n",
    "analysis, dismissing it as too limited and simplistic. But, as I describe in my book Pixels and Paintings, out this month, algorithms are\n",
    "advancing fast, and dozens of studies are now proving the power of AI to shed new light on fine-art paintings and drawings.\n",
    "For example, by analysing brush strokes, colour and style, AI-driven tools are revealing how artists’ understanding of the science of\n",
    "optics has helped them to convey light and perspective. Programs are recovering the appearance of lost or hidden artworks and\n",
    "even computing the ‘meanings’ of some paintings, by identifying symbols, for example. It’s challenging. Artworks are complicated\n",
    "compositionally and materially and are replete with human meaning — nuances that algorithms find hard to fathom.\n",
    "Most art historians still rely on their individual expertise when judging artists’ techniques by eye, backed up with laboratory, library and\n",
    "leg work to pin down dates, materials and provenance. Computer scientists, meanwhile, find it easier to analyse 2D photographs or digital\n",
    "images than layers of oil pigments styled with a brush or palette knife. Yet, collaborations are springing up between computer scientists and art scholars.\n",
    "Early successes of such ‘computer-assisted connoisseurship’ fall into three categories:\n",
    "automating conventional ‘by eye’ analyses; processing subtleties in images beyond what is possible through normal human perception;\n",
    "and introducing new approaches and classes of question to art scholarship. Such methods — especially when enhanced\n",
    "by digital processing of large quantities of images and text about art — are beginning to empower art scholars, just as microscopes\n",
    "and telescopes have done for biologists and astronomers.\n",
    "\"\"\""
   ]
  },
  {
   "cell_type": "code",
   "execution_count": null,
   "id": "208ec4fb-db47-4438-990b-24f56b1b0c56",
   "metadata": {},
   "outputs": [],
   "source": [
    "query = f\"\"\"\n",
    "Your task is to Summarize the text below, in at most 50 words, and focusing on any aspect that \n",
    "are relevant to the benefits of using AI tools in Art study\n",
    "\n",
    "text: ```{text}```\n",
    "\"\"\"\n",
    "\n",
    "process_llm_response(qa_chain, query)"
   ]
  },
  {
   "cell_type": "code",
   "execution_count": null,
   "id": "3feda133-a41e-4a5e-ab22-e11c9e3e5053",
   "metadata": {},
   "outputs": [],
   "source": [
    "query = f\"\"\"\n",
    "Extract keywords from the below text\n",
    "\n",
    "text: ```{text}```\n",
    "\"\"\"\n",
    "\n",
    "process_llm_response(qa_chain, query)"
   ]
  },
  {
   "cell_type": "code",
   "execution_count": null,
   "id": "d0bd3e0f-ff32-4381-b5dc-0b9c6c51ef97",
   "metadata": {},
   "outputs": [],
   "source": [
    "query = f\"\"\"\n",
    "Extract keywords from the corresponding texts below\n",
    "\n",
    "Text 1: Computer methods have also recovered missing attributes or portions of incomplete artworks, such as the probable style and colours of ghost paintings\n",
    "Keywords 1: recovered, missing attributes, portions of incomplete artworks\n",
    "\n",
    "Text 2: AI tools can reveal trends in the compositions of landscapes, colour schemes, brush strokes, perspective and more across major art movements.\n",
    "Keywords 2: AI tools, trends, compositions of landscapes, colour shemes, brush strokes, perspective\n",
    "\n",
    "Text 3: {text}\n",
    "Keywords 3:\n",
    "\"\"\"\n",
    "\n",
    "process_llm_response(qa_chain, query)"
   ]
  },
  {
   "cell_type": "code",
   "execution_count": null,
   "id": "f39b0a96-1f38-4147-b040-d39df018a26c",
   "metadata": {},
   "outputs": [],
   "source": [
    "# Ans: By-eye art analysis can vary depending on how different scholars perceive an artwork.\n",
    "# For example, lighting is an expressive feature, from the exaggerated light–dark\n",
    "# contrast (chiaroscuro) and gloomy style (tenebrism) of sixteenth-century Italian\n",
    "# painter Caravaggio to the flat, graphic lighting in twentieth-century works by US artist\n",
    "# Alex Katz. Many experiments have shown that even careful viewers are poor at estimating\n",
    "# the overall direction of, or inconsistencies in, illumination throughout a scene. That’s why\n",
    "# the human eye is often fooled by photographs doctored by cutting and pasting a figure from\n",
    "# one into another, for example."
   ]
  },
  {
   "cell_type": "code",
   "execution_count": null,
   "id": "b8a2158e-b0f9-45f4-8132-cc7ded2c0791",
   "metadata": {},
   "outputs": [],
   "source": [
    "query = \"Why By-eye art analysis can vary depending on how different scholars perceive an artwork? Explain it with example\"\n",
    "\n",
    "process_llm_response(qa_chain, query)"
   ]
  },
  {
   "cell_type": "code",
   "execution_count": null,
   "id": "0fcacb9e-3ab0-4c37-996f-b2705459912f",
   "metadata": {},
   "outputs": [],
   "source": [
    "query = \"Explain how the perception of different sholars on artwork would affect the result of the By-eye art analysis?\" \n",
    "\n",
    "process_llm_response(qa_chain, query)"
   ]
  },
  {
   "cell_type": "markdown",
   "id": "82e9e990-1a2b-4397-8360-ff8e4788ca85",
   "metadata": {},
   "source": [
    " # NYSE_AXP_2021"
   ]
  },
  {
   "cell_type": "code",
   "execution_count": null,
   "id": "b234cca2-e472-4d4f-a197-54f6d8169840",
   "metadata": {},
   "outputs": [],
   "source": [
    "#Ans: United States, EMEA pdf p.160\n",
    "query = \"Which regions had more than 3500 millions Total revenues net of interest expense in 2021?\" \n",
    "\n",
    "process_llm_response(qa_chain, query)"
   ]
  },
  {
   "cell_type": "code",
   "execution_count": null,
   "id": "a90b648f-15c8-4b9d-806f-34b9db7d77c6",
   "metadata": {},
   "outputs": [],
   "source": [
    "#Ans:\n",
    "query = \"According to the PARENT COMPANY – CONDENSED STATEMENTS OF INCOME, calculate the net profit margin in 2021 and show me the calculation\"\n",
    "process_llm_response(qa_chain, query)"
   ]
  },
  {
   "cell_type": "code",
   "execution_count": null,
   "id": "d2d125f9-d1c6-4f3b-870f-ab326d06deed",
   "metadata": {},
   "outputs": [],
   "source": [
    "#Ans: 2020: $3,315 ; 2021: $8,060\n",
    "query = \"According to the PARENT COMPANY – CONDENSED STATEMENTS OF INCOME, compare the net income between 2020 and 2021\"\n",
    "process_llm_response(qa_chain, query)"
   ]
  },
  {
   "cell_type": "code",
   "execution_count": null,
   "id": "9ef8ee9e-1e5f-4479-8dea-da1a81dc377c",
   "metadata": {},
   "outputs": [],
   "source": [
    "#Ans:\n"
   ]
  },
  {
   "cell_type": "code",
   "execution_count": null,
   "id": "4ded8ce0-37e1-41e1-97fa-549f17548fbe",
   "metadata": {},
   "outputs": [],
   "source": [
    "query = \"What is Blue Box Values of American Express\""
   ]
  },
  {
   "cell_type": "markdown",
   "id": "ee5d4c04-ddeb-4c33-bb3e-0e76a6fd0f1e",
   "metadata": {},
   "source": [
    " # Climate Guidance"
   ]
  },
  {
   "cell_type": "code",
   "execution_count": null,
   "id": "99c1c890-99b9-47b5-a715-8ef5f909a11c",
   "metadata": {},
   "outputs": [],
   "source": [
    "#Ans:\n",
    "# 1.Forecasts vary in their skill, or accuracy, level\n",
    "# 2. Forecasts evolve over time. \n",
    "# 3. Be aware of the spring predictability barrier. \n",
    "# 4. Different forecast providers can offer varying predictions. T\n",
    "# 5. Forecasts are probabilistic, meaning there is always a chance that something other than the most likely scenario occurs."
   ]
  },
  {
   "cell_type": "code",
   "execution_count": null,
   "id": "9889c147-865e-4fd1-aef8-02c60ca061fb",
   "metadata": {},
   "outputs": [],
   "source": [
    "query = \"Summarize and list out all factors to consider when interpreting precipitation forecasts\" \n",
    "\n",
    "process_llm_response(qa_chain, query)"
   ]
  },
  {
   "cell_type": "code",
   "execution_count": null,
   "id": "af767c18-6a99-45e9-94f1-220a5e2d7732",
   "metadata": {},
   "outputs": [],
   "source": [
    "query = \"Give out 3 factors that need to be consider when interpreting precipitation forecasts\"\n",
    "\n",
    "process_llm_response(qa_chain, query)"
   ]
  },
  {
   "cell_type": "code",
   "execution_count": null,
   "id": "1dba2704-4c9c-4e57-b92b-5e7a2da985f7",
   "metadata": {},
   "outputs": [],
   "source": [
    "#Ans:1-6 months, 1hr-3days\n",
    "query = \"State the lead time of Seasonal, and Weather(short range) forcast type\"\n",
    "\n",
    "process_llm_response(qa_chain, query)"
   ]
  },
  {
   "cell_type": "code",
   "execution_count": null,
   "id": "93f0deee-cb31-455c-a4cf-52a031c62bf8",
   "metadata": {},
   "outputs": [],
   "source": [
    "query = \"Extract 2 points of each from the Good for understanding, and Not good for understanding under the Seasonal Forecast type from the table of COMPARING PRECIPITATION FORECASTS\"\n",
    "\n",
    "process_llm_response(qa_chain, query)"
   ]
  },
  {
   "cell_type": "markdown",
   "id": "d1470a52-39da-4dd7-9717-0924d0137ef1",
   "metadata": {},
   "source": [
    " # The Great Gatsyby"
   ]
  },
  {
   "cell_type": "code",
   "execution_count": null,
   "id": "6c820dbb-a462-43f7-9e34-add6c2169081",
   "metadata": {},
   "outputs": [],
   "source": [
    "#Ans: Daisy, but Gatsby takes the blame for her\n",
    "query = \"Who was driving the car that hit Myrtle?\"\n",
    "\n",
    "process_llm_response(qa_chain, query)"
   ]
  },
  {
   "cell_type": "code",
   "execution_count": null,
   "id": "a32f9b77-c3c4-4038-8ae5-34786b3b7f5d",
   "metadata": {},
   "outputs": [],
   "source": [
    "#Ans: at the summer party that threw at Gatsyby's house\n",
    "query = \"How does Nick Carraway first meet Jay Gatsby?\"\n",
    "\n",
    "process_llm_response(qa_chain, query)"
   ]
  },
  {
   "cell_type": "code",
   "execution_count": null,
   "id": "1e8e1a07-733a-4d4c-9d0c-865cf8509a43",
   "metadata": {},
   "outputs": [],
   "source": [
    "#Ans:Cousins\n",
    "query = \"What is the relationship between Daisy and Nick?\"\n",
    "\n",
    "process_llm_response(qa_chain, query)"
   ]
  },
  {
   "cell_type": "code",
   "execution_count": null,
   "id": "d021b7fa-5ac6-4c2f-afee-a54ab5460769",
   "metadata": {},
   "outputs": [],
   "source": [
    "#Ans: to see his first love, Daisy, again. So he organized those parties, attracting more and more people, hoping that one day Daisy would come\n",
    "query = \"Why does Gatsby throw his weekly parties?\"\n",
    "\n",
    "process_llm_response(qa_chain, query)"
   ]
  },
  {
   "cell_type": "code",
   "execution_count": null,
   "id": "96c12660-7346-4d04-b798-1afca5169f19",
   "metadata": {},
   "outputs": [],
   "source": [
    "#Ans: loud, ambitious-seeks to climb the social ladder, naive-believes her lying lover, materialistic and greedy etc.\n",
    "query = \"Describe Myrtle’s personality and values in at most 50 words by using details from Chapter 2\"\n",
    "\n",
    "process_llm_response(qa_chain, query)"
   ]
  },
  {
   "cell_type": "code",
   "execution_count": null,
   "id": "5a40f601-9206-4f17-b3e2-b1fc6ee12029",
   "metadata": {},
   "outputs": [],
   "source": [
    "#Ans: Dating, Cousin, First love, lover, married\n",
    "query = f\"\"\"\n",
    "Use 1 word to describe the relationship between the following characters\n",
    "\n",
    "Nick and Jordan:\n",
    "Nick and Daisy: \n",
    "Daisy and Gatsyby:\n",
    "Tom and Myrtle:\n",
    "Myrtle and George:\n",
    "\"\"\"\n",
    "process_llm_response(qa_chain, query)"
   ]
  },
  {
   "cell_type": "code",
   "execution_count": null,
   "id": "bc8eba6c-de30-488e-aa95-895deda8e262",
   "metadata": {},
   "outputs": [],
   "source": [
    "scene = \"\"\"\n",
    "He knew that Daisy was extraordinary,\n",
    "but he didn’t realize just how extraordinary a “nice” girl could\n",
    "be. She vanished into her rich house, into her rich, full life,\n",
    "leaving Gatsby — nothing. He felt married to her, that was all.\n",
    "When they met again, two days later, it was Gatsby who was\n",
    "breathless, who was, somehow, betrayed. Her porch was bright\n",
    "with the bought luxury of star-shine; the wicker of the settee\n",
    "squeaked fashionably as she turned toward him and he kissed\n",
    "her curious and lovely mouth. She had caught a cold, and it\n",
    "made her voice huskier and more charming than ever, and\n",
    "Gatsby was overwhelmingly aware of the youth and mystery\n",
    "that wealth imprisons and preserves, of the freshness of many\n",
    "clothes, and of Daisy, gleaming like silver, safe and proud\n",
    "above the hot struggles of the poor.\n",
    "“I can’t describe to you how surprised I was to find out I\n",
    "loved her, old sport. I even hoped for a while that she’d throw\n",
    "me over, but she didn’t, because she was in love with me too.\n",
    "She thought I knew a lot because I knew different things from\n",
    "her… . Well, there I was, ‘way off my ambitions, getting deeper\n",
    "in love every minute, and all of a sudden I didn’t care. What\n",
    "was the use of doing great things if I could have a better time\n",
    "telling her what I was going to do?” On the last afternoon before\n",
    "he went abroad, he sat with Daisy in his arms for a long,\n",
    "silent time. It was a cold fall day, with fire in the room and her\n",
    "cheeks flushed. Now and then she moved and he changed his\n",
    "arm a little, and once he kissed her dark shining hair. The afternoon\n",
    "had made them tranquil for a while, as if to give them\n",
    "a deep memory for the long parting the next day promised.\n",
    "They had never been closer in their month of love, nor communicated\n",
    "more profoundly one with another, than when she\n",
    "brushed silent lips against his coat’s shoulder or when he\n",
    "touched the end of her fingers, gently, as though she were\n",
    "asleep.\n",
    "\"\"\""
   ]
  },
  {
   "cell_type": "code",
   "execution_count": null,
   "id": "2e79e8b2-8158-458b-9be2-0490a8d931f3",
   "metadata": {},
   "outputs": [],
   "source": [
    "query = f\"\"\"\n",
    "Identify a list of emotions that Gatsyby is expressing towwards Daisy from the following scene.\n",
    "Format the answer as a list of lower-case words separated by commas.\n",
    "\n",
    "scene: {scene}\n",
    "\"\"\"\n",
    "process_llm_response(qa_chain, query)"
   ]
  },
  {
   "cell_type": "markdown",
   "id": "0223d07b-d2cb-424f-ab53-6513edefcb12",
   "metadata": {},
   "source": [
    " ## Hallucination testing"
   ]
  },
  {
   "cell_type": "code",
   "execution_count": null,
   "id": "edc047c7-1965-41d4-a417-d7aa695e9771",
   "metadata": {},
   "outputs": [],
   "source": [
    "#Anthony Patch does not exist in the book\n",
    "query = \"What does Anthony Patch tell Gatsyby in the party?\"\n",
    "\n",
    "process_llm_response(qa_chain, query)"
   ]
  },
  {
   "cell_type": "code",
   "execution_count": null,
   "id": "df890797-15ae-4f02-9490-c9d87edf076c",
   "metadata": {},
   "outputs": [],
   "source": [
    "#Never mentioned in the book\n",
    "query = \"What did Jordan Baker do after Myrtle was hit by a car?\"\n",
    "\n",
    "process_llm_response(qa_chain, query)"
   ]
  },
  {
   "cell_type": "code",
   "execution_count": null,
   "id": "f6de8978-b7f2-4cdb-abd8-b70b7e453b34",
   "metadata": {},
   "outputs": [],
   "source": [
    "#George never has interception with Jordan\n",
    "query = \"Describe the first impression of Jordan Baker from George Wilson aspect\"\n",
    "\n",
    "process_llm_response(qa_chain, query)"
   ]
  }
 ],
 "metadata": {
  "kernelspec": {
   "display_name": "Python 3 (ipykernel)",
   "language": "python",
   "name": "python3"
  },
  "language_info": {
   "codemirror_mode": {
    "name": "ipython",
    "version": 3
   },
   "file_extension": ".py",
   "mimetype": "text/x-python",
   "name": "python",
   "nbconvert_exporter": "python",
   "pygments_lexer": "ipython3",
   "version": "3.11.4"
  }
 },
 "nbformat": 4,
 "nbformat_minor": 5
}
