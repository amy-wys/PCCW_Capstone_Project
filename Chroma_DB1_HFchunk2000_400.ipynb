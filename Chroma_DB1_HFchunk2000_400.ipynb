{
 "cells": [
  {
   "cell_type": "markdown",
   "metadata": {
    "id": "7AnZQpL_IZZZ"
   },
   "source": [
    "# LangChain multi-doc retriever with ChromaDB\n",
    "\n",
    "***New Points***\n",
    "- Multiple Files\n",
    "- ChromaDB\n",
    "- Source info\n",
    "- gpt-3.5-turbo API"
   ]
  },
  {
   "cell_type": "markdown",
   "metadata": {
    "id": "HqwsGJDhvAQ5"
   },
   "source": [
    "## Setting up LangChain\n"
   ]
  },
  {
   "cell_type": "code",
   "execution_count": 1,
   "metadata": {
    "id": "XHVE9uFb3Ajj"
   },
   "outputs": [],
   "source": [
    "from langchain.vectorstores import Chroma\n",
    "from langchain.embeddings import OpenAIEmbeddings\n",
    "from langchain import HuggingFaceHub\n",
    "from langchain.embeddings import HuggingFaceEmbeddings\n",
    "from langchain.embeddings import HuggingFaceInstructEmbeddings\n",
    "from langchain.text_splitter import RecursiveCharacterTextSplitter\n",
    "from langchain.llms import OpenAI\n",
    "from langchain.chains import RetrievalQA\n",
    "from langchain.document_loaders import TextLoader\n",
    "from langchain.document_loaders import PyPDFLoader\n",
    "from langchain.document_loaders import DirectoryLoader\n",
    "import os\n",
    "from dotenv import load_dotenv"
   ]
  },
  {
   "cell_type": "code",
   "execution_count": 2,
   "metadata": {
    "id": "dNA4TsHpu6OM"
   },
   "outputs": [
    {
     "name": "stderr",
     "output_type": "stream",
     "text": [
      "/Users/parkjungwoo/Documents/GitHub/PCCW_Capstone_Project/FirstVenv/lib/python3.11/site-packages/InstructorEmbedding/instructor.py:7: TqdmWarning: IProgress not found. Please update jupyter and ipywidgets. See https://ipywidgets.readthedocs.io/en/stable/user_install.html\n",
      "  from tqdm.autonotebook import trange\n"
     ]
    },
    {
     "name": "stdout",
     "output_type": "stream",
     "text": [
      "load INSTRUCTOR_Transformer\n",
      "max_seq_length  512\n"
     ]
    },
    {
     "name": "stderr",
     "output_type": "stream",
     "text": [
      "/Users/parkjungwoo/Documents/GitHub/PCCW_Capstone_Project/FirstVenv/lib/python3.11/site-packages/huggingface_hub/utils/_deprecation.py:127: FutureWarning: '__init__' (from 'huggingface_hub.inference_api') is deprecated and will be removed from version '1.0'. `InferenceApi` client is deprecated in favor of the more feature-complete `InferenceClient`. Check out this guide to learn how to convert your script to use it: https://huggingface.co/docs/huggingface_hub/guides/inference#legacy-inferenceapi-client.\n",
      "  warnings.warn(warning_message, FutureWarning)\n"
     ]
    }
   ],
   "source": [
    "_ = load_dotenv()\n",
    "\n",
    "OPENAI_API_KEY = os.environ[\"OPENAI_API_KEY\"]\n",
    "HUGGINGFACEHUB_API_TOKEN = os.environ[\"HUGGINGFACEHUB_API_TOKEN\"]\n",
    "\n",
    "instructor_embeddings = HuggingFaceInstructEmbeddings(model_name=\"BAAI/bge-base-en-v1.5\",\n",
    "                                                      model_kwargs={\"device\": \"cuda\"})\n",
    "\n",
    "llm=HuggingFaceHub(\n",
    "    repo_id=\"HuggingFaceH4/zephyr-7b-beta\", \n",
    "    model_kwargs={\"temperature\":0.2, \"max_length\":256},\n",
    "    huggingfacehub_api_token=HUGGINGFACEHUB_API_TOKEN\n",
    "    )"
   ]
  },
  {
   "cell_type": "markdown",
   "metadata": {
    "id": "9UcQKUId3X2M"
   },
   "source": [
    "## Load multiple and process documents"
   ]
  },
  {
   "cell_type": "code",
   "execution_count": 3,
   "metadata": {
    "id": "PRSeXXc_3Ypj"
   },
   "outputs": [],
   "source": [
    "# Load and process the text files\n",
    "# loader = TextLoader('single_text_file.txt')\n",
    "loader = DirectoryLoader('./data/', glob=\"./*.pdf\", loader_cls=PyPDFLoader)\n",
    "\n",
    "documents = loader.load()"
   ]
  },
  {
   "cell_type": "code",
   "execution_count": 4,
   "metadata": {
    "id": "3__nT0D4Fkmg"
   },
   "outputs": [
    {
     "name": "stdout",
     "output_type": "stream",
     "text": [
      "CPU times: user 2.37 ms, sys: 56 µs, total: 2.42 ms\n",
      "Wall time: 2.45 ms\n"
     ]
    }
   ],
   "source": [
    "%%time\n",
    "#splitting the text into\n",
    "text_splitter = RecursiveCharacterTextSplitter(chunk_size=2000, chunk_overlap=400)\n",
    "texts = text_splitter.split_documents(documents)"
   ]
  },
  {
   "cell_type": "code",
   "execution_count": 5,
   "metadata": {
    "colab": {
     "base_uri": "https://localhost:8080/"
    },
    "id": "TlU5AlqY4gwj",
    "outputId": "d78fb098-3161-42cd-8ce9-5f98f4ef91d2"
   },
   "outputs": [
    {
     "data": {
      "text/plain": [
       "36"
      ]
     },
     "execution_count": 5,
     "metadata": {},
     "output_type": "execute_result"
    }
   ],
   "source": [
    "len(texts)"
   ]
  },
  {
   "cell_type": "code",
   "execution_count": 7,
   "metadata": {
    "colab": {
     "base_uri": "https://localhost:8080/"
    },
    "id": "Bg6-9jwU4ja_",
    "outputId": "02f45055-0e09-42ba-9ff3-0e7850f06cae"
   },
   "outputs": [
    {
     "data": {
      "text/plain": [
       "Document(page_content='(SIAS) and Social Phobia Scale (SPS) using nonparametric item response theory: The SIAS-6 and the SPS-6. Psychol. Assess.  24, \\n66–76. https://  doi. org/ 10. 1037/  a0024  544 (2012).\\n 65. Fowler, D. et al. The Brief Core Schema Scales (BCSS): psychometric properties and associations with paranoia and grandiosity \\nin non-clinical and psychosis samples. Psychol. Med. 36, 749–759 (2006).\\n 66. Hughes, M. E., Waite, L. J., Hawkley, L. C. & Cacioppo, J. T. A short scale for measuring loneliness in large surveys: Results from \\ntwo population-based studies. Res. Aging  26, 655–672 (2004).\\n 67. Kashdan, T. B. & Steger, M. F. Expanding the topography of social anxiety: An experience-sampling assessment of positive emo -\\ntions, positive events, and emotion suppression. Psychol. Sci.  17, 120–128 (2006).\\n 68. Kashdan, T. B. et al. A contextual approach to experiential avoidance and social anxiety: Evidence from an experimental interaction \\nand daily interactions of people with social anxiety disorder. Emotion  14, 769–781. https://  doi. org/ 10. 1037/ a0035  935 (2014).\\n 69. Kashdan, T. B. et al. Distinguishing healthy adults from people with social anxiety disorder: Evidence for the value of experiential \\navoidance and positive emotions in everyday social interactions. J. Abnorm. Psychol. 122, 645–655. https:// doi. org/ 10. 1037/ a0032  \\n733 (2013).\\n 70. Schlier, B., Moritz, S. & Lincoln, T. M. Measuring fluctuations in paranoia: Validity and psychometric properties of brief state \\nversions of the Paranoia Checklist. Psychiat. Res.  241, 323–332. https:// doi.  org/ 10. 1016/j.  psych  res. 2016. 05.  002 (2016).\\n 71. Bahlinger, K., Lincoln, T. M. & Clamor, A. Are acute increases and variability in emotion regulation strategies related to negative \\naffect and paranoid thoughts in daily life?. Cogn. Therap. Res.  46, 62–72. https:// doi. org/  10. 1007/  s10608-  021-  10253-1  (2022).', metadata={'source': 'data/s41598-023-47912-0.pdf', 'page': 9})"
      ]
     },
     "execution_count": 7,
     "metadata": {},
     "output_type": "execute_result"
    }
   ],
   "source": [
    "texts[32]"
   ]
  },
  {
   "cell_type": "markdown",
   "metadata": {
    "id": "YsYsIy8F4cdm"
   },
   "source": [
    "## create the DB"
   ]
  },
  {
   "cell_type": "code",
   "execution_count": 8,
   "metadata": {
    "colab": {
     "base_uri": "https://localhost:8080/"
    },
    "id": "Q_eTIZwf4Dk2",
    "outputId": "1cd293c4-716c-402d-d41b-045b6a264041"
   },
   "outputs": [
    {
     "name": "stdout",
     "output_type": "stream",
     "text": [
      "CPU times: user 36.4 s, sys: 8.68 s, total: 45.1 s\n",
      "Wall time: 49 s\n"
     ]
    }
   ],
   "source": [
    "%%time\n",
    "# Embed and store the texts\n",
    "# Supplying a persist_directory will store the embeddings on disk\n",
    "persist_directory = 'db_2000_400'\n",
    "\n",
    "## here we are using OpenAI embeddings but in future we will swap out to local embeddings\n",
    "embedding = HuggingFaceEmbeddings()\n",
    "\n",
    "vectordb = Chroma.from_documents(documents=texts,\n",
    "                                 embedding=embedding,\n",
    "                                 persist_directory=persist_directory)"
   ]
  },
  {
   "cell_type": "code",
   "execution_count": 9,
   "metadata": {
    "id": "uRfD_Te-47lb"
   },
   "outputs": [],
   "source": [
    "# persiste the db to disk\n",
    "vectordb.persist()\n",
    "vectordb = None"
   ]
  },
  {
   "cell_type": "code",
   "execution_count": 10,
   "metadata": {
    "colab": {
     "base_uri": "https://localhost:8080/"
    },
    "id": "A-h1y_eAHmD-",
    "outputId": "4a6097fb-e30e-4fa2-ff4d-b972ce7f6154"
   },
   "outputs": [
    {
     "name": "stdout",
     "output_type": "stream",
     "text": [
      "CPU times: user 17.6 ms, sys: 20.5 ms, total: 38.1 ms\n",
      "Wall time: 99.4 ms\n"
     ]
    }
   ],
   "source": [
    "%%time\n",
    "\n",
    "# Now we can load the persisted database from disk, and use it as normal.\n",
    "vectordb = Chroma(persist_directory=persist_directory,\n",
    "                  embedding_function=embedding)"
   ]
  },
  {
   "cell_type": "markdown",
   "metadata": {
    "id": "siLXR-XT0JoI"
   },
   "source": [
    "## Make a retriever"
   ]
  },
  {
   "cell_type": "code",
   "execution_count": 11,
   "metadata": {
    "id": "6ObunFU30Lxh"
   },
   "outputs": [],
   "source": [
    "retriever = vectordb.as_retriever()"
   ]
  },
  {
   "cell_type": "code",
   "execution_count": 12,
   "metadata": {
    "id": "cYA-H59u0Skn"
   },
   "outputs": [],
   "source": [
    "docs = retriever.get_relevant_documents(\"What is paranoia?\")"
   ]
  },
  {
   "cell_type": "code",
   "execution_count": 13,
   "metadata": {
    "colab": {
     "base_uri": "https://localhost:8080/"
    },
    "id": "h0iAuh_B0ZjE",
    "outputId": "2ffd1da1-ff6c-4ea9-c361-7230dbd5bdc0"
   },
   "outputs": [
    {
     "data": {
      "text/plain": [
       "4"
      ]
     },
     "execution_count": 13,
     "metadata": {},
     "output_type": "execute_result"
    }
   ],
   "source": [
    "len(docs)"
   ]
  },
  {
   "cell_type": "code",
   "execution_count": 14,
   "metadata": {
    "id": "jVWgPJXs1yRq"
   },
   "outputs": [],
   "source": [
    "retriever = vectordb.as_retriever(search_kwargs={\"k\": 2})"
   ]
  },
  {
   "cell_type": "code",
   "execution_count": 15,
   "metadata": {
    "colab": {
     "base_uri": "https://localhost:8080/",
     "height": 35
    },
    "id": "H4N0IhRM0hHL",
    "outputId": "f8058122-1c8a-4c5b-f046-14a90eed5a3b"
   },
   "outputs": [
    {
     "data": {
      "text/plain": [
       "'similarity'"
      ]
     },
     "execution_count": 15,
     "metadata": {},
     "output_type": "execute_result"
    }
   ],
   "source": [
    "retriever.search_type"
   ]
  },
  {
   "cell_type": "code",
   "execution_count": 16,
   "metadata": {
    "colab": {
     "base_uri": "https://localhost:8080/"
    },
    "id": "4jXL9u-u0prF",
    "outputId": "2e6dd94e-bede-4e05-c841-9c755ecfef2a"
   },
   "outputs": [
    {
     "data": {
      "text/plain": [
       "{'k': 2}"
      ]
     },
     "execution_count": 16,
     "metadata": {},
     "output_type": "execute_result"
    }
   ],
   "source": [
    "retriever.search_kwargs"
   ]
  },
  {
   "cell_type": "markdown",
   "metadata": {
    "id": "4Ia-4OXa5IeP"
   },
   "source": [
    "## Make a chain"
   ]
  },
  {
   "cell_type": "code",
   "execution_count": 17,
   "metadata": {
    "id": "MGx8XblM4shW"
   },
   "outputs": [],
   "source": [
    "# create the chain to answer questions\n",
    "qa_chain = RetrievalQA.from_chain_type(llm=llm,\n",
    "                                  chain_type=\"stuff\",\n",
    "                                  retriever=retriever,\n",
    "                                  return_source_documents=True)"
   ]
  },
  {
   "cell_type": "code",
   "execution_count": 18,
   "metadata": {
    "id": "LZEo26mw8e5k"
   },
   "outputs": [],
   "source": [
    "def process_llm_response(llm_response):\n",
    "    print(llm_response['result'])\n",
    "    print(llm_response['source_documents'][0].metadata)"
   ]
  },
  {
   "cell_type": "code",
   "execution_count": 19,
   "metadata": {
    "colab": {
     "base_uri": "https://localhost:8080/"
    },
    "id": "wKfX4vX-5RFT",
    "outputId": "b3902fd2-86cc-4020-86a9-99883a996d20"
   },
   "outputs": [
    {
     "name": "stdout",
     "output_type": "stream",
     "text": [
      " Paranoia refers to a symptom characterized by excessive or unjustified distrust and suspicion of others' motives or actions. It is often associated with anxiety and related worry processes, and its co-occurrence with social anxiety has raised questions about how the two symptoms may influence each other. The cognitive model of paranoia proposes that social evaluative concerns contribute to the development of paranoia against the backdrop of anxiety and worry processes. Studies have also identified candidate factors that may maintain social anxiety in the context of psychotic experiences, such as beliefs about self/others and worry. The assessment of paranoia and related symptoms can be conducted using ecological momentary assessment and ambulatory assessment methods, which involve collecting data in real-life settings over extended periods.\n",
      "{'page': 0, 'source': 'data/s41598-023-47912-0.pdf'}\n"
     ]
    }
   ],
   "source": [
    "# full example\n",
    "query = \"What is paranoia?\"\n",
    "llm_response = qa_chain(query)\n",
    "process_llm_response(llm_response)"
   ]
  },
  {
   "cell_type": "code",
   "execution_count": 21,
   "metadata": {
    "colab": {
     "base_uri": "https://localhost:8080/"
    },
    "id": "olRm73t3rNt2",
    "outputId": "20fb1b17-6562-421d-a60e-c67b97ca67d7"
   },
   "outputs": [
    {
     "data": {
      "text/plain": [
       "{'query': 'How many young adults (or people) took part in this?',\n",
       " 'result': ' The text provides no information about the number of young adults or people who participated in this study. Therefore, we cannot answer this question.',\n",
       " 'source_documents': [Document(page_content='Within-person standardized fixed \\neffects Random effectsWithin-person standardized fixed \\neffects Random effects\\nEstimate (β) 95% CrIEstimate \\n(variance) 95% CrI Estimate (β) 95% CrIEstimate \\n(variance) 95% CrI\\nIntercepts/means\\nμSA 2.08 [1.77, 2.41] 0.80 [0.62, 1.05] 1.94 [1.62, 2.27] 0.95 [0.72, 1.29]\\nμPAR 2.02 [1.71, 2.33] 0.62 [0.48, 0.81] 1.88 [1.57, 2.20] 0.72 [0.55, 0.98]\\nμLONE / / / / 1.96 [1.64, 2.28] 0.84 [0.64, 1.29]\\nAutoregressive effects\\nϕSA⟶SA 0.50 [0.28, 0.73] 0.15 [0.11, 0.21] 0.41 [0.20, 0.63] 0.20 [0.14, 0.28]\\nϕPAR⟶PAR 0.47 [0.24, 0.71] 0.14 [0.10, 0.20] 0.31 [0.11, 0.52] 0.18 [0.13, 0.26]\\nϕLONE⟶LONE / / / / 0.61 [0.26, 0.86] 0.11 [0.08, 0.16]\\nCross-lagged effects\\nϕSA⟶PAR 0.20 [0.01, 0.41] 0.10 [0.08, 0.14] 0.19 [− 0.01, 0.40] 0.11 [0.07, 0.15]\\nϕPAR⟶SA 0.29 [0.06, 0.51] 0.44 [0.32, 0.61] 0.25 [0.04, 0.46] 0.50 [0.35, 0.72]\\nϕLONE⟶SA / / / / 0.26 [0.00, 0.52] 0.08 [0.05, 0.12]\\nϕSA⟶LONE / / / / 0.05 [− 0.17, 0.27] 0.11 [0.07, 0.17]\\nϕLONE⟶PAR / / / / 0.21 [0.01, 0.42] 0.08 [0.05, 0.11]\\nϕPAR⟶LONE / / / / 0.19 [− 0.02, 0.40] 0.38 [0.27, 0.55]', metadata={'page': 2, 'source': 'data/s41598-023-47912-0.pdf'}),\n",
       "  Document(page_content='sy- 050212-  185510 (2013).\\n 39. Shiffman, S., Stone, A. A. & Hufford, M. R. Ecological momentary assessment. Ann. Rev. Clin. Psychol. 4, 1–32. https:// doi. org/ 10.  \\n1146/ annur  ev. clinp  sy.3.  022806.  091415 (2008).\\n 40. Hamaker, E. L., Asparouhov, T., Brose, A., Schmiedek, F. & Muthén, B. At the frontiers of modeling intensive longitudinal data: \\ndynamic structural equation models for the affective measurements from the COGITO study. Multivar. Behav. Res. 53, 820–841. \\nhttps://  doi. org/ 10. 1080/  00273 171. 2018.  14468 19  (2018).\\n 41. Hamaker, E., Asparouhov, T. & Muthén, B. Dynamic structural equation modeling as a combination of time series modeling, \\nmultilevel modeling, and structural equation modeling. Handb. Struct. Eq. Model. 31, 859625 (2021).\\n 42. Buecker, S., Mund, M., Chwastek, S., Sostmann, M. & Luhmann, M. Is loneliness in emerging adults increasing over time? A pre-\\nregistered cross-temporal meta-analysis and systematic review. Psychol. Bull.  147, 787–805. https://  doi. org/ 10. 1037/  bul00  00332  \\n(2021).\\n 43. Jefferies, P . & Ungar, M. Social anxiety in young people: A prevalence study in seven countries. PLOS ONE  15, e0239133. https://  \\ndoi. org/ 10. 1371/  journ  al. pone.  02391  33 (2020).\\n 44. Freeman, D. et al. Concomitants of paranoia in the general population. Psychol. Med. 41, 923–936. https:// doi. org/ 10. 1017/ S0033  \\n29171 00015  46 (2011).\\n 45. Lim, M. H. et al. A pilot digital intervention targeting loneliness in young people with psychosis. Soc. Psychiat. Psychiat. Epidemiol.  \\n55, 877–889. https://  doi. org/ 10. 1007/  s00127-  019-  01681-2  (2020).\\n 46. Lim, M. H., Penn, D. L., Thomas, N. & Gleeson, J. F. M. Is loneliness a feasible treatment target in psychosis?. Soc. Psychiat. Psychiat. \\nEpidemiol.  55, 901–906. https://  doi. org/ 10. 1007/  s00127-  019-  01731-9  (2020).', metadata={'page': 8, 'source': 'data/s41598-023-47912-0.pdf'})]}"
      ]
     },
     "execution_count": 21,
     "metadata": {},
     "output_type": "execute_result"
    }
   ],
   "source": [
    "# break it down\n",
    "query = \"How many young adults (or people) took part in this?\"\n",
    "llm_response = qa_chain(query)\n",
    "# process_llm_response(llm_response)\n",
    "llm_response"
   ]
  },
  {
   "cell_type": "code",
   "execution_count": 22,
   "metadata": {
    "colab": {
     "base_uri": "https://localhost:8080/"
    },
    "id": "wg-e6fh6rNwz",
    "outputId": "4b8d1e0e-b039-4e21-c233-a6c308cc5e25"
   },
   "outputs": [
    {
     "name": "stdout",
     "output_type": "stream",
     "text": [
      " The text mentions a specific study, \"Kashdan et al. (2014),\" that measures momentary social anxiety through an experimental interaction and daily interactions of people with social anxiety disorder. However, the text also mentions other studies that use self-report measures to assess social anxiety, such as the Social Phobia Scale (SPS) and the Brief Core Schema Scales (BCSS). It's not clear from the context which specific measure is being referred to in this question, so it's best to say that the text doesn't provide enough information to answer this question.\n",
      "{'page': 9, 'source': 'data/s41598-023-47912-0.pdf'}\n"
     ]
    }
   ],
   "source": [
    "query = \"How do they measure Momentary social anxiety?\"\n",
    "llm_response = qa_chain(query)\n",
    "process_llm_response(llm_response)"
   ]
  },
  {
   "cell_type": "code",
   "execution_count": 23,
   "metadata": {
    "colab": {
     "base_uri": "https://localhost:8080/"
    },
    "id": "cuFf8D-rrN0I",
    "outputId": "19c63b88-33e2-4400-eede-f2678231eccb"
   },
   "outputs": [
    {
     "name": "stdout",
     "output_type": "stream",
     "text": [
      " The study's data collection took place from June to October 2021, after the peak of the fourth wave of the COVID-19 pandemic in Hong Kong. Participants attended a 1-hour assessment session during which they were screened with the Structured Clinical Interview for Diagnostic and Statistical Manual of Mental Disorders-IV (SCI-DSM-IV; So et al. 59). Participants without any past or current psychiatric diagnosis completed a baseline survey, and were then briefed individually on the ESM procedure. The ESM questionnaires were programmed into a smartphone app (SEMA360) installed on the participant's mobile phone, and participants were asked to answer the same set of items assessing momentary loneliness, social anxiety, and paranoia ten times a day for six consecutive days. The app displayed the items one by one, and the prompt signals were pseudo-randomized into blocks of time intervals within 13 waking hours. The starting time of the ESM assessment was tailored for each participant to maximize compliance, and consecutive ESM questionnaires were set at least 15 minutes apart. Any ESM questionnaires that were not completed were excluded from the data analysis.\n",
      "{'page': 4, 'source': 'data/s41598-023-47912-0.pdf'}\n"
     ]
    }
   ],
   "source": [
    "query = \"What is their data collection method?\"\n",
    "llm_response = qa_chain(query)\n",
    "process_llm_response(llm_response)"
   ]
  },
  {
   "cell_type": "code",
   "execution_count": 24,
   "metadata": {
    "colab": {
     "base_uri": "https://localhost:8080/"
    },
    "id": "t5KETxphrN3d",
    "outputId": "4f4a7dfb-0f5b-4b72-b678-6def5d056d20"
   },
   "outputs": [
    {
     "name": "stdout",
     "output_type": "stream",
     "text": [
      " ESM stands for Experience Sampling Method, which is a research technique that involves collecting data on people's experiences and behaviors in their natural environment at multiple points in time. In this study, participants completed brief surveys (ESM questionnaires) multiple times a day over a period of time to assess their social anxiety and paranoia symptoms. The data collected through ESM were analyzed using a statistical technique called Dynamic Structural Equation Modeling (DSEM) to examine the relationships between these symptoms over time.\n",
      "{'page': 5, 'source': 'data/s41598-023-47912-0.pdf'}\n"
     ]
    }
   ],
   "source": [
    "query = \"What is ESM?\"\n",
    "llm_response = qa_chain(query)\n",
    "process_llm_response(llm_response)"
   ]
  },
  {
   "cell_type": "code",
   "execution_count": 25,
   "metadata": {
    "colab": {
     "base_uri": "https://localhost:8080/"
    },
    "id": "692pHNkFrN5z",
    "outputId": "85124452-c208-4ec4-a35d-be28503ddc42"
   },
   "outputs": [
    {
     "name": "stdout",
     "output_type": "stream",
     "text": [
      " The study presented in the text material, titled \"Dynamics of attachment and emotion regulation in daily life: Uni- and bidirectional associations,\" investigates the dynamics of attachment and emotion regulation in daily life through a multilevel time-series analysis. The study found bidirectional associations between attachment and emotion regulation, with attachment predicting emotion regulation and vice versa. The study also found that attachment and emotion regulation were associated with loneliness and paranoia. The results suggest that attachment and emotion regulation are important factors in understanding mental health and well-being over time. The study highlights the importance of longitudinal and ecological momentary assessment methods in understanding the dynamics of mental health and well-being.\n",
      "{'page': 2, 'source': 'data/s41598-023-47912-0.pdf'}\n"
     ]
    }
   ],
   "source": [
    "query = \"What is the result of this study?\"\n",
    "llm_response = qa_chain(query)\n",
    "process_llm_response(llm_response)"
   ]
  },
  {
   "cell_type": "code",
   "execution_count": 26,
   "metadata": {},
   "outputs": [
    {
     "name": "stdout",
     "output_type": "stream",
     "text": [
      " The limitations of the current study, as discussed in the article, include the relatively small sample size, the use of self-reported measures, and the focus on a specific population (young adults with psychosis). Additionally, the study only assessed loneliness and social anxiety over a short period of time, and further research is needed to examine the long-term effects of these variables on mental health outcomes. The study also did not include a control group, which limits the ability to make causal inferences about the relationships between loneliness, social anxiety, and mental health outcomes. Finally, the study did not assess the potential moderating effects of other variables, such as gender or age, on these relationships.\n",
      "{'page': 2, 'source': 'data/s41598-023-47912-0.pdf'}\n"
     ]
    }
   ],
   "source": [
    "query = \"What is the limitations of the current study?\"\n",
    "llm_response = qa_chain(query)\n",
    "process_llm_response(llm_response)"
   ]
  },
  {
   "cell_type": "code",
   "execution_count": 27,
   "metadata": {},
   "outputs": [
    {
     "name": "stdout",
     "output_type": "stream",
     "text": [
      " The study tests three hypotheses related to the dynamics of social anxiety and paranoia. The first hypothesis is that social anxiety and paranoia are related to each other within individuals over time. The second hypothesis is that social anxiety and paranoia are related to negative self and other schemas, respectively, at the between-person level. The third hypothesis is tested by examining the correlation between the random effects at the between-person level and the levels of negative-self and -other schemas. These hypotheses are represented in a schematic representation of the dynamic structural equation model of social anxiety and paranoia (Model 1) in Figure 1.\n",
      "{'page': 2, 'source': 'data/s41598-023-47912-0.pdf'}\n"
     ]
    }
   ],
   "source": [
    "query = \"What is the hypothesis of the study?\"\n",
    "llm_response = qa_chain(query)\n",
    "process_llm_response(llm_response)"
   ]
  },
  {
   "cell_type": "code",
   "execution_count": 28,
   "metadata": {},
   "outputs": [
    {
     "name": "stdout",
     "output_type": "stream",
     "text": [
      " The study had a final sample size of 200 participants.\n",
      "{'page': 2, 'source': 'data/s41598-023-47912-0.pdf'}\n"
     ]
    }
   ],
   "source": [
    "query = \"What is the final sample size of the study?\"\n",
    "llm_response = qa_chain(query)\n",
    "process_llm_response(llm_response)"
   ]
  },
  {
   "cell_type": "code",
   "execution_count": 29,
   "metadata": {},
   "outputs": [
    {
     "name": "stdout",
     "output_type": "stream",
     "text": [
      " The study did not provide information about the location where it was conducted. Therefore, we do not have enough context to answer this question.\n",
      "{'page': 2, 'source': 'data/s41598-023-47912-0.pdf'}\n"
     ]
    }
   ],
   "source": [
    "query = \"Where did the study take place?\"\n",
    "llm_response = qa_chain(query)\n",
    "process_llm_response(llm_response)"
   ]
  },
  {
   "cell_type": "code",
   "execution_count": 28,
   "metadata": {
    "colab": {
     "base_uri": "https://localhost:8080/"
    },
    "id": "IPIhZWAR5n3X",
    "outputId": "68914c62-f8ed-4e22-d889-7991df441d53"
   },
   "outputs": [
    {
     "data": {
      "text/plain": [
       "('similarity', <langchain.vectorstores.chroma.Chroma at 0x1327da7c0>)"
      ]
     },
     "execution_count": 28,
     "metadata": {},
     "output_type": "execute_result"
    }
   ],
   "source": [
    "qa_chain.retriever.search_type , qa_chain.retriever.vectorstore"
   ]
  },
  {
   "cell_type": "code",
   "execution_count": 29,
   "metadata": {
    "colab": {
     "base_uri": "https://localhost:8080/"
    },
    "id": "3_lp0_796P_-",
    "outputId": "64c01726-6e78-4c12-e409-2fdc839f6611"
   },
   "outputs": [
    {
     "name": "stdout",
     "output_type": "stream",
     "text": [
      "Use the following pieces of context to answer the question at the end. If you don't know the answer, just say that you don't know, don't try to make up an answer.\n",
      "\n",
      "{context}\n",
      "\n",
      "Question: {question}\n",
      "Helpful Answer:\n"
     ]
    }
   ],
   "source": [
    "print(qa_chain.combine_documents_chain.llm_chain.prompt.template)"
   ]
  },
  {
   "cell_type": "markdown",
   "metadata": {
    "id": "7fPl26c-TbWw"
   },
   "source": [
    "### Chat prompts"
   ]
  },
  {
   "cell_type": "code",
   "execution_count": 47,
   "metadata": {
    "colab": {
     "base_uri": "https://localhost:8080/"
    },
    "id": "wwyuhrpu5XqM",
    "outputId": "0f2c8060-4002-49ba-8869-6a9990c2c6d6"
   },
   "outputs": [
    {
     "name": "stdout",
     "output_type": "stream",
     "text": [
      "Use the following pieces of context to answer the user's question. \n",
      "If you don't know the answer, just say that you don't know, don't try to make up an answer.\n",
      "----------------\n",
      "{context}\n"
     ]
    }
   ],
   "source": [
    "print(qa_chain.combine_documents_chain.llm_chain.prompt.messages[0].prompt.template)"
   ]
  },
  {
   "cell_type": "code",
   "execution_count": 48,
   "metadata": {
    "colab": {
     "base_uri": "https://localhost:8080/"
    },
    "id": "LcWXvSCHRvHO",
    "outputId": "d7a3acee-9ef1-4c08-b2a0-187f2cd90c8f"
   },
   "outputs": [
    {
     "name": "stdout",
     "output_type": "stream",
     "text": [
      "{question}\n"
     ]
    }
   ],
   "source": [
    "print(qa_chain.combine_documents_chain.llm_chain.prompt.messages[1].prompt.template)"
   ]
  },
  {
   "cell_type": "code",
   "execution_count": null,
   "metadata": {
    "id": "978QWCeJSRdu"
   },
   "outputs": [],
   "source": []
  }
 ],
 "metadata": {
  "colab": {
   "provenance": []
  },
  "kernelspec": {
   "display_name": "Python 3 (ipykernel)",
   "language": "python",
   "name": "python3"
  },
  "language_info": {
   "codemirror_mode": {
    "name": "ipython",
    "version": 3
   },
   "file_extension": ".py",
   "mimetype": "text/x-python",
   "name": "python",
   "nbconvert_exporter": "python",
   "pygments_lexer": "ipython3",
   "version": "3.11.4"
  }
 },
 "nbformat": 4,
 "nbformat_minor": 4
}
