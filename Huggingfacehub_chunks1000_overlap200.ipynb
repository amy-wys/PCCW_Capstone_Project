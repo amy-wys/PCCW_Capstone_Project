{
 "cells": [
  {
   "cell_type": "code",
   "execution_count": 1,
   "id": "956fe7cd-41ea-4978-bef8-fa749139c982",
   "metadata": {},
   "outputs": [],
   "source": [
    "from langchain.vectorstores import Chroma\n",
    "from langchain.embeddings import OpenAIEmbeddings\n",
    "from langchain.text_splitter import RecursiveCharacterTextSplitter\n",
    "from langchain import HuggingFaceHub\n",
    "from langchain.chains import RetrievalQA\n",
    "from langchain.document_loaders import TextLoader\n",
    "from langchain.document_loaders import PyPDFLoader\n",
    "from langchain.document_loaders import DirectoryLoader\n",
    "import os \n",
    "from dotenv import load_dotenv"
   ]
  },
  {
   "cell_type": "code",
   "execution_count": 2,
   "id": "1e9d9153-2548-46fc-93a0-c3081e0aeced",
   "metadata": {},
   "outputs": [],
   "source": [
    "loader = DirectoryLoader('PDF_file', glob=\"./*.pdf\", loader_cls=PyPDFLoader)\n",
    "documents = loader.load()"
   ]
  },
  {
   "cell_type": "code",
   "execution_count": 3,
   "id": "3d23e69a-8328-45c7-8c6f-1e0a91fad2cd",
   "metadata": {},
   "outputs": [],
   "source": [
    "text_splitter = RecursiveCharacterTextSplitter(chunk_size=1000, chunk_overlap=200)\n",
    "texts = text_splitter.split_documents(documents)"
   ]
  },
  {
   "cell_type": "code",
   "execution_count": 4,
   "id": "f212e7a3-77eb-48ba-87bc-f79eac318c9c",
   "metadata": {},
   "outputs": [
    {
     "data": {
      "text/plain": [
       "69"
      ]
     },
     "execution_count": 4,
     "metadata": {},
     "output_type": "execute_result"
    }
   ],
   "source": [
    "len(texts)"
   ]
  },
  {
   "cell_type": "code",
   "execution_count": 5,
   "id": "41e5a070-0305-4cec-9344-138c4e151c32",
   "metadata": {},
   "outputs": [
    {
     "data": {
      "text/plain": [
       "Document(page_content='both concurrently and  longitudinally6. This suggests that social anxiety may contribute to poorer outcomes in \\nindividuals with psychosis, even when present at subclinical levels.\\nParanoia, the exaggerated belief that intentional harm is done or will be done by  others7, is a common symp-\\ntom of psychosis. Paranoia can manifest in milder forms as ideas of social reference or more severe forms as \\npersecutory delusions 8. Albeit being distinct phenomena, paranoia and social anxiety are both characterized by \\nappraisals of social threat: paranoia concerns imminent and ongoing physical, psychological or social harms by \\n others7, whereas social anxiety reflects worry about rejection, embarrassment and  scrutiny9. Among individuals \\nwith first-episode psychosis, those with comorbid social anxiety disorder reported more persecutory threats than \\nthose without  comorbidity3. Across non-patient and community samples, correlations between subclinical levels', metadata={'source': 'PDF_file\\\\s41598-023-47912-0.pdf', 'page': 0})"
      ]
     },
     "execution_count": 5,
     "metadata": {},
     "output_type": "execute_result"
    }
   ],
   "source": [
    "texts[3]"
   ]
  },
  {
   "cell_type": "code",
   "execution_count": 6,
   "id": "a9db1b93-dc82-4575-b9df-7009b71d7a57",
   "metadata": {},
   "outputs": [
    {
     "name": "stderr",
     "output_type": "stream",
     "text": [
      "C:\\Users\\Amy Wong\\PycharmProjects\\PythonExercise\\venv\\Lib\\site-packages\\tqdm\\auto.py:21: TqdmWarning: IProgress not found. Please update jupyter and ipywidgets. See https://ipywidgets.readthedocs.io/en/stable/user_install.html\n",
      "  from .autonotebook import tqdm as notebook_tqdm\n",
      "C:\\Users\\Amy Wong\\PycharmProjects\\PythonExercise\\venv\\Lib\\site-packages\\huggingface_hub\\utils\\_deprecation.py:127: FutureWarning: '__init__' (from 'huggingface_hub.inference_api') is deprecated and will be removed from version '0.19.0'. `InferenceApi` client is deprecated in favor of the more feature-complete `InferenceClient`. Check out this guide to learn how to convert your script to use it: https://huggingface.co/docs/huggingface_hub/guides/inference#legacy-inferenceapi-client.\n",
      "  warnings.warn(warning_message, FutureWarning)\n"
     ]
    }
   ],
   "source": [
    "_ = load_dotenv()\n",
    "\n",
    "HUGGINGFACEHUB_API_TOKEN = os.environ[\"HUGGINGFACEHUB_API_TOKEN\"]\n",
    "\n",
    "llm=HuggingFaceHub(\n",
    "    repo_id=\"HuggingFaceH4/zephyr-7b-beta\", \n",
    "    model_kwargs={\"temperature\":0.2, \"max_length\":256},\n",
    "    huggingfacehub_api_token=HUGGINGFACEHUB_API_TOKEN\n",
    "    )"
   ]
  },
  {
   "cell_type": "code",
   "execution_count": 7,
   "id": "cf11565f-0f33-4e43-abc9-acfe9c569bf8",
   "metadata": {},
   "outputs": [
    {
     "name": "stdout",
     "output_type": "stream",
     "text": [
      "load INSTRUCTOR_Transformer\n",
      "max_seq_length  512\n"
     ]
    }
   ],
   "source": [
    "from langchain.embeddings import HuggingFaceInstructEmbeddings\n",
    "\n",
    "instructor_embeddings = HuggingFaceInstructEmbeddings(model_name=\"BAAI/bge-base-en-v1.5\",\n",
    "                                                      model_kwargs={\"device\": \"cuda\"})"
   ]
  },
  {
   "cell_type": "code",
   "execution_count": 8,
   "id": "d80b7fa5-641f-4d83-9c68-83fe4c876cf0",
   "metadata": {},
   "outputs": [],
   "source": [
    "persist_directory = 'db_HuggingFace'\n",
    "\n",
    "embedding = instructor_embeddings\n",
    "\n",
    "vectordb = Chroma.from_documents(documents=texts,\n",
    "                                 embedding=embedding,\n",
    "                                 persist_directory=persist_directory)"
   ]
  },
  {
   "cell_type": "code",
   "execution_count": 16,
   "id": "17bb19a2-6e60-4a23-a838-1b24ecfd5879",
   "metadata": {},
   "outputs": [],
   "source": [
    "retriever = vectordb.as_retriever(search_kwargs={\"k\": 2})\n",
    "docs = retriever.get_relevant_documents(\"What is paranoia?\")"
   ]
  },
  {
   "cell_type": "code",
   "execution_count": 10,
   "id": "8e7586fd-9109-46d8-807d-43ae51ed6521",
   "metadata": {},
   "outputs": [
    {
     "data": {
      "text/plain": [
       "2"
      ]
     },
     "execution_count": 10,
     "metadata": {},
     "output_type": "execute_result"
    }
   ],
   "source": [
    "len(docs)"
   ]
  },
  {
   "cell_type": "code",
   "execution_count": null,
   "id": "279a45e1-843e-48b6-b8f8-340e4f582be6",
   "metadata": {},
   "outputs": [],
   "source": [
    "qa_chain = RetrievalQA.from_chain_type(llm=llm,\n",
    "                                  chain_type=\"stuff\",\n",
    "                                  retriever=retriever,\n",
    "                                  return_source_documents=True)"
   ]
  },
  {
   "cell_type": "code",
   "execution_count": 22,
   "id": "2529c970-3b58-4543-b94b-bfe7943edad2",
   "metadata": {},
   "outputs": [],
   "source": [
    "def process_llm_response(llm_response):\n",
    "    print(llm_response['result'])\n",
    "    print(llm_response['source_documents'][0].metadata)"
   ]
  },
  {
   "cell_type": "code",
   "execution_count": 23,
   "id": "4c4c442f-8e9c-4bd0-9e5c-44fe1309fa15",
   "metadata": {},
   "outputs": [
    {
     "name": "stdout",
     "output_type": "stream",
     "text": [
      " Paranoia refers to a set of beliefs or thoughts that are irrational, suspicious, and often unfounded. It can range from mild to severe, and may involve feelings of being watched, followed, or persecuted. Paranoia is often associated with mental health conditions such as schizophrenia, anxiety disorders, and personality disorders. Research has shown that paranoia is related to factors such as social anxiety, shame, and negative beliefs about oneself and others. The study by Humphrey et al. (2021) suggests that paranoia is also associated with negative schema about the self and others. Further research is needed to better understand the causes and treatment of paranoia.\n",
      "{'page': 8, 'source': 'PDF_file\\\\s41598-023-47912-0.pdf'}\n"
     ]
    }
   ],
   "source": [
    "query = \"What is paranoia?\"\n",
    "llm_response = qa_chain(query)\n",
    "process_llm_response(llm_response)"
   ]
  },
  {
   "cell_type": "code",
   "execution_count": null,
   "id": "228f252c-72c9-4bf7-b3ce-0d93f76dadc0",
   "metadata": {},
   "outputs": [],
   "source": [
    "# break it down\n",
    "query = \"How many young adults took part in this?\"\n",
    "llm_response = qa_chain(query)\n",
    "process_llm_response(llm_response)"
   ]
  },
  {
   "cell_type": "code",
   "execution_count": null,
   "id": "55dfd2fe-1958-403c-bb44-6d3562a59bb2",
   "metadata": {},
   "outputs": [],
   "source": [
    "query = \"How do they measure Momentary social anxiety?\"\n",
    "llm_response = qa_chain(query)\n",
    "process_llm_response(llm_response)"
   ]
  },
  {
   "cell_type": "code",
   "execution_count": null,
   "id": "4cfa9c64-7dbf-46ec-8177-ffc9743c17b0",
   "metadata": {},
   "outputs": [],
   "source": [
    "query = \"What is their data collection method?\"\n",
    "llm_response = qa_chain(query)\n",
    "process_llm_response(llm_response)"
   ]
  },
  {
   "cell_type": "code",
   "execution_count": null,
   "id": "d72b4d0f-1981-43eb-9bee-399ef3c98cdf",
   "metadata": {},
   "outputs": [],
   "source": [
    "query = \"What is ESM?\"\n",
    "llm_response = qa_chain(query)\n",
    "process_llm_response(llm_response)"
   ]
  },
  {
   "cell_type": "code",
   "execution_count": null,
   "id": "26f2a13b-2aa6-4756-b218-0236cb6bf3d8",
   "metadata": {},
   "outputs": [],
   "source": [
    "query = \"What is the result of this study?\"\n",
    "llm_response = qa_chain(query)\n",
    "process_llm_response(llm_response)"
   ]
  },
  {
   "cell_type": "code",
   "execution_count": null,
   "id": "cd3f83c1-a5cd-41f5-b067-dba84856ea6d",
   "metadata": {},
   "outputs": [],
   "source": [
    "query = \"What is the limitations of the current study?\"\n",
    "llm_response = qa_chain(query)\n",
    "process_llm_response(llm_response)"
   ]
  },
  {
   "cell_type": "code",
   "execution_count": null,
   "id": "6a80a1db-d155-483a-8eef-eb8a4e2b72f4",
   "metadata": {},
   "outputs": [],
   "source": [
    "query = \"What is the hypothesis of the study?\"\n",
    "llm_response = qa_chain(query)\n",
    "process_llm_response(llm_response)"
   ]
  },
  {
   "cell_type": "code",
   "execution_count": null,
   "id": "32d8beb0-c682-442f-9386-515b0d807582",
   "metadata": {},
   "outputs": [],
   "source": [
    "query = \"What is the final sample size of the study?\"\n",
    "llm_response = qa_chain(query)\n",
    "process_llm_response(llm_response)"
   ]
  },
  {
   "cell_type": "code",
   "execution_count": null,
   "id": "7cc8ddf1-d182-4138-b3e3-98a74e7ed5f1",
   "metadata": {},
   "outputs": [],
   "source": [
    "query = \"Where did the study take place?\"\n",
    "llm_response = qa_chain(query)\n",
    "process_llm_response(llm_response)"
   ]
  },
  {
   "cell_type": "code",
   "execution_count": null,
   "id": "60f45e42-ef80-485e-a58b-cf8f8642cfa1",
   "metadata": {},
   "outputs": [],
   "source": [
    "qa_chain.retriever.search_type , qa_chain.retriever.vectorstore"
   ]
  },
  {
   "cell_type": "code",
   "execution_count": null,
   "id": "c8d841e2-9f2f-49da-b18f-713536159831",
   "metadata": {},
   "outputs": [],
   "source": [
    "print(qa_chain.combine_documents_chain.llm_chain.prompt.template)"
   ]
  },
  {
   "cell_type": "code",
   "execution_count": null,
   "id": "caf0c443-29b4-4b7c-b320-cf3ff380437e",
   "metadata": {},
   "outputs": [],
   "source": [
    "print(qa_chain.combine_documents_chain.llm_chain.prompt.messages[0].prompt.template)"
   ]
  },
  {
   "cell_type": "code",
   "execution_count": null,
   "id": "d5eab0ef-28f5-4248-a076-32b55020f56d",
   "metadata": {},
   "outputs": [],
   "source": [
    "print(qa_chain.combine_documents_chain.llm_chain.prompt.messages[1].prompt.template)"
   ]
  },
  {
   "cell_type": "code",
   "execution_count": null,
   "id": "7b4f2265-db86-48e3-8e4e-f44aacab0dcd",
   "metadata": {},
   "outputs": [],
   "source": []
  }
 ],
 "metadata": {
  "kernelspec": {
   "display_name": "Python 3 (ipykernel)",
   "language": "python",
   "name": "python3"
  },
  "language_info": {
   "codemirror_mode": {
    "name": "ipython",
    "version": 3
   },
   "file_extension": ".py",
   "mimetype": "text/x-python",
   "name": "python",
   "nbconvert_exporter": "python",
   "pygments_lexer": "ipython3",
   "version": "3.11.4"
  }
 },
 "nbformat": 4,
 "nbformat_minor": 5
}
