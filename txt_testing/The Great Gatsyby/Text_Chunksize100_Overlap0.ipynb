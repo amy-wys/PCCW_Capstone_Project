{
 "cells": [
  {
   "cell_type": "code",
   "execution_count": 13,
   "id": "956fe7cd-41ea-4978-bef8-fa749139c982",
   "metadata": {},
   "outputs": [],
   "source": [
    "from langchain.vectorstores import Chroma\n",
    "from langchain.embeddings import OpenAIEmbeddings\n",
    "from langchain.text_splitter import RecursiveCharacterTextSplitter\n",
    "from langchain import HuggingFaceHub\n",
    "from langchain.chains import RetrievalQA\n",
    "from langchain.document_loaders import TextLoader\n",
    "import os \n",
    "from dotenv import load_dotenv\n",
    "from time import time\n",
    "import warnings\n",
    "warnings.filterwarnings('ignore')"
   ]
  },
  {
   "cell_type": "code",
   "execution_count": 15,
   "id": "1e9d9153-2548-46fc-93a0-c3081e0aeced",
   "metadata": {},
   "outputs": [],
   "source": [
    "loader = TextLoader('The Great Gatsyby.txt')\n",
    "documents = loader.load()"
   ]
  },
  {
   "cell_type": "code",
   "execution_count": 16,
   "id": "3d23e69a-8328-45c7-8c6f-1e0a91fad2cd",
   "metadata": {},
   "outputs": [],
   "source": [
    "text_splitter = RecursiveCharacterTextSplitter(chunk_size=100, chunk_overlap=0)\n",
    "texts = text_splitter.split_documents(documents)"
   ]
  },
  {
   "cell_type": "code",
   "execution_count": 17,
   "id": "f212e7a3-77eb-48ba-87bc-f79eac318c9c",
   "metadata": {},
   "outputs": [
    {
     "data": {
      "text/plain": [
       "3971"
      ]
     },
     "execution_count": 17,
     "metadata": {},
     "output_type": "execute_result"
    }
   ],
   "source": [
    "len(texts)"
   ]
  },
  {
   "cell_type": "code",
   "execution_count": 19,
   "id": "41e5a070-0305-4cec-9344-138c4e151c32",
   "metadata": {},
   "outputs": [
    {
     "data": {
      "text/plain": [
       "Document(page_content='This eBook is made available at no cost and with almost no restrictions', metadata={'source': 'The Great Gatsyby.txt'})"
      ]
     },
     "execution_count": 19,
     "metadata": {},
     "output_type": "execute_result"
    }
   ],
   "source": [
    "texts[10]"
   ]
  },
  {
   "cell_type": "code",
   "execution_count": 20,
   "id": "a9db1b93-dc82-4575-b9df-7009b71d7a57",
   "metadata": {},
   "outputs": [],
   "source": [
    "_ = load_dotenv()\n",
    "\n",
    "HUGGINGFACEHUB_API_TOKEN = os.environ[\"HUGGINGFACEHUB_API_TOKEN\"]\n",
    "\n",
    "llm=HuggingFaceHub(\n",
    "    repo_id=\"HuggingFaceH4/zephyr-7b-beta\", \n",
    "    model_kwargs={\"temperature\":0.2, \"max_length\":256},\n",
    "    huggingfacehub_api_token=HUGGINGFACEHUB_API_TOKEN\n",
    "    )"
   ]
  },
  {
   "cell_type": "code",
   "execution_count": 21,
   "id": "cf11565f-0f33-4e43-abc9-acfe9c569bf8",
   "metadata": {},
   "outputs": [
    {
     "name": "stdout",
     "output_type": "stream",
     "text": [
      "load INSTRUCTOR_Transformer\n",
      "max_seq_length  512\n"
     ]
    }
   ],
   "source": [
    "from langchain.embeddings import HuggingFaceInstructEmbeddings\n",
    "\n",
    "instructor_embeddings = HuggingFaceInstructEmbeddings(model_name=\"BAAI/bge-base-en-v1.5\",\n",
    "                                                      model_kwargs={\"device\": \"cuda\"})"
   ]
  },
  {
   "cell_type": "code",
   "execution_count": 22,
   "id": "d80b7fa5-641f-4d83-9c68-83fe4c876cf0",
   "metadata": {},
   "outputs": [
    {
     "name": "stdout",
     "output_type": "stream",
     "text": [
      "CPU times: total: 9.28 s\n",
      "Wall time: 16 s\n"
     ]
    }
   ],
   "source": [
    "%%time\n",
    "persist_directory = 'db_HuggingFace'\n",
    "\n",
    "embedding = instructor_embeddings\n",
    "\n",
    "vectordb = Chroma.from_documents(documents=texts,\n",
    "                                 embedding=embedding,\n",
    "                                 persist_directory=persist_directory)"
   ]
  },
  {
   "cell_type": "code",
   "execution_count": 23,
   "id": "17bb19a2-6e60-4a23-a838-1b24ecfd5879",
   "metadata": {},
   "outputs": [],
   "source": [
    "retriever = vectordb.as_retriever(search_kwargs={\"k\": 2})\n",
    "docs = retriever.get_relevant_documents(\"The story of The Great Gatsyby\")"
   ]
  },
  {
   "cell_type": "code",
   "execution_count": 25,
   "id": "8e7586fd-9109-46d8-807d-43ae51ed6521",
   "metadata": {},
   "outputs": [
    {
     "data": {
      "text/plain": [
       "2"
      ]
     },
     "execution_count": 25,
     "metadata": {},
     "output_type": "execute_result"
    }
   ],
   "source": [
    "len(docs)"
   ]
  },
  {
   "cell_type": "code",
   "execution_count": 26,
   "id": "279a45e1-843e-48b6-b8f8-340e4f582be6",
   "metadata": {},
   "outputs": [],
   "source": [
    "qa_chain = RetrievalQA.from_chain_type(llm=llm,\n",
    "                                  chain_type=\"stuff\",\n",
    "                                  retriever=retriever,\n",
    "                                  return_source_documents=True)"
   ]
  },
  {
   "cell_type": "code",
   "execution_count": 27,
   "id": "2529c970-3b58-4543-b94b-bfe7943edad2",
   "metadata": {},
   "outputs": [],
   "source": [
    "def process_llm_response(qa_chain, query):\n",
    "    print(f\"Query: {query}\\n\")\n",
    "    time_1 = time()\n",
    "    llm_response = qa_chain(query)\n",
    "    time_2 = time()\n",
    "    print(f\"Inference time: {round(time_2-time_1, 3)} sec.\")\n",
    "    print(f\"\\nResult:\", llm_response['result'])\n",
    "    print(f\"\\nmetadata:\", llm_response['source_documents'][0].metadata)"
   ]
  },
  {
   "cell_type": "code",
   "execution_count": 28,
   "id": "4c4c442f-8e9c-4bd0-9e5c-44fe1309fa15",
   "metadata": {},
   "outputs": [
    {
     "name": "stdout",
     "output_type": "stream",
     "text": [
      "Query: Who is Gatsyby?\n",
      "\n",
      "Inference time: 3.959 sec.\n",
      "\n",
      "Result:  Based on the given context, it is not explicitly stated who Gatsby is, but it seems that the person being asked wants to meet or speak with Gatsby about something important. Without further context, it is unclear who Gatsby is or what his role is in the conversation.\n",
      "\n",
      "metadata: {'source': 'The Great Gatsyby.txt'}\n"
     ]
    }
   ],
   "source": [
    "query = \"Who is Gatsyby?\"\n",
    "process_llm_response(qa_chain, query)"
   ]
  },
  {
   "cell_type": "code",
   "execution_count": 30,
   "id": "228f252c-72c9-4bf7-b3ce-0d93f76dadc0",
   "metadata": {},
   "outputs": [
    {
     "name": "stdout",
     "output_type": "stream",
     "text": [
      "Query: What is the ending of the Great Gatsyby?\n",
      "\n",
      "Inference time: 0.552 sec.\n",
      "\n",
      "Result:  In the final scene of the novel, Nick Carraway, the narrator, watches as Gatsby's body is taken away in a hearse. Gatsby's dream of recapturing the past and his love for Daisy have come to an end, and he has been killed in a violent confrontation. Nick reflects on the meaning of Gatsby's life and the illusions that have consumed the characters in the novel. The novel ends with Nick's decision to leave the East Egg and the world of the wealthy elite, symbolizing his rejection of the superficial values and corruption that he has witnessed.\n",
      "\n",
      "metadata: {'source': 'The Great Gatsyby.txt'}\n"
     ]
    }
   ],
   "source": [
    "query = \"What is the ending of the Great Gatsyby?\"\n",
    "process_llm_response(qa_chain, query)"
   ]
  },
  {
   "cell_type": "code",
   "execution_count": 31,
   "id": "55dfd2fe-1958-403c-bb44-6d3562a59bb2",
   "metadata": {},
   "outputs": [
    {
     "name": "stdout",
     "output_type": "stream",
     "text": [
      "Query: What is the main story of the Great Gatsyby?\n",
      "\n",
      "Inference time: 5.55 sec.\n",
      "\n",
      "Result:  The Great Gatsby is a novel by F. Scott Fitzgerald that tells the story of Jay Gatsby, a wealthy and mysterious man who throws extravagant parties in the hopes of rekindling a past romance with Daisy Buchanan, a married woman. The story is set in the 1920s and explores themes of wealth, social class, and the American Dream.\n",
      "\n",
      "metadata: {'source': 'The Great Gatsyby.txt'}\n"
     ]
    }
   ],
   "source": [
    "query = \"What is the main story of the Great Gatsyby?\"\n",
    "process_llm_response(qa_chain, query)"
   ]
  },
  {
   "cell_type": "code",
   "execution_count": 32,
   "id": "4cfa9c64-7dbf-46ec-8177-ffc9743c17b0",
   "metadata": {},
   "outputs": [
    {
     "name": "stdout",
     "output_type": "stream",
     "text": [
      "Query: How many characters in The Great Gastsyby?\n",
      "\n",
      "Inference time: 5.57 sec.\n",
      "\n",
      "Result:  The novel The Great Gatsby, written by F. Scott Fitzgerald, features a cast of several main characters, including Jay Gatsby, Nick Carraway, Daisy Buchanan, Tom Buchanan, and Myrtle Wilson. There are also supporting characters such as George Wilson, Catherine the maid, and Owl Eyes. Overall, the novel has a diverse and complex group of characters that contribute to its themes and plot.\n",
      "\n",
      "metadata: {'source': 'The Great Gatsyby.txt'}\n"
     ]
    }
   ],
   "source": [
    "query = \"How many characters in The Great Gastsyby?\"\n",
    "process_llm_response(qa_chain, query)"
   ]
  },
  {
   "cell_type": "code",
   "execution_count": 33,
   "id": "d72b4d0f-1981-43eb-9bee-399ef3c98cdf",
   "metadata": {},
   "outputs": [
    {
     "name": "stdout",
     "output_type": "stream",
     "text": [
      "Query: What is the relationship between Nick Carraway and Jordan Baker?\n",
      "\n",
      "Inference time: 3.47 sec.\n",
      "\n",
      "Result:  Based on the context provided, it is unclear what the exact nature of the relationship between Nick Carraway and Jordan Baker is. All we know is that they came out together and were sitting at a table with a man. Without further context, it is impossible to determine whether they are friends, acquaintances, or something more.\n",
      "\n",
      "metadata: {'source': 'The Great Gatsyby.txt'}\n"
     ]
    }
   ],
   "source": [
    "query = \"What is the relationship between Nick Carraway and Jordan Baker?\"\n",
    "process_llm_response(qa_chain, query)"
   ]
  },
  {
   "cell_type": "code",
   "execution_count": 34,
   "id": "26f2a13b-2aa6-4756-b218-0236cb6bf3d8",
   "metadata": {},
   "outputs": [
    {
     "name": "stdout",
     "output_type": "stream",
     "text": [
      "Query: What is the relationship between Nick Carraway and Gatsyby?\n",
      "\n",
      "Inference time: 3.19 sec.\n",
      "\n",
      "Result:  Nick Carraway is the narrator of the novel and he becomes friends with Gatsby. Their relationship starts out as acquaintances, but as Nick learns more about Gatsby's past and present, their friendship grows stronger. However, as the story unfolds, the true nature of their relationship becomes more complicated.\n",
      "\n",
      "metadata: {'source': 'The Great Gatsyby.txt'}\n"
     ]
    }
   ],
   "source": [
    "query = \"What is the relationship between Nick Carraway and Gatsyby?\"\n",
    "process_llm_response(qa_chain, query)"
   ]
  },
  {
   "cell_type": "code",
   "execution_count": 36,
   "id": "cd3f83c1-a5cd-41f5-b067-dba84856ea6d",
   "metadata": {},
   "outputs": [
    {
     "name": "stdout",
     "output_type": "stream",
     "text": [
      "Query: What is the relationship between Nick and Daisy Buchanan?\n",
      "\n",
      "Inference time: 3.409 sec.\n",
      "\n",
      "Result:  Nick refers to Daisy as his second cousin once removed, indicating that they are related but not very closely. He also mentions that Daisy invited Tom, whom she knew before Nick and Daisy were married, further suggesting that Nick and Daisy have a familial relationship. However, the exact nature of their relationship beyond being second cousins is not explicitly stated in these pieces of context.\n",
      "\n",
      "metadata: {'source': 'The Great Gatsyby.txt'}\n"
     ]
    }
   ],
   "source": [
    "query = \"What is the relationship between Nick and Daisy Buchanan?\"\n",
    "process_llm_response(qa_chain, query)"
   ]
  },
  {
   "cell_type": "code",
   "execution_count": 37,
   "id": "6a80a1db-d155-483a-8eef-eb8a4e2b72f4",
   "metadata": {},
   "outputs": [
    {
     "name": "stdout",
     "output_type": "stream",
     "text": [
      "Query: How does Nick meet Gatsyby?\n",
      "\n",
      "Inference time: 2.524 sec.\n",
      "\n",
      "Result:  Nick meets Gatsby through his friend, Jordan Baker, who mentions him in conversation. Later, Nick receives an invitation from Gatsby to attend one of his extravagant parties. It is at this party that Nick and Gatsby first meet in person.\n",
      "\n",
      "metadata: {'source': 'The Great Gatsyby.txt'}\n"
     ]
    }
   ],
   "source": [
    "query = \"How does Nick meet Gatsyby?\"\n",
    "process_llm_response(qa_chain, query)"
   ]
  },
  {
   "cell_type": "code",
   "execution_count": 39,
   "id": "32d8beb0-c682-442f-9386-515b0d807582",
   "metadata": {},
   "outputs": [
    {
     "name": "stdout",
     "output_type": "stream",
     "text": [
      "Query: What does Gatsyby pursue in his life?\n",
      "\n",
      "Inference time: 5.249 sec.\n",
      "\n",
      "Result:  Based on the context provided, it is unclear what Gatsby pursues in his life. The first statement seems to suggest that the speaker wants information from Gatsby, but it does not provide any insight into what Gatsby's life is focused on. The second statement is ambiguous and could mean that Gatsby's name is associated with something in the speaker's office, but again, it does not provide any information about Gatsby's pursuits. Without further context, it is impossible to determine what Gatsby is pursuing in his life.\n",
      "\n",
      "metadata: {'source': 'The Great Gatsyby.txt'}\n"
     ]
    }
   ],
   "source": [
    "query = \"Describe ?\"\n",
    "process_llm_response(qa_chain, query)"
   ]
  },
  {
   "cell_type": "code",
   "execution_count": 22,
   "id": "7cc8ddf1-d182-4138-b3e3-98a74e7ed5f1",
   "metadata": {},
   "outputs": [
    {
     "name": "stdout",
     "output_type": "stream",
     "text": [
      "Query: Where did the study take place?\n",
      "\n",
      "Inference time: 0.461 sec.\n",
      "\n",
      "Result:  The study was supported by the Seed Funding Support for Thesis Research 2019–20, Faculty of Social Sciences, which suggests that the study may have taken place in a university or academic setting associated with the Faculty of Social Sciences. However, without further information, it is unclear where the study actually took place.\n",
      "\n",
      "metadata: {'page': 9, 'source': 'PDF_file\\\\s41598-023-47912-0.pdf'}\n"
     ]
    }
   ],
   "source": [
    "query = \"Where did the study take place?\"\n",
    "process_llm_response(qa_chain, query)"
   ]
  },
  {
   "cell_type": "code",
   "execution_count": 23,
   "id": "60f45e42-ef80-485e-a58b-cf8f8642cfa1",
   "metadata": {},
   "outputs": [
    {
     "data": {
      "text/plain": [
       "('similarity', <langchain.vectorstores.chroma.Chroma at 0x19e73984110>)"
      ]
     },
     "execution_count": 23,
     "metadata": {},
     "output_type": "execute_result"
    }
   ],
   "source": [
    "qa_chain.retriever.search_type , qa_chain.retriever.vectorstore"
   ]
  },
  {
   "cell_type": "code",
   "execution_count": 24,
   "id": "c8d841e2-9f2f-49da-b18f-713536159831",
   "metadata": {},
   "outputs": [
    {
     "name": "stdout",
     "output_type": "stream",
     "text": [
      "Use the following pieces of context to answer the question at the end. If you don't know the answer, just say that you don't know, don't try to make up an answer.\n",
      "\n",
      "{context}\n",
      "\n",
      "Question: {question}\n",
      "Helpful Answer:\n"
     ]
    }
   ],
   "source": [
    "print(qa_chain.combine_documents_chain.llm_chain.prompt.template)"
   ]
  },
  {
   "cell_type": "code",
   "execution_count": null,
   "id": "7b4f2265-db86-48e3-8e4e-f44aacab0dcd",
   "metadata": {},
   "outputs": [],
   "source": []
  }
 ],
 "metadata": {
  "kernelspec": {
   "display_name": "Python 3 (ipykernel)",
   "language": "python",
   "name": "python3"
  },
  "language_info": {
   "codemirror_mode": {
    "name": "ipython",
    "version": 3
   },
   "file_extension": ".py",
   "mimetype": "text/x-python",
   "name": "python",
   "nbconvert_exporter": "python",
   "pygments_lexer": "ipython3",
   "version": "3.11.4"
  }
 },
 "nbformat": 4,
 "nbformat_minor": 5
}
