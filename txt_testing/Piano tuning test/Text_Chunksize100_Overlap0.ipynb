{
 "cells": [
  {
   "cell_type": "code",
   "execution_count": 1,
   "id": "956fe7cd-41ea-4978-bef8-fa749139c982",
   "metadata": {},
   "outputs": [],
   "source": [
    "from langchain.vectorstores import Chroma\n",
    "from langchain.embeddings import OpenAIEmbeddings\n",
    "from langchain.text_splitter import RecursiveCharacterTextSplitter\n",
    "from langchain import HuggingFaceHub\n",
    "from langchain.chains import RetrievalQA\n",
    "from langchain.document_loaders import TextLoader\n",
    "import os \n",
    "from dotenv import load_dotenv\n",
    "from time import time\n",
    "import warnings\n",
    "warnings.filterwarnings('ignore')"
   ]
  },
  {
   "cell_type": "code",
   "execution_count": 2,
   "id": "1e9d9153-2548-46fc-93a0-c3081e0aeced",
   "metadata": {},
   "outputs": [],
   "source": [
    "loader = TextLoader('Piano Tuning.txt', encoding='utf-8')\n",
    "documents = loader.load()"
   ]
  },
  {
   "cell_type": "code",
   "execution_count": 3,
   "id": "3d23e69a-8328-45c7-8c6f-1e0a91fad2cd",
   "metadata": {},
   "outputs": [],
   "source": [
    "text_splitter = RecursiveCharacterTextSplitter(chunk_size=100, chunk_overlap=0)\n",
    "texts = text_splitter.split_documents(documents)"
   ]
  },
  {
   "cell_type": "code",
   "execution_count": 4,
   "id": "f212e7a3-77eb-48ba-87bc-f79eac318c9c",
   "metadata": {},
   "outputs": [
    {
     "data": {
      "text/plain": [
       "3570"
      ]
     },
     "execution_count": 4,
     "metadata": {},
     "output_type": "execute_result"
    }
   ],
   "source": [
    "len(texts)"
   ]
  },
  {
   "cell_type": "code",
   "execution_count": 5,
   "id": "41e5a070-0305-4cec-9344-138c4e151c32",
   "metadata": {},
   "outputs": [
    {
     "data": {
      "text/plain": [
       "Document(page_content='***', metadata={'source': 'Piano Tuning.txt'})"
      ]
     },
     "execution_count": 5,
     "metadata": {},
     "output_type": "execute_result"
    }
   ],
   "source": [
    "texts[10]"
   ]
  },
  {
   "cell_type": "code",
   "execution_count": 6,
   "id": "a9db1b93-dc82-4575-b9df-7009b71d7a57",
   "metadata": {},
   "outputs": [],
   "source": [
    "_ = load_dotenv()\n",
    "\n",
    "HUGGINGFACEHUB_API_TOKEN = os.environ[\"HUGGINGFACEHUB_API_TOKEN\"]\n",
    "\n",
    "llm=HuggingFaceHub(\n",
    "    repo_id=\"HuggingFaceH4/zephyr-7b-beta\", \n",
    "    model_kwargs={\"temperature\":0.2, \"max_length\":256},\n",
    "    huggingfacehub_api_token=HUGGINGFACEHUB_API_TOKEN\n",
    "    )"
   ]
  },
  {
   "cell_type": "code",
   "execution_count": 7,
   "id": "cf11565f-0f33-4e43-abc9-acfe9c569bf8",
   "metadata": {},
   "outputs": [
    {
     "name": "stdout",
     "output_type": "stream",
     "text": [
      "load INSTRUCTOR_Transformer\n",
      "max_seq_length  512\n"
     ]
    }
   ],
   "source": [
    "from langchain.embeddings import HuggingFaceInstructEmbeddings\n",
    "\n",
    "instructor_embeddings = HuggingFaceInstructEmbeddings(model_name=\"BAAI/bge-base-en-v1.5\",\n",
    "                                                      model_kwargs={\"device\": \"cuda\"})"
   ]
  },
  {
   "cell_type": "code",
   "execution_count": 8,
   "id": "d80b7fa5-641f-4d83-9c68-83fe4c876cf0",
   "metadata": {},
   "outputs": [
    {
     "name": "stdout",
     "output_type": "stream",
     "text": [
      "CPU times: total: 9.55 s\n",
      "Wall time: 15.6 s\n"
     ]
    }
   ],
   "source": [
    "%%time\n",
    "persist_directory = 'db_HuggingFace'\n",
    "\n",
    "embedding = instructor_embeddings\n",
    "\n",
    "vectordb = Chroma.from_documents(documents=texts,\n",
    "                                 embedding=embedding,\n",
    "                                 persist_directory=persist_directory)"
   ]
  },
  {
   "cell_type": "code",
   "execution_count": 9,
   "id": "17bb19a2-6e60-4a23-a838-1b24ecfd5879",
   "metadata": {},
   "outputs": [],
   "source": [
    "retriever = vectordb.as_retriever(search_kwargs={\"k\": 2})\n",
    "docs = retriever.get_relevant_documents(\"Piano Tuning.txt')\")"
   ]
  },
  {
   "cell_type": "code",
   "execution_count": 10,
   "id": "8e7586fd-9109-46d8-807d-43ae51ed6521",
   "metadata": {},
   "outputs": [
    {
     "data": {
      "text/plain": [
       "2"
      ]
     },
     "execution_count": 10,
     "metadata": {},
     "output_type": "execute_result"
    }
   ],
   "source": [
    "len(docs)"
   ]
  },
  {
   "cell_type": "code",
   "execution_count": 11,
   "id": "279a45e1-843e-48b6-b8f8-340e4f582be6",
   "metadata": {},
   "outputs": [],
   "source": [
    "qa_chain = RetrievalQA.from_chain_type(llm=llm,\n",
    "                                  chain_type=\"stuff\",\n",
    "                                  retriever=retriever,\n",
    "                                  return_source_documents=True)"
   ]
  },
  {
   "cell_type": "code",
   "execution_count": 12,
   "id": "2529c970-3b58-4543-b94b-bfe7943edad2",
   "metadata": {},
   "outputs": [],
   "source": [
    "def process_llm_response(qa_chain, query):\n",
    "    print(f\"Query: {query}\\n\")\n",
    "    time_1 = time()\n",
    "    llm_response = qa_chain(query)\n",
    "    time_2 = time()\n",
    "    print(f\"Inference time: {round(time_2-time_1, 3)} sec.\")\n",
    "    print(f\"\\nResult:\", llm_response['result'])\n",
    "    print(f\"\\nmetadata:\", llm_response['source_documents'][0].metadata)"
   ]
  },
  {
   "cell_type": "code",
   "execution_count": 13,
   "id": "4c4c442f-8e9c-4bd0-9e5c-44fe1309fa15",
   "metadata": {},
   "outputs": [
    {
     "name": "stdout",
     "output_type": "stream",
     "text": [
      "Query: What is the steps of piano tunning?\n",
      "\n",
      "Inference time: 5.258 sec.\n",
      "\n",
      "Result:  The steps of piano tuning involve several processes, including preparing the piano, checking the tuning stability, adjusting the pitch, and fine-tuning the strings. The tuner uses a tuning hammer to gently tap the strings and listen for the correct pitch, making small adjustments as needed. The process can take several hours for a large piano, and it requires a skilled and experienced tuner.\n",
      "\n",
      "metadata: {'source': 'Piano Tuning.txt'}\n"
     ]
    }
   ],
   "source": [
    "query = \"What is the steps of piano tunning?\"\n",
    "process_llm_response(qa_chain, query)"
   ]
  },
  {
   "cell_type": "code",
   "execution_count": 14,
   "id": "228f252c-72c9-4bf7-b3ce-0d93f76dadc0",
   "metadata": {},
   "outputs": [
    {
     "name": "stdout",
     "output_type": "stream",
     "text": [
      "Query: What is the general construction of the piano?\n",
      "\n",
      "Inference time: 5.069 sec.\n",
      "\n",
      "Result:  The piano is a musical instrument that consists of a wooden frame, strings, hammers, keys, and pedals. The strings are stretched across the frame and are struck by the hammers when the keys are pressed. The sound produced by the strings is amplified by a soundboard, which is also part of the frame. The pedals allow the player to sustain or dampen the sound of the notes. The overall design of the piano has evolved over time, with improvements in materials and technology leading to more refined and sophisticated instruments.\n",
      "\n",
      "metadata: {'source': 'Piano Tuning.txt'}\n"
     ]
    }
   ],
   "source": [
    "query = \"What is the general construction of the piano?\"\n",
    "process_llm_response(qa_chain, query)"
   ]
  },
  {
   "cell_type": "code",
   "execution_count": 15,
   "id": "55dfd2fe-1958-403c-bb44-6d3562a59bb2",
   "metadata": {},
   "outputs": [
    {
     "name": "stdout",
     "output_type": "stream",
     "text": [
      "Query: Name all the defects to which the key is subject\n",
      "\n",
      "Inference time: 3.435 sec.\n",
      "\n",
      "Result:  Some possible defects that the key could be subject to include incompleteness, inaccuracy, and potentially others listed in the contract or agreement. Without further context, it's impossible to say for certain what other defects might be specified, so it's best to simply list the ones provided.\n",
      "\n",
      "metadata: {'source': 'Piano Tuning.txt'}\n"
     ]
    }
   ],
   "source": [
    "query = \"Name all the defects to which the key is subject\"\n",
    "process_llm_response(qa_chain, query)\n",
    "#wrong metadata"
   ]
  },
  {
   "cell_type": "code",
   "execution_count": 16,
   "id": "4cfa9c64-7dbf-46ec-8177-ffc9743c17b0",
   "metadata": {},
   "outputs": [
    {
     "name": "stdout",
     "output_type": "stream",
     "text": [
      "Query: Give 1 Technical Names and Uses of the Parts of the Upright Action? \n",
      "\n",
      "Inference time: 3.856 sec.\n",
      "\n",
      "Result:  The hammer is a component of the action in a piano that strikes the strings when a key is pressed. Its technical name is the \"hammer.\" The hammer is made of felt and is attached to a wooden frame called the \"shank.\" When a key is pressed, the hammer is propelled towards the strings by a spring-loaded mechanism called the \"jack.\" The hammer strikes the strings, causing them to vibrate and produce sound.\n",
      "\n",
      "metadata: {'source': 'Piano Tuning.txt'}\n"
     ]
    }
   ],
   "source": [
    "query = \"Give 1 Technical Names and Uses of the Parts of the Upright Action? \"\n",
    "process_llm_response(qa_chain, query)"
   ]
  },
  {
   "cell_type": "code",
   "execution_count": 17,
   "id": "d72b4d0f-1981-43eb-9bee-399ef3c98cdf",
   "metadata": {},
   "outputs": [
    {
     "name": "stdout",
     "output_type": "stream",
     "text": [
      "Query: How to repair faults in a piano aside from the action?\n",
      "\n",
      "Inference time: 0.328 sec.\n",
      "\n",
      "Result:  Some common faults in pianos that are not related to the action (the mechanism that causes the keys to move) include:\n",
      "\n",
      "1. Loose or missing keys: If a key is loose or missing, it can be replaced or repaired by a piano technician. The technician will remove the old key and replace it with a new one that matches the color and texture of the surrounding keys.\n",
      "\n",
      "2. Cracked or warped soundboard: The soundboard is the large wooden board that vibrates when the strings are struck. If it becomes cracked or warped, it can affect the tone and volume of the piano. A technician can repair or replace the soundboard to restore the piano's sound.\n",
      "\n",
      "3. Damaged or missing strings: If a string breaks, it can be replaced by a technician. If multiple strings are broken, it may be a sign of a more serious issue, such as a weak or damaged tuning pin block.\n",
      "\n",
      "4. Damaged or missing tuning pins: The tuning pins are the small wooden pegs that hold the strings in place. If a pin is damaged or missing, it can affect the tuning stability of the piano. A technician can replace or repair the tuning pins to restore the piano's tuning stability.\n",
      "\n",
      "5. Damaged or missing pedals: If a pedal is damaged or missing, it can affect the piano's functionality. A technician can replace or repair the pedal to restore the piano's functionality.\n",
      "\n",
      "Overall, it's important to have a qualified piano technician regularly inspect and maintain your piano to prevent and address any issues before they become major problems.\n",
      "\n",
      "metadata: {'source': 'Piano Tuning.txt'}\n"
     ]
    }
   ],
   "source": [
    "query = \"How to repair faults in a piano aside from the action?\"\n",
    "process_llm_response(qa_chain, query)"
   ]
  },
  {
   "cell_type": "code",
   "execution_count": 18,
   "id": "26f2a13b-2aa6-4756-b218-0236cb6bf3d8",
   "metadata": {},
   "outputs": [
    {
     "name": "stdout",
     "output_type": "stream",
     "text": [
      "Query: 1 example of Technique or Modus Operandi in Piano Tuning\n",
      "\n",
      "Inference time: 6.148 sec.\n",
      "\n",
      "Result:  In piano tuning, one example of technique or modus operandi is the use of a tuning hammer to gently tap on the strings to determine their pitch and adjust them to the correct frequency. This technique involves striking the string with the hammer at a specific angle and force to produce a clear and accurate tone. The tuner also listens carefully to the sound of the string and makes small adjustments to the tension of the string to bring it into harmony with the other notes in the piano. This process is repeated for each note on the keyboard, ensuring that the entire piano is in tune and producing a rich and harmonious sound.\n",
      "\n",
      "metadata: {'source': 'Piano Tuning.txt'}\n"
     ]
    }
   ],
   "source": [
    "query = \"1 example of Technique or Modus Operandi in Piano Tuning\"\n",
    "process_llm_response(qa_chain, query)"
   ]
  },
  {
   "cell_type": "code",
   "execution_count": 19,
   "id": "cd3f83c1-a5cd-41f5-b067-dba84856ea6d",
   "metadata": {},
   "outputs": [
    {
     "name": "stdout",
     "output_type": "stream",
     "text": [
      "Query: How to clean the piano?\n",
      "\n",
      "Inference time: 4.716 sec.\n",
      "\n",
      "Result:  To clean a piano, you can use a soft-bristled brush to remove any loose dust from the keys, followed by a slightly damp cloth to gently wipe away any remaining dirt or grime. Be sure to avoid getting water on the wooden parts of the piano, as this can cause damage over time. It's also a good idea to have a professional piano technician perform regular maintenance and tuning to keep the instrument in top condition.\n",
      "\n",
      "metadata: {'source': 'The Great Gatsyby.txt'}\n"
     ]
    }
   ],
   "source": [
    "query = \"How to clean the piano?\"\n",
    "process_llm_response(qa_chain, query)\n",
    "#wrong metadata"
   ]
  },
  {
   "cell_type": "code",
   "execution_count": 20,
   "id": "6a80a1db-d155-483a-8eef-eb8a4e2b72f4",
   "metadata": {},
   "outputs": [
    {
     "name": "stdout",
     "output_type": "stream",
     "text": [
      "Query: How to fix if there is a leak is found in the air boards?\n",
      "\n",
      "Inference time: 3.219 sec.\n",
      "\n",
      "Result:  If a leak is found in the air boards, such as a crack or split, it can be stopped permanently by gluing a piece of bellows cloth or any good quality adhesive tape over the affected area. This will prevent air from escaping and ensure proper functioning of the air boards.\n",
      "\n",
      "metadata: {'source': 'Piano Tuning.txt'}\n"
     ]
    }
   ],
   "source": [
    "query = \"How to fix if there is a leak is found in the air boards?\"\n",
    "process_llm_response(qa_chain, query)"
   ]
  },
  {
   "cell_type": "code",
   "execution_count": 21,
   "id": "32d8beb0-c682-442f-9386-515b0d807582",
   "metadata": {},
   "outputs": [
    {
     "name": "stdout",
     "output_type": "stream",
     "text": [
      "Query: When a key snaps or clicks at the instant it is let up, give two conditions that might cause it\n",
      "\n",
      "Inference time: 3.485 sec.\n",
      "\n",
      "Result:  1. Dirt or debris may be lodged between the key and the tumbler, causing a snapping or clicking sound as the key is lifted. 2. The tumbler pins may be worn or misaligned, causing them to bind or catch as the key is lifted, resulting in a snapping or clicking sound.\n",
      "\n",
      "metadata: {'source': 'Piano Tuning.txt'}\n"
     ]
    }
   ],
   "source": [
    "query = \"When a key snaps or clicks at the instant it is let up, give two conditions that might cause it\"\n",
    "process_llm_response(qa_chain, query)\n",
    "#wrong metadata"
   ]
  },
  {
   "cell_type": "code",
   "execution_count": 22,
   "id": "7cc8ddf1-d182-4138-b3e3-98a74e7ed5f1",
   "metadata": {},
   "outputs": [
    {
     "name": "stdout",
     "output_type": "stream",
     "text": [
      "Query: Give two causes for defective damping in a square piano\n",
      "\n",
      "Inference time: 6.544 sec.\n",
      "\n",
      "Result:  One cause of defective damping in a square piano could be worn or damaged dampers. Over time, the felt on the dampers can become compressed, causing them to lose their ability to effectively mute the strings. This can result in a persistent ringing or sustain of the notes, even after they have been released. Another possible cause is a lack of tension in the damping mechanism itself. This can occur if the strings become too loose or if the dampers are not properly secured to the action. In either case, the result is a loss of control over the decay of the sound, making it difficult to play with precision and expression.\n",
      "\n",
      "metadata: {'source': 'Piano Tuning.txt'}\n"
     ]
    }
   ],
   "source": [
    "query = \"Give two causes for defective damping in a square piano\"\n",
    "process_llm_response(qa_chain, query)"
   ]
  },
  {
   "cell_type": "code",
   "execution_count": 23,
   "id": "60f45e42-ef80-485e-a58b-cf8f8642cfa1",
   "metadata": {},
   "outputs": [
    {
     "data": {
      "text/plain": [
       "('similarity', <langchain.vectorstores.chroma.Chroma at 0x2cb90af1b90>)"
      ]
     },
     "execution_count": 23,
     "metadata": {},
     "output_type": "execute_result"
    }
   ],
   "source": [
    "qa_chain.retriever.search_type , qa_chain.retriever.vectorstore"
   ]
  },
  {
   "cell_type": "code",
   "execution_count": 24,
   "id": "c8d841e2-9f2f-49da-b18f-713536159831",
   "metadata": {},
   "outputs": [
    {
     "name": "stdout",
     "output_type": "stream",
     "text": [
      "Use the following pieces of context to answer the question at the end. If you don't know the answer, just say that you don't know, don't try to make up an answer.\n",
      "\n",
      "{context}\n",
      "\n",
      "Question: {question}\n",
      "Helpful Answer:\n"
     ]
    }
   ],
   "source": [
    "print(qa_chain.combine_documents_chain.llm_chain.prompt.template)"
   ]
  },
  {
   "cell_type": "code",
   "execution_count": null,
   "id": "ee8bf62a-9e82-42f3-a75b-b8a42047fe09",
   "metadata": {},
   "outputs": [],
   "source": []
  }
 ],
 "metadata": {
  "kernelspec": {
   "display_name": "Python 3 (ipykernel)",
   "language": "python",
   "name": "python3"
  },
  "language_info": {
   "codemirror_mode": {
    "name": "ipython",
    "version": 3
   },
   "file_extension": ".py",
   "mimetype": "text/x-python",
   "name": "python",
   "nbconvert_exporter": "python",
   "pygments_lexer": "ipython3",
   "version": "3.11.4"
  }
 },
 "nbformat": 4,
 "nbformat_minor": 5
}
