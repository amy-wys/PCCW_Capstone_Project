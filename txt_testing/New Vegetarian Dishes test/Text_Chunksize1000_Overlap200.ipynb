{
 "cells": [
  {
   "cell_type": "code",
   "execution_count": 1,
   "id": "956fe7cd-41ea-4978-bef8-fa749139c982",
   "metadata": {},
   "outputs": [],
   "source": [
    "from langchain.vectorstores import Chroma\n",
    "from langchain.embeddings import OpenAIEmbeddings\n",
    "from langchain.text_splitter import RecursiveCharacterTextSplitter\n",
    "from langchain import HuggingFaceHub\n",
    "from langchain.chains import RetrievalQA\n",
    "from langchain.document_loaders import TextLoader\n",
    "import os \n",
    "from dotenv import load_dotenv\n",
    "from time import time\n",
    "import warnings\n",
    "warnings.filterwarnings('ignore')"
   ]
  },
  {
   "cell_type": "code",
   "execution_count": 2,
   "id": "1e9d9153-2548-46fc-93a0-c3081e0aeced",
   "metadata": {},
   "outputs": [],
   "source": [
    "loader = TextLoader('New Vegetarian Dishes.txt', encoding='utf-8')\n",
    "documents = loader.load()"
   ]
  },
  {
   "cell_type": "code",
   "execution_count": 3,
   "id": "3d23e69a-8328-45c7-8c6f-1e0a91fad2cd",
   "metadata": {},
   "outputs": [],
   "source": [
    "text_splitter = RecursiveCharacterTextSplitter(chunk_size=1000, chunk_overlap=200)\n",
    "texts = text_splitter.split_documents(documents)"
   ]
  },
  {
   "cell_type": "code",
   "execution_count": 4,
   "id": "f212e7a3-77eb-48ba-87bc-f79eac318c9c",
   "metadata": {},
   "outputs": [
    {
     "data": {
      "text/plain": [
       "227"
      ]
     },
     "execution_count": 4,
     "metadata": {},
     "output_type": "execute_result"
    }
   ],
   "source": [
    "len(texts)"
   ]
  },
  {
   "cell_type": "code",
   "execution_count": 5,
   "id": "41e5a070-0305-4cec-9344-138c4e151c32",
   "metadata": {},
   "outputs": [
    {
     "data": {
      "text/plain": [
       "Document(page_content=\"Firstly, the beans should invariably be washed and placed in a basin of\\ncold water the night before they are required for use, and should remain\\nin soak about ten or twelve hours. If left longer than this during hot\\nweather they are apt to turn sour.\\n\\nThey should not be cooked in the same water that they have been soaked\\nin.\\n\\nSoft water must be used to cook them. If this be not obtainable,\\nMaignen's Ante-Calcaire will be found to render the water soft.\\n\\nSalt should not be added until they are at least half cooked, as its\\ntendency is to harden them. This applies also to peas, lentils, etc.\\n\\nThey take about two hours to cook, or three if required very soft.\\n\\nThey must not be allowed to boil very fast, for, like potatoes, they are\\nthen liable to break before becoming tender.\\n\\nAbout two pints of water, one ounce of butter, and one teaspoon of salt\\nto half-pint of soaked beans, may be taken as a fair average.\", metadata={'source': 'New Vegetarian Dishes.txt'})"
      ]
     },
     "execution_count": 5,
     "metadata": {},
     "output_type": "execute_result"
    }
   ],
   "source": [
    "texts[10]"
   ]
  },
  {
   "cell_type": "code",
   "execution_count": 6,
   "id": "a9db1b93-dc82-4575-b9df-7009b71d7a57",
   "metadata": {},
   "outputs": [],
   "source": [
    "_ = load_dotenv()\n",
    "\n",
    "HUGGINGFACEHUB_API_TOKEN = os.environ[\"HUGGINGFACEHUB_API_TOKEN\"]\n",
    "\n",
    "llm=HuggingFaceHub(\n",
    "    repo_id=\"HuggingFaceH4/zephyr-7b-beta\", \n",
    "    model_kwargs={\"temperature\":0.2, \"max_length\":256},\n",
    "    huggingfacehub_api_token=HUGGINGFACEHUB_API_TOKEN\n",
    "    )"
   ]
  },
  {
   "cell_type": "code",
   "execution_count": null,
   "id": "cf11565f-0f33-4e43-abc9-acfe9c569bf8",
   "metadata": {},
   "outputs": [],
   "source": [
    "from langchain.embeddings import HuggingFaceInstructEmbeddings\n",
    "\n",
    "instructor_embeddings = HuggingFaceInstructEmbeddings(model_name=\"BAAI/bge-base-en-v1.5\",\n",
    "                                                      model_kwargs={\"device\": \"cuda\"})"
   ]
  },
  {
   "cell_type": "code",
   "execution_count": null,
   "id": "d80b7fa5-641f-4d83-9c68-83fe4c876cf0",
   "metadata": {},
   "outputs": [],
   "source": [
    "%%time\n",
    "persist_directory = 'db_HuggingFace'\n",
    "\n",
    "embedding = instructor_embeddings\n",
    "\n",
    "vectordb = Chroma.from_documents(documents=texts,\n",
    "                                 embedding=embedding,\n",
    "                                 persist_directory=persist_directory)"
   ]
  },
  {
   "cell_type": "code",
   "execution_count": null,
   "id": "17bb19a2-6e60-4a23-a838-1b24ecfd5879",
   "metadata": {},
   "outputs": [],
   "source": [
    "retriever = vectordb.as_retriever(search_kwargs={\"k\": 2})\n",
    "docs = retriever.get_relevant_documents(\"New Vegetarian Dishes')\")"
   ]
  },
  {
   "cell_type": "code",
   "execution_count": null,
   "id": "8e7586fd-9109-46d8-807d-43ae51ed6521",
   "metadata": {},
   "outputs": [],
   "source": [
    "len(docs)"
   ]
  },
  {
   "cell_type": "code",
   "execution_count": null,
   "id": "279a45e1-843e-48b6-b8f8-340e4f582be6",
   "metadata": {},
   "outputs": [],
   "source": [
    "qa_chain = RetrievalQA.from_chain_type(llm=llm,\n",
    "                                  chain_type=\"stuff\",\n",
    "                                  retriever=retriever,\n",
    "                                  return_source_documents=True)"
   ]
  },
  {
   "cell_type": "code",
   "execution_count": null,
   "id": "2529c970-3b58-4543-b94b-bfe7943edad2",
   "metadata": {},
   "outputs": [],
   "source": [
    "def process_llm_response(qa_chain, query):\n",
    "    print(f\"Query: {query}\\n\")\n",
    "    time_1 = time()\n",
    "    llm_response = qa_chain(query)\n",
    "    time_2 = time()\n",
    "    print(f\"Inference time: {round(time_2-time_1, 3)} sec.\")\n",
    "    print(f\"\\nResult:\", llm_response['result'])\n",
    "    print(f\"\\nmetadata:\", llm_response['source_documents'][0].metadata)"
   ]
  },
  {
   "cell_type": "code",
   "execution_count": null,
   "id": "4c4c442f-8e9c-4bd0-9e5c-44fe1309fa15",
   "metadata": {},
   "outputs": [],
   "source": [
    "query = \"2 soup receipes from this book\"\n",
    "process_llm_response(qa_chain, query)\n",
    "#wrong metadata"
   ]
  },
  {
   "cell_type": "code",
   "execution_count": null,
   "id": "228f252c-72c9-4bf7-b3ce-0d93f76dadc0",
   "metadata": {},
   "outputs": [],
   "source": [
    "query = \"1 receipe of main dish\"\n",
    "process_llm_response(qa_chain, query)"
   ]
  },
  {
   "cell_type": "code",
   "execution_count": null,
   "id": "55dfd2fe-1958-403c-bb44-6d3562a59bb2",
   "metadata": {},
   "outputs": [],
   "source": [
    "query = \"List out 10 ingredients that a new vegetarian could eat\"\n",
    "process_llm_response(qa_chain, query)"
   ]
  },
  {
   "cell_type": "code",
   "execution_count": null,
   "id": "4cfa9c64-7dbf-46ec-8177-ffc9743c17b0",
   "metadata": {},
   "outputs": [],
   "source": [
    "query = \"1 receipe that use mushroom and tofu\"\n",
    "process_llm_response(qa_chain, query)"
   ]
  },
  {
   "cell_type": "code",
   "execution_count": null,
   "id": "d72b4d0f-1981-43eb-9bee-399ef3c98cdf",
   "metadata": {},
   "outputs": [],
   "source": [
    "query = \"1 dessert recipe\"\n",
    "process_llm_response(qa_chain, query)"
   ]
  },
  {
   "cell_type": "code",
   "execution_count": null,
   "id": "26f2a13b-2aa6-4756-b218-0236cb6bf3d8",
   "metadata": {},
   "outputs": [],
   "source": [
    "query = \"How to make Onion Soup?\"\n",
    "process_llm_response(qa_chain, query)"
   ]
  },
  {
   "cell_type": "code",
   "execution_count": null,
   "id": "cd3f83c1-a5cd-41f5-b067-dba84856ea6d",
   "metadata": {},
   "outputs": [],
   "source": [
    "query = \"How much whole flour need for making Whole Meal Biscuits?\"\n",
    "process_llm_response(qa_chain, query)"
   ]
  },
  {
   "cell_type": "code",
   "execution_count": null,
   "id": "6a80a1db-d155-483a-8eef-eb8a4e2b72f4",
   "metadata": {},
   "outputs": [],
   "source": [
    "query = \"What is No. 54 receipe?\"\n",
    "process_llm_response(qa_chain, query)"
   ]
  },
  {
   "cell_type": "code",
   "execution_count": null,
   "id": "32d8beb0-c682-442f-9386-515b0d807582",
   "metadata": {},
   "outputs": [],
   "source": [
    "query = \"Recommend a main dish receipe that using avocado\"\n",
    "process_llm_response(qa_chain, query)"
   ]
  },
  {
   "cell_type": "code",
   "execution_count": null,
   "id": "7cc8ddf1-d182-4138-b3e3-98a74e7ed5f1",
   "metadata": {},
   "outputs": [],
   "source": [
    "query = \"How many receipes does this book contain?\"\n",
    "process_llm_response(qa_chain, query)"
   ]
  },
  {
   "cell_type": "code",
   "execution_count": null,
   "id": "60f45e42-ef80-485e-a58b-cf8f8642cfa1",
   "metadata": {},
   "outputs": [],
   "source": [
    "qa_chain.retriever.search_type , qa_chain.retriever.vectorstore"
   ]
  },
  {
   "cell_type": "code",
   "execution_count": null,
   "id": "c8d841e2-9f2f-49da-b18f-713536159831",
   "metadata": {},
   "outputs": [],
   "source": [
    "print(qa_chain.combine_documents_chain.llm_chain.prompt.template)"
   ]
  }
 ],
 "metadata": {
  "kernelspec": {
   "display_name": "Python 3 (ipykernel)",
   "language": "python",
   "name": "python3"
  },
  "language_info": {
   "codemirror_mode": {
    "name": "ipython",
    "version": 3
   },
   "file_extension": ".py",
   "mimetype": "text/x-python",
   "name": "python",
   "nbconvert_exporter": "python",
   "pygments_lexer": "ipython3",
   "version": "3.11.4"
  }
 },
 "nbformat": 4,
 "nbformat_minor": 5
}
