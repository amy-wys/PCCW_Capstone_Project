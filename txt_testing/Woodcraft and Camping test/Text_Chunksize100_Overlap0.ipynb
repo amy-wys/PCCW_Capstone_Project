{
 "cells": [
  {
   "cell_type": "code",
   "execution_count": 41,
   "id": "956fe7cd-41ea-4978-bef8-fa749139c982",
   "metadata": {},
   "outputs": [],
   "source": [
    "from langchain.vectorstores import Chroma\n",
    "from langchain.embeddings import OpenAIEmbeddings\n",
    "from langchain.text_splitter import RecursiveCharacterTextSplitter\n",
    "from langchain import HuggingFaceHub\n",
    "from langchain.chains import RetrievalQA\n",
    "from langchain.document_loaders import TextLoader\n",
    "import os \n",
    "from dotenv import load_dotenv\n",
    "from time import time\n",
    "import warnings\n",
    "warnings.filterwarnings('ignore')"
   ]
  },
  {
   "cell_type": "code",
   "execution_count": 49,
   "id": "1e9d9153-2548-46fc-93a0-c3081e0aeced",
   "metadata": {},
   "outputs": [],
   "source": [
    "loader = TextLoader('Woodcraft and Camping.txt', encoding='utf-8')\n",
    "documents = loader.load()"
   ]
  },
  {
   "cell_type": "code",
   "execution_count": 50,
   "id": "3d23e69a-8328-45c7-8c6f-1e0a91fad2cd",
   "metadata": {},
   "outputs": [],
   "source": [
    "text_splitter = RecursiveCharacterTextSplitter(chunk_size=100, chunk_overlap=0)\n",
    "texts = text_splitter.split_documents(documents)"
   ]
  },
  {
   "cell_type": "code",
   "execution_count": 51,
   "id": "f212e7a3-77eb-48ba-87bc-f79eac318c9c",
   "metadata": {},
   "outputs": [
    {
     "data": {
      "text/plain": [
       "3408"
      ]
     },
     "execution_count": 51,
     "metadata": {},
     "output_type": "execute_result"
    }
   ],
   "source": [
    "len(texts)"
   ]
  },
  {
   "cell_type": "code",
   "execution_count": 52,
   "id": "41e5a070-0305-4cec-9344-138c4e151c32",
   "metadata": {},
   "outputs": [
    {
     "data": {
      "text/plain": [
       "Document(page_content='Distributed Proofreading Team at http://www.pgdp.net', metadata={'source': 'Woodcraft and Camping.txt'})"
      ]
     },
     "execution_count": 52,
     "metadata": {},
     "output_type": "execute_result"
    }
   ],
   "source": [
    "texts[10]"
   ]
  },
  {
   "cell_type": "code",
   "execution_count": 53,
   "id": "a9db1b93-dc82-4575-b9df-7009b71d7a57",
   "metadata": {},
   "outputs": [],
   "source": [
    "_ = load_dotenv()\n",
    "\n",
    "HUGGINGFACEHUB_API_TOKEN = os.environ[\"HUGGINGFACEHUB_API_TOKEN\"]\n",
    "\n",
    "llm=HuggingFaceHub(\n",
    "    repo_id=\"HuggingFaceH4/zephyr-7b-beta\", \n",
    "    model_kwargs={\"temperature\":0.2, \"max_length\":256},\n",
    "    huggingfacehub_api_token=HUGGINGFACEHUB_API_TOKEN\n",
    "    )"
   ]
  },
  {
   "cell_type": "code",
   "execution_count": 54,
   "id": "cf11565f-0f33-4e43-abc9-acfe9c569bf8",
   "metadata": {},
   "outputs": [
    {
     "name": "stdout",
     "output_type": "stream",
     "text": [
      "load INSTRUCTOR_Transformer\n",
      "max_seq_length  512\n"
     ]
    }
   ],
   "source": [
    "from langchain.embeddings import HuggingFaceInstructEmbeddings\n",
    "\n",
    "instructor_embeddings = HuggingFaceInstructEmbeddings(model_name=\"BAAI/bge-base-en-v1.5\",\n",
    "                                                      model_kwargs={\"device\": \"cuda\"})"
   ]
  },
  {
   "cell_type": "code",
   "execution_count": 55,
   "id": "d80b7fa5-641f-4d83-9c68-83fe4c876cf0",
   "metadata": {},
   "outputs": [
    {
     "name": "stdout",
     "output_type": "stream",
     "text": [
      "CPU times: total: 9.8 s\n",
      "Wall time: 13.1 s\n"
     ]
    }
   ],
   "source": [
    "%%time\n",
    "persist_directory = 'db_HuggingFace'\n",
    "\n",
    "embedding = instructor_embeddings\n",
    "\n",
    "vectordb = Chroma.from_documents(documents=texts,\n",
    "                                 embedding=embedding,\n",
    "                                 persist_directory=persist_directory)"
   ]
  },
  {
   "cell_type": "code",
   "execution_count": null,
   "id": "17bb19a2-6e60-4a23-a838-1b24ecfd5879",
   "metadata": {},
   "outputs": [],
   "source": [
    "retriever = vectordb.as_retriever(search_kwargs={\"k\": 2})\n",
    "docs = retriever.get_relevant_documents(\"Woodcraft and Camping.txt')\")"
   ]
  },
  {
   "cell_type": "code",
   "execution_count": null,
   "id": "8e7586fd-9109-46d8-807d-43ae51ed6521",
   "metadata": {},
   "outputs": [],
   "source": [
    "len(docs)"
   ]
  },
  {
   "cell_type": "code",
   "execution_count": null,
   "id": "279a45e1-843e-48b6-b8f8-340e4f582be6",
   "metadata": {},
   "outputs": [],
   "source": [
    "qa_chain = RetrievalQA.from_chain_type(llm=llm,\n",
    "                                  chain_type=\"stuff\",\n",
    "                                  retriever=retriever,\n",
    "                                  return_source_documents=True)"
   ]
  },
  {
   "cell_type": "code",
   "execution_count": null,
   "id": "2529c970-3b58-4543-b94b-bfe7943edad2",
   "metadata": {},
   "outputs": [],
   "source": [
    "def process_llm_response(qa_chain, query):\n",
    "    print(f\"Query: {query}\\n\")\n",
    "    time_1 = time()\n",
    "    llm_response = qa_chain(query)\n",
    "    time_2 = time()\n",
    "    print(f\"Inference time: {round(time_2-time_1, 3)} sec.\")\n",
    "    print(f\"\\nResult:\", llm_response['result'])\n",
    "    print(f\"\\nmetadata:\", llm_response['source_documents'][0].metadata)"
   ]
  },
  {
   "cell_type": "code",
   "execution_count": 63,
   "id": "4c4c442f-8e9c-4bd0-9e5c-44fe1309fa15",
   "metadata": {},
   "outputs": [
    {
     "name": "stdout",
     "output_type": "stream",
     "text": [
      "Query: What do we do if we get lost?\n",
      "\n",
      "Inference time: 0.488 sec.\n",
      "\n",
      "Result:  If we get lost, we should stop and look around to see if we can find any landmarks or signs that might help us figure out where we are. If we still can't find our way, we should try to retrace our steps and follow the route we came in on. If that doesn't work, we should try to find a nearby town or city and ask for directions. It's always better to be safe than sorry when it comes to getting lost, so we should never hesitate to ask for help if we need it.\n",
      "\n",
      "metadata: {'source': 'The existence of Gods.txt'}\n"
     ]
    }
   ],
   "source": [
    "query = \"What do we do if we get lost?\"\n",
    "process_llm_response(qa_chain, query)"
   ]
  },
  {
   "cell_type": "code",
   "execution_count": 64,
   "id": "228f252c-72c9-4bf7-b3ce-0d93f76dadc0",
   "metadata": {},
   "outputs": [
    {
     "name": "stdout",
     "output_type": "stream",
     "text": [
      "Query: What is the importance of making the camp-fire?\n",
      "\n",
      "Inference time: 5.618 sec.\n",
      "\n",
      "Result:  The camp-fire is important because it provides warmth and light for the camp, and it can also be used for cooking and boiling water for drinking. Making a proper camp-fire is crucial to ensure safety and prevent accidents. It should be built in a clear area away from flammable materials, and proper precautions should be taken to prevent it from spreading. Additionally, the fire should be properly extinguished before leaving the campsite to prevent wildfires.\n",
      "\n",
      "metadata: {'source': 'Woodcraft and Camping.txt'}\n"
     ]
    }
   ],
   "source": [
    "query = \"What is the importance of making the camp-fire?\"\n",
    "process_llm_response(qa_chain, query)"
   ]
  },
  {
   "cell_type": "code",
   "execution_count": 65,
   "id": "55dfd2fe-1958-403c-bb44-6d3562a59bb2",
   "metadata": {},
   "outputs": [
    {
     "name": "stdout",
     "output_type": "stream",
     "text": [
      "Query: List out 5 things we need to bring for camping\n",
      "\n",
      "Inference time: 3.059 sec.\n",
      "\n",
      "Result:  Some things we might need to bring for camping include a tent, sleeping bags, a camping stove for cooking, a cooler for storing food, and a first aid kit in case of any accidents. Do you have any other suggestions?\n",
      "\n",
      "metadata: {'source': 'Woodcraft and Camping.txt'}\n"
     ]
    }
   ],
   "source": [
    "query = \"List out 5 things we need to bring for camping\"\n",
    "process_llm_response(qa_chain, query)"
   ]
  },
  {
   "cell_type": "code",
   "execution_count": 67,
   "id": "4cfa9c64-7dbf-46ec-8177-ffc9743c17b0",
   "metadata": {},
   "outputs": [
    {
     "name": "stdout",
     "output_type": "stream",
     "text": [
      "Query: How camp cooking is usually done? \n",
      "\n",
      "Inference time: 8.185 sec.\n",
      "\n",
      "Result:  Camp cooking typically involves cooking meals outdoors using portable stoves, grills, or open fires. Food is often prepared in advance and packed in coolers or insulated bags to keep it fresh. Simple ingredients and easy-to-prepare meals are commonly used to minimize the amount of equipment and cleanup required. Some common camping foods include hot dogs, hamburgers, foil packet meals, and pre-packaged camping meals.\n",
      "\n",
      "metadata: {'source': 'Woodcraft and Camping.txt'}\n"
     ]
    }
   ],
   "source": [
    "query = \"How camp cooking is usually done? \"\n",
    "process_llm_response(qa_chain, query)"
   ]
  },
  {
   "cell_type": "code",
   "execution_count": 68,
   "id": "d72b4d0f-1981-43eb-9bee-399ef3c98cdf",
   "metadata": {},
   "outputs": [
    {
     "name": "stdout",
     "output_type": "stream",
     "text": [
      "Query: 2 Simple receipts for camp cooking\n",
      "\n",
      "Inference time: 16.101 sec.\n",
      "\n",
      "Result:  1. Campfire Bannock:\n",
      "Ingredients:\n",
      "- 2 cups all-purpose flour\n",
      "- 1 tbsp baking powder\n",
      "- 1 tsp salt\n",
      "- 1/4 cup vegetable oil\n",
      "- 3/4 cup water\n",
      "\n",
      "Instructions:\n",
      "1. In a large bowl, mix together the flour, baking powder, and salt.\n",
      "2. Add the vegetable oil and water, and stir until a dough forms.\n",
      "3. Knead the dough on a floured surface for 1-2 minutes.\n",
      "4. Roll the dough out into a circle about 1/4 inch thick.\n",
      "5. Place the circle directly on the campfire grate or a campfire-safe skillet.\n",
      "6. Cook for 2-3 minutes on each side, or until golden brown.\n",
      "\n",
      "2. Campfire Pancakes:\n",
      "Ingredients:\n",
      "- 1 cup all-purpose flour\n",
      "- 2 tbsp sugar\n",
      "- 2 tsp baking powder\n",
      "- 1/2 tsp salt\n",
      "- 1 cup milk\n",
      "- 1 egg\n",
      "- 2 tbsp vegetable oil\n",
      "\n",
      "Instructions:\n",
      "1. In a large bowl, mix together the flour, sugar, baking powder, and salt.\n",
      "2. Add the milk, egg, and vegetable oil, and stir until just combined.\n",
      "3. Heat a campfire-safe skillet over the campfire.\n",
      "4. Pour 1/4 cup of batter onto the skillet for each pancake.\n",
      "5. Cook for 2-3 minutes on each side, or until golden brown.\n",
      "\n",
      "Enjoy your campfire meals!\n",
      "\n",
      "metadata: {'source': 'Woodcraft and Camping.txt'}\n"
     ]
    }
   ],
   "source": [
    "query = \"2 Simple receipts for camp cooking\"\n",
    "process_llm_response(qa_chain, query)\n",
    "#1st time Different answer"
   ]
  },
  {
   "cell_type": "code",
   "execution_count": 69,
   "id": "26f2a13b-2aa6-4756-b218-0236cb6bf3d8",
   "metadata": {},
   "outputs": [
    {
     "name": "stdout",
     "output_type": "stream",
     "text": [
      "Query: Reasons for Preferring the Clinker-Built Cedar?\n",
      "\n",
      "Inference time: 4.31 sec.\n",
      "\n",
      "Result:  The author prefers the clinker-built cedar because it is light, strong, and durable, and it can be built into any part of the ground that the builder pleases. The author also mentions that some people still prefer this type of boat despite its perceived flaws, such as being \"merciful, good, wise, faithful.\" However, the author does not provide specific reasons for these preferences.\n",
      "\n",
      "metadata: {'source': 'The existence of Gods.txt'}\n"
     ]
    }
   ],
   "source": [
    "query = \"Reasons for Preferring the Clinker-Built Cedar?\"\n",
    "process_llm_response(qa_chain, query)"
   ]
  },
  {
   "cell_type": "code",
   "execution_count": 70,
   "id": "cd3f83c1-a5cd-41f5-b067-dba84856ea6d",
   "metadata": {},
   "outputs": [
    {
     "name": "stdout",
     "output_type": "stream",
     "text": [
      "Query: How to make a camp?\n",
      "\n",
      "Inference time: 7.151 sec.\n",
      "\n",
      "Result:  To make a camp, you will need a tent, a sleeping bag, a camping stove, a cooler for food, a lantern, and a camping chair. First, find a level spot to pitch your tent. Clear the area of any debris and stakes. Assemble the tent poles and insert them into the tent sleeves. Spread the tent fly over the tent and secure it with the tent stakes. Lay out your sleeping bag inside the tent. Set up your camping stove and cooler nearby. Hang your lantern from a tree branch or stake it into the ground. Place your camping chair in a comfortable spot to relax and enjoy the outdoors. Remember to pack out all trash and leave the campsite as you found it.\n",
      "\n",
      "metadata: {'source': 'Woodcraft and Camping.txt'}\n"
     ]
    }
   ],
   "source": [
    "query = \"How to make a camp?\"\n",
    "process_llm_response(qa_chain, query)"
   ]
  },
  {
   "cell_type": "code",
   "execution_count": 71,
   "id": "6a80a1db-d155-483a-8eef-eb8a4e2b72f4",
   "metadata": {},
   "outputs": [
    {
     "name": "stdout",
     "output_type": "stream",
     "text": [
      "Query: The right way to make a camp fire?\n",
      "\n",
      "Inference time: 2.175 sec.\n",
      "\n",
      "Result:  According to the illustration, the right way to make a camp fire is shown in the illustration. The wrong way to make a camp fire is not explicitly stated in the context provided.\n",
      "\n",
      "metadata: {'source': 'Woodcraft and Camping.txt'}\n"
     ]
    }
   ],
   "source": [
    "query = \"The right way to make a camp fire?\"\n",
    "process_llm_response(qa_chain, query)\n",
    "#Although can answer total number of receipes contain, still not able to answer this one"
   ]
  },
  {
   "cell_type": "code",
   "execution_count": 73,
   "id": "32d8beb0-c682-442f-9386-515b0d807582",
   "metadata": {},
   "outputs": [
    {
     "name": "stdout",
     "output_type": "stream",
     "text": [
      "Query: Where to go for an Outing?\n",
      "\n",
      "Inference time: 4.825 sec.\n",
      "\n",
      "Result:  If you're looking for a place to go for an outing, consider visiting the local nature preserve. Not only will you be able to enjoy the beautiful scenery, but you'll also be supporting a worthy cause through your admission fee and any donations you make. Plus, many nature preserves offer educational programs and guided tours, making it a great learning opportunity for all ages. So why not make a difference while having fun? Head to your nearest nature preserve today!\n",
      "\n",
      "metadata: {'source': 'New Vegetarian Dishes.txt'}\n"
     ]
    }
   ],
   "source": [
    "query = \"Where to go for an Outing?\"\n",
    "process_llm_response(qa_chain, query)"
   ]
  },
  {
   "cell_type": "code",
   "execution_count": 80,
   "id": "7cc8ddf1-d182-4138-b3e3-98a74e7ed5f1",
   "metadata": {},
   "outputs": [
    {
     "name": "stdout",
     "output_type": "stream",
     "text": [
      "Query: Give me an example of a easily made and very comfortable camp\n",
      "\n",
      "Inference time: 5.764 sec.\n",
      "\n",
      "Result:  A winter camp could be an example of a easily made and very comfortable camp. In winter, people can build a camp by digging a pit in the snow, lining it with branches and leaves, and covering it with more snow. This type of camp provides insulation and keeps the occupants warm. They can also build a fire inside the camp for additional warmth. Overall, a winter camp can be a cozy and comfortable shelter in harsh winter conditions.\n",
      "\n",
      "metadata: {'source': 'Woodcraft and Camping.txt'}\n"
     ]
    }
   ],
   "source": [
    "query = \"Give me an example of a easily made and very comfortable camp\"\n",
    "process_llm_response(qa_chain, query)\n",
    "#Finally can answer this question"
   ]
  },
  {
   "cell_type": "code",
   "execution_count": 23,
   "id": "60f45e42-ef80-485e-a58b-cf8f8642cfa1",
   "metadata": {},
   "outputs": [
    {
     "data": {
      "text/plain": [
       "('similarity', <langchain.vectorstores.chroma.Chroma at 0x28241343510>)"
      ]
     },
     "execution_count": 23,
     "metadata": {},
     "output_type": "execute_result"
    }
   ],
   "source": [
    "qa_chain.retriever.search_type , qa_chain.retriever.vectorstore"
   ]
  },
  {
   "cell_type": "code",
   "execution_count": 24,
   "id": "c8d841e2-9f2f-49da-b18f-713536159831",
   "metadata": {},
   "outputs": [
    {
     "name": "stdout",
     "output_type": "stream",
     "text": [
      "Use the following pieces of context to answer the question at the end. If you don't know the answer, just say that you don't know, don't try to make up an answer.\n",
      "\n",
      "{context}\n",
      "\n",
      "Question: {question}\n",
      "Helpful Answer:\n"
     ]
    }
   ],
   "source": [
    "print(qa_chain.combine_documents_chain.llm_chain.prompt.template)"
   ]
  },
  {
   "cell_type": "code",
   "execution_count": null,
   "id": "ee8bf62a-9e82-42f3-a75b-b8a42047fe09",
   "metadata": {},
   "outputs": [],
   "source": []
  }
 ],
 "metadata": {
  "kernelspec": {
   "display_name": "Python 3 (ipykernel)",
   "language": "python",
   "name": "python3"
  },
  "language_info": {
   "codemirror_mode": {
    "name": "ipython",
    "version": 3
   },
   "file_extension": ".py",
   "mimetype": "text/x-python",
   "name": "python",
   "nbconvert_exporter": "python",
   "pygments_lexer": "ipython3",
   "version": "3.11.4"
  }
 },
 "nbformat": 4,
 "nbformat_minor": 5
}
