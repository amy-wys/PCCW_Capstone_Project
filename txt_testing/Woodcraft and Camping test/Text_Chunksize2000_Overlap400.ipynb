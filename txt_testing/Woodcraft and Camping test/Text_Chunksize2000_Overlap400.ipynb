{
 "cells": [
  {
   "cell_type": "code",
   "execution_count": 1,
   "id": "956fe7cd-41ea-4978-bef8-fa749139c982",
   "metadata": {},
   "outputs": [],
   "source": [
    "from langchain.vectorstores import Chroma\n",
    "from langchain.embeddings import OpenAIEmbeddings\n",
    "from langchain.text_splitter import RecursiveCharacterTextSplitter\n",
    "from langchain import HuggingFaceHub\n",
    "from langchain.chains import RetrievalQA\n",
    "from langchain.document_loaders import TextLoader\n",
    "import os \n",
    "from dotenv import load_dotenv\n",
    "from time import time\n",
    "import warnings\n",
    "warnings.filterwarnings('ignore')"
   ]
  },
  {
   "cell_type": "code",
   "execution_count": 2,
   "id": "1e9d9153-2548-46fc-93a0-c3081e0aeced",
   "metadata": {},
   "outputs": [],
   "source": [
    "loader = TextLoader('Woodcraft and Camping.txt', encoding='utf-8')\n",
    "documents = loader.load()"
   ]
  },
  {
   "cell_type": "code",
   "execution_count": 3,
   "id": "3d23e69a-8328-45c7-8c6f-1e0a91fad2cd",
   "metadata": {},
   "outputs": [],
   "source": [
    "text_splitter = RecursiveCharacterTextSplitter(chunk_size=2000, chunk_overlap=400)\n",
    "texts = text_splitter.split_documents(documents)"
   ]
  },
  {
   "cell_type": "code",
   "execution_count": 4,
   "id": "f212e7a3-77eb-48ba-87bc-f79eac318c9c",
   "metadata": {},
   "outputs": [
    {
     "data": {
      "text/plain": [
       "156"
      ]
     },
     "execution_count": 4,
     "metadata": {},
     "output_type": "execute_result"
    }
   ],
   "source": [
    "len(texts)"
   ]
  },
  {
   "cell_type": "code",
   "execution_count": 5,
   "id": "41e5a070-0305-4cec-9344-138c4e151c32",
   "metadata": {},
   "outputs": [
    {
     "data": {
      "text/plain": [
       "Document(page_content=\"Chapter II\\n\\n     KNAPSACK, HATCHET, KNIVES, TINWARE, RODS, FISHING TACKLE,\\n     DITTY-BAG\\n\\n\\nThe clothing, blanket-bag and shelter-cloth are all that need be\\ndescribed in that line. The next articles that I look after are knapsack\\n(or pack basket), rod with reel, lines, flies, hooks, and all my fishing\\ngear, pocket-axe, knives and tinware. Firstly, the knapsack; as you are\\napt to carry it a great many miles, it is well to have it right, and\\neasy-fitting at the start. Don't be induced to carry a pack basket. I am\\naware that it is in high favor all through the Northern Wilderness, and\\nis also much used in other localities where guides and sportsmen most do\\ncongregate. But I do not like it. I admit that it will carry a loaf of\\nbread, with tea, sugar, etc., without jamming; that bottles, crockery,\\nand other fragile duffle is safer from breakage than in an oil-cloth\\nknapsack. But it is by no means water-proof in a rain or a splashing\\nhead sea, is more than twice as heavy--always growing heavier as it gets\\nwetter--and I had rather have bread, tea, sugar, etc., a little jammed\\nthan water-soaked. Also, it may be remarked that man is a vertebrate\\nanimal and ought to respect his backbone. The loaded pack basket on a\\nheavy carry never fails to get in on the most vulnerable knob of the\\nhuman vertebrae. The knapsack sits easy, and does not chafe. The one\\nshown in the engraving is of good form; and the original--which I have\\ncarried for years--is satisfactory in every respect. It holds over half\\na bushel, carries blanket-bag, shelter tent, hatchet, ditty-bag,\\ntinware, fishing tackle, clothes and two days' rations. It weighs,\\nempty, just twelve ounces.\\n\\n[Sidenote: Hatchet and Knives]\\n\\n[Illustration: KNAPSACK AND DITTY-BAG]\", metadata={'source': 'Woodcraft and Camping.txt'})"
      ]
     },
     "execution_count": 5,
     "metadata": {},
     "output_type": "execute_result"
    }
   ],
   "source": [
    "texts[10]"
   ]
  },
  {
   "cell_type": "code",
   "execution_count": 6,
   "id": "a9db1b93-dc82-4575-b9df-7009b71d7a57",
   "metadata": {},
   "outputs": [],
   "source": [
    "_ = load_dotenv()\n",
    "\n",
    "HUGGINGFACEHUB_API_TOKEN = os.environ[\"HUGGINGFACEHUB_API_TOKEN\"]\n",
    "\n",
    "llm=HuggingFaceHub(\n",
    "    repo_id=\"HuggingFaceH4/zephyr-7b-beta\", \n",
    "    model_kwargs={\"temperature\":0.2, \"max_length\":256},\n",
    "    huggingfacehub_api_token=HUGGINGFACEHUB_API_TOKEN\n",
    "    )"
   ]
  },
  {
   "cell_type": "code",
   "execution_count": 7,
   "id": "cf11565f-0f33-4e43-abc9-acfe9c569bf8",
   "metadata": {},
   "outputs": [
    {
     "name": "stdout",
     "output_type": "stream",
     "text": [
      "load INSTRUCTOR_Transformer\n",
      "max_seq_length  512\n"
     ]
    }
   ],
   "source": [
    "from langchain.embeddings import HuggingFaceInstructEmbeddings\n",
    "\n",
    "instructor_embeddings = HuggingFaceInstructEmbeddings(model_name=\"BAAI/bge-base-en-v1.5\",\n",
    "                                                      model_kwargs={\"device\": \"cuda\"})"
   ]
  },
  {
   "cell_type": "code",
   "execution_count": 8,
   "id": "d80b7fa5-641f-4d83-9c68-83fe4c876cf0",
   "metadata": {},
   "outputs": [
    {
     "name": "stdout",
     "output_type": "stream",
     "text": [
      "CPU times: total: 3.28 s\n",
      "Wall time: 6 s\n"
     ]
    }
   ],
   "source": [
    "%%time\n",
    "persist_directory = 'db_HuggingFace'\n",
    "\n",
    "embedding = instructor_embeddings\n",
    "\n",
    "vectordb = Chroma.from_documents(documents=texts,\n",
    "                                 embedding=embedding,\n",
    "                                 persist_directory=persist_directory)"
   ]
  },
  {
   "cell_type": "code",
   "execution_count": 9,
   "id": "17bb19a2-6e60-4a23-a838-1b24ecfd5879",
   "metadata": {},
   "outputs": [],
   "source": [
    "retriever = vectordb.as_retriever(search_kwargs={\"k\": 2})\n",
    "docs = retriever.get_relevant_documents(\"Woodcraft and Camping.txt')\")"
   ]
  },
  {
   "cell_type": "code",
   "execution_count": 10,
   "id": "8e7586fd-9109-46d8-807d-43ae51ed6521",
   "metadata": {},
   "outputs": [
    {
     "data": {
      "text/plain": [
       "2"
      ]
     },
     "execution_count": 10,
     "metadata": {},
     "output_type": "execute_result"
    }
   ],
   "source": [
    "len(docs)"
   ]
  },
  {
   "cell_type": "code",
   "execution_count": 11,
   "id": "279a45e1-843e-48b6-b8f8-340e4f582be6",
   "metadata": {},
   "outputs": [],
   "source": [
    "qa_chain = RetrievalQA.from_chain_type(llm=llm,\n",
    "                                  chain_type=\"stuff\",\n",
    "                                  retriever=retriever,\n",
    "                                  return_source_documents=True)"
   ]
  },
  {
   "cell_type": "code",
   "execution_count": 12,
   "id": "2529c970-3b58-4543-b94b-bfe7943edad2",
   "metadata": {},
   "outputs": [],
   "source": [
    "def process_llm_response(qa_chain, query):\n",
    "    print(f\"Query: {query}\\n\")\n",
    "    time_1 = time()\n",
    "    llm_response = qa_chain(query)\n",
    "    time_2 = time()\n",
    "    print(f\"Inference time: {round(time_2-time_1, 3)} sec.\")\n",
    "    print(f\"\\nResult:\", llm_response['result'])\n",
    "    print(f\"\\nmetadata:\", llm_response['source_documents'][0].metadata)"
   ]
  },
  {
   "cell_type": "code",
   "execution_count": 13,
   "id": "4c4c442f-8e9c-4bd0-9e5c-44fe1309fa15",
   "metadata": {},
   "outputs": [
    {
     "name": "stdout",
     "output_type": "stream",
     "text": [
      "Query: What do we do if we get lost?\n",
      "\n",
      "Inference time: 1.581 sec.\n",
      "\n",
      "Result:  If we get lost, we should stop and look around to see if we can find any landmarks or signs that might help us figure out where we are. If we still can't find our way, we should try to retrace our steps and follow the route we came in on. If that doesn't work, we should try to find a nearby town or city and ask for directions. It's always better to be safe than sorry when it comes to getting lost, so we should never hesitate to ask for help if we need it.\n",
      "\n",
      "metadata: {'source': 'The existence of Gods.txt'}\n"
     ]
    }
   ],
   "source": [
    "query = \"What do we do if we get lost?\"\n",
    "process_llm_response(qa_chain, query)\n",
    "#wrong metadata"
   ]
  },
  {
   "cell_type": "code",
   "execution_count": 14,
   "id": "228f252c-72c9-4bf7-b3ce-0d93f76dadc0",
   "metadata": {},
   "outputs": [
    {
     "name": "stdout",
     "output_type": "stream",
     "text": [
      "Query: What is the importance of making the camp-fire?\n",
      "\n",
      "Inference time: 0.478 sec.\n",
      "\n",
      "Result:  The camp-fire is important because it provides warmth and light for the camp, and it can also be used for cooking and boiling water for drinking. Making a proper camp-fire is crucial to ensure safety and prevent accidents. It should be built in a clear area away from flammable materials, and proper precautions should be taken to prevent it from spreading. Additionally, the fire should be properly extinguished before leaving the campsite to prevent wildfires.\n",
      "\n",
      "metadata: {'source': 'Woodcraft and Camping.txt'}\n"
     ]
    }
   ],
   "source": [
    "query = \"What is the importance of making the camp-fire?\"\n",
    "process_llm_response(qa_chain, query)"
   ]
  },
  {
   "cell_type": "code",
   "execution_count": 15,
   "id": "55dfd2fe-1958-403c-bb44-6d3562a59bb2",
   "metadata": {},
   "outputs": [
    {
     "name": "stdout",
     "output_type": "stream",
     "text": [
      "Query: List out 5 things we need to bring for camping\n",
      "\n",
      "Inference time: 0.439 sec.\n",
      "\n",
      "Result:  Some things we might need to bring for camping include a tent, sleeping bags, a camping stove for cooking, a cooler for storing food, and a first aid kit in case of any accidents. Do you have any other suggestions?\n",
      "\n",
      "metadata: {'source': 'Woodcraft and Camping.txt'}\n"
     ]
    }
   ],
   "source": [
    "query = \"List out 5 things we need to bring for camping\"\n",
    "process_llm_response(qa_chain, query)"
   ]
  },
  {
   "cell_type": "code",
   "execution_count": 16,
   "id": "4cfa9c64-7dbf-46ec-8177-ffc9743c17b0",
   "metadata": {},
   "outputs": [
    {
     "name": "stdout",
     "output_type": "stream",
     "text": [
      "Query: How camp cooking is usually done? \n",
      "\n",
      "Inference time: 0.464 sec.\n",
      "\n",
      "Result:  Camp cooking typically involves cooking meals outdoors using portable stoves, grills, or open fires. Food is often prepared in advance and packed in coolers or insulated bags to keep it fresh. Simple ingredients and easy-to-prepare meals are commonly used to minimize the amount of equipment and cleanup required. Some common camping foods include hot dogs, hamburgers, foil packet meals, and pre-packaged camping meals.\n",
      "\n",
      "metadata: {'source': 'Woodcraft and Camping.txt'}\n"
     ]
    }
   ],
   "source": [
    "query = \"How camp cooking is usually done? \"\n",
    "process_llm_response(qa_chain, query)"
   ]
  },
  {
   "cell_type": "code",
   "execution_count": 17,
   "id": "d72b4d0f-1981-43eb-9bee-399ef3c98cdf",
   "metadata": {},
   "outputs": [
    {
     "name": "stdout",
     "output_type": "stream",
     "text": [
      "Query: 2 Simple receipts for camp cooking\n",
      "\n",
      "Inference time: 0.543 sec.\n",
      "\n",
      "Result:  1. Campfire Bannock:\n",
      "Ingredients:\n",
      "- 2 cups all-purpose flour\n",
      "- 1 tbsp baking powder\n",
      "- 1 tsp salt\n",
      "- 1/4 cup vegetable oil\n",
      "- 3/4 cup water\n",
      "\n",
      "Instructions:\n",
      "1. In a large bowl, mix together the flour, baking powder, and salt.\n",
      "2. Add the vegetable oil and water, and stir until a dough forms.\n",
      "3. Knead the dough on a floured surface for 1-2 minutes.\n",
      "4. Roll the dough out into a circle about 1/4 inch thick.\n",
      "5. Place the circle directly on the campfire grate or a campfire-safe skillet.\n",
      "6. Cook for 2-3 minutes on each side, or until golden brown.\n",
      "\n",
      "2. Campfire Pancakes:\n",
      "Ingredients:\n",
      "- 1 cup all-purpose flour\n",
      "- 2 tbsp sugar\n",
      "- 2 tsp baking powder\n",
      "- 1/2 tsp salt\n",
      "- 1 cup milk\n",
      "- 1 egg\n",
      "- 2 tbsp vegetable oil\n",
      "\n",
      "Instructions:\n",
      "1. In a large bowl, mix together the flour, sugar, baking powder, and salt.\n",
      "2. Add the milk, egg, and vegetable oil, and stir until just combined.\n",
      "3. Heat a campfire-safe skillet over the campfire.\n",
      "4. Pour 1/4 cup of batter onto the skillet for each pancake.\n",
      "5. Cook for 2-3 minutes on each side, or until golden brown.\n",
      "\n",
      "Enjoy your campfire meals!\n",
      "\n",
      "metadata: {'source': 'Woodcraft and Camping.txt'}\n"
     ]
    }
   ],
   "source": [
    "query = \"2 Simple receipts for camp cooking\"\n",
    "process_llm_response(qa_chain, query)"
   ]
  },
  {
   "cell_type": "code",
   "execution_count": 18,
   "id": "26f2a13b-2aa6-4756-b218-0236cb6bf3d8",
   "metadata": {},
   "outputs": [
    {
     "name": "stdout",
     "output_type": "stream",
     "text": [
      "Query: Reasons for Preferring the Clinker-Built Cedar?\n",
      "\n",
      "Inference time: 0.484 sec.\n",
      "\n",
      "Result:  The author prefers the clinker-built cedar because it is light, strong, and durable, and it can be built into any part of the ground that the builder pleases. The author also mentions that some people still prefer this type of boat despite its perceived flaws, such as being \"merciful, good, wise, faithful.\" However, the author does not provide specific reasons for these preferences.\n",
      "\n",
      "metadata: {'source': 'The existence of Gods.txt'}\n"
     ]
    }
   ],
   "source": [
    "query = \"Reasons for Preferring the Clinker-Built Cedar?\"\n",
    "process_llm_response(qa_chain, query)\n",
    "#wrong metadata"
   ]
  },
  {
   "cell_type": "code",
   "execution_count": 19,
   "id": "cd3f83c1-a5cd-41f5-b067-dba84856ea6d",
   "metadata": {},
   "outputs": [
    {
     "name": "stdout",
     "output_type": "stream",
     "text": [
      "Query: How to make a camp?\n",
      "\n",
      "Inference time: 0.573 sec.\n",
      "\n",
      "Result:  To make a camp, you will need a tent, sleeping bags, a camping stove, a cooler for food, a first aid kit, and a map of the area. Follow the directions provided to set up your tent and arrange your gear. Be sure to properly dispose of any waste and leave the area as you found it. If you encounter any difficult situations, consult your map and use your judgment to make informed decisions. Remember to always prioritize safety and respect for the environment.\n",
      "\n",
      "metadata: {'source': 'The existence of Gods.txt'}\n"
     ]
    }
   ],
   "source": [
    "query = \"How to make a camp?\"\n",
    "process_llm_response(qa_chain, query)\n",
    "#wrong metadata"
   ]
  },
  {
   "cell_type": "code",
   "execution_count": 20,
   "id": "6a80a1db-d155-483a-8eef-eb8a4e2b72f4",
   "metadata": {},
   "outputs": [
    {
     "name": "stdout",
     "output_type": "stream",
     "text": [
      "Query: How to make a camp fire?\n",
      "\n",
      "Inference time: 0.435 sec.\n",
      "\n",
      "Result:  To make a camp fire, first find a level spot and clear away any dry grass or leaves. Then gather some small sticks and twigs and arrange them in a teepee shape. Light a match and ignite the sticks, adding larger pieces of wood as the fire grows. Be sure to keep the fire contained and never leave it unattended.\n",
      "\n",
      "metadata: {'source': 'Woodcraft and Camping.txt'}\n"
     ]
    }
   ],
   "source": [
    "query = \"How to make a camp fire?\"\n",
    "process_llm_response(qa_chain, query)"
   ]
  },
  {
   "cell_type": "code",
   "execution_count": null,
   "id": "32d8beb0-c682-442f-9386-515b0d807582",
   "metadata": {},
   "outputs": [
    {
     "name": "stdout",
     "output_type": "stream",
     "text": [
      "Query: Where to go for an Outing?\n",
      "\n"
     ]
    }
   ],
   "source": [
    "query = \"Where to go for an Outing?\"\n",
    "process_llm_response(qa_chain, query)"
   ]
  },
  {
   "cell_type": "code",
   "execution_count": null,
   "id": "7cc8ddf1-d182-4138-b3e3-98a74e7ed5f1",
   "metadata": {},
   "outputs": [],
   "source": [
    "query = \"Give me an example of a easily made and very comfortable camp\"\n",
    "process_llm_response(qa_chain, query)"
   ]
  },
  {
   "cell_type": "code",
   "execution_count": null,
   "id": "60f45e42-ef80-485e-a58b-cf8f8642cfa1",
   "metadata": {},
   "outputs": [],
   "source": [
    "qa_chain.retriever.search_type , qa_chain.retriever.vectorstore"
   ]
  },
  {
   "cell_type": "code",
   "execution_count": null,
   "id": "c8d841e2-9f2f-49da-b18f-713536159831",
   "metadata": {},
   "outputs": [],
   "source": [
    "print(qa_chain.combine_documents_chain.llm_chain.prompt.template)"
   ]
  },
  {
   "cell_type": "code",
   "execution_count": null,
   "id": "ee8bf62a-9e82-42f3-a75b-b8a42047fe09",
   "metadata": {},
   "outputs": [],
   "source": []
  }
 ],
 "metadata": {
  "kernelspec": {
   "display_name": "Python 3 (ipykernel)",
   "language": "python",
   "name": "python3"
  },
  "language_info": {
   "codemirror_mode": {
    "name": "ipython",
    "version": 3
   },
   "file_extension": ".py",
   "mimetype": "text/x-python",
   "name": "python",
   "nbconvert_exporter": "python",
   "pygments_lexer": "ipython3",
   "version": "3.11.4"
  }
 },
 "nbformat": 4,
 "nbformat_minor": 5
}
