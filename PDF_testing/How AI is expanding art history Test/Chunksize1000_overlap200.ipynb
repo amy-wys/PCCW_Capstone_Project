{
 "cells": [
  {
   "cell_type": "code",
   "execution_count": 1,
   "id": "956fe7cd-41ea-4978-bef8-fa749139c982",
   "metadata": {},
   "outputs": [],
   "source": [
    "from langchain.vectorstores import Chroma\n",
    "from langchain.embeddings import OpenAIEmbeddings\n",
    "from langchain.text_splitter import RecursiveCharacterTextSplitter\n",
    "from langchain import HuggingFaceHub\n",
    "from langchain.chains import RetrievalQA\n",
    "from langchain.document_loaders import PyPDFLoader\n",
    "from langchain.document_loaders import DirectoryLoader\n",
    "import os \n",
    "from dotenv import load_dotenv\n",
    "from time import time\n",
    "import warnings\n",
    "warnings.filterwarnings('ignore')"
   ]
  },
  {
   "cell_type": "code",
   "execution_count": 2,
   "id": "1e9d9153-2548-46fc-93a0-c3081e0aeced",
   "metadata": {},
   "outputs": [],
   "source": [
    "#loader = DirectoryLoader('PDF_Testing', glob=\"./*.pdf\", loader_cls=PyPDFLoader)\n",
    "loader = PyPDFLoader('How AI is expanding art history.pdf')\n",
    "documents = loader.load()"
   ]
  },
  {
   "cell_type": "code",
   "execution_count": 3,
   "id": "3d23e69a-8328-45c7-8c6f-1e0a91fad2cd",
   "metadata": {},
   "outputs": [],
   "source": [
    "text_splitter = RecursiveCharacterTextSplitter(chunk_size=1000, chunk_overlap=200)\n",
    "texts = text_splitter.split_documents(documents)"
   ]
  },
  {
   "cell_type": "code",
   "execution_count": 4,
   "id": "f212e7a3-77eb-48ba-87bc-f79eac318c9c",
   "metadata": {},
   "outputs": [
    {
     "data": {
      "text/plain": [
       "16"
      ]
     },
     "execution_count": 4,
     "metadata": {},
     "output_type": "execute_result"
    }
   ],
   "source": [
    "len(texts)"
   ]
  },
  {
   "cell_type": "code",
   "execution_count": 5,
   "id": "41e5a070-0305-4cec-9344-138c4e151c32",
   "metadata": {},
   "outputs": [
    {
     "data": {
      "text/plain": [
       "Document(page_content='unease or sensuality. \\nUsing AI methods, computers can analyse \\nsuch poses in tens of thousands of portraits \\nin as little as an hour, much quicker than an \\nart scholar can. Deep neural networks — \\nmachine-learning systems that mimic biolog -\\nical neural networks in brains — can detect the \\nlocations of key points, such as the tip of the \\nnose or the corners of the eyes, in a painting. \\nThey then accurately infer the angles of a sub -\\nject’s pose around three perpendicular axes \\nfor realistic and highly stylized portraits.\\nFor example, earlier this year, researchers \\nused deep neural networks to analyse poses \\nand gender across more than 20,000 portraits, \\nspanning a wide range of periods and styles, \\nto help art scholars group works by era and art \\nmovement. There were some surprises — the \\ntilts of faces and bodies in self-portraits vary \\nwith the stance of the artist, and the algorithms \\ncould tell whether the self-portraitists were', metadata={'source': 'How AI is expanding art history.pdf', 'page': 1})"
      ]
     },
     "execution_count": 5,
     "metadata": {},
     "output_type": "execute_result"
    }
   ],
   "source": [
    "texts[5]"
   ]
  },
  {
   "cell_type": "code",
   "execution_count": 6,
   "id": "a9db1b93-dc82-4575-b9df-7009b71d7a57",
   "metadata": {},
   "outputs": [],
   "source": [
    "_ = load_dotenv()\n",
    "\n",
    "HUGGINGFACEHUB_API_TOKEN = os.environ[\"HUGGINGFACEHUB_API_TOKEN\"]\n",
    "\n",
    "llm=HuggingFaceHub(\n",
    "    repo_id=\"HuggingFaceH4/zephyr-7b-beta\", \n",
    "    model_kwargs={\"temperature\":0.2, \"max_length\":256},\n",
    "    huggingfacehub_api_token=HUGGINGFACEHUB_API_TOKEN\n",
    "    )"
   ]
  },
  {
   "cell_type": "code",
   "execution_count": 7,
   "id": "cf11565f-0f33-4e43-abc9-acfe9c569bf8",
   "metadata": {},
   "outputs": [
    {
     "name": "stdout",
     "output_type": "stream",
     "text": [
      "load INSTRUCTOR_Transformer\n",
      "max_seq_length  512\n"
     ]
    }
   ],
   "source": [
    "from langchain.embeddings import HuggingFaceInstructEmbeddings\n",
    "\n",
    "instructor_embeddings = HuggingFaceInstructEmbeddings(model_name=\"BAAI/bge-base-en-v1.5\",\n",
    "                                                      model_kwargs={\"device\": \"cuda\"})"
   ]
  },
  {
   "cell_type": "code",
   "execution_count": 8,
   "id": "d80b7fa5-641f-4d83-9c68-83fe4c876cf0",
   "metadata": {},
   "outputs": [
    {
     "name": "stdout",
     "output_type": "stream",
     "text": [
      "CPU times: total: 1.2 s\n",
      "Wall time: 3.94 s\n"
     ]
    }
   ],
   "source": [
    "%%time\n",
    "persist_directory = 'db_HuggingFace'\n",
    "\n",
    "embedding = instructor_embeddings\n",
    "\n",
    "vectordb = Chroma.from_documents(documents=texts,\n",
    "                                 embedding=embedding,\n",
    "                                 persist_directory=persist_directory)"
   ]
  },
  {
   "cell_type": "code",
   "execution_count": 9,
   "id": "17bb19a2-6e60-4a23-a838-1b24ecfd5879",
   "metadata": {},
   "outputs": [],
   "source": [
    "retriever = vectordb.as_retriever(search_kwargs={\"k\": 2})\n",
    "docs = retriever.get_relevant_documents(\"What is paranoia?\")"
   ]
  },
  {
   "cell_type": "code",
   "execution_count": 10,
   "id": "8e7586fd-9109-46d8-807d-43ae51ed6521",
   "metadata": {},
   "outputs": [
    {
     "data": {
      "text/plain": [
       "2"
      ]
     },
     "execution_count": 10,
     "metadata": {},
     "output_type": "execute_result"
    }
   ],
   "source": [
    "len(docs)"
   ]
  },
  {
   "cell_type": "code",
   "execution_count": 11,
   "id": "279a45e1-843e-48b6-b8f8-340e4f582be6",
   "metadata": {},
   "outputs": [],
   "source": [
    "qa_chain = RetrievalQA.from_chain_type(llm=llm,\n",
    "                                  chain_type=\"stuff\",\n",
    "                                  retriever=retriever,\n",
    "                                  return_source_documents=True)"
   ]
  },
  {
   "cell_type": "code",
   "execution_count": 12,
   "id": "2529c970-3b58-4543-b94b-bfe7943edad2",
   "metadata": {},
   "outputs": [],
   "source": [
    "def process_llm_response(qa_chain, query):\n",
    "    print(f\"Query: {query}\\n\")\n",
    "    time_1 = time()\n",
    "    llm_response = qa_chain(query)\n",
    "    time_2 = time()\n",
    "    print(f\"Inference time: {round(time_2-time_1, 3)} sec.\")\n",
    "    print(f\"\\nResult:\", llm_response['result'])\n",
    "    print(f\"\\nmetadata:\", llm_response['source_documents'][0].metadata)"
   ]
  },
  {
   "cell_type": "code",
   "execution_count": 13,
   "id": "4c4c442f-8e9c-4bd0-9e5c-44fe1309fa15",
   "metadata": {},
   "outputs": [
    {
     "name": "stdout",
     "output_type": "stream",
     "text": [
      "Query: How does AI affect Art?\n",
      "\n",
      "Inference time: 1.556 sec.\n",
      "\n",
      "Result:  In the study of art, AI is revealing new insights into color and style by analyzing large datasets of artworks. AI-driven tools are helping artists understand the science behind their creative choices, allowing them to make more informed decisions in their work. However, to fully harness the power of AI in art, we will need the same foundations as other fields, such as data privacy and transparency in algorithmic decision-making. Overall, AI is enhancing the creative process in art by providing new perspectives and tools for exploration.\n",
      "\n",
      "metadata: {'page': 2, 'source': 'How AI is expanding art history.pdf'}\n"
     ]
    }
   ],
   "source": [
    "query = \"How does AI affect Art?\"\n",
    "process_llm_response(qa_chain, query)"
   ]
  },
  {
   "cell_type": "code",
   "execution_count": 14,
   "id": "228f252c-72c9-4bf7-b3ce-0d93f76dadc0",
   "metadata": {},
   "outputs": [
    {
     "name": "stdout",
     "output_type": "stream",
     "text": [
      "Query: How does AI mimic human artwork?\n",
      "\n",
      "Inference time: 2.136 sec.\n",
      "\n",
      "Result:  AI-driven tools are revealing how artists' understanding of the science of color and style contributes to their unique artistic style, allowing for the creation of AI-generated artwork that mimics the style of human artists. This is made possible by the same foundations required for the full power of AI in the study of art.\n",
      "\n",
      "metadata: {'page': 2, 'source': 'How AI is expanding art history.pdf'}\n"
     ]
    }
   ],
   "source": [
    "# break it down\n",
    "query = \"How does AI mimic human artwork?\"\n",
    "process_llm_response(qa_chain, query)"
   ]
  },
  {
   "cell_type": "code",
   "execution_count": 15,
   "id": "55dfd2fe-1958-403c-bb44-6d3562a59bb2",
   "metadata": {},
   "outputs": [
    {
     "name": "stdout",
     "output_type": "stream",
     "text": [
      "Query: How do they measure Momentary social anxiety?\n",
      "\n",
      "Inference time: 0.579 sec.\n",
      "\n",
      "Result:  The study assessed momentary social anxiety using three specific items suggested in a previous study. Unfortunately, the specific items are not provided in this context, so the exact measurement method is not clear. However, it can be inferred that these items likely focus on measuring the intensity and duration of social anxiety in specific situations or interactions. Without further information, it is impossible to provide a more detailed answer.\n",
      "\n",
      "metadata: {'page': 5, 'source': 'PDF_file\\\\s41598-023-47912-0.pdf'}\n"
     ]
    }
   ],
   "source": [
    "query = \"How do they measure Momentary social anxiety?\"\n",
    "process_llm_response(qa_chain, query)"
   ]
  },
  {
   "cell_type": "code",
   "execution_count": 16,
   "id": "4cfa9c64-7dbf-46ec-8177-ffc9743c17b0",
   "metadata": {},
   "outputs": [
    {
     "name": "stdout",
     "output_type": "stream",
     "text": [
      "Query: Please give me an example of using AI to produce an artwork\n",
      "\n",
      "Inference time: 5.329 sec.\n",
      "\n",
      "Result:  One example of using AI to produce an artwork is the image generator Dall-E, which has been trained on a nearly terabyte dataset of images and text. By inputting a description or prompt, such as \"a surreal landscape with a melting clock tower and floating flowers,\" Dall-E can generate a unique and original image based on that description. While the resulting images may not be entirely realistic or photorealistic, they can be visually striking and surreal, showcasing the potential of AI to create entirely new and imaginative works of art.\n",
      "\n",
      "metadata: {'page': 2, 'source': 'How AI is expanding art history.pdf'}\n"
     ]
    }
   ],
   "source": [
    "query = \"Please give me an example of using AI to produce an artwork\"\n",
    "process_llm_response(qa_chain, query)"
   ]
  },
  {
   "cell_type": "code",
   "execution_count": 17,
   "id": "d72b4d0f-1981-43eb-9bee-399ef3c98cdf",
   "metadata": {},
   "outputs": [
    {
     "name": "stdout",
     "output_type": "stream",
     "text": [
      "Query: How does machine learning and deep neural network help developing AI in art field?\n",
      "\n",
      "Inference time: 0.596 sec.\n",
      "\n",
      "Result:  Machine learning and deep neural networks are essential foundations for realizing the full power of AI in the study of art. These technologies allow AI-driven tools to analyze brush strokes, color, and style in fine-art paintings and drawings, revealing new insights and shedding light on these works of art. By providing the same foundations as other fields, machine learning and deep neural networks are helping to develop AI in the art field, unlocking new possibilities for understanding and appreciating art.\n",
      "\n",
      "metadata: {'page': 2, 'source': 'How AI is expanding art history.pdf'}\n"
     ]
    }
   ],
   "source": [
    "query = \"How does machine learning and deep neural network help developing AI in art field?\"\n",
    "process_llm_response(qa_chain, query)"
   ]
  },
  {
   "cell_type": "code",
   "execution_count": 18,
   "id": "26f2a13b-2aa6-4756-b218-0236cb6bf3d8",
   "metadata": {},
   "outputs": [
    {
     "name": "stdout",
     "output_type": "stream",
     "text": [
      "Query: What is By-eye art analysis?\n",
      "\n",
      "Inference time: 0.596 sec.\n",
      "\n",
      "Result:  By-eye art analysis refers to the traditional method of analyzing and examining artworks using human vision and perception. It involves looking at the artwork with the naked eye and making observations and interpretations based on visual cues and details. Computer-assisted connoisseurship, on the other hand, uses technology and algorithms to automate or enhance this process, either by replicating the human visual analysis or by providing new insights and perspectives beyond what is possible through normal human perception.\n",
      "\n",
      "metadata: {'page': 0, 'source': 'How AI is expanding art history.pdf'}\n"
     ]
    }
   ],
   "source": [
    "query = \"What is By-eye art analysis?\"\n",
    "process_llm_response(qa_chain, query)"
   ]
  },
  {
   "cell_type": "code",
   "execution_count": 19,
   "id": "cd3f83c1-a5cd-41f5-b067-dba84856ea6d",
   "metadata": {},
   "outputs": [
    {
     "name": "stdout",
     "output_type": "stream",
     "text": [
      "Query: Other than produce Artwork, what else can AI use in Art study?\n",
      "\n",
      "Inference time: 0.607 sec.\n",
      "\n",
      "Result:  AI can be used to analyze and interpret art, as well as to assist in conservation efforts by identifying areas of damage or deterioration in paintings and sculptures. It can also be used to help curate exhibitions by suggesting connections between different works of art based on their stylistic features. Additionally, AI can be used to assist in art education by providing personalized feedback to students on their artistic abilities and suggesting areas for improvement.\n",
      "\n",
      "metadata: {'page': 2, 'source': 'How AI is expanding art history.pdf'}\n"
     ]
    }
   ],
   "source": [
    "query = \"Other than produce Artwork, what else can AI use in Art study?\"\n",
    "process_llm_response(qa_chain, query)"
   ]
  },
  {
   "cell_type": "code",
   "execution_count": 20,
   "id": "6a80a1db-d155-483a-8eef-eb8a4e2b72f4",
   "metadata": {},
   "outputs": [
    {
     "name": "stdout",
     "output_type": "stream",
     "text": [
      "Query: Give me an example of AI help recovering old art pieces\n",
      "\n",
      "Inference time: 4.7 sec.\n",
      "\n",
      "Result:  One potential application of AI in the study of art is the restoration of damaged or deteriorated artworks. AI algorithms can analyze the original image and predict what the missing or damaged parts might have looked like, allowing for a more accurate and less invasive restoration process. This technology has already been used to restore ancient manuscripts and frescoes, and as the availability of high-quality data increases, we can expect more advanced and sophisticated AI tools to emerge in this field.\n",
      "\n",
      "metadata: {'page': 2, 'source': 'How AI is expanding art history.pdf'}\n"
     ]
    }
   ],
   "source": [
    "query = \"Give me an example of AI help recovering old art pieces\"\n",
    "process_llm_response(qa_chain, query)"
   ]
  },
  {
   "cell_type": "code",
   "execution_count": 21,
   "id": "32d8beb0-c682-442f-9386-515b0d807582",
   "metadata": {},
   "outputs": [
    {
     "name": "stdout",
     "output_type": "stream",
     "text": [
      "Query: What is the future of AI in art study?\n",
      "\n",
      "Inference time: 0.6 sec.\n",
      "\n",
      "Result:  In order to fully harness the potential of AI in art scholarship, we will need to establish the same foundational principles as other fields. While the study of art has evolved over centuries, the introduction of computational tools and AI presents a new frontier for art scholarship. While there is still much work to be done, the potential for AI in art study is promising.\n",
      "\n",
      "metadata: {'page': 2, 'source': 'How AI is expanding art history.pdf'}\n"
     ]
    }
   ],
   "source": [
    "query = \"What is the future of AI in art study?\"\n",
    "process_llm_response(qa_chain, query)"
   ]
  },
  {
   "cell_type": "code",
   "execution_count": 22,
   "id": "7cc8ddf1-d182-4138-b3e3-98a74e7ed5f1",
   "metadata": {},
   "outputs": [
    {
     "name": "stdout",
     "output_type": "stream",
     "text": [
      "Query: Is there any challenge that AI facing in art study?\n",
      "\n",
      "Inference time: 0.6 sec.\n",
      "\n",
      "Result:  Yes, in order to fully harness the power of AI in the study of art, we need to establish the same foundations as other fields of perception and introduce new approaches and classes of questions to art scholarship. This presents a challenge as it requires a deep understanding of both the technical aspects of AI and the nuances of art history and criticism. Additionally, there is a need to address issues of data availability, privacy, and intellectual property in the context of AI and art.\n",
      "\n",
      "metadata: {'page': 2, 'source': 'How AI is expanding art history.pdf'}\n"
     ]
    }
   ],
   "source": [
    "query = \"Is there any challenge that AI facing in art study?\"\n",
    "process_llm_response(qa_chain, query)"
   ]
  },
  {
   "cell_type": "code",
   "execution_count": 23,
   "id": "60f45e42-ef80-485e-a58b-cf8f8642cfa1",
   "metadata": {},
   "outputs": [
    {
     "data": {
      "text/plain": [
       "('similarity', <langchain.vectorstores.chroma.Chroma at 0x1ea592fba90>)"
      ]
     },
     "execution_count": 23,
     "metadata": {},
     "output_type": "execute_result"
    }
   ],
   "source": [
    "qa_chain.retriever.search_type , qa_chain.retriever.vectorstore"
   ]
  },
  {
   "cell_type": "code",
   "execution_count": 24,
   "id": "c8d841e2-9f2f-49da-b18f-713536159831",
   "metadata": {},
   "outputs": [
    {
     "name": "stdout",
     "output_type": "stream",
     "text": [
      "Use the following pieces of context to answer the question at the end. If you don't know the answer, just say that you don't know, don't try to make up an answer.\n",
      "\n",
      "{context}\n",
      "\n",
      "Question: {question}\n",
      "Helpful Answer:\n"
     ]
    }
   ],
   "source": [
    "print(qa_chain.combine_documents_chain.llm_chain.prompt.template)"
   ]
  },
  {
   "cell_type": "code",
   "execution_count": null,
   "id": "7b4f2265-db86-48e3-8e4e-f44aacab0dcd",
   "metadata": {},
   "outputs": [],
   "source": []
  }
 ],
 "metadata": {
  "kernelspec": {
   "display_name": "Python 3 (ipykernel)",
   "language": "python",
   "name": "python3"
  },
  "language_info": {
   "codemirror_mode": {
    "name": "ipython",
    "version": 3
   },
   "file_extension": ".py",
   "mimetype": "text/x-python",
   "name": "python",
   "nbconvert_exporter": "python",
   "pygments_lexer": "ipython3",
   "version": "3.11.4"
  }
 },
 "nbformat": 4,
 "nbformat_minor": 5
}
