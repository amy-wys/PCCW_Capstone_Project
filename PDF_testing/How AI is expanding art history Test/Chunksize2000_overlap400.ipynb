{
 "cells": [
  {
   "cell_type": "code",
   "execution_count": 1,
   "id": "956fe7cd-41ea-4978-bef8-fa749139c982",
   "metadata": {},
   "outputs": [],
   "source": [
    "from langchain.vectorstores import Chroma\n",
    "from langchain.embeddings import OpenAIEmbeddings\n",
    "from langchain.text_splitter import RecursiveCharacterTextSplitter\n",
    "from langchain import HuggingFaceHub\n",
    "from langchain.chains import RetrievalQA\n",
    "from langchain.document_loaders import PyPDFLoader\n",
    "from langchain.document_loaders import DirectoryLoader\n",
    "import os \n",
    "from dotenv import load_dotenv\n",
    "from time import time\n",
    "import warnings\n",
    "warnings.filterwarnings('ignore')"
   ]
  },
  {
   "cell_type": "code",
   "execution_count": 2,
   "id": "1e9d9153-2548-46fc-93a0-c3081e0aeced",
   "metadata": {},
   "outputs": [],
   "source": [
    "#loader = DirectoryLoader('PDF_Testing', glob=\"./*.pdf\", loader_cls=PyPDFLoader)\n",
    "loader = PyPDFLoader('How AI is expanding art history.pdf')\n",
    "documents = loader.load()"
   ]
  },
  {
   "cell_type": "code",
   "execution_count": 3,
   "id": "3d23e69a-8328-45c7-8c6f-1e0a91fad2cd",
   "metadata": {},
   "outputs": [],
   "source": [
    "text_splitter = RecursiveCharacterTextSplitter(chunk_size=2000, chunk_overlap=400)\n",
    "texts = text_splitter.split_documents(documents)"
   ]
  },
  {
   "cell_type": "code",
   "execution_count": 4,
   "id": "f212e7a3-77eb-48ba-87bc-f79eac318c9c",
   "metadata": {},
   "outputs": [
    {
     "data": {
      "text/plain": [
       "8"
      ]
     },
     "execution_count": 4,
     "metadata": {},
     "output_type": "execute_result"
    }
   ],
   "source": [
    "len(texts)"
   ]
  },
  {
   "cell_type": "code",
   "execution_count": 5,
   "id": "41e5a070-0305-4cec-9344-138c4e151c32",
   "metadata": {},
   "outputs": [
    {
     "data": {
      "text/plain": [
       "Document(page_content='(quantification of differences in 3D shapes at \\nvarious sizes and pose angles), optical-ray trac -\\ning and other computational techniques have \\nsystematically overturned Hockney’s theory \\nmuch more conclusively than have arguments \\nput forth by other scholars using conventional \\nart-historical methods. \\nRecovering lost cultural heritage\\nComputer methods have also recovered \\nmissing attributes or portions of incomplete \\nartworks, such as the probable style and col -\\nours of ghost paintings — works that have been \\npainted over and are later revealed by imaging \\nin X-rays or infrared radiation — such as Two \\nWrestlers by Vincent van Gogh. This painting, \\nfrom before 1886, was mentioned by the artist \\nin a letter but considered lost until it was found \\nbeneath another in 2012. Neural networks, trained on images and \\ntext data, have also been used to recover the \\nprobable colours of parts of Gustav Klimt’s \\nlost ceiling painting, Medicine (see go.nature.\\ncom/47rx8c2). The original, a representation \\nof the interweaving of life and death presented \\nto the University of Vienna in 1901, was lost \\nduring the Second World War, when the castle \\nin which it was kept for safety was burnt down \\nby Nazis to prevent the work from falling into \\nthe hands of Allied powers. Only preparatory \\nsketches and photo graphs remain. \\nEven more complex was the digital recov -\\nery of missing parts of Rembrandt’s The Night \\nWatch (1642) — which was trimmed to fit into \\na space in Amsterdam’s city hall — on the basis \\nof a contemporary copy by Gerrit Lundens in \\noil on an oak panel. The algorithms learnt \\nhow Lundens’ copy deviated slightly from Rembrandt’s original, and ‘corrected’ it to \\nrecreate the missing parts of the original (see \\ngo.nature.com/46wvzmj). \\nTo realize the full power of AI in the study of \\nart, we will need the same foundations as other \\ndomains: access to immense data sets and \\ncomputing power. Museums are placing ever \\nmore art images and supporting information', metadata={'source': 'How AI is expanding art history.pdf', 'page': 2})"
      ]
     },
     "execution_count": 5,
     "metadata": {},
     "output_type": "execute_result"
    }
   ],
   "source": [
    "texts[5]"
   ]
  },
  {
   "cell_type": "code",
   "execution_count": 6,
   "id": "a9db1b93-dc82-4575-b9df-7009b71d7a57",
   "metadata": {},
   "outputs": [],
   "source": [
    "_ = load_dotenv()\n",
    "\n",
    "HUGGINGFACEHUB_API_TOKEN = os.environ[\"HUGGINGFACEHUB_API_TOKEN\"]\n",
    "\n",
    "llm=HuggingFaceHub(\n",
    "    repo_id=\"HuggingFaceH4/zephyr-7b-beta\", \n",
    "    model_kwargs={\"temperature\":0.2, \"max_length\":256},\n",
    "    huggingfacehub_api_token=HUGGINGFACEHUB_API_TOKEN\n",
    "    )"
   ]
  },
  {
   "cell_type": "code",
   "execution_count": 7,
   "id": "cf11565f-0f33-4e43-abc9-acfe9c569bf8",
   "metadata": {},
   "outputs": [
    {
     "name": "stdout",
     "output_type": "stream",
     "text": [
      "load INSTRUCTOR_Transformer\n",
      "max_seq_length  512\n"
     ]
    }
   ],
   "source": [
    "from langchain.embeddings import HuggingFaceInstructEmbeddings\n",
    "\n",
    "instructor_embeddings = HuggingFaceInstructEmbeddings(model_name=\"BAAI/bge-base-en-v1.5\",\n",
    "                                                      model_kwargs={\"device\": \"cuda\"})"
   ]
  },
  {
   "cell_type": "code",
   "execution_count": 8,
   "id": "d80b7fa5-641f-4d83-9c68-83fe4c876cf0",
   "metadata": {},
   "outputs": [
    {
     "name": "stdout",
     "output_type": "stream",
     "text": [
      "CPU times: total: 406 ms\n",
      "Wall time: 1.31 s\n"
     ]
    }
   ],
   "source": [
    "%%time\n",
    "persist_directory = 'db_HuggingFace'\n",
    "\n",
    "embedding = instructor_embeddings\n",
    "\n",
    "vectordb = Chroma.from_documents(documents=texts,\n",
    "                                 embedding=embedding,\n",
    "                                 persist_directory=persist_directory)"
   ]
  },
  {
   "cell_type": "code",
   "execution_count": 9,
   "id": "17bb19a2-6e60-4a23-a838-1b24ecfd5879",
   "metadata": {},
   "outputs": [],
   "source": [
    "retriever = vectordb.as_retriever(search_kwargs={\"k\": 2})\n",
    "docs = retriever.get_relevant_documents(\"What is paranoia?\")"
   ]
  },
  {
   "cell_type": "code",
   "execution_count": 10,
   "id": "8e7586fd-9109-46d8-807d-43ae51ed6521",
   "metadata": {},
   "outputs": [
    {
     "data": {
      "text/plain": [
       "2"
      ]
     },
     "execution_count": 10,
     "metadata": {},
     "output_type": "execute_result"
    }
   ],
   "source": [
    "len(docs)"
   ]
  },
  {
   "cell_type": "code",
   "execution_count": 11,
   "id": "279a45e1-843e-48b6-b8f8-340e4f582be6",
   "metadata": {},
   "outputs": [],
   "source": [
    "qa_chain = RetrievalQA.from_chain_type(llm=llm,\n",
    "                                  chain_type=\"stuff\",\n",
    "                                  retriever=retriever,\n",
    "                                  return_source_documents=True)"
   ]
  },
  {
   "cell_type": "code",
   "execution_count": 12,
   "id": "2529c970-3b58-4543-b94b-bfe7943edad2",
   "metadata": {},
   "outputs": [],
   "source": [
    "def process_llm_response(qa_chain, query):\n",
    "    print(f\"Query: {query}\\n\")\n",
    "    time_1 = time()\n",
    "    llm_response = qa_chain(query)\n",
    "    time_2 = time()\n",
    "    print(f\"Inference time: {round(time_2-time_1, 3)} sec.\")\n",
    "    print(f\"\\nResult:\", llm_response['result'])\n",
    "    print(f\"\\nmetadata:\", llm_response['source_documents'][0].metadata)"
   ]
  },
  {
   "cell_type": "code",
   "execution_count": 13,
   "id": "4c4c442f-8e9c-4bd0-9e5c-44fe1309fa15",
   "metadata": {},
   "outputs": [
    {
     "name": "stdout",
     "output_type": "stream",
     "text": [
      "Query: How does AI affect Art?\n",
      "\n",
      "Inference time: 7.891 sec.\n",
      "\n",
      "Result:  In order to fully harness the potential of AI in the study of art, we need to have a large collection of art images and accompanying information readily available online, and increased funding can help accelerate this process. AI can assist in analyzing and interpreting art, providing new insights and perspectives that were previously difficult to discern. It can also aid in the creation of new art, generating original works based on existing styles and techniques. However, there are also concerns about the potential for AI to replace human artists and the impact of AI-generated art on the traditional art market. As with any emerging technology, it is important to approach AI in art with a critical and thoughtful perspective, balancing the benefits and drawbacks.\n",
      "\n",
      "metadata: {'page': 2, 'source': 'How AI is expanding art history.pdf'}\n"
     ]
    }
   ],
   "source": [
    "query = \"How does AI affect Art?\"\n",
    "process_llm_response(qa_chain, query)"
   ]
  },
  {
   "cell_type": "code",
   "execution_count": 14,
   "id": "228f252c-72c9-4bf7-b3ce-0d93f76dadc0",
   "metadata": {},
   "outputs": [
    {
     "name": "stdout",
     "output_type": "stream",
     "text": [
      "Query: How does AI mimic human artwork?\n",
      "\n",
      "Inference time: 0.498 sec.\n",
      "\n",
      "Result:  AI-driven tools are revealing how artists' understanding of the science of color and style contributes to their unique artistic style, allowing for the creation of AI-generated artwork that mimics the style of human artists. This is made possible by the same foundations required for the full power of AI in the study of art.\n",
      "\n",
      "metadata: {'page': 2, 'source': 'How AI is expanding art history.pdf'}\n"
     ]
    }
   ],
   "source": [
    "# break it down\n",
    "query = \"How does AI mimic human artwork?\"\n",
    "process_llm_response(qa_chain, query)"
   ]
  },
  {
   "cell_type": "code",
   "execution_count": 15,
   "id": "55dfd2fe-1958-403c-bb44-6d3562a59bb2",
   "metadata": {},
   "outputs": [
    {
     "name": "stdout",
     "output_type": "stream",
     "text": [
      "Query: How do they measure Momentary social anxiety?\n",
      "\n",
      "Inference time: 0.503 sec.\n",
      "\n",
      "Result:  The study assessed momentary social anxiety using three specific items suggested in a previous study. Unfortunately, the specific items are not provided in this context, so the exact measurement method is not clear. However, it can be inferred that these items likely focus on measuring the intensity and duration of social anxiety in specific situations or interactions. Without further information, it is impossible to provide a more detailed answer.\n",
      "\n",
      "metadata: {'page': 5, 'source': 'PDF_file\\\\s41598-023-47912-0.pdf'}\n"
     ]
    }
   ],
   "source": [
    "query = \"How do they measure Momentary social anxiety?\"\n",
    "process_llm_response(qa_chain, query)"
   ]
  },
  {
   "cell_type": "code",
   "execution_count": 16,
   "id": "4cfa9c64-7dbf-46ec-8177-ffc9743c17b0",
   "metadata": {},
   "outputs": [
    {
     "name": "stdout",
     "output_type": "stream",
     "text": [
      "Query: Please give me an example of using AI to produce an artwork\n",
      "\n",
      "Inference time: 55.912 sec.\n",
      "\n",
      "Result:  While AI has the potential to revolutionize the way we create and appreciate art, it is still in its early stages of development. Currently, AI is primarily used to assist in the creation of art, rather than to produce fully autonomous works. For example, AI can be used to generate sketches or color palettes based on a specific style or theme, or to help artists identify patterns or anomalies in their work. However, fully autonomous AI-generated art is still a topic of ongoing research and debate in the art and technology communities. Some artists and critics argue that AI-generated art lacks the emotional and intellectual depth of human-made art, while others see it as a new and exciting frontier in the evolution of art. As AI technology continues to advance, it will be interesting to see how it is integrated into the art world and how it affects the way we create, appreciate, and understand art.\n",
      "\n",
      "metadata: {'page': 2, 'source': 'How AI is expanding art history.pdf'}\n"
     ]
    }
   ],
   "source": [
    "query = \"Please give me an example of using AI to produce an artwork\"\n",
    "process_llm_response(qa_chain, query)"
   ]
  },
  {
   "cell_type": "code",
   "execution_count": 17,
   "id": "d72b4d0f-1981-43eb-9bee-399ef3c98cdf",
   "metadata": {},
   "outputs": [
    {
     "name": "stdout",
     "output_type": "stream",
     "text": [
      "Query: How does machine learning and deep neural network help developing AI in art field?\n",
      "\n",
      "Inference time: 0.535 sec.\n",
      "\n",
      "Result:  Machine learning and deep neural networks are crucial foundations for realizing the full potential of AI in the study of art. By analyzing vast amounts of visual data, these technologies can help us understand the underlying principles of color, composition, and style in art. AI-driven tools are already revealing new insights into how artists' understanding of the science of color and style evolves over time, and how these principles are applied in different artistic traditions. As these technologies continue to advance, they will enable us to create more sophisticated and nuanced AI systems for generating, analyzing, and interpreting art.\n",
      "\n",
      "metadata: {'page': 2, 'source': 'How AI is expanding art history.pdf'}\n"
     ]
    }
   ],
   "source": [
    "query = \"How does machine learning and deep neural network help developing AI in art field?\"\n",
    "process_llm_response(qa_chain, query)"
   ]
  },
  {
   "cell_type": "code",
   "execution_count": 18,
   "id": "26f2a13b-2aa6-4756-b218-0236cb6bf3d8",
   "metadata": {},
   "outputs": [
    {
     "name": "stdout",
     "output_type": "stream",
     "text": [
      "Query: What is By-eye art analysis?\n",
      "\n",
      "Inference time: 3.558 sec.\n",
      "\n",
      "Result:  By-eye art analysis refers to the traditional method of examining and evaluating works of art using visual observation and interpretation. It involves looking at the colors, composition, and other visual elements of a piece to determine its authenticity, quality, and value. This type of analysis is being challenged by new technologies that aim to automate and enhance this process through the use of artificial intelligence and other advanced techniques.\n",
      "\n",
      "metadata: {'page': 0, 'source': 'How AI is expanding art history.pdf'}\n"
     ]
    }
   ],
   "source": [
    "query = \"What is By-eye art analysis?\"\n",
    "process_llm_response(qa_chain, query)"
   ]
  },
  {
   "cell_type": "code",
   "execution_count": 19,
   "id": "cd3f83c1-a5cd-41f5-b067-dba84856ea6d",
   "metadata": {},
   "outputs": [
    {
     "name": "stdout",
     "output_type": "stream",
     "text": [
      "Query: Other than produce Artwork, what else can AI use in Art study?\n",
      "\n",
      "Inference time: 2.944 sec.\n",
      "\n",
      "Result:  AI can be used to analyze and interpret art pieces, identify styles and techniques, and even assist in art conservation and restoration efforts by analyzing the chemical composition and condition of the artwork. It can also help in the creation of virtual exhibitions and tours, allowing people to experience art in new and immersive ways.\n",
      "\n",
      "metadata: {'page': 2, 'source': 'How AI is expanding art history.pdf'}\n"
     ]
    }
   ],
   "source": [
    "query = \"Other than produce Artwork, what else can AI use in Art study?\"\n",
    "process_llm_response(qa_chain, query)"
   ]
  },
  {
   "cell_type": "code",
   "execution_count": 20,
   "id": "6a80a1db-d155-483a-8eef-eb8a4e2b72f4",
   "metadata": {},
   "outputs": [
    {
     "name": "stdout",
     "output_type": "stream",
     "text": [
      "Query: Give me an example of AI help recovering old art pieces\n",
      "\n",
      "Inference time: 5.058 sec.\n",
      "\n",
      "Result:  One example of AI being used to recover old art pieces is the project called \"The Reconstruction of the Fresco Cycle in the Church of San Francesco in Borgo San Sepolcro\" in Italy. This project used AI to analyze the remaining fragments of a fresco cycle painted by the Renaissance artist Benozzo Gozzoli in the 15th century. The AI was able to reconstruct the missing parts of the frescoes and create a digital restoration of the entire cycle, allowing scholars and the public to appreciate this lost cultural heritage in a new way.\n",
      "\n",
      "metadata: {'page': 2, 'source': 'How AI is expanding art history.pdf'}\n"
     ]
    }
   ],
   "source": [
    "query = \"Give me an example of AI help recovering old art pieces\"\n",
    "process_llm_response(qa_chain, query)"
   ]
  },
  {
   "cell_type": "code",
   "execution_count": 21,
   "id": "32d8beb0-c682-442f-9386-515b0d807582",
   "metadata": {},
   "outputs": [
    {
     "name": "stdout",
     "output_type": "stream",
     "text": [
      "Query: What is the future of AI in art study?\n",
      "\n",
      "Inference time: 5.087 sec.\n",
      "\n",
      "Result:  The future of AI in art study is promising, as the availability of more art images and supporting information online and enlightened funding could accelerate the realization of the full power of AI in this field. However, it's important to note that while AI can assist in the analysis and interpretation of art, it cannot replace the critical thinking and subjective interpretation that is inherent in art appreciation and scholarship. Therefore, AI should be seen as a tool to enhance, rather than replace, human expertise in the study of art.\n",
      "\n",
      "metadata: {'page': 2, 'source': 'How AI is expanding art history.pdf'}\n"
     ]
    }
   ],
   "source": [
    "query = \"What is the future of AI in art study?\"\n",
    "process_llm_response(qa_chain, query)"
   ]
  },
  {
   "cell_type": "code",
   "execution_count": 22,
   "id": "7cc8ddf1-d182-4138-b3e3-98a74e7ed5f1",
   "metadata": {},
   "outputs": [
    {
     "name": "stdout",
     "output_type": "stream",
     "text": [
      "Query: Is there any challenge that AI facing in art study?\n",
      "\n",
      "Inference time: 0.53 sec.\n",
      "\n",
      "Result:  Yes, in order to fully harness the power of AI in the study of art, we need to establish the same foundations as other fields of perception and introduce new approaches and classes of questions to art scholarship. This presents a challenge as it requires a deep understanding of both the technical aspects of AI and the nuances of art history and criticism. Additionally, there is a need to address issues of data availability, privacy, and intellectual property in the context of AI and art.\n",
      "\n",
      "metadata: {'page': 2, 'source': 'How AI is expanding art history.pdf'}\n"
     ]
    }
   ],
   "source": [
    "query = \"Is there any challenge that AI facing in art study?\"\n",
    "process_llm_response(qa_chain, query)"
   ]
  },
  {
   "cell_type": "code",
   "execution_count": 23,
   "id": "60f45e42-ef80-485e-a58b-cf8f8642cfa1",
   "metadata": {},
   "outputs": [
    {
     "data": {
      "text/plain": [
       "('similarity', <langchain.vectorstores.chroma.Chroma at 0x2a666dbb1d0>)"
      ]
     },
     "execution_count": 23,
     "metadata": {},
     "output_type": "execute_result"
    }
   ],
   "source": [
    "qa_chain.retriever.search_type , qa_chain.retriever.vectorstore"
   ]
  },
  {
   "cell_type": "code",
   "execution_count": 24,
   "id": "c8d841e2-9f2f-49da-b18f-713536159831",
   "metadata": {},
   "outputs": [
    {
     "name": "stdout",
     "output_type": "stream",
     "text": [
      "Use the following pieces of context to answer the question at the end. If you don't know the answer, just say that you don't know, don't try to make up an answer.\n",
      "\n",
      "{context}\n",
      "\n",
      "Question: {question}\n",
      "Helpful Answer:\n"
     ]
    }
   ],
   "source": [
    "print(qa_chain.combine_documents_chain.llm_chain.prompt.template)"
   ]
  },
  {
   "cell_type": "code",
   "execution_count": null,
   "id": "7b4f2265-db86-48e3-8e4e-f44aacab0dcd",
   "metadata": {},
   "outputs": [],
   "source": []
  }
 ],
 "metadata": {
  "kernelspec": {
   "display_name": "Python 3 (ipykernel)",
   "language": "python",
   "name": "python3"
  },
  "language_info": {
   "codemirror_mode": {
    "name": "ipython",
    "version": 3
   },
   "file_extension": ".py",
   "mimetype": "text/x-python",
   "name": "python",
   "nbconvert_exporter": "python",
   "pygments_lexer": "ipython3",
   "version": "3.11.4"
  }
 },
 "nbformat": 4,
 "nbformat_minor": 5
}
