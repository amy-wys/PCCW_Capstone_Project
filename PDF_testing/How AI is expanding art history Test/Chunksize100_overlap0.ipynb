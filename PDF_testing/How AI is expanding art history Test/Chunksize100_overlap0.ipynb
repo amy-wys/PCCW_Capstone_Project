{
 "cells": [
  {
   "cell_type": "code",
   "execution_count": 36,
   "id": "956fe7cd-41ea-4978-bef8-fa749139c982",
   "metadata": {},
   "outputs": [],
   "source": [
    "from langchain.vectorstores import Chroma\n",
    "from langchain.embeddings import OpenAIEmbeddings\n",
    "from langchain.text_splitter import RecursiveCharacterTextSplitter\n",
    "from langchain import HuggingFaceHub\n",
    "from langchain.chains import RetrievalQA\n",
    "from langchain.document_loaders import PyPDFLoader\n",
    "from langchain.document_loaders import DirectoryLoader\n",
    "import os \n",
    "from dotenv import load_dotenv\n",
    "from time import time\n",
    "import warnings\n",
    "warnings.filterwarnings('ignore')"
   ]
  },
  {
   "cell_type": "code",
   "execution_count": 37,
   "id": "1e9d9153-2548-46fc-93a0-c3081e0aeced",
   "metadata": {},
   "outputs": [],
   "source": [
    "#loader = DirectoryLoader('PDF_Testing', glob=\"./*.pdf\", loader_cls=PyPDFLoader)\n",
    "loader = PyPDFLoader('How AI is expanding art history.pdf')\n",
    "documents = loader.load()"
   ]
  },
  {
   "cell_type": "code",
   "execution_count": 38,
   "id": "3d23e69a-8328-45c7-8c6f-1e0a91fad2cd",
   "metadata": {},
   "outputs": [],
   "source": [
    "text_splitter = RecursiveCharacterTextSplitter(chunk_size=100, chunk_overlap=0)\n",
    "texts = text_splitter.split_documents(documents)"
   ]
  },
  {
   "cell_type": "code",
   "execution_count": 39,
   "id": "f212e7a3-77eb-48ba-87bc-f79eac318c9c",
   "metadata": {},
   "outputs": [
    {
     "data": {
      "text/plain": [
       "139"
      ]
     },
     "execution_count": 39,
     "metadata": {},
     "output_type": "execute_result"
    }
   ],
   "source": [
    "len(texts)"
   ]
  },
  {
   "cell_type": "code",
   "execution_count": 40,
   "id": "41e5a070-0305-4cec-9344-138c4e151c32",
   "metadata": {},
   "outputs": [
    {
     "data": {
      "text/plain": [
       "Document(page_content='advancing fast, and dozens of studies are now \\nproving the power of AI to shed new light on', metadata={'source': 'How AI is expanding art history.pdf', 'page': 0})"
      ]
     },
     "execution_count": 40,
     "metadata": {},
     "output_type": "execute_result"
    }
   ],
   "source": [
    "texts[5]"
   ]
  },
  {
   "cell_type": "code",
   "execution_count": 41,
   "id": "a9db1b93-dc82-4575-b9df-7009b71d7a57",
   "metadata": {},
   "outputs": [],
   "source": [
    "_ = load_dotenv()\n",
    "\n",
    "HUGGINGFACEHUB_API_TOKEN = os.environ[\"HUGGINGFACEHUB_API_TOKEN\"]\n",
    "\n",
    "llm=HuggingFaceHub(\n",
    "    repo_id=\"HuggingFaceH4/zephyr-7b-beta\", \n",
    "    model_kwargs={\"temperature\":0.2, \"max_length\":256},\n",
    "    huggingfacehub_api_token=HUGGINGFACEHUB_API_TOKEN\n",
    "    )"
   ]
  },
  {
   "cell_type": "code",
   "execution_count": 42,
   "id": "cf11565f-0f33-4e43-abc9-acfe9c569bf8",
   "metadata": {},
   "outputs": [
    {
     "name": "stdout",
     "output_type": "stream",
     "text": [
      "load INSTRUCTOR_Transformer\n",
      "max_seq_length  512\n"
     ]
    }
   ],
   "source": [
    "from langchain.embeddings import HuggingFaceInstructEmbeddings\n",
    "\n",
    "instructor_embeddings = HuggingFaceInstructEmbeddings(model_name=\"BAAI/bge-base-en-v1.5\",\n",
    "                                                      model_kwargs={\"device\": \"cuda\"})"
   ]
  },
  {
   "cell_type": "code",
   "execution_count": 43,
   "id": "d80b7fa5-641f-4d83-9c68-83fe4c876cf0",
   "metadata": {},
   "outputs": [
    {
     "name": "stdout",
     "output_type": "stream",
     "text": [
      "CPU times: total: 172 ms\n",
      "Wall time: 686 ms\n"
     ]
    }
   ],
   "source": [
    "%%time\n",
    "persist_directory = 'db_HuggingFace'\n",
    "\n",
    "embedding = instructor_embeddings\n",
    "\n",
    "vectordb = Chroma.from_documents(documents=texts,\n",
    "                                 embedding=embedding,\n",
    "                                 persist_directory=persist_directory)"
   ]
  },
  {
   "cell_type": "code",
   "execution_count": 44,
   "id": "17bb19a2-6e60-4a23-a838-1b24ecfd5879",
   "metadata": {},
   "outputs": [],
   "source": [
    "retriever = vectordb.as_retriever(search_kwargs={\"k\": 2})\n",
    "docs = retriever.get_relevant_documents(\"What is paranoia?\")"
   ]
  },
  {
   "cell_type": "code",
   "execution_count": 45,
   "id": "8e7586fd-9109-46d8-807d-43ae51ed6521",
   "metadata": {},
   "outputs": [
    {
     "data": {
      "text/plain": [
       "2"
      ]
     },
     "execution_count": 45,
     "metadata": {},
     "output_type": "execute_result"
    }
   ],
   "source": [
    "len(docs)"
   ]
  },
  {
   "cell_type": "code",
   "execution_count": 46,
   "id": "279a45e1-843e-48b6-b8f8-340e4f582be6",
   "metadata": {},
   "outputs": [],
   "source": [
    "qa_chain = RetrievalQA.from_chain_type(llm=llm,\n",
    "                                  chain_type=\"stuff\",\n",
    "                                  retriever=retriever,\n",
    "                                  return_source_documents=True)"
   ]
  },
  {
   "cell_type": "code",
   "execution_count": 47,
   "id": "2529c970-3b58-4543-b94b-bfe7943edad2",
   "metadata": {},
   "outputs": [],
   "source": [
    "def process_llm_response(qa_chain, query):\n",
    "    print(f\"Query: {query}\\n\")\n",
    "    time_1 = time()\n",
    "    llm_response = qa_chain(query)\n",
    "    time_2 = time()\n",
    "    print(f\"Inference time: {round(time_2-time_1, 3)} sec.\")\n",
    "    print(f\"\\nResult:\", llm_response['result'])\n",
    "    print(f\"\\nmetadata:\", llm_response['source_documents'][0].metadata)"
   ]
  },
  {
   "cell_type": "code",
   "execution_count": 49,
   "id": "4c4c442f-8e9c-4bd0-9e5c-44fe1309fa15",
   "metadata": {},
   "outputs": [
    {
     "name": "stdout",
     "output_type": "stream",
     "text": [
      "Query: How does AI affect Art?\n",
      "\n",
      "Inference time: 7.643 sec.\n",
      "\n",
      "Result:  In the study of art, AI is revealing new insights into color and style by analyzing large datasets of artworks. AI-driven tools are helping artists understand the science behind their creative choices, allowing them to make more informed decisions in their work. However, to fully harness the power of AI in art, we will need the same foundations as other fields, such as data privacy and transparency in algorithmic decision-making. Overall, AI is enhancing the creative process in art by providing new perspectives and tools for exploration.\n",
      "\n",
      "metadata: {'page': 2, 'source': 'How AI is expanding art history.pdf'}\n"
     ]
    }
   ],
   "source": [
    "query = \"How does AI affect Art?\"\n",
    "process_llm_response(qa_chain, query)"
   ]
  },
  {
   "cell_type": "code",
   "execution_count": 50,
   "id": "228f252c-72c9-4bf7-b3ce-0d93f76dadc0",
   "metadata": {},
   "outputs": [
    {
     "name": "stdout",
     "output_type": "stream",
     "text": [
      "Query: How does AI mimic human artwork?\n",
      "\n",
      "Inference time: 8.009 sec.\n",
      "\n",
      "Result:  AI-driven tools are revealing how artists' understanding of the science of color and style contributes to their unique artistic style, allowing for the creation of AI-generated artwork that mimics the style of human artists. This is made possible by the same foundations required for the full power of AI in the study of art.\n",
      "\n",
      "metadata: {'page': 2, 'source': 'How AI is expanding art history.pdf'}\n"
     ]
    }
   ],
   "source": [
    "# break it down\n",
    "query = \"How does AI mimic human artwork?\"\n",
    "process_llm_response(qa_chain, query)"
   ]
  },
  {
   "cell_type": "code",
   "execution_count": 15,
   "id": "55dfd2fe-1958-403c-bb44-6d3562a59bb2",
   "metadata": {},
   "outputs": [
    {
     "name": "stdout",
     "output_type": "stream",
     "text": [
      "Query: How do they measure Momentary social anxiety?\n",
      "\n",
      "Inference time: 5.45 sec.\n",
      "\n",
      "Result:  The study assessed momentary social anxiety using three specific items suggested in a previous study. Unfortunately, the specific items are not provided in this context, so the exact measurement method is not clear. However, it can be inferred that these items likely focus on measuring the intensity and duration of social anxiety in specific situations or interactions. Without further information, it is impossible to provide a more detailed answer.\n",
      "\n",
      "metadata: {'page': 5, 'source': 'PDF_file\\\\s41598-023-47912-0.pdf'}\n"
     ]
    }
   ],
   "source": [
    "query = \"How do they measure Momentary social anxiety?\"\n",
    "process_llm_response(qa_chain, query)"
   ]
  },
  {
   "cell_type": "code",
   "execution_count": 51,
   "id": "4cfa9c64-7dbf-46ec-8177-ffc9743c17b0",
   "metadata": {},
   "outputs": [
    {
     "name": "stdout",
     "output_type": "stream",
     "text": [
      "Query: Please give me an example of using AI to produce an artwork\n",
      "\n",
      "Inference time: 7.114 sec.\n",
      "\n",
      "Result:  One example of using AI to produce an artwork is the \"Portrait of Edmond de Belamy,\" created by a team of researchers from the French company, Obvious. The portrait was generated using a generative adversarial network (GAN), a type of AI that can create new images by learning from existing ones. The GAN was trained on a dataset of over 15,000 portraits from the 14th to the 20th centuries, allowing it to generate a unique portrait that appears to have a human-like quality. The portrait was sold at an auction for over $400,000, highlighting the growing interest and value in AI-generated art.\n",
      "\n",
      "metadata: {'page': 0, 'source': 'How AI is expanding art history.pdf'}\n"
     ]
    }
   ],
   "source": [
    "query = \"Please give me an example of using AI to produce an artwork\"\n",
    "process_llm_response(qa_chain, query)"
   ]
  },
  {
   "cell_type": "code",
   "execution_count": 52,
   "id": "d72b4d0f-1981-43eb-9bee-399ef3c98cdf",
   "metadata": {},
   "outputs": [
    {
     "name": "stdout",
     "output_type": "stream",
     "text": [
      "Query: How does machine learning and deep neural network help developing AI in art field?\n",
      "\n",
      "Inference time: 5.916 sec.\n",
      "\n",
      "Result:  Machine learning and deep neural networks are crucial foundations for realizing the full potential of AI in the study of art. By analyzing vast amounts of visual data, these technologies can help us understand the underlying principles of color, composition, and style in art. AI-driven tools are already revealing new insights into how artists' understanding of the science of color and style evolves over time, and how these principles are applied in different artistic traditions. As these technologies continue to advance, they will enable us to create more sophisticated and nuanced AI systems for generating, analyzing, and interpreting art.\n",
      "\n",
      "metadata: {'page': 2, 'source': 'How AI is expanding art history.pdf'}\n"
     ]
    }
   ],
   "source": [
    "query = \"How does machine learning and deep neural network help developing AI in art field?\"\n",
    "process_llm_response(qa_chain, query)"
   ]
  },
  {
   "cell_type": "code",
   "execution_count": 53,
   "id": "26f2a13b-2aa6-4756-b218-0236cb6bf3d8",
   "metadata": {},
   "outputs": [
    {
     "name": "stdout",
     "output_type": "stream",
     "text": [
      "Query: What is By-eye art analysis?\n",
      "\n",
      "Inference time: 5.876 sec.\n",
      "\n",
      "Result:  By-eye art analysis is a technique that involves closely examining and interpreting visual and stylistic elements in artworks, without the use of technology or scientific tools. It is a subjective and interpretive process that allows art scholars to gain insights into the meaning and significance of the artwork. By-eye art analysis can vary depending on the individual's background, training, and perspective, but it is becoming increasingly important in the field of art scholarship as new technologies and scientific methods are being developed to supplement or replace traditional methods of analysis.\n",
      "\n",
      "metadata: {'page': 1, 'source': 'How AI is expanding art history.pdf'}\n"
     ]
    }
   ],
   "source": [
    "query = \"What is By-eye art analysis?\"\n",
    "process_llm_response(qa_chain, query)"
   ]
  },
  {
   "cell_type": "code",
   "execution_count": 54,
   "id": "cd3f83c1-a5cd-41f5-b067-dba84856ea6d",
   "metadata": {},
   "outputs": [
    {
     "name": "stdout",
     "output_type": "stream",
     "text": [
      "Query: Other than produce Artwork, what else can AI use in Art study?\n",
      "\n",
      "Inference time: 3.918 sec.\n",
      "\n",
      "Result:  AI can be used to analyze and interpret art pieces, providing insights into the techniques used by the artist, the historical context of the artwork, and even the emotions conveyed in the piece. This can help art historians and curators better understand and appreciate the artworks in their collections. Additionally, AI can be used to assist in the restoration and conservation of art pieces, by identifying areas of damage and suggesting appropriate restoration methods.\n",
      "\n",
      "metadata: {'page': 2, 'source': 'How AI is expanding art history.pdf'}\n"
     ]
    }
   ],
   "source": [
    "query = \"Other than produce Artwork, what else can AI use in Art study?\"\n",
    "process_llm_response(qa_chain, query)"
   ]
  },
  {
   "cell_type": "code",
   "execution_count": 56,
   "id": "6a80a1db-d155-483a-8eef-eb8a4e2b72f4",
   "metadata": {},
   "outputs": [
    {
     "name": "stdout",
     "output_type": "stream",
     "text": [
      "Query: Give me an example of AI help recovering old art pieces\n",
      "\n",
      "Inference time: 7.858 sec.\n",
      "\n",
      "Result:  One example of AI helping to recover old art pieces is the use of deep learning algorithms to analyze fragments of paintings and sculptures that have been damaged or destroyed over time. These algorithms can reconstruct the missing parts of the artwork based on the surrounding context, helping to restore the original piece to its former glory. This technology has been used to restore works by famous artists such as Leonardo da Vinci and Michelangelo, as well as lesser-known pieces from various historical periods.\n",
      "\n",
      "metadata: {'page': 0, 'source': 'How AI is expanding art history.pdf'}\n"
     ]
    }
   ],
   "source": [
    "query = \"Give me an example of AI help recovering old art pieces\"\n",
    "process_llm_response(qa_chain, query)"
   ]
  },
  {
   "cell_type": "code",
   "execution_count": 58,
   "id": "32d8beb0-c682-442f-9386-515b0d807582",
   "metadata": {},
   "outputs": [
    {
     "name": "stdout",
     "output_type": "stream",
     "text": [
      "Query: How many posed and gender has the AI been analyzed?\n",
      "\n",
      "Inference time: 2.282 sec.\n",
      "\n",
      "Result:  According to the given context, there are no mentions of how many posed and genderless AI have been analyzed. Therefore, the answer is that we don't know.\n",
      "\n",
      "metadata: {'page': 3, 'source': 'PDF_file\\\\s41598-023-47912-0.pdf'}\n"
     ]
    }
   ],
   "source": [
    "query = \"How many poses and gender across more than 20,000 portraits?\"\n",
    "process_llm_response(qa_chain, query)"
   ]
  },
  {
   "cell_type": "code",
   "execution_count": 22,
   "id": "7cc8ddf1-d182-4138-b3e3-98a74e7ed5f1",
   "metadata": {},
   "outputs": [
    {
     "name": "stdout",
     "output_type": "stream",
     "text": [
      "Query: Where did the study take place?\n",
      "\n",
      "Inference time: 4.38 sec.\n",
      "\n",
      "Result:  The study was supported by the Seed Funding Support for Thesis Research 2019–20, Faculty of Social Sciences. However, the question does not provide information about where the study took place. Without further context, it is unclear where the study was conducted.\n",
      "\n",
      "metadata: {'page': 9, 'source': 'PDF_file\\\\s41598-023-47912-0.pdf'}\n"
     ]
    }
   ],
   "source": [
    "query = \"Where did the study take place?\"\n",
    "process_llm_response(qa_chain, query)"
   ]
  },
  {
   "cell_type": "code",
   "execution_count": 23,
   "id": "60f45e42-ef80-485e-a58b-cf8f8642cfa1",
   "metadata": {},
   "outputs": [
    {
     "data": {
      "text/plain": [
       "('similarity', <langchain.vectorstores.chroma.Chroma at 0x2305aa5af10>)"
      ]
     },
     "execution_count": 23,
     "metadata": {},
     "output_type": "execute_result"
    }
   ],
   "source": [
    "qa_chain.retriever.search_type , qa_chain.retriever.vectorstore"
   ]
  },
  {
   "cell_type": "code",
   "execution_count": 24,
   "id": "c8d841e2-9f2f-49da-b18f-713536159831",
   "metadata": {},
   "outputs": [
    {
     "name": "stdout",
     "output_type": "stream",
     "text": [
      "Use the following pieces of context to answer the question at the end. If you don't know the answer, just say that you don't know, don't try to make up an answer.\n",
      "\n",
      "{context}\n",
      "\n",
      "Question: {question}\n",
      "Helpful Answer:\n"
     ]
    }
   ],
   "source": [
    "print(qa_chain.combine_documents_chain.llm_chain.prompt.template)"
   ]
  },
  {
   "cell_type": "code",
   "execution_count": null,
   "id": "7b4f2265-db86-48e3-8e4e-f44aacab0dcd",
   "metadata": {},
   "outputs": [],
   "source": []
  }
 ],
 "metadata": {
  "kernelspec": {
   "display_name": "Python 3 (ipykernel)",
   "language": "python",
   "name": "python3"
  },
  "language_info": {
   "codemirror_mode": {
    "name": "ipython",
    "version": 3
   },
   "file_extension": ".py",
   "mimetype": "text/x-python",
   "name": "python",
   "nbconvert_exporter": "python",
   "pygments_lexer": "ipython3",
   "version": "3.11.4"
  }
 },
 "nbformat": 4,
 "nbformat_minor": 5
}
