{
 "cells": [
  {
   "cell_type": "code",
   "execution_count": 26,
   "id": "956fe7cd-41ea-4978-bef8-fa749139c982",
   "metadata": {},
   "outputs": [],
   "source": [
    "from langchain.vectorstores import Chroma\n",
    "from langchain.embeddings import OpenAIEmbeddings\n",
    "from langchain.text_splitter import RecursiveCharacterTextSplitter\n",
    "from langchain import HuggingFaceHub\n",
    "from langchain.chains import RetrievalQA\n",
    "from langchain.document_loaders import PyPDFLoader\n",
    "from langchain.document_loaders import DirectoryLoader\n",
    "import os \n",
    "from dotenv import load_dotenv\n",
    "from time import time\n",
    "import warnings\n",
    "warnings.filterwarnings('ignore')"
   ]
  },
  {
   "cell_type": "code",
   "execution_count": 27,
   "id": "1e9d9153-2548-46fc-93a0-c3081e0aeced",
   "metadata": {},
   "outputs": [],
   "source": [
    "#loader = DirectoryLoader('PDF_Testing', glob=\"./*.pdf\", loader_cls=PyPDFLoader)\n",
    "loader = PyPDFLoader('HOW GENERATIVE AI COULD DISRUPT SCIENTIFIC PUBLISHING.pdf')\n",
    "documents = loader.load()"
   ]
  },
  {
   "cell_type": "code",
   "execution_count": 28,
   "id": "3d23e69a-8328-45c7-8c6f-1e0a91fad2cd",
   "metadata": {},
   "outputs": [],
   "source": [
    "text_splitter = RecursiveCharacterTextSplitter(chunk_size=2000, chunk_overlap=400)\n",
    "texts = text_splitter.split_documents(documents)"
   ]
  },
  {
   "cell_type": "code",
   "execution_count": 29,
   "id": "f212e7a3-77eb-48ba-87bc-f79eac318c9c",
   "metadata": {},
   "outputs": [
    {
     "data": {
      "text/plain": [
       "11"
      ]
     },
     "execution_count": 29,
     "metadata": {},
     "output_type": "execute_result"
    }
   ],
   "source": [
    "len(texts)"
   ]
  },
  {
   "cell_type": "code",
   "execution_count": 30,
   "id": "41e5a070-0305-4cec-9344-138c4e151c32",
   "metadata": {},
   "outputs": [
    {
     "data": {
      "text/plain": [
       "Document(page_content='Nature 621 , 672–675; 2023). “The use of AI tools \\ncould improve equity in science, ” says Tatsuya \\nAmano, a conservation scientist at the Uni -\\nversity of Queensland in Brisbane, Australia. \\nAmano and his colleagues surveyed more \\nthan 900 environmental scientists who had \\nauthored at least one paper in English. Among \\nearly-career researchers, non-native English \\nspeakers said their papers were rejected owing \\nto writing issues more than twice as often as \\nnative English speakers did, who also spent \\nless time writing their submissions2. ChatGPT \\nand similar tools could be a “huge help” for \\nthese researchers, says Amano.\\nAmano, whose first language is Japanese, \\nhas been experimenting with ChatGPT and \\nsays the process is similar to working with a \\nnative English-speaking colleague, although \\nthe tool’s suggestions sometimes fall short. \\nHe co-authored an editorial in Science in March \\nfollowing that journal’s ban on generative AI \\ntools, arguing that they could make scientific \\npublishing more equitable as long as authors \\ndisclose their use, such as by including the \\noriginal manuscript alongside an AI-edited \\nversion3.\\nLLMs are far from the first AI-assisted soft-\\nware that can polish writing. But generative AI \\nis simply much more flexible, says Irene Li, an \\nAI researcher at the University of Tokyo. She \\npreviously used Grammarly — an AI-driven \\ngrammar and spelling checker — to improve \\nher written English, but has since switched to \\nChatGPT because it’s more versatile and offers \\nbetter value in the long run; instead of paying \\nfor multiple tools, she can subscribe to just one \\nthat does it all. “It saves a lot of time, ” she says.\\nHowever, the way in which LLMs are devel -\\noped might exacerbate inequities, says Chhavi \\nChauhan, an AI ethicist who is also director of “I think it’s inevitable  \\nthat this will be part of  \\nour toolkit. ”\\nNature | Vol 622 | 12 October 2023 | 235', metadata={'source': 'HOW GENERATIVE AI COULD DISRUPT SCIENTIFIC PUBLISHING.pdf', 'page': 1})"
      ]
     },
     "execution_count": 30,
     "metadata": {},
     "output_type": "execute_result"
    }
   ],
   "source": [
    "texts[5]"
   ]
  },
  {
   "cell_type": "code",
   "execution_count": 31,
   "id": "a9db1b93-dc82-4575-b9df-7009b71d7a57",
   "metadata": {},
   "outputs": [],
   "source": [
    "_ = load_dotenv()\n",
    "\n",
    "HUGGINGFACEHUB_API_TOKEN = os.environ[\"HUGGINGFACEHUB_API_TOKEN\"]\n",
    "\n",
    "llm=HuggingFaceHub(\n",
    "    repo_id=\"HuggingFaceH4/zephyr-7b-beta\", \n",
    "    model_kwargs={\"temperature\":0.2, \"max_length\":256},\n",
    "    huggingfacehub_api_token=HUGGINGFACEHUB_API_TOKEN\n",
    "    )"
   ]
  },
  {
   "cell_type": "code",
   "execution_count": 32,
   "id": "cf11565f-0f33-4e43-abc9-acfe9c569bf8",
   "metadata": {},
   "outputs": [
    {
     "name": "stdout",
     "output_type": "stream",
     "text": [
      "load INSTRUCTOR_Transformer\n",
      "max_seq_length  512\n"
     ]
    }
   ],
   "source": [
    "from langchain.embeddings import HuggingFaceInstructEmbeddings\n",
    "\n",
    "instructor_embeddings = HuggingFaceInstructEmbeddings(model_name=\"BAAI/bge-base-en-v1.5\",\n",
    "                                                      model_kwargs={\"device\": \"cuda\"})"
   ]
  },
  {
   "cell_type": "code",
   "execution_count": 33,
   "id": "d80b7fa5-641f-4d83-9c68-83fe4c876cf0",
   "metadata": {},
   "outputs": [
    {
     "name": "stdout",
     "output_type": "stream",
     "text": [
      "CPU times: total: 344 ms\n",
      "Wall time: 1.51 s\n"
     ]
    }
   ],
   "source": [
    "%%time\n",
    "persist_directory = 'db_HuggingFace'\n",
    "\n",
    "embedding = instructor_embeddings\n",
    "\n",
    "vectordb = Chroma.from_documents(documents=texts,\n",
    "                                 embedding=embedding,\n",
    "                                 persist_directory=persist_directory)"
   ]
  },
  {
   "cell_type": "code",
   "execution_count": 61,
   "id": "17bb19a2-6e60-4a23-a838-1b24ecfd5879",
   "metadata": {},
   "outputs": [],
   "source": [
    "retriever = vectordb.as_retriever(search_kwargs={\"k\": 2})\n",
    "docs = retriever.get_relevant_documents(\"HOW GENERATIVE AI COULD DISRUPT SCIENTIFIC PUBLISHING?\")"
   ]
  },
  {
   "cell_type": "code",
   "execution_count": 62,
   "id": "8e7586fd-9109-46d8-807d-43ae51ed6521",
   "metadata": {},
   "outputs": [
    {
     "data": {
      "text/plain": [
       "2"
      ]
     },
     "execution_count": 62,
     "metadata": {},
     "output_type": "execute_result"
    }
   ],
   "source": [
    "len(docs)"
   ]
  },
  {
   "cell_type": "code",
   "execution_count": 44,
   "id": "279a45e1-843e-48b6-b8f8-340e4f582be6",
   "metadata": {},
   "outputs": [],
   "source": [
    "qa_chain = RetrievalQA.from_chain_type(llm=llm,\n",
    "                                  chain_type=\"stuff\",\n",
    "                                  retriever=retriever,\n",
    "                                  return_source_documents=True)"
   ]
  },
  {
   "cell_type": "code",
   "execution_count": 45,
   "id": "2529c970-3b58-4543-b94b-bfe7943edad2",
   "metadata": {},
   "outputs": [],
   "source": [
    "def process_llm_response(qa_chain, query):\n",
    "    print(f\"Query: {query}\\n\")\n",
    "    time_1 = time()\n",
    "    llm_response = qa_chain(query)\n",
    "    time_2 = time()\n",
    "    print(f\"Inference time: {round(time_2-time_1, 3)} sec.\")\n",
    "    print(f\"\\nResult:\", llm_response['result'])\n",
    "    print(f\"\\nmetadata:\", llm_response['source_documents'][0].metadata)"
   ]
  },
  {
   "cell_type": "code",
   "execution_count": 46,
   "id": "8baf9c0a-40e3-4dc3-8316-de625af01882",
   "metadata": {},
   "outputs": [
    {
     "name": "stdout",
     "output_type": "stream",
     "text": [
      "Query: HOW GENERATIVE AI COULD DISRUPT SCIENTIFIC PUBLISHING?\n",
      "\n",
      "Inference time: 0.313 sec.\n",
      "\n",
      "Result:  In a world of AI-assisted writing and reviewing, the nature of the scientific paper could be transformed. This could lead to a proliferation of AI-generated research, potentially raising questions about the authenticity and reliability of some findings. However, AI could also help to streamline the peer-review process and enable more efficient and accurate analysis of large datasets. The implications of these developments for the future of scientific publishing are still uncertain, but it is clear that AI will play an increasingly important role in shaping the way we produce and consume scientific knowledge.\n",
      "\n",
      "metadata: {'page': 0, 'source': 'HOW GENERATIVE AI COULD DISRUPT SCIENTIFIC PUBLISHING.pdf'}\n"
     ]
    }
   ],
   "source": [
    "query = \"HOW GENERATIVE AI COULD DISRUPT SCIENTIFIC PUBLISHING?\"\n",
    "process_llm_response(qa_chain, query)"
   ]
  },
  {
   "cell_type": "code",
   "execution_count": 51,
   "id": "228f252c-72c9-4bf7-b3ce-0d93f76dadc0",
   "metadata": {},
   "outputs": [
    {
     "name": "stdout",
     "output_type": "stream",
     "text": [
      "Query: Give me 3 examples of using Generative AI in scientific publish?\n",
      "\n",
      "Inference time: 10.505 sec.\n",
      "\n",
      "Result:  Based on the context provided, here are three potential examples of using Generative AI in scientific publishing:\n",
      "\n",
      "1. Integrating LLMs into reviewing systems: Publishers could use Generative AI to assist with peer review by helping to screen manuscripts, select reviewers, and verify the identity of authors. This could potentially speed up the review process and improve the quality of reviews.\n",
      "\n",
      "2. Enhancing scientific writing: LLMs could be used to help researchers generate more accurate and concise scientific writing, as well as to suggest potential areas for further research based on existing literature. This could help to improve the clarity and impact of scientific papers.\n",
      "\n",
      "3. Facilitating data analysis: Generative AI could be used to help researchers analyze large datasets more quickly and accurately, by identifying patterns and relationships that might be missed by human researchers. This could lead to more insights and discoveries in a variety of scientific fields.\n",
      "\n",
      "However, as the article notes, there are also ethical concerns surrounding the use of Generative AI in scientific publishing, including issues related to copyright, consent, and plagiarism. Publishers will need to carefully consider these concerns as they explore the potential benefits of Generative AI in scientific publishing.\n",
      "\n",
      "metadata: {'page': 0, 'source': 'HOW GENERATIVE AI COULD DISRUPT SCIENTIFIC PUBLISHING.pdf'}\n"
     ]
    }
   ],
   "source": [
    "query = \"Give me 3 examples of using Generative AI in scientific publish?\"\n",
    "process_llm_response(qa_chain, query)"
   ]
  },
  {
   "cell_type": "code",
   "execution_count": 52,
   "id": "55dfd2fe-1958-403c-bb44-6d3562a59bb2",
   "metadata": {},
   "outputs": [
    {
     "name": "stdout",
     "output_type": "stream",
     "text": [
      "Query: What is the potential impact of using Generative AI in publishing scientific research?\n",
      "\n",
      "Inference time: 6.147 sec.\n",
      "\n",
      "Result:  The use of Generative AI in publishing scientific research has the potential to significantly transform the nature of scientific papers. AI-assisted writing and reviewing could lead to a world where scientific papers are generated more quickly and accurately, with the potential for new insights and discoveries to be uncovered through the use of AI to analyze and interpret data. However, there are also concerns about the reliability and reproducibility of results generated by AI, as well as the potential for AI to perpetuate existing biases and inequalities in scientific research. As such, it is important that the use of AI in scientific publishing is approached with caution and rigor, and that the potential benefits and drawbacks are carefully considered and addressed.\n",
      "\n",
      "metadata: {'page': 0, 'source': 'HOW GENERATIVE AI COULD DISRUPT SCIENTIFIC PUBLISHING.pdf'}\n"
     ]
    }
   ],
   "source": [
    "query = \"What is the potential impact of using Generative AI in publishing scientific research?\"\n",
    "process_llm_response(qa_chain, query)"
   ]
  },
  {
   "cell_type": "code",
   "execution_count": 49,
   "id": "4cfa9c64-7dbf-46ec-8177-ffc9743c17b0",
   "metadata": {},
   "outputs": [
    {
     "name": "stdout",
     "output_type": "stream",
     "text": [
      "Query: Any downside of using Generative AI to publish scientific research?\n",
      "\n",
      "Inference time: 0.412 sec.\n",
      "\n",
      "Result:  Yes, according to some experts, the downside of using Generative AI to publish scientific research is the tendency of these tools to make up information and references, which could potentially lead to inaccurate or misleading results. While tools such as scite and Elicit have already launched search tools that use LLMs to provide researchers with natural-language answers to queries, the largest human-generated review that Mineault has seen included around 1,600 papers, and working with generative AI could take it much further. However, the question is whether the tools' tendency to make up information and references can be addressed adequately. As one expert puts it, \"Anything disruptive like this can be quite worrying.\"\n",
      "\n",
      "metadata: {'page': 0, 'source': 'HOW GENERATIVE AI COULD DISRUPT SCIENTIFIC PUBLISHING.pdf'}\n"
     ]
    }
   ],
   "source": [
    "query = \"Any downside of using Generative AI to publish scientific research?\"\n",
    "process_llm_response(qa_chain, query)"
   ]
  },
  {
   "cell_type": "code",
   "execution_count": 53,
   "id": "d72b4d0f-1981-43eb-9bee-399ef3c98cdf",
   "metadata": {},
   "outputs": [
    {
     "name": "stdout",
     "output_type": "stream",
     "text": [
      "Query: Give me 1 key concern of researchers rely on ChatGPT to publish their scientific research?\n",
      "\n",
      "Inference time: 4.43 sec.\n",
      "\n",
      "Result:  The key concern of researchers relying on ChatGPT to publish their scientific research is that they could rely on ChatGPT to whip up reviews with little thought, although directly asking an LLM to review a manuscript is likely to produce little of value beyond summaries and copy-editing suggestions, according to Mohamad Hosseini, who studies research ethics and integrity at Northwestern University’s Galter Health Sciences Library and Learning Center in Chicago, Illinois.\n",
      "\n",
      "metadata: {'page': 2, 'source': 'HOW GENERATIVE AI COULD DISRUPT SCIENTIFIC PUBLISHING.pdf'}\n"
     ]
    }
   ],
   "source": [
    "query = \"Give me 1 key concern of researchers rely on ChatGPT to publish their scientific research?\"\n",
    "process_llm_response(qa_chain, query)"
   ]
  },
  {
   "cell_type": "code",
   "execution_count": 68,
   "id": "26f2a13b-2aa6-4756-b218-0236cb6bf3d8",
   "metadata": {},
   "outputs": [
    {
     "name": "stdout",
     "output_type": "stream",
     "text": [
      "Query: Why generative AI is “automated plagiarism by design”?\n",
      "\n",
      "Inference time: 6.068 sec.\n",
      "\n",
      "Result:  According to Iris van Rooij, a cognitive scientist at Radboud University in Nijmegen, the Netherlands, generative AI is “automated plagiarism by design” because users have no idea where such tools source their information from when they trawl the internet without concern for bias, consent, or copyright. This means that researchers may unknowingly use information from unreliable sources, which could lead to plagiarism or the spread of false information. Van Rooij argues that if researchers were more aware of this problem, they wouldn't want to use generative AI tools.\n",
      "\n",
      "metadata: {'page': 40, 'source': 'NYSE_AXP_2021.pdf'}\n"
     ]
    }
   ],
   "source": [
    "query = \"Why generative AI is “automated plagiarism by design”?\"\n",
    "process_llm_response(qa_chain, query)\n",
    "#Metadata is wrong, should be quote in How generative AI could disrupt scientific publishing"
   ]
  },
  {
   "cell_type": "code",
   "execution_count": 69,
   "id": "cd3f83c1-a5cd-41f5-b067-dba84856ea6d",
   "metadata": {},
   "outputs": [
    {
     "name": "stdout",
     "output_type": "stream",
     "text": [
      "Query: What is the most popular answer that Nature surveyed researchers on what they thought the biggest benefits of generative AI might be for science?\n",
      "\n",
      "Inference time: 4.895 sec.\n",
      "\n",
      "Result:  According to the article, the most popular answer that Nature surveyed researchers on what they thought the biggest benefits of generative AI might be for science was \"accelerating the pace of discovery\" with 43% of respondents selecting this option. Other benefits that received significant support included \"improving the quality of research\" (32%) and \"enhancing the accessibility of scientific knowledge\" (25%). The survey received 600 responses from researchers in various fields of science.\n",
      "\n",
      "metadata: {'page': 0, 'source': 'HOW GENERATIVE AI COULD DISRUPT SCIENTIFIC PUBLISHING.pdf'}\n"
     ]
    }
   ],
   "source": [
    "query = \"What is the most popular answer that Nature surveyed researchers on what they thought the biggest benefits of generative AI might be for science?\"\n",
    "process_llm_response(qa_chain, query)"
   ]
  },
  {
   "cell_type": "code",
   "execution_count": 20,
   "id": "6a80a1db-d155-483a-8eef-eb8a4e2b72f4",
   "metadata": {},
   "outputs": [
    {
     "name": "stdout",
     "output_type": "stream",
     "text": [
      "Query: How generative AI tools could change the ways of researchers conduct meta-analyses and review?\n",
      "\n",
      "Inference time: 0.509 sec.\n",
      "\n",
      "Result:  Generative AI tools could significantly change the way researchers conduct meta-analyses and reviews, according to Mineault. While companies such as scite and Elicit have already launched search tools that use LLMs to provide researchers with natural-language answers to queries, Mineault suggests that these tools could take meta-analyses and reviews much further. The largest human-generated review Mineault has seen included around 1,600 papers, but working with generative AI could potentially exploit much more of the scientific literature. However, Mineault also notes that the tools' tendency to make up information and references needs to be addressed adequately. The use of generative AI could change how researchers drill into the aspects of a study that are most relevant to them and access descriptions of results tailored to their needs, potentially leading to the end of single narratives as the interface between people and the results of scientific studies, according to Eisen.\n",
      "\n",
      "metadata: {'page': 2, 'source': 'HOW GENERATIVE AI COULD DISRUPT SCIENTIFIC PUBLISHING.pdf'}\n"
     ]
    }
   ],
   "source": [
    "query = \"How generative AI tools could change the ways of researchers conduct meta-analyses and review?\"\n",
    "process_llm_response(qa_chain, query)"
   ]
  },
  {
   "cell_type": "code",
   "execution_count": 70,
   "id": "32d8beb0-c682-442f-9386-515b0d807582",
   "metadata": {},
   "outputs": [
    {
     "name": "stdout",
     "output_type": "stream",
     "text": [
      "Query: Who is Iris van Rooij? \n",
      "\n",
      "Inference time: 5.923 sec.\n",
      "\n",
      "Result:  Iris van Rooij is a Senior Consultant in the Privacy, Data Protection, Data Governance, and Information and Cyber Security practice at Capgemini Invent. She has over 20 years of experience in the field of data protection and privacy, and has worked with a variety of clients in different industries, including financial services, healthcare, and retail. Her expertise includes data governance, data retention, and data breach response. She is also a certified Information Privacy Professional (CIPP/E) and a member of the International Association of Privacy Professionals (IAPP).\n",
      "\n",
      "metadata: {'page': 15, 'source': 'NYSE_AXP_2021.pdf'}\n"
     ]
    }
   ],
   "source": [
    "query = \"Who is Iris van Rooij? \"\n",
    "process_llm_response(qa_chain, query)\n",
    "#Again wrong metadata, maybe becoz there r 2 ppl have same name, 1 works in AE, ano"
   ]
  },
  {
   "cell_type": "code",
   "execution_count": 22,
   "id": "7cc8ddf1-d182-4138-b3e3-98a74e7ed5f1",
   "metadata": {},
   "outputs": [
    {
     "name": "stdout",
     "output_type": "stream",
     "text": [
      "Query: Give me 2 comments from the scientists or researchers of using Generative AI in their work?\n",
      "\n",
      "Inference time: 9.013 sec.\n",
      "\n",
      "Result:  1. Gemma Conroy, a reporter for Nature, mentions that according to Yoshua Bengio, a computer scientist at the University of Montreal in Canada, Generative AI could revolutionize the way researchers access and analyze scientific literature. Bengio suggests that Generative AI could allow researchers to drill into the most relevant aspects of a study and access tailored descriptions of results. 2. Vincent Berdejo-Espinola, a computer scientist at the University of Oxford, UK, and his colleagues have used Generative AI to summarize scientific papers in a way that is more accessible to non-experts. Berdejo-Espinola believes that Generative AI has the potential to create new knowledge by synthesizing information from multiple sources, which could be particularly useful for solving complex problems in fields such as climate science and medicine. However, he also acknowledges that the tendency of Generative AI to make up information and references needs to be addressed adequately.\n",
      "\n",
      "metadata: {'page': 2, 'source': 'HOW GENERATIVE AI COULD DISRUPT SCIENTIFIC PUBLISHING.pdf'}\n"
     ]
    }
   ],
   "source": [
    "query = \"Give me 2 comments from the scientists or researchers of using Generative AI in their work?\"\n",
    "process_llm_response(qa_chain, query)"
   ]
  },
  {
   "cell_type": "code",
   "execution_count": 23,
   "id": "60f45e42-ef80-485e-a58b-cf8f8642cfa1",
   "metadata": {},
   "outputs": [
    {
     "data": {
      "text/plain": [
       "('similarity', <langchain.vectorstores.chroma.Chroma at 0x1b40b9b40d0>)"
      ]
     },
     "execution_count": 23,
     "metadata": {},
     "output_type": "execute_result"
    }
   ],
   "source": [
    "qa_chain.retriever.search_type , qa_chain.retriever.vectorstore"
   ]
  },
  {
   "cell_type": "code",
   "execution_count": 24,
   "id": "c8d841e2-9f2f-49da-b18f-713536159831",
   "metadata": {},
   "outputs": [
    {
     "name": "stdout",
     "output_type": "stream",
     "text": [
      "Use the following pieces of context to answer the question at the end. If you don't know the answer, just say that you don't know, don't try to make up an answer.\n",
      "\n",
      "{context}\n",
      "\n",
      "Question: {question}\n",
      "Helpful Answer:\n"
     ]
    }
   ],
   "source": [
    "print(qa_chain.combine_documents_chain.llm_chain.prompt.template)"
   ]
  },
  {
   "cell_type": "code",
   "execution_count": null,
   "id": "7b4f2265-db86-48e3-8e4e-f44aacab0dcd",
   "metadata": {},
   "outputs": [],
   "source": []
  }
 ],
 "metadata": {
  "kernelspec": {
   "display_name": "Python 3 (ipykernel)",
   "language": "python",
   "name": "python3"
  },
  "language_info": {
   "codemirror_mode": {
    "name": "ipython",
    "version": 3
   },
   "file_extension": ".py",
   "mimetype": "text/x-python",
   "name": "python",
   "nbconvert_exporter": "python",
   "pygments_lexer": "ipython3",
   "version": "3.11.4"
  }
 },
 "nbformat": 4,
 "nbformat_minor": 5
}
