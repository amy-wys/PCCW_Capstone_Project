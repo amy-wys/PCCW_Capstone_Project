{
 "cells": [
  {
   "cell_type": "code",
   "execution_count": 1,
   "id": "956fe7cd-41ea-4978-bef8-fa749139c982",
   "metadata": {},
   "outputs": [],
   "source": [
    "from langchain.vectorstores import Chroma\n",
    "from langchain.embeddings import OpenAIEmbeddings\n",
    "from langchain.text_splitter import RecursiveCharacterTextSplitter\n",
    "from langchain import HuggingFaceHub\n",
    "from langchain.chains import RetrievalQA\n",
    "from langchain.document_loaders import PyPDFLoader\n",
    "from langchain.document_loaders import DirectoryLoader\n",
    "import os \n",
    "from dotenv import load_dotenv\n",
    "from time import time\n",
    "import warnings\n",
    "warnings.filterwarnings('ignore')"
   ]
  },
  {
   "cell_type": "code",
   "execution_count": 2,
   "id": "1e9d9153-2548-46fc-93a0-c3081e0aeced",
   "metadata": {},
   "outputs": [],
   "source": [
    "#loader = DirectoryLoader('PDF_Testing', glob=\"./*.pdf\", loader_cls=PyPDFLoader)\n",
    "loader = PyPDFLoader('HOW GENERATIVE AI COULD DISRUPT SCIENTIFIC PUBLISHING.pdf')\n",
    "documents = loader.load()"
   ]
  },
  {
   "cell_type": "code",
   "execution_count": 3,
   "id": "3d23e69a-8328-45c7-8c6f-1e0a91fad2cd",
   "metadata": {},
   "outputs": [],
   "source": [
    "text_splitter = RecursiveCharacterTextSplitter(chunk_size=1000, chunk_overlap=200)\n",
    "texts = text_splitter.split_documents(documents)"
   ]
  },
  {
   "cell_type": "code",
   "execution_count": 4,
   "id": "f212e7a3-77eb-48ba-87bc-f79eac318c9c",
   "metadata": {},
   "outputs": [
    {
     "data": {
      "text/plain": [
       "22"
      ]
     },
     "execution_count": 4,
     "metadata": {},
     "output_type": "execute_result"
    }
   ],
   "source": [
    "len(texts)"
   ]
  },
  {
   "cell_type": "code",
   "execution_count": 5,
   "id": "41e5a070-0305-4cec-9344-138c4e151c32",
   "metadata": {},
   "outputs": [
    {
     "data": {
      "text/plain": [
       "Document(page_content='of its use, such as fake references or the soft -\\nware’s preprogrammed response that it is an \\nAI language model.\\nIdeally, publishers would be able to detect \\nLLM-generated text. In practice, AI-detection \\ntools have so far proved unable to pick out \\nsuch text reliably while avoiding flagging \\nhuman-written prose as the product of an AI.  \\nAlthough developers of commercial LLMs \\nare working on watermarking LLM-generated \\noutput to make it identifiable, no firm has yet \\nrolled this out for text. Any watermarks could \\nalso be removed, says Sandra Wachter, a legal \\nscholar at the University of Oxford, UK, who \\nfocuses on the ethical and legal implications \\nof emerging technologies. She hopes that law -\\nmakers worldwide will insist on disclosure or \\nwatermarks for LLMs, and will make it illegal \\nto remove watermarking.  \\nPublishers are approaching the issue either \\nby banning the use of LLMs altogether (as Sci -\\nence’s publisher, the American Association for', metadata={'source': 'HOW GENERATIVE AI COULD DISRUPT SCIENTIFIC PUBLISHING.pdf', 'page': 1})"
      ]
     },
     "execution_count": 5,
     "metadata": {},
     "output_type": "execute_result"
    }
   ],
   "source": [
    "texts[5]"
   ]
  },
  {
   "cell_type": "code",
   "execution_count": 6,
   "id": "a9db1b93-dc82-4575-b9df-7009b71d7a57",
   "metadata": {},
   "outputs": [],
   "source": [
    "_ = load_dotenv()\n",
    "\n",
    "HUGGINGFACEHUB_API_TOKEN = os.environ[\"HUGGINGFACEHUB_API_TOKEN\"]\n",
    "\n",
    "llm=HuggingFaceHub(\n",
    "    repo_id=\"HuggingFaceH4/zephyr-7b-beta\", \n",
    "    model_kwargs={\"temperature\":0.2, \"max_length\":256},\n",
    "    huggingfacehub_api_token=HUGGINGFACEHUB_API_TOKEN\n",
    "    )"
   ]
  },
  {
   "cell_type": "code",
   "execution_count": 7,
   "id": "cf11565f-0f33-4e43-abc9-acfe9c569bf8",
   "metadata": {},
   "outputs": [
    {
     "name": "stdout",
     "output_type": "stream",
     "text": [
      "load INSTRUCTOR_Transformer\n",
      "max_seq_length  512\n"
     ]
    }
   ],
   "source": [
    "from langchain.embeddings import HuggingFaceInstructEmbeddings\n",
    "\n",
    "instructor_embeddings = HuggingFaceInstructEmbeddings(model_name=\"BAAI/bge-base-en-v1.5\",\n",
    "                                                      model_kwargs={\"device\": \"cuda\"})"
   ]
  },
  {
   "cell_type": "code",
   "execution_count": 8,
   "id": "d80b7fa5-641f-4d83-9c68-83fe4c876cf0",
   "metadata": {},
   "outputs": [
    {
     "name": "stdout",
     "output_type": "stream",
     "text": [
      "CPU times: total: 1.38 s\n",
      "Wall time: 2.64 s\n"
     ]
    }
   ],
   "source": [
    "%%time\n",
    "persist_directory = 'db_HuggingFace'\n",
    "\n",
    "embedding = instructor_embeddings\n",
    "\n",
    "vectordb = Chroma.from_documents(documents=texts,\n",
    "                                 embedding=embedding,\n",
    "                                 persist_directory=persist_directory)"
   ]
  },
  {
   "cell_type": "code",
   "execution_count": 9,
   "id": "17bb19a2-6e60-4a23-a838-1b24ecfd5879",
   "metadata": {},
   "outputs": [],
   "source": [
    "retriever = vectordb.as_retriever(search_kwargs={\"k\": 2})\n",
    "docs = retriever.get_relevant_documents(\"HOW GENERATIVE AI COULD DISRUPT SCIENTIFIC PUBLISHING?\")"
   ]
  },
  {
   "cell_type": "code",
   "execution_count": 10,
   "id": "8e7586fd-9109-46d8-807d-43ae51ed6521",
   "metadata": {},
   "outputs": [
    {
     "data": {
      "text/plain": [
       "2"
      ]
     },
     "execution_count": 10,
     "metadata": {},
     "output_type": "execute_result"
    }
   ],
   "source": [
    "len(docs)"
   ]
  },
  {
   "cell_type": "code",
   "execution_count": 11,
   "id": "279a45e1-843e-48b6-b8f8-340e4f582be6",
   "metadata": {},
   "outputs": [],
   "source": [
    "qa_chain = RetrievalQA.from_chain_type(llm=llm,\n",
    "                                  chain_type=\"stuff\",\n",
    "                                  retriever=retriever,\n",
    "                                  return_source_documents=True)"
   ]
  },
  {
   "cell_type": "code",
   "execution_count": 12,
   "id": "2529c970-3b58-4543-b94b-bfe7943edad2",
   "metadata": {},
   "outputs": [],
   "source": [
    "def process_llm_response(qa_chain, query):\n",
    "    print(f\"Query: {query}\\n\")\n",
    "    time_1 = time()\n",
    "    llm_response = qa_chain(query)\n",
    "    time_2 = time()\n",
    "    print(f\"Inference time: {round(time_2-time_1, 3)} sec.\")\n",
    "    print(f\"\\nResult:\", llm_response['result'])\n",
    "    print(f\"\\nmetadata:\", llm_response['source_documents'][0].metadata)"
   ]
  },
  {
   "cell_type": "code",
   "execution_count": 13,
   "id": "8baf9c0a-40e3-4dc3-8316-de625af01882",
   "metadata": {},
   "outputs": [
    {
     "name": "stdout",
     "output_type": "stream",
     "text": [
      "Query: HOW GENERATIVE AI COULD DISRUPT SCIENTIFIC PUBLISHING?\n",
      "\n",
      "Inference time: 0.917 sec.\n",
      "\n",
      "Result:  Generative AI has the potential to significantly disrupt scientific publishing by transforming scientific communication in various ways. While science publishers are already experimenting with AI in scientific publishing, concerns have been raised about the potential impacts of generative AI, including the possibility of a flood of fakes. The accessibility of AI-generated content raises questions about the authenticity and reliability of scientific research, as well as the potential for plagiarism and intellectual property infringement. As AI becomes more sophisticated, it may also lead to a shift in the role of human editors and peer reviewers, as AI-generated content may require less human intervention in the publishing process. Overall, the potential disruption of scientific publishing by generative AI highlights the need for careful consideration and regulation to ensure the integrity and reliability of scientific research.\n",
      "\n",
      "metadata: {'page': 1, 'source': 'HOW GENERATIVE AI COULD DISRUPT SCIENTIFIC PUBLISHING.pdf'}\n"
     ]
    }
   ],
   "source": [
    "query = \"HOW GENERATIVE AI COULD DISRUPT SCIENTIFIC PUBLISHING?\"\n",
    "process_llm_response(qa_chain, query)"
   ]
  },
  {
   "cell_type": "code",
   "execution_count": 14,
   "id": "228f252c-72c9-4bf7-b3ce-0d93f76dadc0",
   "metadata": {},
   "outputs": [
    {
     "name": "stdout",
     "output_type": "stream",
     "text": [
      "Query: Give me 3 examples of using Generative AI in scientific publish?\n",
      "\n",
      "Inference time: 0.311 sec.\n",
      "\n",
      "Result:  1. Automated abstract generation: Generative AI can analyze the content of a scientific paper and generate an abstract that accurately summarizes the key findings and methods used. This can save researchers time and ensure that their abstract accurately reflects the content of their paper. 2. Automated figure generation: Generative AI can analyze the data presented in a scientific paper and generate figures that accurately represent the results. This can save researchers time and ensure that their figures are clear and accurate. 3. Automated peer review: Generative AI can analyze the content of a scientific paper and provide a preliminary assessment of its scientific merit. This can help editors and reviewers prioritize papers for review and ensure that only high-quality papers are published.\n",
      "\n",
      "metadata: {'page': 1, 'source': 'HOW GENERATIVE AI COULD DISRUPT SCIENTIFIC PUBLISHING.pdf'}\n"
     ]
    }
   ],
   "source": [
    "query = \"Give me 3 examples of using Generative AI in scientific publish?\"\n",
    "process_llm_response(qa_chain, query)"
   ]
  },
  {
   "cell_type": "code",
   "execution_count": 15,
   "id": "55dfd2fe-1958-403c-bb44-6d3562a59bb2",
   "metadata": {},
   "outputs": [
    {
     "name": "stdout",
     "output_type": "stream",
     "text": [
      "Query: What is the potential impact of using Generative AI in publishing scientific research?\n",
      "\n",
      "Inference time: 0.31 sec.\n",
      "\n",
      "Result:  The potential impacts of using Generative AI in publishing scientific research are both positive and concerning. On the positive side, AI can help with tasks such as summarizing research papers, generating abstracts, and identifying key concepts, which can save time and resources for researchers and publishers. Additionally, AI can help with the peer review process by identifying potential plagiarism or errors in manuscripts. However, there are also concerns about the potential for AI to generate fake research or to perpetuate existing biases in scientific literature. Some experts have also raised concerns about the potential for AI to replace human editors and reviewers, which could lead to a loss of expertise and nuance in the publishing process. Overall, the impact of AI on scientific publishing is still uncertain, and more research is needed to fully understand its potential benefits and drawbacks.\n",
      "\n",
      "metadata: {'page': 1, 'source': 'HOW GENERATIVE AI COULD DISRUPT SCIENTIFIC PUBLISHING.pdf'}\n"
     ]
    }
   ],
   "source": [
    "query = \"What is the potential impact of using Generative AI in publishing scientific research?\"\n",
    "process_llm_response(qa_chain, query)"
   ]
  },
  {
   "cell_type": "code",
   "execution_count": 16,
   "id": "4cfa9c64-7dbf-46ec-8177-ffc9743c17b0",
   "metadata": {},
   "outputs": [
    {
     "name": "stdout",
     "output_type": "stream",
     "text": [
      "Query: Any downside of using Generative AI to publish scientific research?\n",
      "\n",
      "Inference time: 0.305 sec.\n",
      "\n",
      "Result:  Yes, science publishers and others have identified a range of concerns about the potential impacts of generative AI, including the risk of a flood of fakes and the potential for plagiarism and misinformation. While some see generative AI as a tool to assist with writing manuscripts, peer-review reports, and grant applications, others worry about the potential for AI to generate false or misleading results, as well as the potential for AI to perpetuate existing biases and inequalities in scientific research. As with any new technology, it's important to carefully consider the potential benefits and drawbacks of using generative AI in scientific publishing, and to ensure that any use of AI is transparent, responsible, and subject to rigorous peer review.\n",
      "\n",
      "metadata: {'page': 1, 'source': 'HOW GENERATIVE AI COULD DISRUPT SCIENTIFIC PUBLISHING.pdf'}\n"
     ]
    }
   ],
   "source": [
    "query = \"Any downside of using Generative AI to publish scientific research?\"\n",
    "process_llm_response(qa_chain, query)"
   ]
  },
  {
   "cell_type": "code",
   "execution_count": 17,
   "id": "d72b4d0f-1981-43eb-9bee-399ef3c98cdf",
   "metadata": {},
   "outputs": [
    {
     "name": "stdout",
     "output_type": "stream",
     "text": [
      "Query: Give me 1 key concern of researchers rely on ChatGPT to publish their scientific research?\n",
      "\n",
      "Inference time: 0.331 sec.\n",
      "\n",
      "Result:  One key concern of researchers relying on ChatGPT to publish their scientific research is that they could rely on it to whip up reviews with little thought, potentially leading to inaccurate or incomplete reviews.\n",
      "\n",
      "metadata: {'page': 2, 'source': 'HOW GENERATIVE AI COULD DISRUPT SCIENTIFIC PUBLISHING.pdf'}\n"
     ]
    }
   ],
   "source": [
    "query = \"Give me 1 key concern of researchers rely on ChatGPT to publish their scientific research?\"\n",
    "process_llm_response(qa_chain, query)"
   ]
  },
  {
   "cell_type": "code",
   "execution_count": 18,
   "id": "26f2a13b-2aa6-4756-b218-0236cb6bf3d8",
   "metadata": {},
   "outputs": [
    {
     "name": "stdout",
     "output_type": "stream",
     "text": [
      "Query: Why generative AI is “automated plagiarism by design”?\n",
      "\n",
      "Inference time: 31.721 sec.\n",
      "\n",
      "Result:  The author, a researcher from the Netherlands, explains that generative AI is \"automated plagiarism by design\" because users have no idea where such tools source their information from. This means that the AI may be using information that has been plagiarized or copied from other sources without proper attribution, making it a form of automated plagiarism.\n",
      "\n",
      "metadata: {'page': 1, 'source': 'HOW GENERATIVE AI COULD DISRUPT SCIENTIFIC PUBLISHING.pdf'}\n"
     ]
    }
   ],
   "source": [
    "query = \"Why generative AI is “automated plagiarism by design”?\"\n",
    "process_llm_response(qa_chain, query)\n",
    "#Metadata corrects "
   ]
  },
  {
   "cell_type": "code",
   "execution_count": 19,
   "id": "cd3f83c1-a5cd-41f5-b067-dba84856ea6d",
   "metadata": {},
   "outputs": [
    {
     "name": "stdout",
     "output_type": "stream",
     "text": [
      "Query: What is the most popular answer that Nature surveyed researchers on what they thought the biggest benefits of generative AI might be for science?\n",
      "\n",
      "Inference time: 0.329 sec.\n",
      "\n",
      "Result:  According to a Nature survey, the most popular answer that researchers believed the biggest benefits of generative AI might be for science was that it would help researchers who do not have English as their first language.\n",
      "\n",
      "metadata: {'page': 1, 'source': 'HOW GENERATIVE AI COULD DISRUPT SCIENTIFIC PUBLISHING.pdf'}\n"
     ]
    }
   ],
   "source": [
    "query = \"What is the most popular answer that Nature surveyed researchers on what they thought the biggest benefits of generative AI might be for science?\"\n",
    "process_llm_response(qa_chain, query)"
   ]
  },
  {
   "cell_type": "code",
   "execution_count": 20,
   "id": "6a80a1db-d155-483a-8eef-eb8a4e2b72f4",
   "metadata": {},
   "outputs": [
    {
     "name": "stdout",
     "output_type": "stream",
     "text": [
      "Query: How generative AI tools could change the ways of researchers conduct meta-analyses and review?\n",
      "\n",
      "Inference time: 0.323 sec.\n",
      "\n",
      "Result:  As generative AI tools become more advanced, they could potentially assist researchers in conducting meta-analyses and literature reviews by quickly summarizing large amounts of text and identifying key themes and findings. This could save researchers significant amounts of time and effort, allowing them to focus on more complex analysis and interpretation. However, there are also concerns about the accuracy and reliability of these tools, particularly in terms of their ability to accurately identify and interpret the nuances of scientific literature. As a result, it is likely that researchers will continue to rely on traditional methods of meta-analysis and literature review, at least for the foreseeable future.\n",
      "\n",
      "metadata: {'page': 2, 'source': 'HOW GENERATIVE AI COULD DISRUPT SCIENTIFIC PUBLISHING.pdf'}\n"
     ]
    }
   ],
   "source": [
    "query = \"How generative AI tools could change the ways of researchers conduct meta-analyses and review?\"\n",
    "process_llm_response(qa_chain, query)"
   ]
  },
  {
   "cell_type": "code",
   "execution_count": 21,
   "id": "32d8beb0-c682-442f-9386-515b0d807582",
   "metadata": {},
   "outputs": [
    {
     "name": "stdout",
     "output_type": "stream",
     "text": [
      "Query: Who is Iris van Rooij? \n",
      "\n",
      "Inference time: 0.365 sec.\n",
      "\n",
      "Result:  Iris van Rooij is a cognitive scientist at Radboud University in Nijmegen, the Netherlands, who believes that generative AI should be used without concern for issues such as bias, consent, or copyright. She also hopes that lawmakers worldwide will require disclosure regarding these issues.\n",
      "\n",
      "metadata: {'page': 2, 'source': 'HOW GENERATIVE AI COULD DISRUPT SCIENTIFIC PUBLISHING.pdf'}\n"
     ]
    }
   ],
   "source": [
    "query = \"Who is Iris van Rooij? \"\n",
    "process_llm_response(qa_chain, query)\n",
    "#Correct metadata"
   ]
  },
  {
   "cell_type": "code",
   "execution_count": 22,
   "id": "7cc8ddf1-d182-4138-b3e3-98a74e7ed5f1",
   "metadata": {},
   "outputs": [
    {
     "name": "stdout",
     "output_type": "stream",
     "text": [
      "Query: Give me 2 comments from the scientists or researchers of using Generative AI in their work?\n",
      "\n",
      "Inference time: 0.335 sec.\n",
      "\n",
      "Result:  One scientist mentioned in the context that non-native English speakers could benefit the most from these tools as they could help them suggest clearer ways to convey their ideas. Another researcher saw generative AI as a way for scientists to rethink how they interpret and summarize experimental results. However, a Nature survey revealed that while some scientists use LLMs regularly, the majority still falls into the minority category. Many expect that the use of generative AI in scientific work will increase in the future.\n",
      "\n",
      "metadata: {'page': 1, 'source': 'HOW GENERATIVE AI COULD DISRUPT SCIENTIFIC PUBLISHING.pdf'}\n"
     ]
    }
   ],
   "source": [
    "query = \"Give me 2 comments from the scientists or researchers of using Generative AI in their work?\"\n",
    "process_llm_response(qa_chain, query)"
   ]
  },
  {
   "cell_type": "code",
   "execution_count": 23,
   "id": "60f45e42-ef80-485e-a58b-cf8f8642cfa1",
   "metadata": {},
   "outputs": [
    {
     "data": {
      "text/plain": [
       "('similarity', <langchain.vectorstores.chroma.Chroma at 0x1ba2ce2ac50>)"
      ]
     },
     "execution_count": 23,
     "metadata": {},
     "output_type": "execute_result"
    }
   ],
   "source": [
    "qa_chain.retriever.search_type , qa_chain.retriever.vectorstore"
   ]
  },
  {
   "cell_type": "code",
   "execution_count": 24,
   "id": "c8d841e2-9f2f-49da-b18f-713536159831",
   "metadata": {},
   "outputs": [
    {
     "name": "stdout",
     "output_type": "stream",
     "text": [
      "Use the following pieces of context to answer the question at the end. If you don't know the answer, just say that you don't know, don't try to make up an answer.\n",
      "\n",
      "{context}\n",
      "\n",
      "Question: {question}\n",
      "Helpful Answer:\n"
     ]
    }
   ],
   "source": [
    "print(qa_chain.combine_documents_chain.llm_chain.prompt.template)"
   ]
  },
  {
   "cell_type": "code",
   "execution_count": null,
   "id": "7b4f2265-db86-48e3-8e4e-f44aacab0dcd",
   "metadata": {},
   "outputs": [],
   "source": []
  }
 ],
 "metadata": {
  "kernelspec": {
   "display_name": "Python 3 (ipykernel)",
   "language": "python",
   "name": "python3"
  },
  "language_info": {
   "codemirror_mode": {
    "name": "ipython",
    "version": 3
   },
   "file_extension": ".py",
   "mimetype": "text/x-python",
   "name": "python",
   "nbconvert_exporter": "python",
   "pygments_lexer": "ipython3",
   "version": "3.11.4"
  }
 },
 "nbformat": 4,
 "nbformat_minor": 5
}
