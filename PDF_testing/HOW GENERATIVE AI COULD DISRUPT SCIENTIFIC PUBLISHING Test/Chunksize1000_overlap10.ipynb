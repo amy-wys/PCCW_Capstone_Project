{
 "cells": [
  {
   "cell_type": "code",
   "execution_count": 1,
   "id": "956fe7cd-41ea-4978-bef8-fa749139c982",
   "metadata": {},
   "outputs": [],
   "source": [
    "from langchain.vectorstores import Chroma\n",
    "from langchain.embeddings import OpenAIEmbeddings\n",
    "from langchain.text_splitter import RecursiveCharacterTextSplitter\n",
    "from langchain import HuggingFaceHub\n",
    "from langchain.chains import RetrievalQA\n",
    "from langchain.document_loaders import PyPDFLoader\n",
    "from langchain.document_loaders import DirectoryLoader\n",
    "import os \n",
    "from dotenv import load_dotenv\n",
    "from time import time\n",
    "import warnings\n",
    "warnings.filterwarnings('ignore')"
   ]
  },
  {
   "cell_type": "code",
   "execution_count": 2,
   "id": "1e9d9153-2548-46fc-93a0-c3081e0aeced",
   "metadata": {},
   "outputs": [],
   "source": [
    "#loader = DirectoryLoader('PDF_Testing', glob=\"./*.pdf\", loader_cls=PyPDFLoader)\n",
    "loader = PyPDFLoader('HOW GENERATIVE AI COULD DISRUPT SCIENTIFIC PUBLISHING.pdf')\n",
    "documents = loader.load()"
   ]
  },
  {
   "cell_type": "code",
   "execution_count": 3,
   "id": "3d23e69a-8328-45c7-8c6f-1e0a91fad2cd",
   "metadata": {},
   "outputs": [],
   "source": [
    "text_splitter = RecursiveCharacterTextSplitter(chunk_size=1000, chunk_overlap=10)\n",
    "texts = text_splitter.split_documents(documents)"
   ]
  },
  {
   "cell_type": "code",
   "execution_count": 4,
   "id": "f212e7a3-77eb-48ba-87bc-f79eac318c9c",
   "metadata": {},
   "outputs": [
    {
     "data": {
      "text/plain": [
       "19"
      ]
     },
     "execution_count": 4,
     "metadata": {},
     "output_type": "execute_result"
    }
   ],
   "source": [
    "len(texts)"
   ]
  },
  {
   "cell_type": "code",
   "execution_count": 5,
   "id": "41e5a070-0305-4cec-9344-138c4e151c32",
   "metadata": {},
   "outputs": [
    {
     "data": {
      "text/plain": [
       "Document(page_content='focuses on the ethical and legal implications \\nof emerging technologies. She hopes that law -\\nmakers worldwide will insist on disclosure or \\nwatermarks for LLMs, and will make it illegal \\nto remove watermarking.  \\nPublishers are approaching the issue either \\nby banning the use of LLMs altogether (as Sci -\\nence’s publisher, the American Association for \\nthe Advancement of Science, has done), or, \\nin most cases, insisting on transparency (the \\npolicy at Nature and many other journals). A \\nstudy examining 100 publishers and journals \\nfound that, as of May, 17% of publishers and \\n70% of journals had released guidelines on how \\ngenerative AI could be used, although they \\nvaried on how the tools could be applied, says \\nGiovanni Cacciamani, a urologist at the Uni -\\nversity of Southern California in Los Angeles, \\nwho co-authored the work, which has not yet \\nbeen peer reviewed1. He and his colleagues \\nare working with scientists and journal edi -\\ntors to develop a uniform set of guidelines to', metadata={'source': 'HOW GENERATIVE AI COULD DISRUPT SCIENTIFIC PUBLISHING.pdf', 'page': 1})"
      ]
     },
     "execution_count": 5,
     "metadata": {},
     "output_type": "execute_result"
    }
   ],
   "source": [
    "texts[5]"
   ]
  },
  {
   "cell_type": "code",
   "execution_count": 6,
   "id": "a9db1b93-dc82-4575-b9df-7009b71d7a57",
   "metadata": {},
   "outputs": [],
   "source": [
    "_ = load_dotenv()\n",
    "\n",
    "HUGGINGFACEHUB_API_TOKEN = os.environ[\"HUGGINGFACEHUB_API_TOKEN\"]\n",
    "\n",
    "llm=HuggingFaceHub(\n",
    "    repo_id=\"HuggingFaceH4/zephyr-7b-beta\", \n",
    "    model_kwargs={\"temperature\":0.2, \"max_length\":256},\n",
    "    huggingfacehub_api_token=HUGGINGFACEHUB_API_TOKEN\n",
    "    )"
   ]
  },
  {
   "cell_type": "code",
   "execution_count": 7,
   "id": "cf11565f-0f33-4e43-abc9-acfe9c569bf8",
   "metadata": {},
   "outputs": [
    {
     "name": "stdout",
     "output_type": "stream",
     "text": [
      "load INSTRUCTOR_Transformer\n",
      "max_seq_length  512\n"
     ]
    }
   ],
   "source": [
    "from langchain.embeddings import HuggingFaceInstructEmbeddings\n",
    "\n",
    "instructor_embeddings = HuggingFaceInstructEmbeddings(model_name=\"BAAI/bge-base-en-v1.5\",\n",
    "                                                      model_kwargs={\"device\": \"cuda\"})"
   ]
  },
  {
   "cell_type": "code",
   "execution_count": 8,
   "id": "d80b7fa5-641f-4d83-9c68-83fe4c876cf0",
   "metadata": {},
   "outputs": [
    {
     "name": "stdout",
     "output_type": "stream",
     "text": [
      "CPU times: total: 1.7 s\n",
      "Wall time: 2.62 s\n"
     ]
    }
   ],
   "source": [
    "%%time\n",
    "persist_directory = 'db_HuggingFace'\n",
    "\n",
    "embedding = instructor_embeddings\n",
    "\n",
    "vectordb = Chroma.from_documents(documents=texts,\n",
    "                                 embedding=embedding,\n",
    "                                 persist_directory=persist_directory)"
   ]
  },
  {
   "cell_type": "code",
   "execution_count": 9,
   "id": "17bb19a2-6e60-4a23-a838-1b24ecfd5879",
   "metadata": {},
   "outputs": [],
   "source": [
    "retriever = vectordb.as_retriever(search_kwargs={\"k\": 2})\n",
    "docs = retriever.get_relevant_documents(\"HOW GENERATIVE AI COULD DISRUPT SCIENTIFIC PUBLISHING?\")"
   ]
  },
  {
   "cell_type": "code",
   "execution_count": 10,
   "id": "8e7586fd-9109-46d8-807d-43ae51ed6521",
   "metadata": {},
   "outputs": [
    {
     "data": {
      "text/plain": [
       "2"
      ]
     },
     "execution_count": 10,
     "metadata": {},
     "output_type": "execute_result"
    }
   ],
   "source": [
    "len(docs)"
   ]
  },
  {
   "cell_type": "code",
   "execution_count": 11,
   "id": "279a45e1-843e-48b6-b8f8-340e4f582be6",
   "metadata": {},
   "outputs": [],
   "source": [
    "qa_chain = RetrievalQA.from_chain_type(llm=llm,\n",
    "                                  chain_type=\"stuff\",\n",
    "                                  retriever=retriever,\n",
    "                                  return_source_documents=True)"
   ]
  },
  {
   "cell_type": "code",
   "execution_count": 12,
   "id": "2529c970-3b58-4543-b94b-bfe7943edad2",
   "metadata": {},
   "outputs": [],
   "source": [
    "def process_llm_response(qa_chain, query):\n",
    "    print(f\"Query: {query}\\n\")\n",
    "    time_1 = time()\n",
    "    llm_response = qa_chain(query)\n",
    "    time_2 = time()\n",
    "    print(f\"Inference time: {round(time_2-time_1, 3)} sec.\")\n",
    "    print(f\"\\nResult:\", llm_response['result'])\n",
    "    print(f\"\\nmetadata:\", llm_response['source_documents'][0].metadata)"
   ]
  },
  {
   "cell_type": "code",
   "execution_count": 13,
   "id": "8baf9c0a-40e3-4dc3-8316-de625af01882",
   "metadata": {},
   "outputs": [
    {
     "name": "stdout",
     "output_type": "stream",
     "text": [
      "Query: HOW GENERATIVE AI COULD DISRUPT SCIENTIFIC PUBLISHING?\n",
      "\n",
      "Inference time: 8.719 sec.\n",
      "\n",
      "Result:  The article \"HOW GENERATIVE AI COULD DISRUPT SCIENTIFIC PUBLISHING\" by Gemma Conroy, published in Nature's Vol 622, Issue 7915, on October 12, 2023, explores the potential impact of generative AI on scientific publishing. The article suggests that AI-assisted writing and reviewing could transform the nature of scientific papers by improving the efficiency and accuracy of the writing process, as well as by enabling more rigorous and objective peer review. However, the article also raises concerns about the potential for AI to replace human authors and reviewers, as well as about the need for transparency and accountability in the use of AI in scientific publishing. Overall, the article highlights the need for careful consideration and regulation of the use of AI in scientific publishing to ensure that it enhances, rather than undermines, the integrity and rigor of the scientific process.\n",
      "\n",
      "metadata: {'page': 0, 'source': 'HOW GENERATIVE AI COULD DISRUPT SCIENTIFIC PUBLISHING.pdf'}\n"
     ]
    }
   ],
   "source": [
    "query = \"HOW GENERATIVE AI COULD DISRUPT SCIENTIFIC PUBLISHING?\"\n",
    "process_llm_response(qa_chain, query)"
   ]
  },
  {
   "cell_type": "code",
   "execution_count": 14,
   "id": "228f252c-72c9-4bf7-b3ce-0d93f76dadc0",
   "metadata": {},
   "outputs": [
    {
     "name": "stdout",
     "output_type": "stream",
     "text": [
      "Query: Give me 3 examples of using Generative AI in scientific publish?\n",
      "\n",
      "Inference time: 11.981 sec.\n",
      "\n",
      "Result:  While the use of generative AI in scientific publishing is still in its early stages, there are already some examples of how it could be used. Here are three:\n",
      "\n",
      "1. Writing scientific papers: Generative AI could be used to help researchers write their papers more efficiently. By analyzing existing scientific literature, AI algorithms could suggest potential ideas, hypotheses, and experiments for a researcher to consider. They could also help generate the first draft of a paper, which the researcher could then edit and refine.\n",
      "\n",
      "2. Reviewing scientific papers: Generative AI could also be used to help reviewers assess the quality and validity of scientific papers. By analyzing the data and methods used in a paper, AI algorithms could identify potential issues or inconsistencies, and suggest ways to address them. They could also help reviewers quickly and accurately assess the novelty and significance of a paper.\n",
      "\n",
      "3. Analyzing scientific data: Generative AI could be used to help researchers analyze large and complex datasets. By identifying patterns and relationships in the data, AI algorithms could help researchers draw new insights and hypotheses. They could also help researchers generate visualizations and summaries of the data, which could be used to communicate their findings to other researchers and the public.\n",
      "\n",
      "These are just a few examples of how generative AI could be used in scientific publishing. As the technology continues to evolve, it's likely that we'll see even more innovative and transformative applications of AI in science.\n",
      "\n",
      "metadata: {'page': 0, 'source': 'HOW GENERATIVE AI COULD DISRUPT SCIENTIFIC PUBLISHING.pdf'}\n"
     ]
    }
   ],
   "source": [
    "query = \"Give me 3 examples of using Generative AI in scientific publish?\"\n",
    "process_llm_response(qa_chain, query)"
   ]
  },
  {
   "cell_type": "code",
   "execution_count": 15,
   "id": "55dfd2fe-1958-403c-bb44-6d3562a59bb2",
   "metadata": {},
   "outputs": [
    {
     "name": "stdout",
     "output_type": "stream",
     "text": [
      "Query: What is the potential impact of using Generative AI in publishing scientific research?\n",
      "\n",
      "Inference time: 7.08 sec.\n",
      "\n",
      "Result:  The use of Generative AI in publishing scientific research has the potential to transform the nature of the scientific paper. This could include AI-assisted writing, which could help researchers to generate more accurate and concise scientific reports, and AI-assisted reviewing, which could help editors and peer reviewers to more efficiently and accurately assess the quality and validity of scientific manuscripts. However, there are also concerns about the potential for AI to perpetuate existing biases in scientific research and publishing, as well as the potential for AI to replace human reviewers and editors altogether. As with any emerging technology, the impact of Generative AI on scientific publishing will depend on how it is developed and used, and it will be important to ensure that it is used in a responsible and transparent manner.\n",
      "\n",
      "metadata: {'page': 0, 'source': 'HOW GENERATIVE AI COULD DISRUPT SCIENTIFIC PUBLISHING.pdf'}\n"
     ]
    }
   ],
   "source": [
    "query = \"What is the potential impact of using Generative AI in publishing scientific research?\"\n",
    "process_llm_response(qa_chain, query)"
   ]
  },
  {
   "cell_type": "code",
   "execution_count": 16,
   "id": "4cfa9c64-7dbf-46ec-8177-ffc9743c17b0",
   "metadata": {},
   "outputs": [
    {
     "name": "stdout",
     "output_type": "stream",
     "text": [
      "Query: Any downside of using Generative AI to publish scientific research?\n",
      "\n",
      "Inference time: 7.048 sec.\n",
      "\n",
      "Result:  Yes, there are potential downsides to using Generative AI to publish scientific research. While AI can assist in the writing and reviewing process, it cannot replace the critical thinking and expertise of human researchers. There is also a risk of AI generating incorrect or misleading results, as it may not be able to fully understand the nuances and complexities of scientific research. Additionally, there are concerns about the potential for AI to perpetuate existing biases and inequalities in scientific publishing, as it may learn from and reinforce existing patterns of publication and citation. As with any new technology, it is important to carefully consider the potential benefits and drawbacks of using Generative AI in scientific publishing, and to ensure that it is used in a responsible and ethical manner.\n",
      "\n",
      "metadata: {'page': 0, 'source': 'HOW GENERATIVE AI COULD DISRUPT SCIENTIFIC PUBLISHING.pdf'}\n"
     ]
    }
   ],
   "source": [
    "query = \"Any downside of using Generative AI to publish scientific research?\"\n",
    "process_llm_response(qa_chain, query)"
   ]
  },
  {
   "cell_type": "code",
   "execution_count": 17,
   "id": "d72b4d0f-1981-43eb-9bee-399ef3c98cdf",
   "metadata": {},
   "outputs": [
    {
     "name": "stdout",
     "output_type": "stream",
     "text": [
      "Query: Give me 1 key concern of researchers rely on ChatGPT to publish their scientific research?\n",
      "\n",
      "Inference time: 3.962 sec.\n",
      "\n",
      "Result:  One key concern is that researchers could rely on ChatGPT to whip up reviews with little thought, although the naive act of asking an LLM directly to review a manuscript is likely to produce little of value beyond summaries and copy-editing suggestions, says Mohamad Hosseini, who studies research ethics and integrity at Northwestern University’s Galter Health Sciences Library and Learning Center in Chicago, Illinois.\n",
      "\n",
      "metadata: {'page': 2, 'source': 'HOW GENERATIVE AI COULD DISRUPT SCIENTIFIC PUBLISHING.pdf'}\n"
     ]
    }
   ],
   "source": [
    "query = \"Give me 1 key concern of researchers rely on ChatGPT to publish their scientific research?\"\n",
    "process_llm_response(qa_chain, query)"
   ]
  },
  {
   "cell_type": "code",
   "execution_count": 18,
   "id": "26f2a13b-2aa6-4756-b218-0236cb6bf3d8",
   "metadata": {},
   "outputs": [
    {
     "name": "stdout",
     "output_type": "stream",
     "text": [
      "Query: Why generative AI is “automated plagiarism by design”?\n",
      "\n",
      "Inference time: 0.319 sec.\n",
      "\n",
      "Result:  According to Iris van Rooij, a cognitive scientist at Radboud University in Nijmegen, the Netherlands, generative AI is “automated plagiarism by design” because users have no idea where such tools source their information from when they trawl the internet without concern for bias, consent, or copyright. This means that researchers may unknowingly use information from unreliable sources, which could lead to plagiarism or the spread of false information. Van Rooij argues that if researchers were more aware of this problem, they wouldn't want to use generative AI tools.\n",
      "\n",
      "metadata: {'page': 40, 'source': 'NYSE_AXP_2021.pdf'}\n"
     ]
    }
   ],
   "source": [
    "query = \"Why generative AI is “automated plagiarism by design”?\"\n",
    "process_llm_response(qa_chain, query)\n",
    "#Metadata is wrong, should be quote in How generative AI could disrupt scientific publishing"
   ]
  },
  {
   "cell_type": "code",
   "execution_count": 19,
   "id": "cd3f83c1-a5cd-41f5-b067-dba84856ea6d",
   "metadata": {},
   "outputs": [
    {
     "name": "stdout",
     "output_type": "stream",
     "text": [
      "Query: What is the most popular answer that Nature surveyed researchers on what they thought the biggest benefits of generative AI might be for science?\n",
      "\n",
      "Inference time: 0.331 sec.\n",
      "\n",
      "Result:  According to the article, the most popular answer that Nature surveyed researchers on what they thought the biggest benefits of generative AI might be for science was \"accelerating the pace of discovery\" with 43% of respondents selecting this option. Other benefits that received significant support included \"improving the quality of research\" (32%) and \"enhancing the accessibility of scientific knowledge\" (25%). The survey received 600 responses from researchers in various fields of science.\n",
      "\n",
      "metadata: {'page': 0, 'source': 'HOW GENERATIVE AI COULD DISRUPT SCIENTIFIC PUBLISHING.pdf'}\n"
     ]
    }
   ],
   "source": [
    "query = \"What is the most popular answer that Nature surveyed researchers on what they thought the biggest benefits of generative AI might be for science?\"\n",
    "process_llm_response(qa_chain, query)"
   ]
  },
  {
   "cell_type": "code",
   "execution_count": 20,
   "id": "6a80a1db-d155-483a-8eef-eb8a4e2b72f4",
   "metadata": {},
   "outputs": [
    {
     "name": "stdout",
     "output_type": "stream",
     "text": [
      "Query: How generative AI tools could change the ways of researchers conduct meta-analyses and review?\n",
      "\n",
      "Inference time: 11.405 sec.\n",
      "\n",
      "Result:  According to Mineault, generative AI tools could significantly change the way researchers conduct meta-analyses and reviews, but only if the tools' tendency to make up information and references can be addressed adequately. Mineault, a computer scientist at the University of British Columbia in Vancouver, Canada, suggests that these tools could allow researchers to drill into the aspects of a study that are most relevant to them and access a description of the results tailored to their needs. The largest human-generated review Mineault has seen included around 1,600 papers, but working with generative AI could take it much further. Mineault's comments come as companies such as scite and Elicit have already launched search tools that use LLMs to provide researchers with natural-language answers to queries, and Elsevier has launched a pilot version of its own tool, Scopus AI, to give quick summaries of research topics. Generally, these tools use LLMs to rephrase results that come back from conventional search queries. However, the tendency of generative AI tools to make up information and references is a cause for concern, as Mineault notes that \"anything disruptive like this can be quite worrying.\"\n",
      "\n",
      "metadata: {'page': 2, 'source': 'HOW GENERATIVE AI COULD DISRUPT SCIENTIFIC PUBLISHING.pdf'}\n"
     ]
    }
   ],
   "source": [
    "query = \"How generative AI tools could change the ways of researchers conduct meta-analyses and review?\"\n",
    "process_llm_response(qa_chain, query)"
   ]
  },
  {
   "cell_type": "code",
   "execution_count": 21,
   "id": "32d8beb0-c682-442f-9386-515b0d807582",
   "metadata": {},
   "outputs": [
    {
     "name": "stdout",
     "output_type": "stream",
     "text": [
      "Query: Who is Iris van Rooij? \n",
      "\n",
      "Inference time: 0.31 sec.\n",
      "\n",
      "Result:  Iris van Rooij is a Senior Consultant in the Privacy, Data Protection, Data Governance, and Information and Cyber Security practice at Capgemini Invent. She has over 20 years of experience in the field of data protection and privacy, and has worked with a variety of clients in different industries, including financial services, healthcare, and retail. Her expertise includes data governance, data retention, and data breach response. She is also a certified Information Privacy Professional (CIPP/E) and a member of the International Association of Privacy Professionals (IAPP).\n",
      "\n",
      "metadata: {'page': 15, 'source': 'NYSE_AXP_2021.pdf'}\n"
     ]
    }
   ],
   "source": [
    "query = \"Who is Iris van Rooij? \"\n",
    "process_llm_response(qa_chain, query)\n",
    "#Again wrong metadata, maybe becoz there r 2 ppl have same name, 1 works in AE, another is a cognitive scientist"
   ]
  },
  {
   "cell_type": "code",
   "execution_count": null,
   "id": "7cc8ddf1-d182-4138-b3e3-98a74e7ed5f1",
   "metadata": {},
   "outputs": [
    {
     "name": "stdout",
     "output_type": "stream",
     "text": [
      "Query: Give me 2 comments from the scientists or researchers of using Generative AI in their work?\n",
      "\n"
     ]
    }
   ],
   "source": [
    "query = \"Give me 2 comments from the scientists or researchers of using Generative AI in their work?\"\n",
    "process_llm_response(qa_chain, query)"
   ]
  },
  {
   "cell_type": "code",
   "execution_count": null,
   "id": "60f45e42-ef80-485e-a58b-cf8f8642cfa1",
   "metadata": {},
   "outputs": [],
   "source": [
    "qa_chain.retriever.search_type , qa_chain.retriever.vectorstore"
   ]
  },
  {
   "cell_type": "code",
   "execution_count": null,
   "id": "c8d841e2-9f2f-49da-b18f-713536159831",
   "metadata": {},
   "outputs": [],
   "source": [
    "print(qa_chain.combine_documents_chain.llm_chain.prompt.template)"
   ]
  },
  {
   "cell_type": "code",
   "execution_count": null,
   "id": "7b4f2265-db86-48e3-8e4e-f44aacab0dcd",
   "metadata": {},
   "outputs": [],
   "source": []
  }
 ],
 "metadata": {
  "kernelspec": {
   "display_name": "Python 3 (ipykernel)",
   "language": "python",
   "name": "python3"
  },
  "language_info": {
   "codemirror_mode": {
    "name": "ipython",
    "version": 3
   },
   "file_extension": ".py",
   "mimetype": "text/x-python",
   "name": "python",
   "nbconvert_exporter": "python",
   "pygments_lexer": "ipython3",
   "version": "3.11.4"
  }
 },
 "nbformat": 4,
 "nbformat_minor": 5
}
