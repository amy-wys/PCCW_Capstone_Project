{
 "cells": [
  {
   "cell_type": "code",
   "execution_count": 1,
   "id": "956fe7cd-41ea-4978-bef8-fa749139c982",
   "metadata": {},
   "outputs": [],
   "source": [
    "from langchain.vectorstores import Chroma\n",
    "from langchain.embeddings import OpenAIEmbeddings\n",
    "from langchain.text_splitter import RecursiveCharacterTextSplitter\n",
    "from langchain import HuggingFaceHub\n",
    "from langchain.chains import RetrievalQA\n",
    "from langchain.document_loaders import PyPDFLoader\n",
    "from langchain.document_loaders import DirectoryLoader\n",
    "import os \n",
    "from dotenv import load_dotenv\n",
    "from time import time\n",
    "import warnings\n",
    "warnings.filterwarnings('ignore')"
   ]
  },
  {
   "cell_type": "code",
   "execution_count": 2,
   "id": "1e9d9153-2548-46fc-93a0-c3081e0aeced",
   "metadata": {},
   "outputs": [],
   "source": [
    "#loader = DirectoryLoader('PDF_Testing', glob=\"./*.pdf\", loader_cls=PyPDFLoader)\n",
    "loader = PyPDFLoader('HOW GENERATIVE AI COULD DISRUPT SCIENTIFIC PUBLISHING.pdf')\n",
    "documents = loader.load()"
   ]
  },
  {
   "cell_type": "code",
   "execution_count": 3,
   "id": "3d23e69a-8328-45c7-8c6f-1e0a91fad2cd",
   "metadata": {},
   "outputs": [],
   "source": [
    "text_splitter = RecursiveCharacterTextSplitter(chunk_size=100, chunk_overlap=0)\n",
    "texts = text_splitter.split_documents(documents)"
   ]
  },
  {
   "cell_type": "code",
   "execution_count": 4,
   "id": "f212e7a3-77eb-48ba-87bc-f79eac318c9c",
   "metadata": {},
   "outputs": [
    {
     "data": {
      "text/plain": [
       "192"
      ]
     },
     "execution_count": 4,
     "metadata": {},
     "output_type": "execute_result"
    }
   ],
   "source": [
    "len(texts)"
   ]
  },
  {
   "cell_type": "code",
   "execution_count": 5,
   "id": "41e5a070-0305-4cec-9344-138c4e151c32",
   "metadata": {},
   "outputs": [
    {
     "data": {
      "text/plain": [
       "Document(page_content='paper, he turns to ChatGPT, the \\nchatbot that produces fluent \\nresponses to almost any query', metadata={'source': 'HOW GENERATIVE AI COULD DISRUPT SCIENTIFIC PUBLISHING.pdf', 'page': 1})"
      ]
     },
     "execution_count": 5,
     "metadata": {},
     "output_type": "execute_result"
    }
   ],
   "source": [
    "texts[5]"
   ]
  },
  {
   "cell_type": "code",
   "execution_count": 6,
   "id": "a9db1b93-dc82-4575-b9df-7009b71d7a57",
   "metadata": {},
   "outputs": [],
   "source": [
    "_ = load_dotenv()\n",
    "\n",
    "HUGGINGFACEHUB_API_TOKEN = os.environ[\"HUGGINGFACEHUB_API_TOKEN\"]\n",
    "\n",
    "llm=HuggingFaceHub(\n",
    "    repo_id=\"HuggingFaceH4/zephyr-7b-beta\", \n",
    "    model_kwargs={\"temperature\":0.2, \"max_length\":256},\n",
    "    huggingfacehub_api_token=HUGGINGFACEHUB_API_TOKEN\n",
    "    )"
   ]
  },
  {
   "cell_type": "code",
   "execution_count": 7,
   "id": "cf11565f-0f33-4e43-abc9-acfe9c569bf8",
   "metadata": {},
   "outputs": [
    {
     "name": "stdout",
     "output_type": "stream",
     "text": [
      "load INSTRUCTOR_Transformer\n",
      "max_seq_length  512\n"
     ]
    }
   ],
   "source": [
    "from langchain.embeddings import HuggingFaceInstructEmbeddings\n",
    "\n",
    "instructor_embeddings = HuggingFaceInstructEmbeddings(model_name=\"BAAI/bge-base-en-v1.5\",\n",
    "                                                      model_kwargs={\"device\": \"cuda\"})"
   ]
  },
  {
   "cell_type": "code",
   "execution_count": 8,
   "id": "d80b7fa5-641f-4d83-9c68-83fe4c876cf0",
   "metadata": {},
   "outputs": [
    {
     "name": "stdout",
     "output_type": "stream",
     "text": [
      "CPU times: total: 1.58 s\n",
      "Wall time: 3.28 s\n"
     ]
    }
   ],
   "source": [
    "%%time\n",
    "persist_directory = 'db_HuggingFace'\n",
    "\n",
    "embedding = instructor_embeddings\n",
    "\n",
    "vectordb = Chroma.from_documents(documents=texts,\n",
    "                                 embedding=embedding,\n",
    "                                 persist_directory=persist_directory)"
   ]
  },
  {
   "cell_type": "code",
   "execution_count": 9,
   "id": "17bb19a2-6e60-4a23-a838-1b24ecfd5879",
   "metadata": {},
   "outputs": [],
   "source": [
    "retriever = vectordb.as_retriever(search_kwargs={\"k\": 2})\n",
    "docs = retriever.get_relevant_documents(\"HOW GENERATIVE AI COULD DISRUPT SCIENTIFIC PUBLISHING?\")"
   ]
  },
  {
   "cell_type": "code",
   "execution_count": 10,
   "id": "8e7586fd-9109-46d8-807d-43ae51ed6521",
   "metadata": {},
   "outputs": [
    {
     "data": {
      "text/plain": [
       "2"
      ]
     },
     "execution_count": 10,
     "metadata": {},
     "output_type": "execute_result"
    }
   ],
   "source": [
    "len(docs)"
   ]
  },
  {
   "cell_type": "code",
   "execution_count": 11,
   "id": "279a45e1-843e-48b6-b8f8-340e4f582be6",
   "metadata": {},
   "outputs": [],
   "source": [
    "qa_chain = RetrievalQA.from_chain_type(llm=llm,\n",
    "                                  chain_type=\"stuff\",\n",
    "                                  retriever=retriever,\n",
    "                                  return_source_documents=True)"
   ]
  },
  {
   "cell_type": "code",
   "execution_count": 12,
   "id": "2529c970-3b58-4543-b94b-bfe7943edad2",
   "metadata": {},
   "outputs": [],
   "source": [
    "def process_llm_response(qa_chain, query):\n",
    "    print(f\"Query: {query}\\n\")\n",
    "    time_1 = time()\n",
    "    llm_response = qa_chain(query)\n",
    "    time_2 = time()\n",
    "    print(f\"Inference time: {round(time_2-time_1, 3)} sec.\")\n",
    "    print(f\"\\nResult:\", llm_response['result'])\n",
    "    print(f\"\\nmetadata:\", llm_response['source_documents'][0].metadata)"
   ]
  },
  {
   "cell_type": "code",
   "execution_count": 13,
   "id": "8baf9c0a-40e3-4dc3-8316-de625af01882",
   "metadata": {},
   "outputs": [
    {
     "name": "stdout",
     "output_type": "stream",
     "text": [
      "Query: HOW GENERATIVE AI COULD DISRUPT SCIENTIFIC PUBLISHING?\n",
      "\n",
      "Inference time: 18.746 sec.\n",
      "\n",
      "Result:  Generative AI has the potential to significantly disrupt scientific publishing by revolutionizing the way scientific research is communicated and disseminated. Some ways in which AI could transform scientific communication and publishing include:\n",
      "\n",
      "1. Automated literature reviews: AI algorithms can quickly and accurately scan through vast amounts of scientific literature, identify key findings, and generate summaries and insights that would take human researchers hours or even days to produce.\n",
      "\n",
      "2. Improved scientific writing: AI-powered writing tools can help researchers write more clearly, concisely, and accurately by suggesting alternative word choices, identifying grammatical errors, and even generating entire paragraphs or sections of text.\n",
      "\n",
      "3. Enhanced scientific editing: AI algorithms can help editors and reviewers identify plagiarism, inconsistencies, and other errors in scientific manuscripts, as well as suggest improvements to the structure, organization, and presentation of the research.\n",
      "\n",
      "4. Faster and more accurate peer review: AI-powered review tools can help reviewers identify potential issues with a manuscript, such as methodological errors, statistical anomalies, or inconsistencies in the data, and suggest ways to address these issues.\n",
      "\n",
      "5. More personalized and targeted scientific communication: AI algorithms can help publishers and researchers identify the most relevant and impactful scientific research based on a user's interests, background, and preferences, and deliver this content in a more personalized and targeted way.\n",
      "\n",
      "Overall, the use of AI in scientific publishing has the potential to significantly improve the efficiency, accuracy, and impact of scientific communication, while also reducing the time and resources required to produce and disseminate scientific research. However, there are also concerns about the potential for AI to replace human researchers and editors, as well as the need to ensure that AI algorithms are transparent, accountable, and trustworthy. As such, it will be important for publishers, researchers, and policymakers to work together to ensure that AI is used in a responsible and ethical way that benefits society as a whole.\n",
      "\n",
      "metadata: {'page': 0, 'source': 'HOW GENERATIVE AI COULD DISRUPT SCIENTIFIC PUBLISHING.pdf'}\n"
     ]
    }
   ],
   "source": [
    "query = \"HOW GENERATIVE AI COULD DISRUPT SCIENTIFIC PUBLISHING?\"\n",
    "process_llm_response(qa_chain, query)"
   ]
  },
  {
   "cell_type": "code",
   "execution_count": 14,
   "id": "228f252c-72c9-4bf7-b3ce-0d93f76dadc0",
   "metadata": {},
   "outputs": [
    {
     "name": "stdout",
     "output_type": "stream",
     "text": [
      "Query: Give me 3 examples of using Generative AI in scientific publish?\n",
      "\n",
      "Inference time: 10.183 sec.\n",
      "\n",
      "Result:  1. Automated Abstract Generation: Generative AI can analyze the full text of a scientific paper and generate a concise and accurate abstract that accurately summarizes the key findings and methods used. This can save researchers time and effort in writing abstracts, as well as improve the accuracy and consistency of abstracts across different papers. 2. Automated Figure Generation: Generative AI can analyze the data presented in a scientific paper and generate figures that accurately represent the data, as well as suggest alternative visualizations that may be more effective at communicating the results. This can help researchers communicate their findings more clearly and effectively, as well as save time and effort in creating figures. 3. Automated Reviewer Assignment: Generative AI can analyze the content of a scientific paper and suggest reviewers who are experts in the relevant field and have a track record of publishing high-quality research in that area. This can help editors and publishers ensure that papers are reviewed by the most qualified and knowledgeable reviewers, which can improve the quality and rigor of the review process.\n",
      "\n",
      "metadata: {'page': 1, 'source': 'HOW GENERATIVE AI COULD DISRUPT SCIENTIFIC PUBLISHING.pdf'}\n"
     ]
    }
   ],
   "source": [
    "query = \"Give me 3 examples of using Generative AI in scientific publish?\"\n",
    "process_llm_response(qa_chain, query)"
   ]
  },
  {
   "cell_type": "code",
   "execution_count": 15,
   "id": "55dfd2fe-1958-403c-bb44-6d3562a59bb2",
   "metadata": {},
   "outputs": [
    {
     "name": "stdout",
     "output_type": "stream",
     "text": [
      "Query: What is the potential impact of using Generative AI in publishing scientific research?\n",
      "\n",
      "Inference time: 8.223 sec.\n",
      "\n",
      "Result:  The potential impacts of using Generative AI in publishing scientific research, as identified by science publishers and others, include concerns about the flood of fakes, the potential for AI to generate false or misleading results, the possibility of plagiarism or copyright infringement, and the need for transparency and accountability in the use of AI in scientific research. Additionally, there are questions about the reliability and accuracy of AI-generated research, as well as concerns about the potential for AI to exacerbate existing inequalities in scientific publishing, such as the overrepresentation of certain types of research or the underrepresentation of certain researchers. Overall, while there is excitement about the potential benefits of using AI in scientific publishing, such as increased efficiency and accuracy, there are also significant challenges and concerns that need to be addressed.\n",
      "\n",
      "metadata: {'page': 0, 'source': 'HOW GENERATIVE AI COULD DISRUPT SCIENTIFIC PUBLISHING.pdf'}\n"
     ]
    }
   ],
   "source": [
    "query = \"What is the potential impact of using Generative AI in publishing scientific research?\"\n",
    "process_llm_response(qa_chain, query)"
   ]
  },
  {
   "cell_type": "code",
   "execution_count": 16,
   "id": "4cfa9c64-7dbf-46ec-8177-ffc9743c17b0",
   "metadata": {},
   "outputs": [
    {
     "name": "stdout",
     "output_type": "stream",
     "text": [
      "Query: Any downside of using Generative AI to publish scientific research?\n",
      "\n",
      "Inference time: 4.67 sec.\n",
      "\n",
      "Result:  Yes, there are concerns about the reliability and accuracy of the results generated by AI. While AI can quickly analyze large amounts of data, it may not be able to fully understand the context and nuances of scientific research. Additionally, there is a risk of AI perpetuating existing biases and errors in scientific literature. As a result, it is important for scientists to carefully review and validate the results generated by AI before publishing them in scientific journals.\n",
      "\n",
      "metadata: {'page': 0, 'source': 'HOW GENERATIVE AI COULD DISRUPT SCIENTIFIC PUBLISHING.pdf'}\n"
     ]
    }
   ],
   "source": [
    "query = \"Any downside of using Generative AI to publish scientific research?\"\n",
    "process_llm_response(qa_chain, query)"
   ]
  },
  {
   "cell_type": "code",
   "execution_count": 17,
   "id": "d72b4d0f-1981-43eb-9bee-399ef3c98cdf",
   "metadata": {},
   "outputs": [
    {
     "name": "stdout",
     "output_type": "stream",
     "text": [
      "Query: Give me 1 key concern of researchers rely on ChatGPT to publish their scientific research?\n",
      "\n",
      "Inference time: 5.359 sec.\n",
      "\n",
      "Result:  One key concern of researchers relying on ChatGPT to publish their scientific research is that they could potentially rely on the AI to write their reviews with little thought, which could lead to inaccurate or unreliable findings. This raises questions about the integrity and validity of the research being published. Additionally, some researchers have already admitted to using ChatGPT to help write papers without disclosing this fact, which raises concerns about academic integrity and transparency.\n",
      "\n",
      "metadata: {'page': 2, 'source': 'HOW GENERATIVE AI COULD DISRUPT SCIENTIFIC PUBLISHING.pdf'}\n"
     ]
    }
   ],
   "source": [
    "query = \"Give me 1 key concern of researchers rely on ChatGPT to publish their scientific research?\"\n",
    "process_llm_response(qa_chain, query)"
   ]
  },
  {
   "cell_type": "code",
   "execution_count": 18,
   "id": "26f2a13b-2aa6-4756-b218-0236cb6bf3d8",
   "metadata": {},
   "outputs": [
    {
     "name": "stdout",
     "output_type": "stream",
     "text": [
      "Query: Why generative AI is “automated plagiarism by design”?\n",
      "\n",
      "Inference time: 3.843 sec.\n",
      "\n",
      "Result:  While some see generative AI as a tool for scientists to rethink their research methods, others view it as a way to more easily produce fake content. This is because generative AI is essentially automated plagiarism by design, as it generates new content by building on existing material. This raises concerns about the potential for misuse and the need for clear guidelines and safeguards to prevent the spread of false information.\n",
      "\n",
      "metadata: {'page': 1, 'source': 'HOW GENERATIVE AI COULD DISRUPT SCIENTIFIC PUBLISHING.pdf'}\n"
     ]
    }
   ],
   "source": [
    "query = \"Why generative AI is “automated plagiarism by design”?\"\n",
    "process_llm_response(qa_chain, query)"
   ]
  },
  {
   "cell_type": "code",
   "execution_count": 19,
   "id": "cd3f83c1-a5cd-41f5-b067-dba84856ea6d",
   "metadata": {},
   "outputs": [
    {
     "name": "stdout",
     "output_type": "stream",
     "text": [
      "Query: What is the most popular answer that Nature surveyed researchers on what they thought the biggest benefits of generative AI might be for science?\n",
      "\n",
      "Inference time: 3.444 sec.\n",
      "\n",
      "Result:  According to a Nature survey, the most popular answer that researchers thought the biggest benefits of generative AI might be for science was for suggesting clearer ways to convey ideas. However, it should be noted that while many expect that generative AI will have significant benefits for science, the majority of scientists who use LLMs regularly are still in the minority.\n",
      "\n",
      "metadata: {'page': 1, 'source': 'HOW GENERATIVE AI COULD DISRUPT SCIENTIFIC PUBLISHING.pdf'}\n"
     ]
    }
   ],
   "source": [
    "query = \"What is the most popular answer that Nature surveyed researchers on what they thought the biggest benefits of generative AI might be for science?\"\n",
    "process_llm_response(qa_chain, query)"
   ]
  },
  {
   "cell_type": "code",
   "execution_count": 20,
   "id": "6a80a1db-d155-483a-8eef-eb8a4e2b72f4",
   "metadata": {},
   "outputs": [
    {
     "name": "stdout",
     "output_type": "stream",
     "text": [
      "Query: How generative AI tools could change the ways of researchers conduct meta-analyses and review?\n",
      "\n",
      "Inference time: 6.594 sec.\n",
      "\n",
      "Result:  Generative AI tools have the potential to significantly change the way researchers conduct meta-analyses and reviews. Some researchers see these tools as a way to rethink how they interpret and synthesize data. However, there are concerns about the use of these tools, as some worry that uploading manuscripts and sections of text to generative AI platforms could result in the work being fed back into the training data of language models (LLMs), potentially leading to plagiarism or other forms of academic misconduct. As the use of generative AI in scientific research continues to grow, it will be important for researchers to carefully consider the potential benefits and drawbacks of these tools and to develop guidelines and best practices for their use.\n",
      "\n",
      "metadata: {'page': 1, 'source': 'HOW GENERATIVE AI COULD DISRUPT SCIENTIFIC PUBLISHING.pdf'}\n"
     ]
    }
   ],
   "source": [
    "query = \"How generative AI tools could change the ways of researchers conduct meta-analyses and review?\"\n",
    "process_llm_response(qa_chain, query)"
   ]
  },
  {
   "cell_type": "code",
   "execution_count": 21,
   "id": "32d8beb0-c682-442f-9386-515b0d807582",
   "metadata": {},
   "outputs": [
    {
     "name": "stdout",
     "output_type": "stream",
     "text": [
      "Query: Who is Iris van Rooij? \n",
      "\n",
      "Inference time: 2.138 sec.\n",
      "\n",
      "Result:  Iris van Rooij is a cognitive scholar at the University of Oxford in the UK who studies the ethical and legal implications of content creation, particularly in regards to issues of bias, consent, and copyright.\n",
      "\n",
      "metadata: {'page': 2, 'source': 'HOW GENERATIVE AI COULD DISRUPT SCIENTIFIC PUBLISHING.pdf'}\n"
     ]
    }
   ],
   "source": [
    "query = \"Who is Iris van Rooij? \"\n",
    "process_llm_response(qa_chain, query)\n",
    "#Correct metadata"
   ]
  },
  {
   "cell_type": "code",
   "execution_count": 22,
   "id": "7cc8ddf1-d182-4138-b3e3-98a74e7ed5f1",
   "metadata": {},
   "outputs": [
    {
     "name": "stdout",
     "output_type": "stream",
     "text": [
      "Query: Give me 2 comments from the scientists or researchers of using Generative AI in their work?\n",
      "\n",
      "Inference time: 4.378 sec.\n",
      "\n",
      "Result:  According to some scientists, Generative AI can greatly assist in their research by providing new insights and perspectives through the use of generative AI tools to interrogate experiments, data, and models. This can lead to a rethinking of how they approach their work. Additionally, users can pose queries to these tools to gain further insights and understandings. However, the full potential of Generative AI in scientific research is still being explored and understood.\n",
      "\n",
      "metadata: {'page': 1, 'source': 'HOW GENERATIVE AI COULD DISRUPT SCIENTIFIC PUBLISHING.pdf'}\n"
     ]
    }
   ],
   "source": [
    "query = \"Give me 2 comments from the scientists or researchers of using Generative AI in their work?\"\n",
    "process_llm_response(qa_chain, query)"
   ]
  },
  {
   "cell_type": "code",
   "execution_count": 23,
   "id": "60f45e42-ef80-485e-a58b-cf8f8642cfa1",
   "metadata": {},
   "outputs": [
    {
     "data": {
      "text/plain": [
       "('similarity', <langchain.vectorstores.chroma.Chroma at 0x1ce13961490>)"
      ]
     },
     "execution_count": 23,
     "metadata": {},
     "output_type": "execute_result"
    }
   ],
   "source": [
    "qa_chain.retriever.search_type , qa_chain.retriever.vectorstore"
   ]
  },
  {
   "cell_type": "code",
   "execution_count": 24,
   "id": "c8d841e2-9f2f-49da-b18f-713536159831",
   "metadata": {},
   "outputs": [
    {
     "name": "stdout",
     "output_type": "stream",
     "text": [
      "Use the following pieces of context to answer the question at the end. If you don't know the answer, just say that you don't know, don't try to make up an answer.\n",
      "\n",
      "{context}\n",
      "\n",
      "Question: {question}\n",
      "Helpful Answer:\n"
     ]
    }
   ],
   "source": [
    "print(qa_chain.combine_documents_chain.llm_chain.prompt.template)"
   ]
  },
  {
   "cell_type": "code",
   "execution_count": null,
   "id": "7b4f2265-db86-48e3-8e4e-f44aacab0dcd",
   "metadata": {},
   "outputs": [],
   "source": []
  }
 ],
 "metadata": {
  "kernelspec": {
   "display_name": "Python 3 (ipykernel)",
   "language": "python",
   "name": "python3"
  },
  "language_info": {
   "codemirror_mode": {
    "name": "ipython",
    "version": 3
   },
   "file_extension": ".py",
   "mimetype": "text/x-python",
   "name": "python",
   "nbconvert_exporter": "python",
   "pygments_lexer": "ipython3",
   "version": "3.11.4"
  }
 },
 "nbformat": 4,
 "nbformat_minor": 5
}
