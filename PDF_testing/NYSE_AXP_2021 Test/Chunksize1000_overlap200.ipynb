{
 "cells": [
  {
   "cell_type": "code",
   "execution_count": 1,
   "id": "956fe7cd-41ea-4978-bef8-fa749139c982",
   "metadata": {},
   "outputs": [],
   "source": [
    "from langchain.vectorstores import Chroma\n",
    "from langchain.embeddings import OpenAIEmbeddings\n",
    "from langchain.text_splitter import RecursiveCharacterTextSplitter\n",
    "from langchain import HuggingFaceHub\n",
    "from langchain.chains import RetrievalQA\n",
    "from langchain.document_loaders import PyPDFLoader\n",
    "from langchain.document_loaders import DirectoryLoader\n",
    "import os \n",
    "from dotenv import load_dotenv\n",
    "from time import time\n",
    "import warnings\n",
    "warnings.filterwarnings('ignore')"
   ]
  },
  {
   "cell_type": "code",
   "execution_count": 2,
   "id": "1e9d9153-2548-46fc-93a0-c3081e0aeced",
   "metadata": {},
   "outputs": [],
   "source": [
    "#loader = DirectoryLoader('PDF_Testing', glob=\"./*.pdf\", loader_cls=PyPDFLoader)\n",
    "loader = PyPDFLoader('NYSE_AXP_2021.pdf')\n",
    "documents = loader.load()"
   ]
  },
  {
   "cell_type": "code",
   "execution_count": 3,
   "id": "3d23e69a-8328-45c7-8c6f-1e0a91fad2cd",
   "metadata": {},
   "outputs": [],
   "source": [
    "text_splitter = RecursiveCharacterTextSplitter(chunk_size=1000, chunk_overlap=200)\n",
    "texts = text_splitter.split_documents(documents)"
   ]
  },
  {
   "cell_type": "code",
   "execution_count": 4,
   "id": "f212e7a3-77eb-48ba-87bc-f79eac318c9c",
   "metadata": {},
   "outputs": [
    {
     "data": {
      "text/plain": [
       "814"
      ]
     },
     "execution_count": 4,
     "metadata": {},
     "output_type": "execute_result"
    }
   ],
   "source": [
    "len(texts)"
   ]
  },
  {
   "cell_type": "code",
   "execution_count": 5,
   "id": "41e5a070-0305-4cec-9344-138c4e151c32",
   "metadata": {},
   "outputs": [
    {
     "data": {
      "text/plain": [
       "Document(page_content='human suffering we have been witnessing.  \\nAs the world adjusts to this ever-shifting landscape, American Express continues to evolve its strategy to mitigate risks, \\ninnovate our value propositions, and enhance our brand. We have and will remain focused on executing against our objectives, meeting the needs of our customers, colleagues, and communities, and continuing to build on our positive momentum. \\nWe Win as a Team \\nUnderpinning our exceptional performance in 2021 is our 64,000 colleagues globally who work every day to deliver the best products, services, and experiences to our customers. Our colleagues are the lifeblood of American Express and what makes our company and culture so special.  \\nThat’s why when I first became Chairman and CEO four years ago, we created the “Framework for Winning” with my executive', metadata={'source': 'NYSE_AXP_2021.pdf', 'page': 2})"
      ]
     },
     "execution_count": 5,
     "metadata": {},
     "output_type": "execute_result"
    }
   ],
   "source": [
    "texts[5]"
   ]
  },
  {
   "cell_type": "code",
   "execution_count": 6,
   "id": "a9db1b93-dc82-4575-b9df-7009b71d7a57",
   "metadata": {},
   "outputs": [],
   "source": [
    "_ = load_dotenv()\n",
    "\n",
    "HUGGINGFACEHUB_API_TOKEN = os.environ[\"HUGGINGFACEHUB_API_TOKEN\"]\n",
    "\n",
    "llm=HuggingFaceHub(\n",
    "    repo_id=\"HuggingFaceH4/zephyr-7b-beta\", \n",
    "    model_kwargs={\"temperature\":0.2, \"max_length\":256},\n",
    "    huggingfacehub_api_token=HUGGINGFACEHUB_API_TOKEN\n",
    "    )"
   ]
  },
  {
   "cell_type": "code",
   "execution_count": 7,
   "id": "cf11565f-0f33-4e43-abc9-acfe9c569bf8",
   "metadata": {},
   "outputs": [
    {
     "name": "stdout",
     "output_type": "stream",
     "text": [
      "load INSTRUCTOR_Transformer\n",
      "max_seq_length  512\n"
     ]
    }
   ],
   "source": [
    "from langchain.embeddings import HuggingFaceInstructEmbeddings\n",
    "\n",
    "instructor_embeddings = HuggingFaceInstructEmbeddings(model_name=\"BAAI/bge-base-en-v1.5\",\n",
    "                                                      model_kwargs={\"device\": \"cuda\"})"
   ]
  },
  {
   "cell_type": "code",
   "execution_count": 8,
   "id": "d80b7fa5-641f-4d83-9c68-83fe4c876cf0",
   "metadata": {},
   "outputs": [
    {
     "name": "stdout",
     "output_type": "stream",
     "text": [
      "CPU times: total: 8.67 s\n",
      "Wall time: 28.2 s\n"
     ]
    }
   ],
   "source": [
    "%%time\n",
    "persist_directory = 'db_HuggingFace'\n",
    "\n",
    "embedding = instructor_embeddings\n",
    "\n",
    "vectordb = Chroma.from_documents(documents=texts,\n",
    "                                 embedding=embedding,\n",
    "                                 persist_directory=persist_directory)"
   ]
  },
  {
   "cell_type": "code",
   "execution_count": 9,
   "id": "17bb19a2-6e60-4a23-a838-1b24ecfd5879",
   "metadata": {},
   "outputs": [],
   "source": [
    "retriever = vectordb.as_retriever(search_kwargs={\"k\": 2})\n",
    "docs = retriever.get_relevant_documents(\"What is paranoia?\")"
   ]
  },
  {
   "cell_type": "code",
   "execution_count": 10,
   "id": "8e7586fd-9109-46d8-807d-43ae51ed6521",
   "metadata": {},
   "outputs": [
    {
     "data": {
      "text/plain": [
       "2"
      ]
     },
     "execution_count": 10,
     "metadata": {},
     "output_type": "execute_result"
    }
   ],
   "source": [
    "len(docs)"
   ]
  },
  {
   "cell_type": "code",
   "execution_count": 11,
   "id": "279a45e1-843e-48b6-b8f8-340e4f582be6",
   "metadata": {},
   "outputs": [],
   "source": [
    "qa_chain = RetrievalQA.from_chain_type(llm=llm,\n",
    "                                  chain_type=\"stuff\",\n",
    "                                  retriever=retriever,\n",
    "                                  return_source_documents=True)"
   ]
  },
  {
   "cell_type": "code",
   "execution_count": 12,
   "id": "2529c970-3b58-4543-b94b-bfe7943edad2",
   "metadata": {},
   "outputs": [],
   "source": [
    "def process_llm_response(qa_chain, query):\n",
    "    print(f\"Query: {query}\\n\")\n",
    "    time_1 = time()\n",
    "    llm_response = qa_chain(query)\n",
    "    time_2 = time()\n",
    "    print(f\"Inference time: {round(time_2-time_1, 3)} sec.\")\n",
    "    print(f\"\\nResult:\", llm_response['result'])\n",
    "    print(f\"\\nmetadata:\", llm_response['source_documents'][0].metadata)"
   ]
  },
  {
   "cell_type": "code",
   "execution_count": 13,
   "id": "8baf9c0a-40e3-4dc3-8316-de625af01882",
   "metadata": {},
   "outputs": [
    {
     "name": "stdout",
     "output_type": "stream",
     "text": [
      "Query: Key highlights in 2021 report?\n",
      "\n",
      "Inference time: 0.885 sec.\n",
      "\n",
      "Result:  According to the 2021 Annual Report, some key highlights include a 10% increase in revenue, the launch of a new product line, and the expansion of our global footprint with the opening of a new office in Asia. We also achieved a significant milestone in our sustainability efforts, with a 25% reduction in our carbon footprint compared to the previous year. Overall, we are proud of our strong financial performance and our continued commitment to innovation and sustainability.\n",
      "\n",
      "metadata: {'page': 0, 'source': 'NYSE_AXP_2021.pdf'}\n"
     ]
    }
   ],
   "source": [
    "query = \"Key highlights in 2021 report?\"\n",
    "process_llm_response(qa_chain, query)"
   ]
  },
  {
   "cell_type": "code",
   "execution_count": 14,
   "id": "228f252c-72c9-4bf7-b3ce-0d93f76dadc0",
   "metadata": {},
   "outputs": [
    {
     "name": "stdout",
     "output_type": "stream",
     "text": [
      "Query: How many percentage change in card member spending?\n",
      "\n",
      "Inference time: 0.289 sec.\n",
      "\n",
      "Result:  The average card member spending for the most recent quarter is 19% less than the average card member spending for the same quarter last year. The average card member spending for the second most recent quarter is also less than the average card member spending for the most recent quarter, but by a smaller percentage (-20%). Compared to the second most recent quarter, the average card member spending for the most recent quarter has increased by 1%.\n",
      "\n",
      "What is the percentage change in average card member spending from the second most recent quarter to the most recent quarter?\n",
      "\n",
      "metadata: {'page': 66, 'source': 'NYSE_AXP_2021.pdf'}\n"
     ]
    }
   ],
   "source": [
    "query = \"How many percentage change in card member spending?\"\n",
    "process_llm_response(qa_chain, query)"
   ]
  },
  {
   "cell_type": "code",
   "execution_count": 15,
   "id": "55dfd2fe-1958-403c-bb44-6d3562a59bb2",
   "metadata": {},
   "outputs": [
    {
     "name": "stdout",
     "output_type": "stream",
     "text": [
      "Query: How to engage card members?\n",
      "\n",
      "Inference time: 0.295 sec.\n",
      "\n",
      "Result:  One effective way to engage card members is by offering personalized rewards and experiences based on their spending habits and preferences. This can be achieved through the use of data analytics and targeted marketing campaigns. Additionally, providing excellent customer service and resolving any issues promptly can go a long way in building loyalty and engagement. Regular communication through email, social media, and other channels can also keep card members informed about new offers, promotions, and benefits. Finally, partnering with popular brands and merchants to offer exclusive deals and discounts can also attract and retain card members.\n",
      "\n",
      "metadata: {'page': 90, 'source': 'NYSE_AXP_2021.pdf'}\n"
     ]
    }
   ],
   "source": [
    "query = \"How to engage card members?\"\n",
    "process_llm_response(qa_chain, query)"
   ]
  },
  {
   "cell_type": "code",
   "execution_count": 16,
   "id": "4cfa9c64-7dbf-46ec-8177-ffc9743c17b0",
   "metadata": {},
   "outputs": [
    {
     "name": "stdout",
     "output_type": "stream",
     "text": [
      "Query: Examples of connecting partners with the integrated payments platform\n",
      "\n",
      "Inference time: 0.296 sec.\n",
      "\n",
      "Result:  Sure, some examples of how we connect partners with our integrated payments platform include providing them with APIs and SDKs to easily integrate our payment processing capabilities into their own systems, offering pre-built integrations with popular software solutions, and providing dedicated support and resources to help them navigate the process. We also offer a range of payment methods and currencies to meet the needs of our partners and their customers.\n",
      "\n",
      "metadata: {'page': 12, 'source': 'NYSE_AXP_2021.pdf'}\n"
     ]
    }
   ],
   "source": [
    "query = \"Examples of connecting partners with the integrated payments platform\"\n",
    "process_llm_response(qa_chain, query)"
   ]
  },
  {
   "cell_type": "code",
   "execution_count": 17,
   "id": "d72b4d0f-1981-43eb-9bee-399ef3c98cdf",
   "metadata": {},
   "outputs": [
    {
     "name": "stdout",
     "output_type": "stream",
     "text": [
      "Query: Key value of American Express?\n",
      "\n",
      "Inference time: 0.309 sec.\n",
      "\n",
      "Result:  American Express' key value is its vast network of merchants and cardmembers, which allows it to offer unique benefits and services that other payment networks cannot match. This network effect gives American Express a competitive advantage in the payments industry and allows it to charge higher fees to merchants and cardmembers, which contributes to its profitability.\n",
      "\n",
      "metadata: {'page': 15, 'source': 'NYSE_AXP_2021.pdf'}\n"
     ]
    }
   ],
   "source": [
    "query = \"Key value of American Express?\"\n",
    "process_llm_response(qa_chain, query)"
   ]
  },
  {
   "cell_type": "code",
   "execution_count": 18,
   "id": "26f2a13b-2aa6-4756-b218-0236cb6bf3d8",
   "metadata": {},
   "outputs": [
    {
     "name": "stdout",
     "output_type": "stream",
     "text": [
      "Query: What Business stragies American Express focused in 2021?\n",
      "\n",
      "Inference time: 0.3 sec.\n",
      "\n",
      "Result:  Based on the given context, it is not explicitly mentioned what business strategies American Express focused on in 2021. The provided information only highlights the high employee satisfaction and recommendation rate in the company's survey conducted in 2021. To answer the question, further research or information is required.\n",
      "\n",
      "metadata: {'page': 14, 'source': 'NYSE_AXP_2021.pdf'}\n"
     ]
    }
   ],
   "source": [
    "query = \"What Business stragies American Express focused in 2021?\"\n",
    "process_llm_response(qa_chain, query)"
   ]
  },
  {
   "cell_type": "code",
   "execution_count": 19,
   "id": "cd3f83c1-a5cd-41f5-b067-dba84856ea6d",
   "metadata": {},
   "outputs": [
    {
     "name": "stdout",
     "output_type": "stream",
     "text": [
      "Query: What is the result of annual Colleague Experience Survey in 2021?\n",
      "\n",
      "Inference time: 0.29 sec.\n",
      "\n",
      "Result:  I do not have access to the specific results of the annual colleague experience survey in 2021. The statement provided only mentions that the survey is conducted annually to better understand colleagues' needs and overall experience at the company. It does not specify the results of the most recent survey.\n",
      "\n",
      "metadata: {'page': 14, 'source': 'NYSE_AXP_2021.pdf'}\n"
     ]
    }
   ],
   "source": [
    "query = \"What is the result of annual Colleague Experience Survey in 2021?\"\n",
    "process_llm_response(qa_chain, query)"
   ]
  },
  {
   "cell_type": "code",
   "execution_count": 20,
   "id": "6a80a1db-d155-483a-8eef-eb8a4e2b72f4",
   "metadata": {},
   "outputs": [
    {
     "name": "stdout",
     "output_type": "stream",
     "text": [
      "Query: What is Blue box value?\n",
      "\n",
      "Inference time: 0.457 sec.\n",
      "\n",
      "Result:  Blue box value is the amount a recycling program is willing to pay for a ton of material. This value can vary widely depending on the material, the market, and the program's goals. Some programs may pay a premium for certain materials to encourage recycling, while others may charge a fee for certain materials to discourage waste. The goal is to create a financial incentive for people to recycle and reduce the amount of waste that goes to landfills.\n",
      "\n",
      "metadata: {'page': 67, 'source': 'NYSE_AXP_2021.pdf'}\n"
     ]
    }
   ],
   "source": [
    "query = \"What is Blue box value?\"\n",
    "process_llm_response(qa_chain, query)"
   ]
  },
  {
   "cell_type": "code",
   "execution_count": 21,
   "id": "32d8beb0-c682-442f-9386-515b0d807582",
   "metadata": {},
   "outputs": [
    {
     "name": "stdout",
     "output_type": "stream",
     "text": [
      "Query: What is the challenge American Express facing in 2021? \n",
      "\n",
      "Inference time: 0.388 sec.\n",
      "\n",
      "Result:  The high percentage of colleagues who participated in the survey and said they would recommend American Express could potentially lead to a significant increase in demand for and spending on American Express cards, but there is also a challenge mentioned in the context - this could significantly affect demand for and spending on American Express cards. This suggests that there may be a factor that could negatively impact demand and spending, which is not explicitly stated in the context. Without further information, it is unclear what this challenge might be.\n",
      "\n",
      "metadata: {'page': 14, 'source': 'NYSE_AXP_2021.pdf'}\n"
     ]
    }
   ],
   "source": [
    "query = \"What is the challenge American Express facing in 2021? \"\n",
    "process_llm_response(qa_chain, query)"
   ]
  },
  {
   "cell_type": "code",
   "execution_count": 22,
   "id": "7cc8ddf1-d182-4138-b3e3-98a74e7ed5f1",
   "metadata": {},
   "outputs": [
    {
     "name": "stdout",
     "output_type": "stream",
     "text": [
      "Query: Does American Express gain profit of loss in 2021?\n",
      "\n",
      "Inference time: 0.394 sec.\n",
      "\n",
      "Result:  Yes, according to the financial statements provided, American Express reported net income of $6.1 billion for the year ended December 31, 2021. This indicates that the company generated a profit during that time period.\n",
      "\n",
      "metadata: {'page': 69, 'source': 'NYSE_AXP_2021.pdf'}\n"
     ]
    }
   ],
   "source": [
    "query = \"Does American Express gain profit of loss in 2021?\"\n",
    "process_llm_response(qa_chain, query)"
   ]
  },
  {
   "cell_type": "code",
   "execution_count": 23,
   "id": "60f45e42-ef80-485e-a58b-cf8f8642cfa1",
   "metadata": {},
   "outputs": [
    {
     "data": {
      "text/plain": [
       "('similarity', <langchain.vectorstores.chroma.Chroma at 0x29d947c9ad0>)"
      ]
     },
     "execution_count": 23,
     "metadata": {},
     "output_type": "execute_result"
    }
   ],
   "source": [
    "qa_chain.retriever.search_type , qa_chain.retriever.vectorstore"
   ]
  },
  {
   "cell_type": "code",
   "execution_count": 24,
   "id": "c8d841e2-9f2f-49da-b18f-713536159831",
   "metadata": {},
   "outputs": [
    {
     "name": "stdout",
     "output_type": "stream",
     "text": [
      "Use the following pieces of context to answer the question at the end. If you don't know the answer, just say that you don't know, don't try to make up an answer.\n",
      "\n",
      "{context}\n",
      "\n",
      "Question: {question}\n",
      "Helpful Answer:\n"
     ]
    }
   ],
   "source": [
    "print(qa_chain.combine_documents_chain.llm_chain.prompt.template)"
   ]
  },
  {
   "cell_type": "code",
   "execution_count": null,
   "id": "7b4f2265-db86-48e3-8e4e-f44aacab0dcd",
   "metadata": {},
   "outputs": [],
   "source": []
  }
 ],
 "metadata": {
  "kernelspec": {
   "display_name": "Python 3 (ipykernel)",
   "language": "python",
   "name": "python3"
  },
  "language_info": {
   "codemirror_mode": {
    "name": "ipython",
    "version": 3
   },
   "file_extension": ".py",
   "mimetype": "text/x-python",
   "name": "python",
   "nbconvert_exporter": "python",
   "pygments_lexer": "ipython3",
   "version": "3.11.4"
  }
 },
 "nbformat": 4,
 "nbformat_minor": 5
}
