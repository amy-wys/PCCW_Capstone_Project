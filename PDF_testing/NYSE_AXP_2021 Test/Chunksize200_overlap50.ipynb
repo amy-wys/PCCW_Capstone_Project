{
 "cells": [
  {
   "cell_type": "code",
   "execution_count": 25,
   "id": "956fe7cd-41ea-4978-bef8-fa749139c982",
   "metadata": {},
   "outputs": [],
   "source": [
    "from langchain.vectorstores import Chroma\n",
    "from langchain.embeddings import OpenAIEmbeddings\n",
    "from langchain.text_splitter import RecursiveCharacterTextSplitter\n",
    "from langchain import HuggingFaceHub\n",
    "from langchain.chains import RetrievalQA\n",
    "from langchain.document_loaders import PyPDFLoader\n",
    "from langchain.document_loaders import DirectoryLoader\n",
    "import os \n",
    "from dotenv import load_dotenv\n",
    "from time import time\n",
    "import warnings\n",
    "warnings.filterwarnings('ignore')"
   ]
  },
  {
   "cell_type": "code",
   "execution_count": 26,
   "id": "1e9d9153-2548-46fc-93a0-c3081e0aeced",
   "metadata": {},
   "outputs": [],
   "source": [
    "#loader = DirectoryLoader('PDF_Testing', glob=\"./*.pdf\", loader_cls=PyPDFLoader)\n",
    "loader = PyPDFLoader('NYSE_AXP_2021.pdf')\n",
    "documents = loader.load()"
   ]
  },
  {
   "cell_type": "code",
   "execution_count": 27,
   "id": "3d23e69a-8328-45c7-8c6f-1e0a91fad2cd",
   "metadata": {},
   "outputs": [],
   "source": [
    "text_splitter = RecursiveCharacterTextSplitter(chunk_size=200, chunk_overlap=50)\n",
    "texts = text_splitter.split_documents(documents)"
   ]
  },
  {
   "cell_type": "code",
   "execution_count": 28,
   "id": "f212e7a3-77eb-48ba-87bc-f79eac318c9c",
   "metadata": {},
   "outputs": [
    {
     "data": {
      "text/plain": [
       "4545"
      ]
     },
     "execution_count": 28,
     "metadata": {},
     "output_type": "execute_result"
    }
   ],
   "source": [
    "len(texts)"
   ]
  },
  {
   "cell_type": "code",
   "execution_count": 29,
   "id": "41e5a070-0305-4cec-9344-138c4e151c32",
   "metadata": {},
   "outputs": [
    {
     "data": {
      "text/plain": [
       "Document(page_content='x Delivered net income of $8.1 billion and earnings per share of $10.02.  \\nx Achieved record levels of Card Member spending, with billed business increasing 25% to $1.09 trillion, led by strength', metadata={'source': 'NYSE_AXP_2021.pdf', 'page': 2})"
      ]
     },
     "execution_count": 29,
     "metadata": {},
     "output_type": "execute_result"
    }
   ],
   "source": [
    "texts[5]"
   ]
  },
  {
   "cell_type": "code",
   "execution_count": 30,
   "id": "a9db1b93-dc82-4575-b9df-7009b71d7a57",
   "metadata": {},
   "outputs": [],
   "source": [
    "_ = load_dotenv()\n",
    "\n",
    "HUGGINGFACEHUB_API_TOKEN = os.environ[\"HUGGINGFACEHUB_API_TOKEN\"]\n",
    "\n",
    "llm=HuggingFaceHub(\n",
    "    repo_id=\"HuggingFaceH4/zephyr-7b-beta\", \n",
    "    model_kwargs={\"temperature\":0.2, \"max_length\":256},\n",
    "    huggingfacehub_api_token=HUGGINGFACEHUB_API_TOKEN\n",
    "    )"
   ]
  },
  {
   "cell_type": "code",
   "execution_count": 31,
   "id": "cf11565f-0f33-4e43-abc9-acfe9c569bf8",
   "metadata": {},
   "outputs": [
    {
     "name": "stdout",
     "output_type": "stream",
     "text": [
      "load INSTRUCTOR_Transformer\n",
      "max_seq_length  512\n"
     ]
    }
   ],
   "source": [
    "from langchain.embeddings import HuggingFaceInstructEmbeddings\n",
    "\n",
    "instructor_embeddings = HuggingFaceInstructEmbeddings(model_name=\"BAAI/bge-base-en-v1.5\",\n",
    "                                                      model_kwargs={\"device\": \"cuda\"})"
   ]
  },
  {
   "cell_type": "code",
   "execution_count": 32,
   "id": "d80b7fa5-641f-4d83-9c68-83fe4c876cf0",
   "metadata": {},
   "outputs": [
    {
     "name": "stdout",
     "output_type": "stream",
     "text": [
      "CPU times: total: 9.97 s\n",
      "Wall time: 25.3 s\n"
     ]
    }
   ],
   "source": [
    "%%time\n",
    "persist_directory = 'db_HuggingFace'\n",
    "\n",
    "embedding = instructor_embeddings\n",
    "\n",
    "vectordb = Chroma.from_documents(documents=texts,\n",
    "                                 embedding=embedding,\n",
    "                                 persist_directory=persist_directory)"
   ]
  },
  {
   "cell_type": "code",
   "execution_count": 33,
   "id": "17bb19a2-6e60-4a23-a838-1b24ecfd5879",
   "metadata": {},
   "outputs": [],
   "source": [
    "retriever = vectordb.as_retriever(search_kwargs={\"k\": 2})\n",
    "docs = retriever.get_relevant_documents(\"What is paranoia?\")"
   ]
  },
  {
   "cell_type": "code",
   "execution_count": 34,
   "id": "8e7586fd-9109-46d8-807d-43ae51ed6521",
   "metadata": {},
   "outputs": [
    {
     "data": {
      "text/plain": [
       "2"
      ]
     },
     "execution_count": 34,
     "metadata": {},
     "output_type": "execute_result"
    }
   ],
   "source": [
    "len(docs)"
   ]
  },
  {
   "cell_type": "code",
   "execution_count": 35,
   "id": "279a45e1-843e-48b6-b8f8-340e4f582be6",
   "metadata": {},
   "outputs": [],
   "source": [
    "qa_chain = RetrievalQA.from_chain_type(llm=llm,\n",
    "                                  chain_type=\"stuff\",\n",
    "                                  retriever=retriever,\n",
    "                                  return_source_documents=True)"
   ]
  },
  {
   "cell_type": "code",
   "execution_count": 36,
   "id": "2529c970-3b58-4543-b94b-bfe7943edad2",
   "metadata": {},
   "outputs": [],
   "source": [
    "def process_llm_response(qa_chain, query):\n",
    "    print(f\"Query: {query}\\n\")\n",
    "    time_1 = time()\n",
    "    llm_response = qa_chain(query)\n",
    "    time_2 = time()\n",
    "    print(f\"Inference time: {round(time_2-time_1, 3)} sec.\")\n",
    "    print(f\"\\nResult:\", llm_response['result'])\n",
    "    print(f\"\\nmetadata:\", llm_response['source_documents'][0].metadata)"
   ]
  },
  {
   "cell_type": "code",
   "execution_count": 37,
   "id": "8baf9c0a-40e3-4dc3-8316-de625af01882",
   "metadata": {},
   "outputs": [
    {
     "name": "stdout",
     "output_type": "stream",
     "text": [
      "Query: Key highlights in 2021 report?\n",
      "\n",
      "Inference time: 7.449 sec.\n",
      "\n",
      "Result:  According to the 2021 Annual Report, some key highlights from the past year include a 10% increase in revenue, the launch of a new product line, and the implementation of a sustainability initiative that resulted in a 25% reduction in carbon emissions. Additionally, the report notes that the company achieved record profits and returned a significant portion of those profits to shareholders through dividends and share buybacks. Overall, the report paints a positive picture of the company's performance in 2021.\n",
      "\n",
      "metadata: {'page': 0, 'source': 'NYSE_AXP_2021.pdf'}\n"
     ]
    }
   ],
   "source": [
    "query = \"Key highlights in 2021 report?\"\n",
    "process_llm_response(qa_chain, query)"
   ]
  },
  {
   "cell_type": "code",
   "execution_count": 38,
   "id": "228f252c-72c9-4bf7-b3ce-0d93f76dadc0",
   "metadata": {},
   "outputs": [
    {
     "name": "stdout",
     "output_type": "stream",
     "text": [
      "Query: How many percentage change in card member spending?\n",
      "\n",
      "Inference time: 10.85 sec.\n",
      "\n",
      "Result:  The text provides information about card member spending in 2020, 2019, and projected spending in 2021. To calculate the percentage change, you would subtract the spending amount in the previous year from the spending amount in the current year, divide by the spending amount in the previous year, and then multiply by 100. For example, to calculate the percentage change in card member spending from 2019 to 2020, you would subtract $22,021 from $26,906, divide by $22,021, and then multiply by 100. The result would be a negative number, indicating a decrease in spending.\n",
      "\n",
      "However, the question asks for the percentage change in card member spending, but the provided context only shows the change in card member spending, not the actual spending amounts. Without this information, it is not possible to calculate the percentage change in card member spending.\n",
      "\n",
      "In summary, the answer to the question is \"I don't know.\"\n",
      "\n",
      "metadata: {'page': 63, 'source': 'NYSE_AXP_2021.pdf'}\n"
     ]
    }
   ],
   "source": [
    "# break it down\n",
    "query = \"How many percentage change in card member spending?\"\n",
    "process_llm_response(qa_chain, query)"
   ]
  },
  {
   "cell_type": "code",
   "execution_count": 39,
   "id": "55dfd2fe-1958-403c-bb44-6d3562a59bb2",
   "metadata": {},
   "outputs": [
    {
     "name": "stdout",
     "output_type": "stream",
     "text": [
      "Query: How to engage card members?\n",
      "\n",
      "Inference time: 5.571 sec.\n",
      "\n",
      "Result:  To engage Card Members, American Express can offer special offers and services that cater to their preferences and are in line with their receptivity to such offers. This can be achieved through targeted marketing campaigns and personalized communication strategies that take into account the individual needs and preferences of each Card Member. By providing relevant and valuable benefits, American Express can strengthen the relationship with its Card Members and increase their loyalty and advocacy.\n",
      "\n",
      "metadata: {'page': 10, 'source': 'NYSE_AXP_2021.pdf'}\n"
     ]
    }
   ],
   "source": [
    "query = \"How to engage card members?\"\n",
    "process_llm_response(qa_chain, query)"
   ]
  },
  {
   "cell_type": "code",
   "execution_count": 40,
   "id": "4cfa9c64-7dbf-46ec-8177-ffc9743c17b0",
   "metadata": {},
   "outputs": [
    {
     "name": "stdout",
     "output_type": "stream",
     "text": [
      "Query: Examples of connecting partners with the integrated payments platform\n",
      "\n",
      "Inference time: 3.328 sec.\n",
      "\n",
      "Result:  Yes, some examples of connecting partners with the integrated payments platform include issuing cards, forming partnership agreements with banks and other institutions, and exploring joint ventures and alternative payment solutions.\n",
      "\n",
      "metadata: {'page': 12, 'source': 'NYSE_AXP_2021.pdf'}\n"
     ]
    }
   ],
   "source": [
    "query = \"Examples of connecting partners with the integrated payments platform\"\n",
    "process_llm_response(qa_chain, query)"
   ]
  },
  {
   "cell_type": "code",
   "execution_count": 41,
   "id": "d72b4d0f-1981-43eb-9bee-399ef3c98cdf",
   "metadata": {},
   "outputs": [
    {
     "name": "stdout",
     "output_type": "stream",
     "text": [
      "Query: Key value of American Express?\n",
      "\n",
      "Inference time: 50.62 sec.\n",
      "\n",
      "Result:  The key value of American Express is its reputation and network of merchants that accept its cards, which makes it a preferred payment method for many consumers and businesses. This network effect helps to differentiate American Express from other payment options and provides a competitive advantage. However, any disruption to this network, such as the loss of merchants or customer data, could negatively impact demand for and spending on American Express cards, which would affect the company's financial performance.\n",
      "\n",
      "metadata: {'page': 80, 'source': 'NYSE_AXP_2021.pdf'}\n"
     ]
    }
   ],
   "source": [
    "query = \"Key value of American Express?\"\n",
    "process_llm_response(qa_chain, query)"
   ]
  },
  {
   "cell_type": "code",
   "execution_count": 42,
   "id": "26f2a13b-2aa6-4756-b218-0236cb6bf3d8",
   "metadata": {},
   "outputs": [
    {
     "name": "stdout",
     "output_type": "stream",
     "text": [
      "Query: What Business stragies American Express focused in 2021?\n",
      "\n",
      "Inference time: 5.108 sec.\n",
      "\n",
      "Result:  In 2021, American Express focused on two main business strategies. Firstly, they continued their strategy of expanding their digital cash management platforms through the acquisition of Kabbage's digital platforms in 2020. Secondly, they introduced a new product called American Express, which is a digital cash management platform. Additionally, 90% of colleagues who participated in a survey in 2021 said they would recommend working at American Express.\n",
      "\n",
      "metadata: {'page': 14, 'source': 'NYSE_AXP_2021.pdf'}\n"
     ]
    }
   ],
   "source": [
    "query = \"What Business stragies American Express focused in 2021?\"\n",
    "process_llm_response(qa_chain, query)"
   ]
  },
  {
   "cell_type": "code",
   "execution_count": 44,
   "id": "cd3f83c1-a5cd-41f5-b067-dba84856ea6d",
   "metadata": {},
   "outputs": [
    {
     "name": "stdout",
     "output_type": "stream",
     "text": [
      "Query: What is the result of annual Colleague Experience Survey in 2021?\n",
      "\n",
      "Inference time: 3.416 sec.\n",
      "\n",
      "Result:  In 2021, 90% of colleagues who participated in the annual Colleague Experience Survey at American Express said they would recommend the company.\n",
      "\n",
      "metadata: {'page': 14, 'source': 'NYSE_AXP_2021.pdf'}\n"
     ]
    }
   ],
   "source": [
    "query = \"What is the result of annual Colleague Experience Survey in 2021?\"\n",
    "process_llm_response(qa_chain, query)"
   ]
  },
  {
   "cell_type": "code",
   "execution_count": 43,
   "id": "6a80a1db-d155-483a-8eef-eb8a4e2b72f4",
   "metadata": {},
   "outputs": [
    {
     "name": "stdout",
     "output_type": "stream",
     "text": [
      "Query: What is Blue box value?\n",
      "\n",
      "Inference time: 6.971 sec.\n",
      "\n",
      "Result:  Blue box value refers to the amount that can be recovered from recycling blue box materials, such as paper, cardboard, and plastics. This value is determined by the market demand for these materials and the cost of collecting, sorting, and processing them. In some cases, the blue box value may be less than the cost of collecting and processing the materials, resulting in a net loss for the recycling program. In other cases, the blue box value may be higher, resulting in a net gain. The goal of many recycling programs is to maximize the blue box value while minimizing the cost of collection and processing.\n",
      "\n",
      "metadata: {'page': 5, 'source': 'PDF_file\\\\s41598-023-47912-0.pdf'}\n"
     ]
    }
   ],
   "source": [
    "query = \"What is Blue box value?\"\n",
    "process_llm_response(qa_chain, query)"
   ]
  },
  {
   "cell_type": "code",
   "execution_count": 45,
   "id": "32d8beb0-c682-442f-9386-515b0d807582",
   "metadata": {},
   "outputs": [
    {
     "name": "stdout",
     "output_type": "stream",
     "text": [
      "Query: What is the challenge American Express facing in 2021? \n",
      "\n",
      "Inference time: 6.943 sec.\n",
      "\n",
      "Result:  The high percentage of colleagues who participated in the survey and recommended American Express could be seen as a strength, but the context also mentions a potential challenge related to demand for and spending on American Express cards. This suggests that while American Express has a positive reputation among its employees, there could be external factors that may impact the company's business in the coming year. Without further context, it's unclear what these factors might be, but they could potentially include changes in consumer behavior, economic conditions, or competition in the credit card industry.\n",
      "\n",
      "metadata: {'page': 14, 'source': 'NYSE_AXP_2021.pdf'}\n"
     ]
    }
   ],
   "source": [
    "query = \"What is the challenge American Express facing in 2021? \"\n",
    "process_llm_response(qa_chain, query)"
   ]
  },
  {
   "cell_type": "code",
   "execution_count": 22,
   "id": "7cc8ddf1-d182-4138-b3e3-98a74e7ed5f1",
   "metadata": {},
   "outputs": [
    {
     "name": "stdout",
     "output_type": "stream",
     "text": [
      "Query: What are the pros and cons of the tactics that protesters use??\n",
      "\n",
      "Inference time: 10.126 sec.\n",
      "\n",
      "Result:  Some common tactics used by protesters include peaceful demonstrations, civil disobedience, and direct action. The pros of peaceful demonstrations include their ability to raise awareness and put pressure on authorities to address the issues being protested. Civil disobedience, such as sit-ins or blockades, can be effective in drawing attention to a cause and forcing authorities to respond. Direct action, such as occupying buildings or disrupting operations, can be more confrontational but can also lead to immediate results. However, the cons of these tactics include the potential for violence, arrests, and negative media coverage. Additionally, some tactics may not be effective in certain contexts or against certain types of authorities. Researchers can help to understand the effectiveness of different tactics by studying their outcomes and the factors that contribute to their success or failure. They can also work with protesters to develop strategies that are tailored to the specific context and goals of the protest.\n",
      "\n",
      "metadata: {'page': 1, 'source': 'How effective are climate protests at swaying policy.pdf'}\n"
     ]
    }
   ],
   "source": [
    "query = \"What are the pros and cons of the tactics that protesters use??\"\n",
    "process_llm_response(qa_chain, query)"
   ]
  },
  {
   "cell_type": "code",
   "execution_count": 23,
   "id": "60f45e42-ef80-485e-a58b-cf8f8642cfa1",
   "metadata": {},
   "outputs": [
    {
     "data": {
      "text/plain": [
       "('similarity', <langchain.vectorstores.chroma.Chroma at 0x184fb110510>)"
      ]
     },
     "execution_count": 23,
     "metadata": {},
     "output_type": "execute_result"
    }
   ],
   "source": [
    "qa_chain.retriever.search_type , qa_chain.retriever.vectorstore"
   ]
  },
  {
   "cell_type": "code",
   "execution_count": 24,
   "id": "c8d841e2-9f2f-49da-b18f-713536159831",
   "metadata": {},
   "outputs": [
    {
     "name": "stdout",
     "output_type": "stream",
     "text": [
      "Use the following pieces of context to answer the question at the end. If you don't know the answer, just say that you don't know, don't try to make up an answer.\n",
      "\n",
      "{context}\n",
      "\n",
      "Question: {question}\n",
      "Helpful Answer:\n"
     ]
    }
   ],
   "source": [
    "print(qa_chain.combine_documents_chain.llm_chain.prompt.template)"
   ]
  },
  {
   "cell_type": "code",
   "execution_count": null,
   "id": "7b4f2265-db86-48e3-8e4e-f44aacab0dcd",
   "metadata": {},
   "outputs": [],
   "source": []
  }
 ],
 "metadata": {
  "kernelspec": {
   "display_name": "Python 3 (ipykernel)",
   "language": "python",
   "name": "python3"
  },
  "language_info": {
   "codemirror_mode": {
    "name": "ipython",
    "version": 3
   },
   "file_extension": ".py",
   "mimetype": "text/x-python",
   "name": "python",
   "nbconvert_exporter": "python",
   "pygments_lexer": "ipython3",
   "version": "3.11.4"
  }
 },
 "nbformat": 4,
 "nbformat_minor": 5
}
