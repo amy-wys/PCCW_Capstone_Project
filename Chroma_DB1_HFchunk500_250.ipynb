{
 "cells": [
  {
   "cell_type": "markdown",
   "metadata": {
    "id": "7AnZQpL_IZZZ"
   },
   "source": [
    "# LangChain multi-doc retriever with ChromaDB\n",
    "\n",
    "***New Points***\n",
    "- Multiple Files\n",
    "- ChromaDB\n",
    "- Source info\n",
    "- gpt-3.5-turbo API"
   ]
  },
  {
   "cell_type": "markdown",
   "metadata": {
    "id": "HqwsGJDhvAQ5"
   },
   "source": [
    "## Setting up LangChain\n"
   ]
  },
  {
   "cell_type": "code",
   "execution_count": 1,
   "metadata": {
    "id": "XHVE9uFb3Ajj"
   },
   "outputs": [],
   "source": [
    "from langchain.vectorstores import Chroma\n",
    "from langchain.embeddings import OpenAIEmbeddings\n",
    "from langchain import HuggingFaceHub\n",
    "from langchain.embeddings import HuggingFaceEmbeddings\n",
    "from langchain.embeddings import HuggingFaceInstructEmbeddings\n",
    "from langchain.text_splitter import RecursiveCharacterTextSplitter\n",
    "from langchain.llms import OpenAI\n",
    "from langchain.chains import RetrievalQA\n",
    "from langchain.document_loaders import TextLoader\n",
    "from langchain.document_loaders import PyPDFLoader\n",
    "from langchain.document_loaders import DirectoryLoader\n",
    "import os\n",
    "from dotenv import load_dotenv"
   ]
  },
  {
   "cell_type": "code",
   "execution_count": 2,
   "metadata": {
    "id": "dNA4TsHpu6OM"
   },
   "outputs": [
    {
     "name": "stderr",
     "output_type": "stream",
     "text": [
      "/Users/parkjungwoo/Documents/GitHub/PCCW_Capstone_Project/FirstVenv/lib/python3.11/site-packages/InstructorEmbedding/instructor.py:7: TqdmWarning: IProgress not found. Please update jupyter and ipywidgets. See https://ipywidgets.readthedocs.io/en/stable/user_install.html\n",
      "  from tqdm.autonotebook import trange\n"
     ]
    },
    {
     "name": "stdout",
     "output_type": "stream",
     "text": [
      "load INSTRUCTOR_Transformer\n",
      "max_seq_length  512\n"
     ]
    },
    {
     "name": "stderr",
     "output_type": "stream",
     "text": [
      "/Users/parkjungwoo/Documents/GitHub/PCCW_Capstone_Project/FirstVenv/lib/python3.11/site-packages/huggingface_hub/utils/_deprecation.py:127: FutureWarning: '__init__' (from 'huggingface_hub.inference_api') is deprecated and will be removed from version '1.0'. `InferenceApi` client is deprecated in favor of the more feature-complete `InferenceClient`. Check out this guide to learn how to convert your script to use it: https://huggingface.co/docs/huggingface_hub/guides/inference#legacy-inferenceapi-client.\n",
      "  warnings.warn(warning_message, FutureWarning)\n"
     ]
    }
   ],
   "source": [
    "_ = load_dotenv()\n",
    "\n",
    "OPENAI_API_KEY = os.environ[\"OPENAI_API_KEY\"]\n",
    "HUGGINGFACEHUB_API_TOKEN = os.environ[\"HUGGINGFACEHUB_API_TOKEN\"]\n",
    "\n",
    "instructor_embeddings = HuggingFaceInstructEmbeddings(model_name=\"BAAI/bge-base-en-v1.5\",\n",
    "                                                      model_kwargs={\"device\": \"cuda\"})\n",
    "\n",
    "llm=HuggingFaceHub(\n",
    "    repo_id=\"HuggingFaceH4/zephyr-7b-beta\", \n",
    "    model_kwargs={\"temperature\":0.2, \"max_length\":256},\n",
    "    huggingfacehub_api_token=HUGGINGFACEHUB_API_TOKEN\n",
    "    )"
   ]
  },
  {
   "cell_type": "markdown",
   "metadata": {
    "id": "9UcQKUId3X2M"
   },
   "source": [
    "## Load multiple and process documents"
   ]
  },
  {
   "cell_type": "code",
   "execution_count": 3,
   "metadata": {
    "id": "PRSeXXc_3Ypj"
   },
   "outputs": [],
   "source": [
    "# Load and process the text files\n",
    "# loader = TextLoader('single_text_file.txt')\n",
    "loader = DirectoryLoader('./data/', glob=\"./*.pdf\", loader_cls=PyPDFLoader)\n",
    "\n",
    "documents = loader.load()"
   ]
  },
  {
   "cell_type": "code",
   "execution_count": 4,
   "metadata": {
    "id": "3__nT0D4Fkmg"
   },
   "outputs": [
    {
     "name": "stdout",
     "output_type": "stream",
     "text": [
      "CPU times: user 4.08 ms, sys: 178 µs, total: 4.26 ms\n",
      "Wall time: 4.32 ms\n"
     ]
    }
   ],
   "source": [
    "%%time\n",
    "#splitting the text into\n",
    "text_splitter = RecursiveCharacterTextSplitter(chunk_size=500, chunk_overlap=250)\n",
    "texts = text_splitter.split_documents(documents)"
   ]
  },
  {
   "cell_type": "code",
   "execution_count": 5,
   "metadata": {
    "colab": {
     "base_uri": "https://localhost:8080/"
    },
    "id": "TlU5AlqY4gwj",
    "outputId": "d78fb098-3161-42cd-8ce9-5f98f4ef91d2"
   },
   "outputs": [
    {
     "data": {
      "text/plain": [
       "221"
      ]
     },
     "execution_count": 5,
     "metadata": {},
     "output_type": "execute_result"
    }
   ],
   "source": [
    "len(texts)"
   ]
  },
  {
   "cell_type": "code",
   "execution_count": 6,
   "metadata": {
    "colab": {
     "base_uri": "https://localhost:8080/"
    },
    "id": "Bg6-9jwU4ja_",
    "outputId": "02f45055-0e09-42ba-9ff3-0e7850f06cae"
   },
   "outputs": [
    {
     "data": {
      "text/plain": [
       "Document(page_content='As social anxiety, paranoia and loneliness occur naturalistically in the flow of daily life with varying intensi-\\nties across hours and days, they can be reliably captured by the experience sampling method (ESM). ESM refers \\nto repeated self-report questionnaires that record subjective experiences across moments in the flow of daily \\n life38. Compared to traditional retrospective questionnaires, ESM represents these experiences with less recall', metadata={'source': 'data/s41598-023-47912-0.pdf', 'page': 1})"
      ]
     },
     "execution_count": 6,
     "metadata": {},
     "output_type": "execute_result"
    }
   ],
   "source": [
    "texts[32]"
   ]
  },
  {
   "cell_type": "markdown",
   "metadata": {
    "id": "YsYsIy8F4cdm"
   },
   "source": [
    "## create the DB"
   ]
  },
  {
   "cell_type": "code",
   "execution_count": 7,
   "metadata": {
    "colab": {
     "base_uri": "https://localhost:8080/"
    },
    "id": "Q_eTIZwf4Dk2",
    "outputId": "1cd293c4-716c-402d-d41b-045b6a264041"
   },
   "outputs": [
    {
     "name": "stdout",
     "output_type": "stream",
     "text": [
      "CPU times: user 2min 5s, sys: 10.8 s, total: 2min 16s\n",
      "Wall time: 2min 33s\n"
     ]
    }
   ],
   "source": [
    "%%time\n",
    "# Embed and store the texts\n",
    "# Supplying a persist_directory will store the embeddings on disk\n",
    "persist_directory = 'db_500_250'\n",
    "\n",
    "## here we are using OpenAI embeddings but in future we will swap out to local embeddings\n",
    "embedding = HuggingFaceEmbeddings()\n",
    "\n",
    "vectordb = Chroma.from_documents(documents=texts,\n",
    "                                 embedding=embedding,\n",
    "                                 persist_directory=persist_directory)"
   ]
  },
  {
   "cell_type": "code",
   "execution_count": 8,
   "metadata": {
    "id": "uRfD_Te-47lb"
   },
   "outputs": [],
   "source": [
    "# persiste the db to disk\n",
    "vectordb.persist()\n",
    "vectordb = None"
   ]
  },
  {
   "cell_type": "code",
   "execution_count": 9,
   "metadata": {
    "colab": {
     "base_uri": "https://localhost:8080/"
    },
    "id": "A-h1y_eAHmD-",
    "outputId": "4a6097fb-e30e-4fa2-ff4d-b972ce7f6154"
   },
   "outputs": [
    {
     "name": "stdout",
     "output_type": "stream",
     "text": [
      "CPU times: user 12.1 ms, sys: 18.6 ms, total: 30.7 ms\n",
      "Wall time: 55.4 ms\n"
     ]
    }
   ],
   "source": [
    "%%time\n",
    "\n",
    "# Now we can load the persisted database from disk, and use it as normal.\n",
    "vectordb = Chroma(persist_directory=persist_directory,\n",
    "                  embedding_function=embedding)"
   ]
  },
  {
   "cell_type": "markdown",
   "metadata": {
    "id": "siLXR-XT0JoI"
   },
   "source": [
    "## Make a retriever"
   ]
  },
  {
   "cell_type": "code",
   "execution_count": 10,
   "metadata": {
    "id": "6ObunFU30Lxh"
   },
   "outputs": [],
   "source": [
    "retriever = vectordb.as_retriever()"
   ]
  },
  {
   "cell_type": "code",
   "execution_count": 11,
   "metadata": {
    "id": "cYA-H59u0Skn"
   },
   "outputs": [],
   "source": [
    "docs = retriever.get_relevant_documents(\"What is paranoia?\")"
   ]
  },
  {
   "cell_type": "code",
   "execution_count": 12,
   "metadata": {
    "colab": {
     "base_uri": "https://localhost:8080/"
    },
    "id": "h0iAuh_B0ZjE",
    "outputId": "2ffd1da1-ff6c-4ea9-c361-7230dbd5bdc0"
   },
   "outputs": [
    {
     "data": {
      "text/plain": [
       "4"
      ]
     },
     "execution_count": 12,
     "metadata": {},
     "output_type": "execute_result"
    }
   ],
   "source": [
    "len(docs)"
   ]
  },
  {
   "cell_type": "code",
   "execution_count": 13,
   "metadata": {
    "id": "jVWgPJXs1yRq"
   },
   "outputs": [],
   "source": [
    "retriever = vectordb.as_retriever(search_kwargs={\"k\": 2})"
   ]
  },
  {
   "cell_type": "code",
   "execution_count": 14,
   "metadata": {
    "colab": {
     "base_uri": "https://localhost:8080/",
     "height": 35
    },
    "id": "H4N0IhRM0hHL",
    "outputId": "f8058122-1c8a-4c5b-f046-14a90eed5a3b"
   },
   "outputs": [
    {
     "data": {
      "text/plain": [
       "'similarity'"
      ]
     },
     "execution_count": 14,
     "metadata": {},
     "output_type": "execute_result"
    }
   ],
   "source": [
    "retriever.search_type"
   ]
  },
  {
   "cell_type": "code",
   "execution_count": 15,
   "metadata": {
    "colab": {
     "base_uri": "https://localhost:8080/"
    },
    "id": "4jXL9u-u0prF",
    "outputId": "2e6dd94e-bede-4e05-c841-9c755ecfef2a"
   },
   "outputs": [
    {
     "data": {
      "text/plain": [
       "{'k': 2}"
      ]
     },
     "execution_count": 15,
     "metadata": {},
     "output_type": "execute_result"
    }
   ],
   "source": [
    "retriever.search_kwargs"
   ]
  },
  {
   "cell_type": "markdown",
   "metadata": {
    "id": "4Ia-4OXa5IeP"
   },
   "source": [
    "## Make a chain"
   ]
  },
  {
   "cell_type": "code",
   "execution_count": 16,
   "metadata": {
    "id": "MGx8XblM4shW"
   },
   "outputs": [],
   "source": [
    "# create the chain to answer questions\n",
    "qa_chain = RetrievalQA.from_chain_type(llm=llm,\n",
    "                                  chain_type=\"stuff\",\n",
    "                                  retriever=retriever,\n",
    "                                  return_source_documents=True)"
   ]
  },
  {
   "cell_type": "code",
   "execution_count": 17,
   "metadata": {
    "id": "LZEo26mw8e5k"
   },
   "outputs": [],
   "source": [
    "def process_llm_response(llm_response):\n",
    "    print(llm_response['result'])\n",
    "    print(llm_response['source_documents'][0].metadata)"
   ]
  },
  {
   "cell_type": "code",
   "execution_count": 18,
   "metadata": {
    "colab": {
     "base_uri": "https://localhost:8080/"
    },
    "id": "wKfX4vX-5RFT",
    "outputId": "b3902fd2-86cc-4020-86a9-99883a996d20"
   },
   "outputs": [
    {
     "name": "stdout",
     "output_type": "stream",
     "text": [
      " Paranoia is an exaggerated belief that intentional harm is being done or will be done by others, which can manifest in milder forms as ideas of social reference or more severe forms as persecutory delusions.\n",
      "{'page': 0, 'source': 'data/s41598-023-47912-0.pdf'}\n"
     ]
    }
   ],
   "source": [
    "# full example\n",
    "query = \"What is paranoia?\"\n",
    "llm_response = qa_chain(query)\n",
    "process_llm_response(llm_response)"
   ]
  },
  {
   "cell_type": "code",
   "execution_count": 19,
   "metadata": {
    "colab": {
     "base_uri": "https://localhost:8080/"
    },
    "id": "olRm73t3rNt2",
    "outputId": "20fb1b17-6562-421d-a60e-c67b97ca67d7"
   },
   "outputs": [
    {
     "data": {
      "text/plain": [
       "{'query': 'How many young adults (or people) took part in this?',\n",
       " 'result': \" In the study mentioned, there were 2089 non-clinical young adults who took part before the outbreak of the pandemic. However, in the current study, the authors couldn't compare the results to this earlier sample because they didn't test them during the pandemic. The authors also mentioned that they're not sure if their results would be replicated in more diverse samples, as the majority of their current sample were undergraduate students.\",\n",
       " 'source_documents': [Document(page_content='rable to another sample of demographically diverse non-clinical young adults tested before the outbreak of the \\n pandemic10 (N = 2089), we could not ascertain the confounding impact of the pandemic on the expression of \\nthese phenomena in daily  life36. Third, a majority of our sample were undergraduate students. It is not sure \\nwhether our results would be replicated in demographically diverse samples. Finally, we acknowledge the pos-', metadata={'page': 4, 'source': 'data/s41598-023-47912-0.pdf'}),\n",
       "  Document(page_content='rable to another sample of demographically diverse non-clinical young adults tested before the outbreak of the \\n pandemic10 (N = 2089), we could not ascertain the confounding impact of the pandemic on the expression of \\nthese phenomena in daily  life36. Third, a majority of our sample were undergraduate students. It is not sure \\nwhether our results would be replicated in demographically diverse samples. Finally, we acknowledge the pos-', metadata={'page': 4, 'source': 'data/s41598-023-47912-0.pdf'})]}"
      ]
     },
     "execution_count": 19,
     "metadata": {},
     "output_type": "execute_result"
    }
   ],
   "source": [
    "# break it down\n",
    "query = \"How many young adults (or people) took part in this?\"\n",
    "llm_response = qa_chain(query)\n",
    "# process_llm_response(llm_response)\n",
    "llm_response"
   ]
  },
  {
   "cell_type": "code",
   "execution_count": 20,
   "metadata": {
    "colab": {
     "base_uri": "https://localhost:8080/"
    },
    "id": "wg-e6fh6rNwz",
    "outputId": "4b8d1e0e-b039-4e21-c233-a6c308cc5e25"
   },
   "outputs": [
    {
     "name": "stdout",
     "output_type": "stream",
     "text": [
      " Momentary social anxiety is assessed using three items suggested by Kashdan and Steger, such as \"I worried that I would say or do something wrong right now.\" These items have shown good reliability in both the current study and previous ESM studies. The within-person reliability for momentary social anxiety in this study was 0.84, and the between-person reliability was 0.99.\n",
      "{'page': 5, 'source': 'data/s41598-023-47912-0.pdf'}\n"
     ]
    }
   ],
   "source": [
    "query = \"How do they measure Momentary social anxiety?\"\n",
    "llm_response = qa_chain(query)\n",
    "process_llm_response(llm_response)"
   ]
  },
  {
   "cell_type": "code",
   "execution_count": 21,
   "metadata": {
    "colab": {
     "base_uri": "https://localhost:8080/"
    },
    "id": "cuFf8D-rrN0I",
    "outputId": "19c63b88-33e2-4400-eede-f2678231eccb"
   },
   "outputs": [
    {
     "name": "stdout",
     "output_type": "stream",
     "text": [
      " The study uses a smartphone app called Experience Sampling Method (ESM) to collect data from the participants at random intervals throughout the week. The research team provides support to the participants during the assessment period, including technical assistance and encouragement to answer the prompts. The team also monitors the participants' progress and offers help to increase compliance if necessary.\n",
      "{'page': 5, 'source': 'data/s41598-023-47912-0.pdf'}\n"
     ]
    }
   ],
   "source": [
    "query = \"What is their data collection method?\"\n",
    "llm_response = qa_chain(query)\n",
    "process_llm_response(llm_response)"
   ]
  },
  {
   "cell_type": "code",
   "execution_count": 22,
   "metadata": {
    "colab": {
     "base_uri": "https://localhost:8080/"
    },
    "id": "t5KETxphrN3d",
    "outputId": "4f4a7dfb-0f5b-4b72-b678-6def5d056d20"
   },
   "outputs": [
    {
     "name": "stdout",
     "output_type": "stream",
     "text": [
      " ESM stands for Ecological Momentary Assessment, which is a research method that involves collecting data on a participant's experiences and behaviors in their natural environment at specific moments in time. In this study, participants used a smartphone app to complete ESM questionnaires throughout the day. The research team provided support to the participants during the assessment period.\n",
      "{'page': 5, 'source': 'data/s41598-023-47912-0.pdf'}\n"
     ]
    }
   ],
   "source": [
    "query = \"What is ESM?\"\n",
    "llm_response = qa_chain(query)\n",
    "process_llm_response(llm_response)"
   ]
  },
  {
   "cell_type": "code",
   "execution_count": 23,
   "metadata": {
    "colab": {
     "base_uri": "https://localhost:8080/"
    },
    "id": "692pHNkFrN5z",
    "outputId": "85124452-c208-4ec4-a35d-be28503ddc42"
   },
   "outputs": [
    {
     "name": "stdout",
     "output_type": "stream",
     "text": [
      " I do not have access to the specific results of this study as it is not provided in the given context. The study aims to investigate the replicability of the priming effect of death-related words on prosocial behavior in both healthy and clinical populations. The study was approved by the Survey and Behavioral Research Ethics Committee of The Chinese University of Hong Kong, and informed consent was obtained from all participants. Eligible participants aged 18–30 were recruited from the subject pool of the Introductory Psychology course. However, the specific findings of the study are not mentioned in the provided context.\n",
      "{'page': 4, 'source': 'data/s41598-023-47912-0.pdf'}\n"
     ]
    }
   ],
   "source": [
    "query = \"What is the result of this study?\"\n",
    "llm_response = qa_chain(query)\n",
    "process_llm_response(llm_response)"
   ]
  },
  {
   "cell_type": "code",
   "execution_count": 24,
   "metadata": {},
   "outputs": [
    {
     "name": "stdout",
     "output_type": "stream",
     "text": [
      " The current study has some limitations. Firstly, the sample size is relatively small, with only 100 participants. This limits the generalizability of the findings to other populations. Secondly, all participants were recruited from the subject pool of the Introductory Psychology course, which may not be representative of the general population. Thirdly, the study only included participants with a history of depression or anxiety, and did not include individuals with other mental health conditions. Therefore, the findings may not be applicable to other clinical populations. Finally, the study only assessed the effectiveness of the intervention in reducing symptoms of depression and anxiety, and did not examine other outcomes, such as quality of life or functional impairment. Future studies should address these limitations by recruiting a larger and more diverse sample, including individuals with other mental health conditions, and assessing a wider range of outcomes.\n",
      "{'page': 4, 'source': 'data/s41598-023-47912-0.pdf'}\n"
     ]
    }
   ],
   "source": [
    "query = \"What is the limitations of the current study?\"\n",
    "llm_response = qa_chain(query)\n",
    "process_llm_response(llm_response)"
   ]
  },
  {
   "cell_type": "code",
   "execution_count": 25,
   "metadata": {},
   "outputs": [
    {
     "name": "stdout",
     "output_type": "stream",
     "text": [
      " The passage mentions the need for replications in clinical populations, which suggests that the study may be testing the replicability of previous findings in clinical populations. However, without further context, it is unclear what specific hypothesis the study is testing.\n",
      "{'page': 4, 'source': 'data/s41598-023-47912-0.pdf'}\n"
     ]
    }
   ],
   "source": [
    "query = \"What is the hypothesis of the study?\"\n",
    "llm_response = qa_chain(query)\n",
    "process_llm_response(llm_response)"
   ]
  },
  {
   "cell_type": "code",
   "execution_count": 26,
   "metadata": {},
   "outputs": [
    {
     "name": "stdout",
     "output_type": "stream",
     "text": [
      " The final sample size of the study is not provided in the given context. More information is needed to determine the total number of participants who completed the study.\n",
      "{'page': 4, 'source': 'data/s41598-023-47912-0.pdf'}\n"
     ]
    }
   ],
   "source": [
    "query = \"What is the final sample size of the study?\"\n",
    "llm_response = qa_chain(query)\n",
    "process_llm_response(llm_response)"
   ]
  },
  {
   "cell_type": "code",
   "execution_count": 27,
   "metadata": {},
   "outputs": [
    {
     "name": "stdout",
     "output_type": "stream",
     "text": [
      " The study was carried out at The Chi-nese University of Hong Kong, as stated in the methods section.\n",
      "{'page': 4, 'source': 'data/s41598-023-47912-0.pdf'}\n"
     ]
    }
   ],
   "source": [
    "query = \"Where did the study take place?\"\n",
    "llm_response = qa_chain(query)\n",
    "process_llm_response(llm_response)"
   ]
  },
  {
   "cell_type": "code",
   "execution_count": 28,
   "metadata": {
    "colab": {
     "base_uri": "https://localhost:8080/"
    },
    "id": "IPIhZWAR5n3X",
    "outputId": "68914c62-f8ed-4e22-d889-7991df441d53"
   },
   "outputs": [
    {
     "data": {
      "text/plain": [
       "('similarity', <langchain.vectorstores.chroma.Chroma at 0x12a629f90>)"
      ]
     },
     "execution_count": 28,
     "metadata": {},
     "output_type": "execute_result"
    }
   ],
   "source": [
    "qa_chain.retriever.search_type , qa_chain.retriever.vectorstore"
   ]
  },
  {
   "cell_type": "code",
   "execution_count": 29,
   "metadata": {
    "colab": {
     "base_uri": "https://localhost:8080/"
    },
    "id": "3_lp0_796P_-",
    "outputId": "64c01726-6e78-4c12-e409-2fdc839f6611"
   },
   "outputs": [
    {
     "name": "stdout",
     "output_type": "stream",
     "text": [
      "Use the following pieces of context to answer the question at the end. If you don't know the answer, just say that you don't know, don't try to make up an answer.\n",
      "\n",
      "{context}\n",
      "\n",
      "Question: {question}\n",
      "Helpful Answer:\n"
     ]
    }
   ],
   "source": [
    "print(qa_chain.combine_documents_chain.llm_chain.prompt.template)"
   ]
  },
  {
   "cell_type": "markdown",
   "metadata": {
    "id": "7fPl26c-TbWw"
   },
   "source": [
    "### Chat prompts"
   ]
  },
  {
   "cell_type": "code",
   "execution_count": 30,
   "metadata": {
    "colab": {
     "base_uri": "https://localhost:8080/"
    },
    "id": "wwyuhrpu5XqM",
    "outputId": "0f2c8060-4002-49ba-8869-6a9990c2c6d6"
   },
   "outputs": [
    {
     "ename": "AttributeError",
     "evalue": "'PromptTemplate' object has no attribute 'messages'",
     "output_type": "error",
     "traceback": [
      "\u001b[0;31m---------------------------------------------------------------------------\u001b[0m",
      "\u001b[0;31mAttributeError\u001b[0m                            Traceback (most recent call last)",
      "Cell \u001b[0;32mIn[30], line 1\u001b[0m\n\u001b[0;32m----> 1\u001b[0m \u001b[38;5;28mprint\u001b[39m(\u001b[43mqa_chain\u001b[49m\u001b[38;5;241;43m.\u001b[39;49m\u001b[43mcombine_documents_chain\u001b[49m\u001b[38;5;241;43m.\u001b[39;49m\u001b[43mllm_chain\u001b[49m\u001b[38;5;241;43m.\u001b[39;49m\u001b[43mprompt\u001b[49m\u001b[38;5;241;43m.\u001b[39;49m\u001b[43mmessages\u001b[49m[\u001b[38;5;241m0\u001b[39m]\u001b[38;5;241m.\u001b[39mprompt\u001b[38;5;241m.\u001b[39mtemplate)\n",
      "\u001b[0;31mAttributeError\u001b[0m: 'PromptTemplate' object has no attribute 'messages'"
     ]
    }
   ],
   "source": [
    "print(qa_chain.combine_documents_chain.llm_chain.prompt.messages[0].prompt.template)"
   ]
  },
  {
   "cell_type": "code",
   "execution_count": null,
   "metadata": {
    "colab": {
     "base_uri": "https://localhost:8080/"
    },
    "id": "LcWXvSCHRvHO",
    "outputId": "d7a3acee-9ef1-4c08-b2a0-187f2cd90c8f"
   },
   "outputs": [],
   "source": [
    "print(qa_chain.combine_documents_chain.llm_chain.prompt.messages[1].prompt.template)"
   ]
  },
  {
   "cell_type": "code",
   "execution_count": null,
   "metadata": {
    "id": "978QWCeJSRdu"
   },
   "outputs": [],
   "source": []
  }
 ],
 "metadata": {
  "colab": {
   "provenance": []
  },
  "kernelspec": {
   "display_name": "Python 3 (ipykernel)",
   "language": "python",
   "name": "python3"
  },
  "language_info": {
   "codemirror_mode": {
    "name": "ipython",
    "version": 3
   },
   "file_extension": ".py",
   "mimetype": "text/x-python",
   "name": "python",
   "nbconvert_exporter": "python",
   "pygments_lexer": "ipython3",
   "version": "3.11.4"
  }
 },
 "nbformat": 4,
 "nbformat_minor": 4
}
